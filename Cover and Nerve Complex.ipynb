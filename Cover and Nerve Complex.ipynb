{
 "cells": [
  {
   "cell_type": "markdown",
   "metadata": {
    "id": "0g87AV39TL1E"
   },
   "source": [
    "A01275180\tAlexis Spinola Hernández\n",
    "\n",
    "A01197399\tDiana Paola Cadena Nito\n",
    "\n",
    "A01705747\tEnrique García Varela\n",
    "\n",
    "A00831314\tPaola Sofia Reyes Mancheno \n",
    "\n",
    "A01285041\tMaría Fernanda Torres Alcubilla"
   ]
  },
  {
   "cell_type": "markdown",
   "metadata": {
    "id": "Ok_ecocyTHR4"
   },
   "source": [
    "## Librerías"
   ]
  },
  {
   "cell_type": "code",
   "execution_count": 1,
   "metadata": {
    "colab": {
     "base_uri": "https://localhost:8080/"
    },
    "id": "M7P9eXCq1QWm",
    "outputId": "940b9751-1b0e-423d-cb44-e5a36a573a69"
   },
   "outputs": [
    {
     "name": "stdout",
     "output_type": "stream",
     "text": [
      "Collecting tadasets\n",
      "  Using cached tadasets-0.0.4-py3-none-any.whl (7.1 kB)\n",
      "Requirement already satisfied: matplotlib in c:\\users\\enrique\\appdata\\local\\programs\\python\\python310\\lib\\site-packages (from tadasets) (3.5.2)\n",
      "Requirement already satisfied: numpy in c:\\users\\enrique\\appdata\\local\\programs\\python\\python310\\lib\\site-packages (from tadasets) (1.23.1)\n",
      "Requirement already satisfied: kiwisolver>=1.0.1 in c:\\users\\enrique\\appdata\\local\\programs\\python\\python310\\lib\\site-packages (from matplotlib->tadasets) (1.4.3)\n",
      "Requirement already satisfied: cycler>=0.10 in c:\\users\\enrique\\appdata\\local\\programs\\python\\python310\\lib\\site-packages (from matplotlib->tadasets) (0.11.0)\n",
      "Requirement already satisfied: fonttools>=4.22.0 in c:\\users\\enrique\\appdata\\local\\programs\\python\\python310\\lib\\site-packages (from matplotlib->tadasets) (4.34.4)\n",
      "Requirement already satisfied: pyparsing>=2.2.1 in c:\\users\\enrique\\appdata\\local\\programs\\python\\python310\\lib\\site-packages (from matplotlib->tadasets) (3.0.9)\n",
      "Requirement already satisfied: pillow>=6.2.0 in c:\\users\\enrique\\appdata\\local\\programs\\python\\python310\\lib\\site-packages (from matplotlib->tadasets) (9.2.0)\n",
      "Requirement already satisfied: packaging>=20.0 in c:\\users\\enrique\\appdata\\local\\programs\\python\\python310\\lib\\site-packages (from matplotlib->tadasets) (21.3)\n",
      "Requirement already satisfied: python-dateutil>=2.7 in c:\\users\\enrique\\appdata\\local\\programs\\python\\python310\\lib\\site-packages (from matplotlib->tadasets) (2.8.2)\n",
      "Requirement already satisfied: six>=1.5 in c:\\users\\enrique\\appdata\\local\\programs\\python\\python310\\lib\\site-packages (from python-dateutil>=2.7->matplotlib->tadasets) (1.16.0)\n",
      "Installing collected packages: tadasets\n",
      "Successfully installed tadasets-0.0.4\n"
     ]
    },
    {
     "name": "stderr",
     "output_type": "stream",
     "text": [
      "\n",
      "[notice] A new release of pip available: 22.3.1 -> 23.0.1\n",
      "[notice] To update, run: python.exe -m pip install --upgrade pip\n"
     ]
    }
   ],
   "source": [
    "!pip install tadasets"
   ]
  },
  {
   "cell_type": "code",
   "execution_count": 2,
   "metadata": {
    "colab": {
     "base_uri": "https://localhost:8080/"
    },
    "id": "zatYR_0wLgBu",
    "outputId": "059c82c1-aa23-4228-98e3-5dcecf6a582d"
   },
   "outputs": [
    {
     "name": "stdout",
     "output_type": "stream",
     "text": [
      "Collecting gudhi\n",
      "  Downloading gudhi-3.7.1-cp310-cp310-win_amd64.whl (2.3 MB)\n",
      "     ---------------------------------------- 2.3/2.3 MB 1.8 MB/s eta 0:00:00\n",
      "Requirement already satisfied: numpy>=1.15.0 in c:\\users\\enrique\\appdata\\local\\programs\\python\\python310\\lib\\site-packages (from gudhi) (1.23.1)\n",
      "Installing collected packages: gudhi\n",
      "Successfully installed gudhi-3.7.1\n"
     ]
    },
    {
     "name": "stderr",
     "output_type": "stream",
     "text": [
      "\n",
      "[notice] A new release of pip available: 22.3.1 -> 23.0.1\n",
      "[notice] To update, run: python.exe -m pip install --upgrade pip\n"
     ]
    }
   ],
   "source": [
    "!pip install gudhi"
   ]
  },
  {
   "cell_type": "code",
   "execution_count": 3,
   "metadata": {
    "id": "a_vlNl_v2LDz"
   },
   "outputs": [],
   "source": [
    "import matplotlib.pyplot as plt\n",
    "from sklearn.cluster import AgglomerativeClustering\n",
    "from mpl_toolkits.mplot3d import Axes3D\n",
    "import math\n",
    "import numpy as np\n",
    "import plotly.graph_objects as go"
   ]
  },
  {
   "cell_type": "markdown",
   "metadata": {
    "id": "vvQdG6lDw1_U"
   },
   "source": [
    "# Parte 1"
   ]
  },
  {
   "cell_type": "markdown",
   "metadata": {
    "id": "65rm9Oc83Hgt"
   },
   "source": [
    "##### Generar una nube de puntos de la esfera en 3 dimensiones con centro (0,0,0) y radio 1, con ruido."
   ]
  },
  {
   "cell_type": "code",
   "execution_count": 4,
   "metadata": {
    "colab": {
     "base_uri": "https://localhost:8080/",
     "height": 0
    },
    "id": "c4CA5UhP2NN6",
    "outputId": "a9bb903a-5ea9-411a-8bcc-ab98e4722dc5"
   },
   "outputs": [
    {
     "data": {
      "text/plain": [
       "<Axes3DSubplot:>"
      ]
     },
     "execution_count": 4,
     "metadata": {},
     "output_type": "execute_result"
    },
    {
     "data": {
      "image/png": "[encoded data removed]",
      "text/plain": [
       "<Figure size 432x288 with 1 Axes>"
      ]
     },
     "metadata": {
      "needs_background": "light"
     },
     "output_type": "display_data"
    }
   ],
   "source": [
    "import tadasets \n",
    "t = tadasets.sphere(n=10, r=1, noise=0.2)\n",
    "tadasets.plot3d(t)"
   ]
  },
  {
   "cell_type": "markdown",
   "metadata": {
    "id": "7Acn6Icb3aRd"
   },
   "source": [
    "##### Generar una función cuyo input es la nube de puntos y un radio R y el output es el nervio asociado a la cubierta de Cêch de radio R."
   ]
  },
  {
   "cell_type": "code",
   "execution_count": 5,
   "metadata": {
    "colab": {
     "base_uri": "https://localhost:8080/",
     "height": 0
    },
    "id": "kJvnP5WMgQmA",
    "outputId": "dccc705b-9e17-43c5-c489-1f2e7afce0b3"
   },
   "outputs": [
    {
     "data": {
      "application/vnd.plotly.v1+json": {
       "config": {
        "plotlyServerURL": "https://plot.ly"
       },
       "data": [
        {
         "opacity": 0.8,
         "type": "surface",
         "x": [
          [
           0.18940390741065738,
           0.18940390741065738,
           0.18940390741065738,
           0.18940390741065738,
           0.18940390741065738,
           0.18940390741065738,
           0.18940390741065738,
           0.18940390741065738,
           0.18940390741065738,
           0.18940390741065738
          ],
          [
           0.31928369509253074,
           0.3114509854845543,
           0.2888975970378292,
           0.25434380125159406,
           0.21195729585738254,
           0.16685051896393224,
           0.12446401356972071,
           0.0899102177834856,
           0.06735682933676045,
           0.05952411972878399
          ],
          [
           0.43508899248652455,
           0.42027236889360786,
           0.37760960159023876,
           0.31224644994859097,
           0.23206667471402648,
           0.1467411401072883,
           0.06656136487272386,
           0.001198213231076023,
           -0.041464554072293075,
           -0.056281177665209764
          ],
          [
           0.5242704987156688,
           0.5040755722077073,
           0.4459265988660553,
           0.35683720306316313,
           0.24755288075230938,
           0.1312549340690054,
           0.021970611758151737,
           -0.06711878404474048,
           -0.1252677573863925,
           -0.14546268389435407
          ],
          [
           0.5771640137863896,
           0.5537792180070917,
           0.4864453821630108,
           0.38328396059852354,
           0.25673774325473836,
           0.12207007156657644,
           -0.004476145777208618,
           -0.107637567341696,
           -0.17497140318577697,
           -0.19835619896507478
          ],
          [
           0.5880377046133254,
           0.5639971450378707,
           0.49477511259717877,
           0.38872080601199144,
           0.25862593985134935,
           0.12018187496996544,
           -0.009912991190676512,
           -0.11596729777586395,
           -0.18518933021655598,
           -0.20922988979201057
          ],
          [
           0.5557132380726804,
           0.5336220823587857,
           0.4700131346269324,
           0.3725585727416689,
           0.2530128551425107,
           0.12579495967880408,
           0.006249242079645945,
           -0.09120531980561758,
           -0.1548142675374709,
           -0.17690542325136566
          ],
          [
           0.48369347167991006,
           0.4659456393287745,
           0.41484279278702374,
           0.3365486895452837,
           0.24050675395240811,
           0.1383010608689067,
           0.042259125276031095,
           -0.03603497796570895,
           -0.08713782450745966,
           -0.1048856568585953
          ],
          [
           0.3797828646254868,
           0.3683016086583488,
           0.3352426496718632,
           0.28459338601807216,
           0.22246286639714302,
           0.15634494842417174,
           0.09421442880324268,
           0.04356516514945161,
           0.010506206162965964,
           -0.0009750498041720956
          ],
          [
           0.255241743522951,
           0.2512712361738917,
           0.2398386159114579,
           0.2223228254668042,
           0.20083652767309118,
           0.17797128714822358,
           0.15648498935451058,
           0.13896919890985687,
           0.12753657864742307,
           0.12356607129836376
          ],
          [
           0.12356607129836386,
           0.12753657864742315,
           0.13896919890985696,
           0.1564849893545106,
           0.17797128714822358,
           0.20083652767309115,
           0.22232282546680412,
           0.2398386159114578,
           0.2512712361738916,
           0.2552417435229509
          ],
          [
           -0.0009750498041720124,
           0.01050620616296602,
           0.04356516514945166,
           0.09421442880324266,
           0.15634494842417174,
           0.222462866397143,
           0.28459338601807205,
           0.33524264967186307,
           0.3683016086583487,
           0.37978286462548677
          ],
          [
           -0.10488565685859513,
           -0.08713782450745955,
           -0.03603497796570884,
           0.042259125276031095,
           0.13830106086890667,
           0.24050675395240806,
           0.3365486895452836,
           0.4148427927870236,
           0.46594563932877425,
           0.4836934716799099
          ],
          [
           -0.17690542325136555,
           -0.15481426753747085,
           -0.09120531980561752,
           0.006249242079645889,
           0.12579495967880405,
           0.25301285514251065,
           0.37255857274166876,
           0.4700131346269323,
           0.5336220823587856,
           0.5557132380726804
          ],
          [
           -0.20922988979201057,
           -0.18518933021655598,
           -0.11596729777586401,
           -0.009912991190676651,
           0.1201818749699654,
           0.2586259398513493,
           0.38872080601199127,
           0.4947751125971787,
           0.5639971450378707,
           0.5880377046133254
          ],
          [
           -0.19835619896507484,
           -0.17497140318577709,
           -0.1076375673416961,
           -0.004476145777208784,
           0.1220700715665764,
           0.2567377432547383,
           0.38328396059852343,
           0.4864453821630108,
           0.5537792180070917,
           0.5771640137863896
          ],
          [
           -0.14546268389435413,
           -0.12526775738639256,
           -0.06711878404474059,
           0.021970611758151598,
           0.13125493406900537,
           0.24755288075230936,
           0.356837203063163,
           0.4459265988660553,
           0.5040755722077073,
           0.5242704987156689
          ],
          [
           -0.05628117766520985,
           -0.041464554072293186,
           0.0011982132310759397,
           0.06656136487272374,
           0.14674114010728828,
           0.23206667471402645,
           0.31224644994859097,
           0.3776096015902388,
           0.4202723688936079,
           0.4350889924865246
          ],
          [
           0.05952411972878388,
           0.06735682933676032,
           0.0899102177834855,
           0.12446401356972062,
           0.16685051896393222,
           0.21195729585738254,
           0.2543438012515941,
           0.28889759703782925,
           0.3114509854845544,
           0.31928369509253085
          ],
          [
           0.18940390741065727,
           0.1894039074106573,
           0.1894039074106573,
           0.18940390741065732,
           0.18940390741065735,
           0.1894039074106574,
           0.18940390741065743,
           0.18940390741065746,
           0.18940390741065746,
           0.1894039074106575
          ]
         ],
         "y": [
          [
           -0.711676121670624,
           -0.711676121670624,
           -0.711676121670624,
           -0.711676121670624,
           -0.711676121670624,
           -0.711676121670624,
           -0.711676121670624,
           -0.711676121670624,
           -0.711676121670624,
           -0.711676121670624
          ],
          [
           -0.711676121670624,
           -0.6672546180725623,
           -0.6281910033999973,
           -0.5991969260999924,
           -0.5837694998019356,
           -0.5837694998019356,
           -0.5991969260999924,
           -0.6281910033999973,
           -0.6672546180725623,
           -0.711676121670624
          ],
          [
           -0.711676121670624,
           -0.6276468736599968,
           -0.5537527930990733,
           -0.498906596663982,
           -0.4697235450884461,
           -0.4697235450884461,
           -0.49890659666398196,
           -0.5537527930990733,
           -0.6276468736599967,
           -0.711676121670624
          ],
          [
           -0.711676121670624,
           -0.5971450021175059,
           -0.49642802588179646,
           -0.42167314672178285,
           -0.3818969063286783,
           -0.3818969063286783,
           -0.42167314672178285,
           -0.49642802588179635,
           -0.5971450021175058,
           -0.711676121670624
          ],
          [
           -0.711676121670624,
           -0.5790543545120195,
           -0.4624287297615689,
           -0.3758660189750837,
           -0.32980696260296444,
           -0.32980696260296444,
           -0.37586601897508365,
           -0.46242872976156885,
           -0.5790543545120195,
           -0.711676121670624
          ],
          [
           -0.711676121670624,
           -0.575335333216912,
           -0.4554392560264524,
           -0.3664491264860595,
           -0.31909846757274035,
           -0.31909846757274035,
           -0.36644912648605943,
           -0.45543925602645235,
           -0.5753353332169119,
           -0.711676121670624
          ],
          [
           -0.711676121670624,
           -0.586390951896069,
           -0.47621702260850607,
           -0.39444293567403804,
           -0.3509318528339512,
           -0.3509318528339512,
           -0.39444293567403804,
           -0.476217022608506,
           -0.586390951896069,
           -0.711676121670624
          ],
          [
           -0.711676121670624,
           -0.6110231627200056,
           -0.522510436098298,
           -0.45681388294479797,
           -0.42185747714767946,
           -0.42185747714767946,
           -0.4568138829447979,
           -0.5225104360982978,
           -0.6110231627200056,
           -0.711676121670624
          ],
          [
           -0.711676121670624,
           -0.6465626834378166,
           -0.5893028868278878,
           -0.546803108376591,
           -0.5241894485950804,
           -0.5241894485950804,
           -0.546803108376591,
           -0.5893028868278878,
           -0.6465626834378166,
           -0.711676121670624
          ],
          [
           -0.711676121670624,
           -0.6891582555272454,
           -0.6693563763690686,
           -0.6546588830671812,
           -0.6468385102256902,
           -0.6468385102256902,
           -0.6546588830671812,
           -0.6693563763690686,
           -0.6891582555272454,
           -0.711676121670624
          ],
          [
           -0.711676121670624,
           -0.7341939878140025,
           -0.7539958669721792,
           -0.7686933602740667,
           -0.7765137331155578,
           -0.7765137331155578,
           -0.7686933602740667,
           -0.7539958669721792,
           -0.7341939878140025,
           -0.711676121670624
          ],
          [
           -0.711676121670624,
           -0.7767895599034313,
           -0.8340493565133601,
           -0.876549134964657,
           -0.8991627947461674,
           -0.8991627947461674,
           -0.876549134964657,
           -0.8340493565133602,
           -0.7767895599034313,
           -0.711676121670624
          ],
          [
           -0.711676121670624,
           -0.8123290806212423,
           -0.90084180724295,
           -0.9665383603964499,
           -1.0014947661935683,
           -1.0014947661935683,
           -0.9665383603964499,
           -0.90084180724295,
           -0.8123290806212424,
           -0.711676121670624
          ],
          [
           -0.711676121670624,
           -0.8369612914451788,
           -0.9471352207327418,
           -1.0289093076672098,
           -1.0724203905072967,
           -1.0724203905072967,
           -1.02890930766721,
           -0.9471352207327419,
           -0.836961291445179,
           -0.711676121670624
          ],
          [
           -0.711676121670624,
           -0.848016910124336,
           -0.9679129873147956,
           -1.0569031168551886,
           -1.1042537757685076,
           -1.1042537757685076,
           -1.0569031168551886,
           -0.9679129873147956,
           -0.8480169101243361,
           -0.711676121670624
          ],
          [
           -0.711676121670624,
           -0.8442978888292285,
           -0.9609235135796791,
           -1.0474862243661645,
           -1.0935452807382835,
           -1.0935452807382835,
           -1.0474862243661645,
           -0.9609235135796792,
           -0.8442978888292285,
           -0.711676121670624
          ],
          [
           -0.711676121670624,
           -0.8262072412237421,
           -0.9269242174594516,
           -1.001679096619465,
           -1.0414553370125699,
           -1.0414553370125699,
           -1.001679096619465,
           -0.9269242174594516,
           -0.8262072412237422,
           -0.711676121670624
          ],
          [
           -0.711676121670624,
           -0.7957053696812513,
           -0.8695994502421747,
           -0.924445646677266,
           -0.9536286982528019,
           -0.9536286982528019,
           -0.9244456466772661,
           -0.8695994502421748,
           -0.7957053696812513,
           -0.711676121670624
          ],
          [
           -0.711676121670624,
           -0.7560976252686857,
           -0.7951612399412507,
           -0.8241553172412557,
           -0.8395827435393125,
           -0.8395827435393125,
           -0.8241553172412557,
           -0.7951612399412508,
           -0.7560976252686858,
           -0.711676121670624
          ],
          [
           -0.711676121670624,
           -0.711676121670624,
           -0.7116761216706241,
           -0.7116761216706241,
           -0.7116761216706241,
           -0.7116761216706241,
           -0.7116761216706241,
           -0.7116761216706241,
           -0.711676121670624,
           -0.711676121670624
          ]
         ],
         "z": [
          [
           0.6976802341801249,
           0.6976802341801249,
           0.6976802341801249,
           0.6976802341801249,
           0.6976802341801249,
           0.6976802341801249,
           0.6976802341801249,
           0.6976802341801249,
           0.6976802341801249,
           0.6976802341801249
          ],
          [
           0.6760071308603788,
           0.6760071308603788,
           0.6760071308603788,
           0.6760071308603788,
           0.6760071308603788,
           0.6760071308603788,
           0.6760071308603788,
           0.6760071308603788,
           0.6760071308603788,
           0.6760071308603788
          ],
          [
           0.6133364379386823,
           0.6133364379386823,
           0.6133364379386823,
           0.6133364379386823,
           0.6133364379386823,
           0.6133364379386823,
           0.6133364379386823,
           0.6133364379386823,
           0.6133364379386823,
           0.6133364379386823
          ],
          [
           0.5164594974290957,
           0.5164594974290957,
           0.5164594974290957,
           0.5164594974290957,
           0.5164594974290957,
           0.5164594974290957,
           0.5164594974290957,
           0.5164594974290957,
           0.5164594974290957,
           0.5164594974290957
          ],
          [
           0.39587442903644454,
           0.39587442903644454,
           0.39587442903644454,
           0.39587442903644454,
           0.39587442903644454,
           0.39587442903644454,
           0.39587442903644454,
           0.39587442903644454,
           0.39587442903644454,
           0.39587442903644454
          ],
          [
           0.26464849599119195,
           0.26464849599119195,
           0.26464849599119195,
           0.26464849599119195,
           0.26464849599119195,
           0.26464849599119195,
           0.26464849599119195,
           0.26464849599119195,
           0.26464849599119195,
           0.26464849599119195
          ],
          [
           0.13700206431893713,
           0.13700206431893713,
           0.13700206431893713,
           0.13700206431893713,
           0.13700206431893713,
           0.13700206431893713,
           0.13700206431893713,
           0.13700206431893713,
           0.13700206431893713,
           0.13700206431893713
          ],
          [
           0.026767605529828487,
           0.026767605529828487,
           0.026767605529828487,
           0.026767605529828487,
           0.026767605529828487,
           0.026767605529828487,
           0.026767605529828487,
           0.026767605529828487,
           0.026767605529828487,
           0.026767605529828487
          ],
          [
           -0.05410926630247076,
           -0.05410926630247076,
           -0.05410926630247076,
           -0.05410926630247076,
           -0.05410926630247076,
           -0.05410926630247076,
           -0.05410926630247076,
           -0.05410926630247076,
           -0.05410926630247076,
           -0.05410926630247076
          ],
          [
           -0.09686428718096413,
           -0.09686428718096413,
           -0.09686428718096413,
           -0.09686428718096413,
           -0.09686428718096413,
           -0.09686428718096413,
           -0.09686428718096413,
           -0.09686428718096413,
           -0.09686428718096413,
           -0.09686428718096413
          ],
          [
           -0.09686428718096413,
           -0.09686428718096413,
           -0.09686428718096413,
           -0.09686428718096413,
           -0.09686428718096413,
           -0.09686428718096413,
           -0.09686428718096413,
           -0.09686428718096413,
           -0.09686428718096413,
           -0.09686428718096413
          ],
          [
           -0.054109266302470815,
           -0.054109266302470815,
           -0.054109266302470815,
           -0.054109266302470815,
           -0.054109266302470815,
           -0.054109266302470815,
           -0.054109266302470815,
           -0.054109266302470815,
           -0.054109266302470815,
           -0.054109266302470815
          ],
          [
           0.026767605529828264,
           0.026767605529828264,
           0.026767605529828264,
           0.026767605529828264,
           0.026767605529828264,
           0.026767605529828264,
           0.026767605529828264,
           0.026767605529828264,
           0.026767605529828264,
           0.026767605529828264
          ],
          [
           0.13700206431893688,
           0.13700206431893688,
           0.13700206431893688,
           0.13700206431893688,
           0.13700206431893688,
           0.13700206431893688,
           0.13700206431893688,
           0.13700206431893688,
           0.13700206431893688,
           0.13700206431893688
          ],
          [
           0.2646484959911918,
           0.2646484959911918,
           0.2646484959911918,
           0.2646484959911918,
           0.2646484959911918,
           0.2646484959911918,
           0.2646484959911918,
           0.2646484959911918,
           0.2646484959911918,
           0.2646484959911918
          ],
          [
           0.3958744290364444,
           0.3958744290364444,
           0.3958744290364444,
           0.3958744290364444,
           0.3958744290364444,
           0.3958744290364444,
           0.3958744290364444,
           0.3958744290364444,
           0.3958744290364444,
           0.3958744290364444
          ],
          [
           0.5164594974290955,
           0.5164594974290955,
           0.5164594974290955,
           0.5164594974290955,
           0.5164594974290955,
           0.5164594974290955,
           0.5164594974290955,
           0.5164594974290955,
           0.5164594974290955,
           0.5164594974290955
          ],
          [
           0.6133364379386822,
           0.6133364379386822,
           0.6133364379386822,
           0.6133364379386822,
           0.6133364379386822,
           0.6133364379386822,
           0.6133364379386822,
           0.6133364379386822,
           0.6133364379386822,
           0.6133364379386822
          ],
          [
           0.6760071308603788,
           0.6760071308603788,
           0.6760071308603788,
           0.6760071308603788,
           0.6760071308603788,
           0.6760071308603788,
           0.6760071308603788,
           0.6760071308603788,
           0.6760071308603788,
           0.6760071308603788
          ],
          [
           0.6976802341801249,
           0.6976802341801249,
           0.6976802341801249,
           0.6976802341801249,
           0.6976802341801249,
           0.6976802341801249,
           0.6976802341801249,
           0.6976802341801249,
           0.6976802341801249,
           0.6976802341801249
          ]
         ]
        },
        {
         "opacity": 0.8,
         "type": "surface",
         "x": [
          [
           -0.544433611483319,
           -0.544433611483319,
           -0.544433611483319,
           -0.544433611483319,
           -0.544433611483319,
           -0.544433611483319,
           -0.544433611483319,
           -0.544433611483319,
           -0.544433611483319,
           -0.544433611483319
          ],
          [
           -0.4145538238014457,
           -0.4223865334094221,
           -0.4449399218561472,
           -0.47949371764238236,
           -0.5218802230365939,
           -0.5669869999300442,
           -0.6093735053242557,
           -0.6439273011104908,
           -0.666480689557216,
           -0.6743133991651924
          ],
          [
           -0.29874852640745186,
           -0.31356515000036855,
           -0.35622791730373765,
           -0.42159106894538545,
           -0.50177084417995,
           -0.5870963787866881,
           -0.6672761540212525,
           -0.7326393056629004,
           -0.7753020729662695,
           -0.7901186965591862
          ],
          [
           -0.20956702017830758,
           -0.22976194668626915,
           -0.2879109200279211,
           -0.3770003158308133,
           -0.486284638141667,
           -0.602582584824971,
           -0.7118669071358247,
           -0.8009563029387169,
           -0.8591052762803689,
           -0.8793002027883305
          ],
          [
           -0.15667350510758687,
           -0.18005830088688463,
           -0.2473921367309656,
           -0.35055355829545287,
           -0.47709977563923806,
           -0.6117674473274,
           -0.738313664671185,
           -0.8414750862356724,
           -0.9088089220797534,
           -0.9321937178590511
          ],
          [
           -0.14579981428065109,
           -0.16984037385610568,
           -0.23906240629679765,
           -0.345116712881985,
           -0.47521157904262706,
           -0.613655643924011,
           -0.7437505100846529,
           -0.8498048166698404,
           -0.9190268491105325,
           -0.9430674086859869
          ],
          [
           -0.178124280821296,
           -0.2002154365351907,
           -0.263824384267044,
           -0.3612789461523075,
           -0.4808246637514657,
           -0.6080425592151724,
           -0.7275882768143305,
           -0.825042838699594,
           -0.8886517864314474,
           -0.9107429421453421
          ],
          [
           -0.25014404721406636,
           -0.26789187956520194,
           -0.3189947261069527,
           -0.3972888293486927,
           -0.4933307649415683,
           -0.5955364580250697,
           -0.6915783936179454,
           -0.7698724968596854,
           -0.8209753434014361,
           -0.8387231757525717
          ],
          [
           -0.3540546542684896,
           -0.3655359102356276,
           -0.39859486922211324,
           -0.44924413287590426,
           -0.5113746524968333,
           -0.5774925704698046,
           -0.6396230900907337,
           -0.6902723537445248,
           -0.7233313127310105,
           -0.7348125686981485
          ],
          [
           -0.47859577537102543,
           -0.4825662827200847,
           -0.49399890298251853,
           -0.5115146934271723,
           -0.5330009912208852,
           -0.5558662317457528,
           -0.5773525295394658,
           -0.5948683199841195,
           -0.6063009402465533,
           -0.6102714475956127
          ],
          [
           -0.6102714475956126,
           -0.6063009402465532,
           -0.5948683199841195,
           -0.5773525295394658,
           -0.5558662317457528,
           -0.5330009912208853,
           -0.5115146934271723,
           -0.4939989029825186,
           -0.48256628272008484,
           -0.4785957753710255
          ],
          [
           -0.7348125686981484,
           -0.7233313127310104,
           -0.6902723537445248,
           -0.6396230900907338,
           -0.5774925704698046,
           -0.5113746524968334,
           -0.44924413287590437,
           -0.39859486922211335,
           -0.3655359102356277,
           -0.35405465426848964
          ],
          [
           -0.8387231757525715,
           -0.820975343401436,
           -0.7698724968596853,
           -0.6915783936179454,
           -0.5955364580250697,
           -0.49333076494156836,
           -0.3972888293486928,
           -0.31899472610695284,
           -0.26789187956520216,
           -0.2501440472140665
          ],
          [
           -0.9107429421453419,
           -0.8886517864314473,
           -0.8250428386995939,
           -0.7275882768143305,
           -0.6080425592151724,
           -0.48082466375146576,
           -0.36127894615230766,
           -0.26382438426704413,
           -0.2002154365351908,
           -0.1781242808212961
          ],
          [
           -0.9430674086859869,
           -0.9190268491105325,
           -0.8498048166698404,
           -0.7437505100846531,
           -0.6136556439240111,
           -0.4752115790426271,
           -0.34511671288198514,
           -0.2390624062967977,
           -0.16984037385610568,
           -0.14579981428065109
          ],
          [
           -0.9321937178590513,
           -0.9088089220797535,
           -0.8414750862356726,
           -0.7383136646711852,
           -0.6117674473274,
           -0.4770997756392381,
           -0.350553558295453,
           -0.2473921367309656,
           -0.18005830088688463,
           -0.15667350510758682
          ],
          [
           -0.8793002027883305,
           -0.859105276280369,
           -0.800956302938717,
           -0.7118669071358248,
           -0.6025825848249711,
           -0.48628463814166706,
           -0.3770003158308134,
           -0.2879109200279211,
           -0.2297619466862691,
           -0.20956702017830753
          ],
          [
           -0.7901186965591862,
           -0.7753020729662696,
           -0.7326393056629005,
           -0.6672761540212526,
           -0.5870963787866882,
           -0.50177084417995,
           -0.42159106894538545,
           -0.3562279173037376,
           -0.3135651500003685,
           -0.2987485264074518
          ],
          [
           -0.6743133991651925,
           -0.6664806895572161,
           -0.6439273011104909,
           -0.6093735053242558,
           -0.5669869999300442,
           -0.5218802230365939,
           -0.4794937176423823,
           -0.44493992185614717,
           -0.422386533409422,
           -0.41455382380144556
          ],
          [
           -0.5444336114833191,
           -0.5444336114833191,
           -0.5444336114833191,
           -0.544433611483319,
           -0.544433611483319,
           -0.544433611483319,
           -0.544433611483319,
           -0.5444336114833189,
           -0.5444336114833189,
           -0.5444336114833189
          ]
         ],
         "y": [
          [
           -0.07106260403025363,
           -0.07106260403025363,
           -0.07106260403025363,
           -0.07106260403025363,
           -0.07106260403025363,
           -0.07106260403025363,
           -0.07106260403025363,
           -0.07106260403025363,
           -0.07106260403025363,
           -0.07106260403025363
          ],
          [
           -0.07106260403025363,
           -0.026641100432191873,
           0.012422514240372981,
           0.041416591540377926,
           0.05684401783843476,
           0.05684401783843476,
           0.04141659154037794,
           0.012422514240373009,
           -0.026641100432191853,
           -0.07106260403025362
          ],
          [
           -0.07106260403025363,
           0.01296664398037356,
           0.08686072454129704,
           0.14170692097638835,
           0.17088997255192426,
           0.17088997255192426,
           0.14170692097638837,
           0.08686072454129709,
           0.012966643980373602,
           -0.0710626040302536
          ],
          [
           -0.07106260403025363,
           0.043468515522864515,
           0.14418549175857392,
           0.2189403709185875,
           0.2587166113116921,
           0.2587166113116921,
           0.2189403709185875,
           0.144185491758574,
           0.04346851552286457,
           -0.07106260403025359
          ],
          [
           -0.07106260403025363,
           0.06155916312835083,
           0.17818478787880143,
           0.2647474986652867,
           0.31080655503740595,
           0.31080655503740595,
           0.2647474986652867,
           0.17818478787880151,
           0.061559163128350886,
           -0.07106260403025359
          ],
          [
           -0.07106260403025363,
           0.06527818442345842,
           0.18517426161391795,
           0.2741643911543109,
           0.32151505006763004,
           0.32151505006763004,
           0.2741643911543109,
           0.185174261613918,
           0.06527818442345848,
           -0.07106260403025358
          ],
          [
           -0.07106260403025363,
           0.05422256574430126,
           0.16439649503186426,
           0.24617058196633232,
           0.2896816648064192,
           0.2896816648064192,
           0.24617058196633232,
           0.16439649503186435,
           0.054222565744301315,
           -0.07106260403025359
          ],
          [
           -0.07106260403025363,
           0.029590354920364756,
           0.11810308154207247,
           0.1837996346955724,
           0.2187560404926909,
           0.2187560404926909,
           0.18379963469557245,
           0.11810308154207252,
           0.02959035492036481,
           -0.07106260403025359
          ],
          [
           -0.07106260403025363,
           -0.00594916579744631,
           0.051310630812482536,
           0.09381040926377943,
           0.11642406904528987,
           0.11642406904528987,
           0.09381040926377945,
           0.05131063081248258,
           -0.005949165797446268,
           -0.0710626040302536
          ],
          [
           -0.07106260403025363,
           -0.048544737886875085,
           -0.028742858728698306,
           -0.014045365426810862,
           -0.00622499258531975,
           -0.00622499258531975,
           -0.014045365426810855,
           -0.028742858728698292,
           -0.04854473788687508,
           -0.07106260403025362
          ],
          [
           -0.07106260403025363,
           -0.09358047017363215,
           -0.11338234933180891,
           -0.12807984263369632,
           -0.13590021547518744,
           -0.13590021547518744,
           -0.12807984263369632,
           -0.11338234933180891,
           -0.09358047017363216,
           -0.07106260403025365
          ],
          [
           -0.07106260403025363,
           -0.13617604226306093,
           -0.19343583887298976,
           -0.2359356173242866,
           -0.25854927710579706,
           -0.25854927710579706,
           -0.23593561732428664,
           -0.1934358388729898,
           -0.13617604226306096,
           -0.07106260403025366
          ],
          [
           -0.07106260403025363,
           -0.17171556298087198,
           -0.2602282896025796,
           -0.3259248427560796,
           -0.36088124855319803,
           -0.36088124855319803,
           -0.3259248427560796,
           -0.2602282896025797,
           -0.17171556298087204,
           -0.07106260403025368
          ],
          [
           -0.07106260403025363,
           -0.1963477738048085,
           -0.3065217030923715,
           -0.38829579002683945,
           -0.4318068728669263,
           -0.4318068728669263,
           -0.38829579002683956,
           -0.3065217030923716,
           -0.19634777380480856,
           -0.07106260403025368
          ],
          [
           -0.07106260403025363,
           -0.2074033924839657,
           -0.32729946967442525,
           -0.4162895992148181,
           -0.46364025812813725,
           -0.46364025812813725,
           -0.41628959921481823,
           -0.32729946967442525,
           -0.20740339248396575,
           -0.07106260403025369
          ],
          [
           -0.07106260403025363,
           -0.20368437118885813,
           -0.32030999593930876,
           -0.406872706725794,
           -0.4529317630979133,
           -0.4529317630979133,
           -0.406872706725794,
           -0.3203099959393088,
           -0.20368437118885818,
           -0.07106260403025368
          ],
          [
           -0.07106260403025363,
           -0.18559372358337178,
           -0.2863106998190812,
           -0.36106557897909475,
           -0.4008418193721994,
           -0.4008418193721994,
           -0.36106557897909486,
           -0.2863106998190813,
           -0.18559372358337184,
           -0.07106260403025368
          ],
          [
           -0.07106260403025363,
           -0.15509185204088086,
           -0.22898593260180436,
           -0.2838321290368957,
           -0.3130151806124316,
           -0.3130151806124316,
           -0.2838321290368957,
           -0.22898593260180441,
           -0.15509185204088088,
           -0.07106260403025366
          ],
          [
           -0.07106260403025363,
           -0.11548410762831543,
           -0.15454772230088032,
           -0.1835417996008853,
           -0.19896922589894211,
           -0.19896922589894211,
           -0.1835417996008853,
           -0.15454772230088037,
           -0.11548410762831546,
           -0.07106260403025365
          ],
          [
           -0.07106260403025363,
           -0.07106260403025366,
           -0.0710626040302537,
           -0.07106260403025372,
           -0.07106260403025373,
           -0.07106260403025373,
           -0.07106260403025372,
           -0.0710626040302537,
           -0.07106260403025366,
           -0.07106260403025363
          ]
         ],
         "z": [
          [
           -0.29461749361353573,
           -0.29461749361353573,
           -0.29461749361353573,
           -0.29461749361353573,
           -0.29461749361353573,
           -0.29461749361353573,
           -0.29461749361353573,
           -0.29461749361353573,
           -0.29461749361353573,
           -0.29461749361353573
          ],
          [
           -0.3162905969332819,
           -0.3162905969332819,
           -0.3162905969332819,
           -0.3162905969332819,
           -0.3162905969332819,
           -0.3162905969332819,
           -0.3162905969332819,
           -0.3162905969332819,
           -0.3162905969332819,
           -0.3162905969332819
          ],
          [
           -0.3789612898549783,
           -0.3789612898549783,
           -0.3789612898549783,
           -0.3789612898549783,
           -0.3789612898549783,
           -0.3789612898549783,
           -0.3789612898549783,
           -0.3789612898549783,
           -0.3789612898549783,
           -0.3789612898549783
          ],
          [
           -0.47583823036456496,
           -0.47583823036456496,
           -0.47583823036456496,
           -0.47583823036456496,
           -0.47583823036456496,
           -0.47583823036456496,
           -0.47583823036456496,
           -0.47583823036456496,
           -0.47583823036456496,
           -0.47583823036456496
          ],
          [
           -0.596423298757216,
           -0.596423298757216,
           -0.596423298757216,
           -0.596423298757216,
           -0.596423298757216,
           -0.596423298757216,
           -0.596423298757216,
           -0.596423298757216,
           -0.596423298757216,
           -0.596423298757216
          ],
          [
           -0.7276492318024687,
           -0.7276492318024687,
           -0.7276492318024687,
           -0.7276492318024687,
           -0.7276492318024687,
           -0.7276492318024687,
           -0.7276492318024687,
           -0.7276492318024687,
           -0.7276492318024687,
           -0.7276492318024687
          ],
          [
           -0.8552956634747235,
           -0.8552956634747235,
           -0.8552956634747235,
           -0.8552956634747235,
           -0.8552956634747235,
           -0.8552956634747235,
           -0.8552956634747235,
           -0.8552956634747235,
           -0.8552956634747235,
           -0.8552956634747235
          ],
          [
           -0.9655301222638322,
           -0.9655301222638322,
           -0.9655301222638322,
           -0.9655301222638322,
           -0.9655301222638322,
           -0.9655301222638322,
           -0.9655301222638322,
           -0.9655301222638322,
           -0.9655301222638322,
           -0.9655301222638322
          ],
          [
           -1.0464069940961314,
           -1.0464069940961314,
           -1.0464069940961314,
           -1.0464069940961314,
           -1.0464069940961314,
           -1.0464069940961314,
           -1.0464069940961314,
           -1.0464069940961314,
           -1.0464069940961314,
           -1.0464069940961314
          ],
          [
           -1.0891620149746246,
           -1.0891620149746246,
           -1.0891620149746246,
           -1.0891620149746246,
           -1.0891620149746246,
           -1.0891620149746246,
           -1.0891620149746246,
           -1.0891620149746246,
           -1.0891620149746246,
           -1.0891620149746246
          ],
          [
           -1.0891620149746246,
           -1.0891620149746246,
           -1.0891620149746246,
           -1.0891620149746246,
           -1.0891620149746246,
           -1.0891620149746246,
           -1.0891620149746246,
           -1.0891620149746246,
           -1.0891620149746246,
           -1.0891620149746246
          ],
          [
           -1.0464069940961314,
           -1.0464069940961314,
           -1.0464069940961314,
           -1.0464069940961314,
           -1.0464069940961314,
           -1.0464069940961314,
           -1.0464069940961314,
           -1.0464069940961314,
           -1.0464069940961314,
           -1.0464069940961314
          ],
          [
           -0.9655301222638324,
           -0.9655301222638324,
           -0.9655301222638324,
           -0.9655301222638324,
           -0.9655301222638324,
           -0.9655301222638324,
           -0.9655301222638324,
           -0.9655301222638324,
           -0.9655301222638324,
           -0.9655301222638324
          ],
          [
           -0.8552956634747237,
           -0.8552956634747237,
           -0.8552956634747237,
           -0.8552956634747237,
           -0.8552956634747237,
           -0.8552956634747237,
           -0.8552956634747237,
           -0.8552956634747237,
           -0.8552956634747237,
           -0.8552956634747237
          ],
          [
           -0.7276492318024689,
           -0.7276492318024689,
           -0.7276492318024689,
           -0.7276492318024689,
           -0.7276492318024689,
           -0.7276492318024689,
           -0.7276492318024689,
           -0.7276492318024689,
           -0.7276492318024689,
           -0.7276492318024689
          ],
          [
           -0.5964232987572162,
           -0.5964232987572162,
           -0.5964232987572162,
           -0.5964232987572162,
           -0.5964232987572162,
           -0.5964232987572162,
           -0.5964232987572162,
           -0.5964232987572162,
           -0.5964232987572162,
           -0.5964232987572162
          ],
          [
           -0.4758382303645651,
           -0.4758382303645651,
           -0.4758382303645651,
           -0.4758382303645651,
           -0.4758382303645651,
           -0.4758382303645651,
           -0.4758382303645651,
           -0.4758382303645651,
           -0.4758382303645651,
           -0.4758382303645651
          ],
          [
           -0.3789612898549784,
           -0.3789612898549784,
           -0.3789612898549784,
           -0.3789612898549784,
           -0.3789612898549784,
           -0.3789612898549784,
           -0.3789612898549784,
           -0.3789612898549784,
           -0.3789612898549784,
           -0.3789612898549784
          ],
          [
           -0.3162905969332819,
           -0.3162905969332819,
           -0.3162905969332819,
           -0.3162905969332819,
           -0.3162905969332819,
           -0.3162905969332819,
           -0.3162905969332819,
           -0.3162905969332819,
           -0.3162905969332819,
           -0.3162905969332819
          ],
          [
           -0.29461749361353573,
           -0.29461749361353573,
           -0.29461749361353573,
           -0.29461749361353573,
           -0.29461749361353573,
           -0.29461749361353573,
           -0.29461749361353573,
           -0.29461749361353573,
           -0.29461749361353573,
           -0.29461749361353573
          ]
         ]
        },
        {
         "opacity": 0.8,
         "type": "surface",
         "x": [
          [
           -0.5831536454155357,
           -0.5831536454155357,
           -0.5831536454155357,
           -0.5831536454155357,
           -0.5831536454155357,
           -0.5831536454155357,
           -0.5831536454155357,
           -0.5831536454155357,
           -0.5831536454155357,
           -0.5831536454155357
          ],
          [
           -0.45327385773366236,
           -0.4611065673416388,
           -0.4836599557883639,
           -0.518213751574599,
           -0.5606002569688106,
           -0.6057070338622609,
           -0.6480935392564724,
           -0.6826473350427075,
           -0.7052007234894326,
           -0.7130334330974091
          ],
          [
           -0.33746856033966854,
           -0.35228518393258523,
           -0.39494795123595433,
           -0.46031110287760213,
           -0.5404908781121667,
           -0.6258164127189048,
           -0.7059961879534692,
           -0.771359339595117,
           -0.8140221068984862,
           -0.8288387304914029
          ],
          [
           -0.24828705411052426,
           -0.2684819806184858,
           -0.3266309539601378,
           -0.41572034976302996,
           -0.5250046720738837,
           -0.6413026187571876,
           -0.7505869410680414,
           -0.8396763368709336,
           -0.8978253102125856,
           -0.9180202367205472
          ],
          [
           -0.19539353903980355,
           -0.2187783348191013,
           -0.2861121706631823,
           -0.38927359222766955,
           -0.5158198095714548,
           -0.6504874812596166,
           -0.7770336986034017,
           -0.880195120167889,
           -0.9475289560119701,
           -0.9709137517912678
          ],
          [
           -0.18451984821286777,
           -0.20856040778832236,
           -0.2777824402290143,
           -0.38383674681420166,
           -0.5139316129748437,
           -0.6523756778562276,
           -0.7824705440168696,
           -0.8885248506020571,
           -0.9577468830427491,
           -0.9817874426182036
          ],
          [
           -0.21684431475351268,
           -0.23893547046740737,
           -0.3025444181992607,
           -0.39999898008452417,
           -0.5195446976836824,
           -0.646762593147389,
           -0.7663083107465471,
           -0.8637628726318107,
           -0.9273718203636641,
           -0.9494629760775588
          ],
          [
           -0.28886408114628304,
           -0.3066119134974186,
           -0.35771476003916935,
           -0.4360088632809094,
           -0.532050798873785,
           -0.6342564919572864,
           -0.730298427550162,
           -0.8085925307919021,
           -0.8596953773336528,
           -0.8774432096847884
          ],
          [
           -0.39277468820070627,
           -0.40425594416784427,
           -0.4373149031543299,
           -0.48796416680812094,
           -0.55009468642905,
           -0.6162126044020213,
           -0.6783431240229504,
           -0.7289923876767415,
           -0.7620513466632272,
           -0.7735326026303652
          ],
          [
           -0.5173158093032421,
           -0.5212863166523014,
           -0.5327189369147353,
           -0.5502347273593889,
           -0.5717210251531019,
           -0.5945862656779695,
           -0.6160725634716825,
           -0.6335883539163362,
           -0.64502097417877,
           -0.6489914815278294
          ],
          [
           -0.6489914815278293,
           -0.6450209741787699,
           -0.6335883539163362,
           -0.6160725634716825,
           -0.5945862656779695,
           -0.571721025153102,
           -0.5502347273593889,
           -0.5327189369147353,
           -0.5212863166523015,
           -0.5173158093032422
          ],
          [
           -0.773532602630365,
           -0.762051346663227,
           -0.7289923876767415,
           -0.6783431240229505,
           -0.6162126044020213,
           -0.5500946864290501,
           -0.48796416680812105,
           -0.43731490315433,
           -0.4042559441678444,
           -0.3927746882007063
          ],
          [
           -0.8774432096847882,
           -0.8596953773336526,
           -0.808592530791902,
           -0.730298427550162,
           -0.6342564919572864,
           -0.532050798873785,
           -0.4360088632809095,
           -0.3577147600391695,
           -0.30661191349741884,
           -0.2888640811462832
          ],
          [
           -0.9494629760775586,
           -0.927371820363664,
           -0.8637628726318106,
           -0.7663083107465471,
           -0.646762593147389,
           -0.5195446976836824,
           -0.39999898008452434,
           -0.3025444181992608,
           -0.23893547046740748,
           -0.2168443147535128
          ],
          [
           -0.9817874426182036,
           -0.9577468830427491,
           -0.8885248506020571,
           -0.7824705440168698,
           -0.6523756778562277,
           -0.5139316129748438,
           -0.3838367468142018,
           -0.2777824402290144,
           -0.20856040778832236,
           -0.18451984821286777
          ],
          [
           -0.9709137517912679,
           -0.9475289560119702,
           -0.8801951201678893,
           -0.7770336986034019,
           -0.6504874812596166,
           -0.5158198095714548,
           -0.38927359222766966,
           -0.2861121706631823,
           -0.2187783348191013,
           -0.1953935390398035
          ],
          [
           -0.9180202367205472,
           -0.8978253102125857,
           -0.8396763368709337,
           -0.7505869410680415,
           -0.6413026187571877,
           -0.5250046720738837,
           -0.4157203497630301,
           -0.3266309539601378,
           -0.26848198061848577,
           -0.2482870541105242
          ],
          [
           -0.8288387304914029,
           -0.8140221068984863,
           -0.7713593395951172,
           -0.7059961879534693,
           -0.6258164127189049,
           -0.5404908781121667,
           -0.46031110287760213,
           -0.3949479512359543,
           -0.3522851839325852,
           -0.3374685603396685
          ],
          [
           -0.7130334330974092,
           -0.7052007234894327,
           -0.6826473350427076,
           -0.6480935392564725,
           -0.6057070338622609,
           -0.5606002569688106,
           -0.518213751574599,
           -0.48365995578836385,
           -0.4611065673416387,
           -0.45327385773366224
          ],
          [
           -0.5831536454155358,
           -0.5831536454155358,
           -0.5831536454155358,
           -0.5831536454155357,
           -0.5831536454155357,
           -0.5831536454155357,
           -0.5831536454155357,
           -0.5831536454155356,
           -0.5831536454155356,
           -0.5831536454155356
          ]
         ],
         "y": [
          [
           -0.41887734416284456,
           -0.41887734416284456,
           -0.41887734416284456,
           -0.41887734416284456,
           -0.41887734416284456,
           -0.41887734416284456,
           -0.41887734416284456,
           -0.41887734416284456,
           -0.41887734416284456,
           -0.41887734416284456
          ],
          [
           -0.41887734416284456,
           -0.3744558405647828,
           -0.33539222589221795,
           -0.306398148592213,
           -0.29097072229415616,
           -0.29097072229415616,
           -0.306398148592213,
           -0.3353922258922179,
           -0.37445584056478276,
           -0.41887734416284456
          ],
          [
           -0.41887734416284456,
           -0.33484809615221733,
           -0.2609540155912939,
           -0.20610781915620258,
           -0.17692476758066666,
           -0.17692476758066666,
           -0.20610781915620255,
           -0.26095401559129383,
           -0.33484809615221733,
           -0.4188773441628445
          ],
          [
           -0.41887734416284456,
           -0.3043462246097264,
           -0.203629248374017,
           -0.12887436921400341,
           -0.08909812882089885,
           -0.08909812882089885,
           -0.12887436921400341,
           -0.2036292483740169,
           -0.3043462246097264,
           -0.4188773441628445
          ],
          [
           -0.41887734416284456,
           -0.2862555770042401,
           -0.1696299522537895,
           -0.08306724146730426,
           -0.037008185095185,
           -0.037008185095185,
           -0.08306724146730421,
           -0.1696299522537894,
           -0.28625557700424004,
           -0.4188773441628445
          ],
          [
           -0.41887734416284456,
           -0.2825365557091325,
           -0.16264047851867297,
           -0.07365034897828004,
           -0.026299690064960912,
           -0.026299690064960912,
           -0.07365034897827999,
           -0.16264047851867292,
           -0.28253655570913244,
           -0.4188773441628445
          ],
          [
           -0.41887734416284456,
           -0.29359217438828966,
           -0.18341824510072666,
           -0.1016441581662586,
           -0.058133075326171735,
           -0.058133075326171735,
           -0.1016441581662586,
           -0.18341824510072657,
           -0.2935921743882896,
           -0.4188773441628445
          ],
          [
           -0.41887734416284456,
           -0.3182243852122262,
           -0.22971165859051845,
           -0.16401510543701853,
           -0.12905869963990002,
           -0.12905869963990002,
           -0.16401510543701847,
           -0.2297116585905184,
           -0.3182243852122261,
           -0.4188773441628445
          ],
          [
           -0.41887734416284456,
           -0.35376390593003726,
           -0.2965041093201084,
           -0.25400433086881147,
           -0.23139067108730105,
           -0.23139067108730105,
           -0.25400433086881147,
           -0.29650410932010834,
           -0.3537639059300372,
           -0.41887734416284456
          ],
          [
           -0.41887734416284456,
           -0.396359478019466,
           -0.37655759886128926,
           -0.3618601055594018,
           -0.35403973271791067,
           -0.35403973271791067,
           -0.3618601055594018,
           -0.3765575988612892,
           -0.39635947801946597,
           -0.41887734416284456
          ],
          [
           -0.41887734416284456,
           -0.4413952103062231,
           -0.4611970894643998,
           -0.47589458276628727,
           -0.48371495560777833,
           -0.48371495560777833,
           -0.47589458276628727,
           -0.46119708946439986,
           -0.4413952103062231,
           -0.41887734416284456
          ],
          [
           -0.41887734416284456,
           -0.48399078239565185,
           -0.5412505790055807,
           -0.5837503574568775,
           -0.606364017238388,
           -0.606364017238388,
           -0.5837503574568775,
           -0.5412505790055807,
           -0.4839907823956519,
           -0.41887734416284456
          ],
          [
           -0.41887734416284456,
           -0.5195303031134629,
           -0.6080430297351705,
           -0.6737395828886705,
           -0.7086959886857889,
           -0.7086959886857889,
           -0.6737395828886705,
           -0.6080430297351707,
           -0.5195303031134629,
           -0.4188773441628446
          ],
          [
           -0.41887734416284456,
           -0.5441625139373995,
           -0.6543364432249624,
           -0.7361105301594304,
           -0.7796216129995173,
           -0.7796216129995173,
           -0.7361105301594304,
           -0.6543364432249625,
           -0.5441625139373995,
           -0.4188773441628446
          ],
          [
           -0.41887734416284456,
           -0.5552181326165566,
           -0.6751142098070162,
           -0.7641043393474091,
           -0.8114549982607282,
           -0.8114549982607282,
           -0.7641043393474092,
           -0.6751142098070162,
           -0.5552181326165566,
           -0.4188773441628446
          ],
          [
           -0.41887734416284456,
           -0.551499111321449,
           -0.6681247360718996,
           -0.7546874468583848,
           -0.8007465032305041,
           -0.8007465032305041,
           -0.754687446858385,
           -0.6681247360718997,
           -0.5514991113214491,
           -0.4188773441628446
          ],
          [
           -0.41887734416284456,
           -0.5334084637159627,
           -0.6341254399516721,
           -0.7088803191116857,
           -0.7486565595047903,
           -0.7486565595047903,
           -0.7088803191116857,
           -0.6341254399516723,
           -0.5334084637159627,
           -0.4188773441628446
          ],
          [
           -0.41887734416284456,
           -0.5029065921734718,
           -0.5768006727343953,
           -0.6316468691694866,
           -0.6608299207450226,
           -0.6608299207450226,
           -0.6316468691694866,
           -0.5768006727343953,
           -0.5029065921734718,
           -0.4188773441628446
          ],
          [
           -0.41887734416284456,
           -0.46329884776090635,
           -0.5023624624334713,
           -0.5313565397334762,
           -0.546783966031533,
           -0.546783966031533,
           -0.5313565397334762,
           -0.5023624624334713,
           -0.46329884776090635,
           -0.41887734416284456
          ],
          [
           -0.41887734416284456,
           -0.4188773441628446,
           -0.4188773441628446,
           -0.41887734416284467,
           -0.41887734416284467,
           -0.41887734416284467,
           -0.41887734416284467,
           -0.4188773441628446,
           -0.4188773441628446,
           -0.41887734416284456
          ]
         ],
         "z": [
          [
           0.8653385971135855,
           0.8653385971135855,
           0.8653385971135855,
           0.8653385971135855,
           0.8653385971135855,
           0.8653385971135855,
           0.8653385971135855,
           0.8653385971135855,
           0.8653385971135855,
           0.8653385971135855
          ],
          [
           0.8436654937938394,
           0.8436654937938394,
           0.8436654937938394,
           0.8436654937938394,
           0.8436654937938394,
           0.8436654937938394,
           0.8436654937938394,
           0.8436654937938394,
           0.8436654937938394,
           0.8436654937938394
          ],
          [
           0.780994800872143,
           0.780994800872143,
           0.780994800872143,
           0.780994800872143,
           0.780994800872143,
           0.780994800872143,
           0.780994800872143,
           0.780994800872143,
           0.780994800872143,
           0.780994800872143
          ],
          [
           0.6841178603625563,
           0.6841178603625563,
           0.6841178603625563,
           0.6841178603625563,
           0.6841178603625563,
           0.6841178603625563,
           0.6841178603625563,
           0.6841178603625563,
           0.6841178603625563,
           0.6841178603625563
          ],
          [
           0.5635327919699051,
           0.5635327919699051,
           0.5635327919699051,
           0.5635327919699051,
           0.5635327919699051,
           0.5635327919699051,
           0.5635327919699051,
           0.5635327919699051,
           0.5635327919699051,
           0.5635327919699051
          ],
          [
           0.4323068589246526,
           0.4323068589246526,
           0.4323068589246526,
           0.4323068589246526,
           0.4323068589246526,
           0.4323068589246526,
           0.4323068589246526,
           0.4323068589246526,
           0.4323068589246526,
           0.4323068589246526
          ],
          [
           0.3046604272523978,
           0.3046604272523978,
           0.3046604272523978,
           0.3046604272523978,
           0.3046604272523978,
           0.3046604272523978,
           0.3046604272523978,
           0.3046604272523978,
           0.3046604272523978,
           0.3046604272523978
          ],
          [
           0.19442596846328913,
           0.19442596846328913,
           0.19442596846328913,
           0.19442596846328913,
           0.19442596846328913,
           0.19442596846328913,
           0.19442596846328913,
           0.19442596846328913,
           0.19442596846328913,
           0.19442596846328913
          ],
          [
           0.11354909663098989,
           0.11354909663098989,
           0.11354909663098989,
           0.11354909663098989,
           0.11354909663098989,
           0.11354909663098989,
           0.11354909663098989,
           0.11354909663098989,
           0.11354909663098989,
           0.11354909663098989
          ],
          [
           0.07079407575249652,
           0.07079407575249652,
           0.07079407575249652,
           0.07079407575249652,
           0.07079407575249652,
           0.07079407575249652,
           0.07079407575249652,
           0.07079407575249652,
           0.07079407575249652,
           0.07079407575249652
          ],
          [
           0.07079407575249652,
           0.07079407575249652,
           0.07079407575249652,
           0.07079407575249652,
           0.07079407575249652,
           0.07079407575249652,
           0.07079407575249652,
           0.07079407575249652,
           0.07079407575249652,
           0.07079407575249652
          ],
          [
           0.11354909663098983,
           0.11354909663098983,
           0.11354909663098983,
           0.11354909663098983,
           0.11354909663098983,
           0.11354909663098983,
           0.11354909663098983,
           0.11354909663098983,
           0.11354909663098983,
           0.11354909663098983
          ],
          [
           0.1944259684632889,
           0.1944259684632889,
           0.1944259684632889,
           0.1944259684632889,
           0.1944259684632889,
           0.1944259684632889,
           0.1944259684632889,
           0.1944259684632889,
           0.1944259684632889,
           0.1944259684632889
          ],
          [
           0.3046604272523975,
           0.3046604272523975,
           0.3046604272523975,
           0.3046604272523975,
           0.3046604272523975,
           0.3046604272523975,
           0.3046604272523975,
           0.3046604272523975,
           0.3046604272523975,
           0.3046604272523975
          ],
          [
           0.43230685892465237,
           0.43230685892465237,
           0.43230685892465237,
           0.43230685892465237,
           0.43230685892465237,
           0.43230685892465237,
           0.43230685892465237,
           0.43230685892465237,
           0.43230685892465237,
           0.43230685892465237
          ],
          [
           0.563532791969905,
           0.563532791969905,
           0.563532791969905,
           0.563532791969905,
           0.563532791969905,
           0.563532791969905,
           0.563532791969905,
           0.563532791969905,
           0.563532791969905,
           0.563532791969905
          ],
          [
           0.6841178603625562,
           0.6841178603625562,
           0.6841178603625562,
           0.6841178603625562,
           0.6841178603625562,
           0.6841178603625562,
           0.6841178603625562,
           0.6841178603625562,
           0.6841178603625562,
           0.6841178603625562
          ],
          [
           0.7809948008721428,
           0.7809948008721428,
           0.7809948008721428,
           0.7809948008721428,
           0.7809948008721428,
           0.7809948008721428,
           0.7809948008721428,
           0.7809948008721428,
           0.7809948008721428,
           0.7809948008721428
          ],
          [
           0.8436654937938394,
           0.8436654937938394,
           0.8436654937938394,
           0.8436654937938394,
           0.8436654937938394,
           0.8436654937938394,
           0.8436654937938394,
           0.8436654937938394,
           0.8436654937938394,
           0.8436654937938394
          ],
          [
           0.8653385971135855,
           0.8653385971135855,
           0.8653385971135855,
           0.8653385971135855,
           0.8653385971135855,
           0.8653385971135855,
           0.8653385971135855,
           0.8653385971135855,
           0.8653385971135855,
           0.8653385971135855
          ]
         ]
        },
        {
         "opacity": 0.8,
         "type": "surface",
         "x": [
          [
           0.492518338103323,
           0.492518338103323,
           0.492518338103323,
           0.492518338103323,
           0.492518338103323,
           0.492518338103323,
           0.492518338103323,
           0.492518338103323,
           0.492518338103323,
           0.492518338103323
          ],
          [
           0.6223981257851964,
           0.6145654161772199,
           0.5920120277304948,
           0.5574582319442597,
           0.5150717265500482,
           0.46996494965659785,
           0.42757844426238634,
           0.39302464847615126,
           0.3704712600294261,
           0.36263855042144966
          ],
          [
           0.7382034231791902,
           0.7233867995862735,
           0.6807240322829045,
           0.6153608806412566,
           0.5351811054066921,
           0.449855570799954,
           0.3696757955653895,
           0.3043126439237417,
           0.26164987662037253,
           0.24683325302745587
          ],
          [
           0.8273849294083344,
           0.8071900029003729,
           0.7490410295587209,
           0.6599516337558288,
           0.550667311444975,
           0.43436936476167104,
           0.3250850424508174,
           0.23599564664792516,
           0.17784667330627313,
           0.15765174679831157
          ],
          [
           0.8802784444790552,
           0.8568936486997574,
           0.7895598128556764,
           0.6863983912911892,
           0.559852173947404,
           0.4251845022592421,
           0.298638284915457,
           0.19547686335096964,
           0.12814302750688866,
           0.10475823172759086
          ],
          [
           0.891152135305991,
           0.8671115757305363,
           0.7978895432898444,
           0.6918352367046571,
           0.561740370544015,
           0.4232963056626311,
           0.2932014395019891,
           0.18714713291680168,
           0.11792510047610966,
           0.09388454090065507
          ],
          [
           0.858827668765346,
           0.8367365130514514,
           0.773127565319598,
           0.6756730034343346,
           0.5561272858351763,
           0.4289093903714697,
           0.3093636727723116,
           0.21190911088704806,
           0.14830016315519473,
           0.12620900744129998
          ],
          [
           0.7868079023725757,
           0.7690600700214401,
           0.7179572234796894,
           0.6396631202379494,
           0.5436211846450737,
           0.44141549156157234,
           0.34537355596869673,
           0.26707945272695666,
           0.21597660618520598,
           0.19822877383407034
          ],
          [
           0.6828972953181525,
           0.6714160393510145,
           0.6383570803645289,
           0.5877078167107378,
           0.5255772970898087,
           0.4594593791168374,
           0.39732885949590835,
           0.34667959584211727,
           0.3136206368556316,
           0.30213938088849357
          ],
          [
           0.5583561742156167,
           0.5543856668665573,
           0.5429530466041235,
           0.5254372561594698,
           0.5039509583657569,
           0.4810857178408892,
           0.45959942004717624,
           0.4420836296025225,
           0.4306510093400887,
           0.4266805019910294
          ],
          [
           0.42668050199102947,
           0.4306510093400888,
           0.44208362960252257,
           0.45959942004717624,
           0.4810857178408892,
           0.5039509583657568,
           0.5254372561594698,
           0.5429530466041235,
           0.5543856668665572,
           0.5583561742156166
          ],
          [
           0.3021393808884936,
           0.3136206368556317,
           0.34667959584211727,
           0.3973288594959083,
           0.4594593791168374,
           0.5255772970898086,
           0.5877078167107377,
           0.6383570803645287,
           0.6714160393510143,
           0.6828972953181525
          ],
          [
           0.1982287738340705,
           0.2159766061852061,
           0.26707945272695677,
           0.34537355596869673,
           0.44141549156157234,
           0.5436211846450737,
           0.6396631202379492,
           0.7179572234796892,
           0.7690600700214398,
           0.7868079023725756
          ],
          [
           0.1262090074413001,
           0.1483001631551948,
           0.2119091108870481,
           0.3093636727723115,
           0.4289093903714697,
           0.5561272858351762,
           0.6756730034343343,
           0.7731275653195979,
           0.8367365130514512,
           0.858827668765346
          ],
          [
           0.09388454090065507,
           0.11792510047610966,
           0.18714713291680163,
           0.29320143950198896,
           0.42329630566263104,
           0.5617403705440149,
           0.691835236704657,
           0.7978895432898443,
           0.8671115757305363,
           0.891152135305991
          ],
          [
           0.1047582317275908,
           0.12814302750688855,
           0.19547686335096953,
           0.29863828491545685,
           0.42518450225924204,
           0.5598521739474039,
           0.6863983912911891,
           0.7895598128556764,
           0.8568936486997574,
           0.8802784444790552
          ],
          [
           0.1576517467983115,
           0.17784667330627307,
           0.23599564664792505,
           0.32508504245081726,
           0.434369364761671,
           0.5506673114449749,
           0.6599516337558287,
           0.7490410295587209,
           0.8071900029003729,
           0.8273849294083345
          ],
          [
           0.2468332530274558,
           0.2616498766203724,
           0.3043126439237416,
           0.3696757955653894,
           0.4498555707999539,
           0.5351811054066921,
           0.6153608806412566,
           0.6807240322829045,
           0.7233867995862735,
           0.7382034231791903
          ],
          [
           0.36263855042144955,
           0.370471260029426,
           0.39302464847615115,
           0.4275784442623862,
           0.46996494965659785,
           0.5150717265500482,
           0.5574582319442597,
           0.5920120277304949,
           0.61456541617722,
           0.6223981257851965
          ],
          [
           0.4925183381033229,
           0.4925183381033229,
           0.49251833810332296,
           0.49251833810332296,
           0.492518338103323,
           0.492518338103323,
           0.4925183381033231,
           0.4925183381033231,
           0.49251833810332313,
           0.49251833810332313
          ]
         ],
         "y": [
          [
           1.2253293069663356,
           1.2253293069663356,
           1.2253293069663356,
           1.2253293069663356,
           1.2253293069663356,
           1.2253293069663356,
           1.2253293069663356,
           1.2253293069663356,
           1.2253293069663356,
           1.2253293069663356
          ],
          [
           1.2253293069663356,
           1.2697508105643973,
           1.3088144252369622,
           1.337808502536967,
           1.353235928835024,
           1.353235928835024,
           1.337808502536967,
           1.3088144252369622,
           1.2697508105643973,
           1.2253293069663356
          ],
          [
           1.2253293069663356,
           1.3093585549769629,
           1.3832526355378862,
           1.4380988319729775,
           1.4672818835485135,
           1.4672818835485135,
           1.4380988319729775,
           1.3832526355378862,
           1.3093585549769629,
           1.2253293069663356
          ],
          [
           1.2253293069663356,
           1.3398604265194538,
           1.4405774027551632,
           1.5153322819151767,
           1.5551085223082812,
           1.5551085223082812,
           1.5153322819151767,
           1.4405774027551632,
           1.3398604265194538,
           1.2253293069663356
          ],
          [
           1.2253293069663356,
           1.35795107412494,
           1.4745766988753906,
           1.5611394096618758,
           1.607198466033995,
           1.607198466033995,
           1.5611394096618758,
           1.4745766988753908,
           1.35795107412494,
           1.2253293069663356
          ],
          [
           1.2253293069663356,
           1.3616700954200476,
           1.4815661726105072,
           1.5705563021509001,
           1.6179069610642192,
           1.6179069610642192,
           1.5705563021509001,
           1.4815661726105072,
           1.3616700954200476,
           1.2253293069663356
          ],
          [
           1.2253293069663356,
           1.3506144767408905,
           1.4607884060284535,
           1.5425624929629216,
           1.5860735758030085,
           1.5860735758030085,
           1.5425624929629216,
           1.4607884060284535,
           1.3506144767408905,
           1.2253293069663356
          ],
          [
           1.2253293069663356,
           1.325982265916954,
           1.4144949925386616,
           1.4801915456921617,
           1.51514795148928,
           1.51514795148928,
           1.4801915456921617,
           1.4144949925386618,
           1.325982265916954,
           1.2253293069663356
          ],
          [
           1.2253293069663356,
           1.290442745199143,
           1.3477025418090718,
           1.3902023202603686,
           1.4128159800418791,
           1.4128159800418791,
           1.3902023202603686,
           1.3477025418090718,
           1.290442745199143,
           1.2253293069663356
          ],
          [
           1.2253293069663356,
           1.247847173109714,
           1.267649052267891,
           1.2823465455697785,
           1.2901669184112694,
           1.2901669184112694,
           1.2823465455697785,
           1.267649052267891,
           1.247847173109714,
           1.2253293069663356
          ],
          [
           1.2253293069663356,
           1.202811440822957,
           1.1830095616647802,
           1.168312068362893,
           1.1604916955214017,
           1.1604916955214017,
           1.168312068362893,
           1.1830095616647802,
           1.202811440822957,
           1.2253293069663356
          ],
          [
           1.2253293069663356,
           1.1602158687335282,
           1.1029560721235994,
           1.0604562936723025,
           1.0378426338907922,
           1.0378426338907922,
           1.0604562936723025,
           1.1029560721235994,
           1.1602158687335282,
           1.2253293069663356
          ],
          [
           1.2253293069663356,
           1.1246763480157171,
           1.0361636213940095,
           0.9704670682405097,
           0.9355106624433912,
           0.9355106624433912,
           0.9704670682405097,
           1.0361636213940095,
           1.1246763480157171,
           1.2253293069663356
          ],
          [
           1.2253293069663356,
           1.1000441371917806,
           0.9898702079042178,
           0.9080961209697498,
           0.8645850381296629,
           0.8645850381296629,
           0.9080961209697497,
           0.9898702079042176,
           1.1000441371917806,
           1.2253293069663356
          ],
          [
           1.2253293069663356,
           1.0889885185126236,
           0.969092441322164,
           0.880102311781771,
           0.832751652868452,
           0.832751652868452,
           0.880102311781771,
           0.969092441322164,
           1.0889885185126236,
           1.2253293069663356
          ],
          [
           1.2253293069663356,
           1.092707539807731,
           0.9760819150572805,
           0.8895192042707952,
           0.843460147898676,
           0.843460147898676,
           0.8895192042707951,
           0.9760819150572804,
           1.092707539807731,
           1.2253293069663356
          ],
          [
           1.2253293069663356,
           1.1107981874132173,
           1.010081211177508,
           0.9353263320174945,
           0.8955500916243898,
           0.8955500916243898,
           0.9353263320174944,
           1.010081211177508,
           1.1107981874132173,
           1.2253293069663356
          ],
          [
           1.2253293069663356,
           1.1413000589557083,
           1.067405978394785,
           1.0125597819596934,
           0.9833767303841576,
           0.9833767303841576,
           1.0125597819596934,
           1.0674059783947847,
           1.1413000589557083,
           1.2253293069663356
          ],
          [
           1.2253293069663356,
           1.1809078033682738,
           1.141844188695709,
           1.112850111395704,
           1.0974226850976472,
           1.0974226850976472,
           1.112850111395704,
           1.141844188695709,
           1.1809078033682738,
           1.2253293069663356
          ],
          [
           1.2253293069663356,
           1.2253293069663356,
           1.2253293069663356,
           1.2253293069663356,
           1.2253293069663356,
           1.2253293069663356,
           1.2253293069663356,
           1.2253293069663356,
           1.2253293069663356,
           1.2253293069663356
          ]
         ],
         "z": [
          [
           0.9353695973704753,
           0.9353695973704753,
           0.9353695973704753,
           0.9353695973704753,
           0.9353695973704753,
           0.9353695973704753,
           0.9353695973704753,
           0.9353695973704753,
           0.9353695973704753,
           0.9353695973704753
          ],
          [
           0.9136964940507292,
           0.9136964940507292,
           0.9136964940507292,
           0.9136964940507292,
           0.9136964940507292,
           0.9136964940507292,
           0.9136964940507292,
           0.9136964940507292,
           0.9136964940507292,
           0.9136964940507292
          ],
          [
           0.8510258011290328,
           0.8510258011290328,
           0.8510258011290328,
           0.8510258011290328,
           0.8510258011290328,
           0.8510258011290328,
           0.8510258011290328,
           0.8510258011290328,
           0.8510258011290328,
           0.8510258011290328
          ],
          [
           0.7541488606194461,
           0.7541488606194461,
           0.7541488606194461,
           0.7541488606194461,
           0.7541488606194461,
           0.7541488606194461,
           0.7541488606194461,
           0.7541488606194461,
           0.7541488606194461,
           0.7541488606194461
          ],
          [
           0.6335637922267949,
           0.6335637922267949,
           0.6335637922267949,
           0.6335637922267949,
           0.6335637922267949,
           0.6335637922267949,
           0.6335637922267949,
           0.6335637922267949,
           0.6335637922267949,
           0.6335637922267949
          ],
          [
           0.5023378591815424,
           0.5023378591815424,
           0.5023378591815424,
           0.5023378591815424,
           0.5023378591815424,
           0.5023378591815424,
           0.5023378591815424,
           0.5023378591815424,
           0.5023378591815424,
           0.5023378591815424
          ],
          [
           0.3746914275092876,
           0.3746914275092876,
           0.3746914275092876,
           0.3746914275092876,
           0.3746914275092876,
           0.3746914275092876,
           0.3746914275092876,
           0.3746914275092876,
           0.3746914275092876,
           0.3746914275092876
          ],
          [
           0.26445696872017893,
           0.26445696872017893,
           0.26445696872017893,
           0.26445696872017893,
           0.26445696872017893,
           0.26445696872017893,
           0.26445696872017893,
           0.26445696872017893,
           0.26445696872017893,
           0.26445696872017893
          ],
          [
           0.18358009688787968,
           0.18358009688787968,
           0.18358009688787968,
           0.18358009688787968,
           0.18358009688787968,
           0.18358009688787968,
           0.18358009688787968,
           0.18358009688787968,
           0.18358009688787968,
           0.18358009688787968
          ],
          [
           0.14082507600938632,
           0.14082507600938632,
           0.14082507600938632,
           0.14082507600938632,
           0.14082507600938632,
           0.14082507600938632,
           0.14082507600938632,
           0.14082507600938632,
           0.14082507600938632,
           0.14082507600938632
          ],
          [
           0.14082507600938632,
           0.14082507600938632,
           0.14082507600938632,
           0.14082507600938632,
           0.14082507600938632,
           0.14082507600938632,
           0.14082507600938632,
           0.14082507600938632,
           0.14082507600938632,
           0.14082507600938632
          ],
          [
           0.18358009688787963,
           0.18358009688787963,
           0.18358009688787963,
           0.18358009688787963,
           0.18358009688787963,
           0.18358009688787963,
           0.18358009688787963,
           0.18358009688787963,
           0.18358009688787963,
           0.18358009688787963
          ],
          [
           0.2644569687201787,
           0.2644569687201787,
           0.2644569687201787,
           0.2644569687201787,
           0.2644569687201787,
           0.2644569687201787,
           0.2644569687201787,
           0.2644569687201787,
           0.2644569687201787,
           0.2644569687201787
          ],
          [
           0.3746914275092873,
           0.3746914275092873,
           0.3746914275092873,
           0.3746914275092873,
           0.3746914275092873,
           0.3746914275092873,
           0.3746914275092873,
           0.3746914275092873,
           0.3746914275092873,
           0.3746914275092873
          ],
          [
           0.5023378591815422,
           0.5023378591815422,
           0.5023378591815422,
           0.5023378591815422,
           0.5023378591815422,
           0.5023378591815422,
           0.5023378591815422,
           0.5023378591815422,
           0.5023378591815422,
           0.5023378591815422
          ],
          [
           0.6335637922267948,
           0.6335637922267948,
           0.6335637922267948,
           0.6335637922267948,
           0.6335637922267948,
           0.6335637922267948,
           0.6335637922267948,
           0.6335637922267948,
           0.6335637922267948,
           0.6335637922267948
          ],
          [
           0.754148860619446,
           0.754148860619446,
           0.754148860619446,
           0.754148860619446,
           0.754148860619446,
           0.754148860619446,
           0.754148860619446,
           0.754148860619446,
           0.754148860619446,
           0.754148860619446
          ],
          [
           0.8510258011290326,
           0.8510258011290326,
           0.8510258011290326,
           0.8510258011290326,
           0.8510258011290326,
           0.8510258011290326,
           0.8510258011290326,
           0.8510258011290326,
           0.8510258011290326,
           0.8510258011290326
          ],
          [
           0.9136964940507292,
           0.9136964940507292,
           0.9136964940507292,
           0.9136964940507292,
           0.9136964940507292,
           0.9136964940507292,
           0.9136964940507292,
           0.9136964940507292,
           0.9136964940507292,
           0.9136964940507292
          ],
          [
           0.9353695973704753,
           0.9353695973704753,
           0.9353695973704753,
           0.9353695973704753,
           0.9353695973704753,
           0.9353695973704753,
           0.9353695973704753,
           0.9353695973704753,
           0.9353695973704753,
           0.9353695973704753
          ]
         ]
        },
        {
         "opacity": 0.8,
         "type": "surface",
         "x": [
          [
           -0.2603766528244657,
           -0.2603766528244657,
           -0.2603766528244657,
           -0.2603766528244657,
           -0.2603766528244657,
           -0.2603766528244657,
           -0.2603766528244657,
           -0.2603766528244657,
           -0.2603766528244657,
           -0.2603766528244657
          ],
          [
           -0.13049686514259232,
           -0.13832957475056876,
           -0.1608829631972939,
           -0.195436758983529,
           -0.23782326437774054,
           -0.2829300412711908,
           -0.3253165466654024,
           -0.3598703424516375,
           -0.3824237308983626,
           -0.3902564405063391
          ],
          [
           -0.01469156774859856,
           -0.029508191341515222,
           -0.07217095864488432,
           -0.13753411028653212,
           -0.2177138855210966,
           -0.30303942012783475,
           -0.38321919536239923,
           -0.4485823470040471,
           -0.49124511430741613,
           -0.5060617379003328
          ],
          [
           0.07448993848054575,
           0.054295011972584184,
           -0.003853961369067793,
           -0.09294335717195995,
           -0.2022276794828137,
           -0.3185256261661177,
           -0.42780994847697135,
           -0.5168993442798635,
           -0.5750483176215155,
           -0.5952432441294772
          ],
          [
           0.12738345355126646,
           0.1039986577719687,
           0.036664821927887725,
           -0.06649659963659957,
           -0.19304281698038472,
           -0.32771048866854663,
           -0.4542567060123317,
           -0.5574181275768191,
           -0.6247519634209,
           -0.6481367592001979
          ],
          [
           0.13825714437820225,
           0.11421658480274766,
           0.044994552362055684,
           -0.061059754223131674,
           -0.19115462038377373,
           -0.3295986852651577,
           -0.4596935514257996,
           -0.565747858010987,
           -0.6349698904516791,
           -0.6590104500271337
          ],
          [
           0.10593267783755733,
           0.08384152212366264,
           0.02023257439180931,
           -0.07722198749345416,
           -0.19676770509261238,
           -0.323985600556319,
           -0.44353131815547714,
           -0.5409858800407407,
           -0.604594827772594,
           -0.6266859834864887
          ],
          [
           0.033912911444786975,
           0.01616507909365139,
           -0.034937767448099344,
           -0.11323187068983934,
           -0.20927380628271497,
           -0.3114794993662164,
           -0.407521434959092,
           -0.485815538200832,
           -0.5369183847425827,
           -0.5546662170937184
          ],
          [
           -0.06999769560963623,
           -0.08147895157677426,
           -0.1145379105632599,
           -0.16518717421705092,
           -0.22731769383798006,
           -0.29343561181095135,
           -0.35556613143188043,
           -0.4062153950856715,
           -0.4392743540721571,
           -0.4507556100392952
          ],
          [
           -0.1945388167121721,
           -0.1985093240612314,
           -0.2099419443236652,
           -0.22745773476831888,
           -0.2489440325620319,
           -0.2718092730868995,
           -0.2932955708806125,
           -0.3108113613252662,
           -0.3222439815877,
           -0.3262144889367593
          ],
          [
           -0.3262144889367592,
           -0.3222439815876999,
           -0.31081136132526616,
           -0.2932955708806125,
           -0.2718092730868995,
           -0.24894403256203193,
           -0.22745773476831896,
           -0.20994194432366528,
           -0.1985093240612315,
           -0.19453881671217219
          ],
          [
           -0.4507556100392951,
           -0.4392743540721571,
           -0.4062153950856714,
           -0.35556613143188043,
           -0.29343561181095135,
           -0.2273176938379801,
           -0.16518717421705104,
           -0.11453791056326001,
           -0.08147895157677437,
           -0.06999769560963631
          ],
          [
           -0.5546662170937182,
           -0.5369183847425827,
           -0.4858155382008319,
           -0.407521434959092,
           -0.3114794993662164,
           -0.20927380628271502,
           -0.1132318706898395,
           -0.03493776744809951,
           0.01616507909365117,
           0.03391291144478681
          ],
          [
           -0.6266859834864886,
           -0.6045948277725939,
           -0.5409858800407406,
           -0.4435313181554772,
           -0.32398560055631903,
           -0.19676770509261243,
           -0.07722198749345432,
           0.0202325743918092,
           0.08384152212366253,
           0.10593267783755722
          ],
          [
           -0.6590104500271337,
           -0.6349698904516791,
           -0.5657478580109871,
           -0.4596935514257997,
           -0.3295986852651577,
           -0.19115462038377376,
           -0.06105975422313181,
           0.04499455236205563,
           0.11421658480274766,
           0.13825714437820225
          ],
          [
           -0.6481367592001979,
           -0.6247519634209002,
           -0.5574181275768192,
           -0.45425670601233187,
           -0.3277104886685467,
           -0.19304281698038478,
           -0.06649659963659968,
           0.036664821927887725,
           0.1039986577719687,
           0.1273834535512665
          ],
          [
           -0.5952432441294773,
           -0.5750483176215156,
           -0.5168993442798637,
           -0.4278099484769715,
           -0.31852562616611774,
           -0.20222767948281373,
           -0.09294335717196003,
           -0.003853961369067793,
           0.05429501197258424,
           0.0744899384805458
          ],
          [
           -0.5060617379003329,
           -0.49124511430741624,
           -0.44858234700404714,
           -0.38321919536239935,
           -0.3030394201278348,
           -0.21771388552109663,
           -0.13753411028653215,
           -0.07217095864488429,
           -0.029508191341515166,
           -0.014691567748598477
          ],
          [
           -0.39025644050633923,
           -0.3824237308983628,
           -0.35987034245163757,
           -0.32531654666540244,
           -0.28293004127119087,
           -0.23782326437774054,
           -0.19543675898352897,
           -0.16088296319729384,
           -0.13832957475056867,
           -0.1304968651425922
          ],
          [
           -0.2603766528244658,
           -0.2603766528244658,
           -0.26037665282446576,
           -0.26037665282446576,
           -0.2603766528244657,
           -0.2603766528244657,
           -0.26037665282446565,
           -0.26037665282446565,
           -0.2603766528244656,
           -0.2603766528244656
          ]
         ],
         "y": [
          [
           -0.7463091727319436,
           -0.7463091727319436,
           -0.7463091727319436,
           -0.7463091727319436,
           -0.7463091727319436,
           -0.7463091727319436,
           -0.7463091727319436,
           -0.7463091727319436,
           -0.7463091727319436,
           -0.7463091727319436
          ],
          [
           -0.7463091727319436,
           -0.7018876691338819,
           -0.662824054461317,
           -0.6338299771613121,
           -0.6184025508632552,
           -0.6184025508632552,
           -0.6338299771613121,
           -0.662824054461317,
           -0.7018876691338819,
           -0.7463091727319436
          ],
          [
           -0.7463091727319436,
           -0.6622799247213165,
           -0.588385844160393,
           -0.5335396477253016,
           -0.5043565961497658,
           -0.5043565961497658,
           -0.5335396477253016,
           -0.5883858441603929,
           -0.6622799247213164,
           -0.7463091727319436
          ],
          [
           -0.7463091727319436,
           -0.6317780531788255,
           -0.5310610769431161,
           -0.4563061977831025,
           -0.41652995738999793,
           -0.41652995738999793,
           -0.4563061977831025,
           -0.531061076943116,
           -0.6317780531788254,
           -0.7463091727319436
          ],
          [
           -0.7463091727319436,
           -0.6136874055733392,
           -0.49706178082288854,
           -0.41049907003640335,
           -0.3644400136642841,
           -0.3644400136642841,
           -0.4104990700364033,
           -0.4970617808228885,
           -0.6136874055733391,
           -0.7463091727319436
          ],
          [
           -0.7463091727319436,
           -0.6099683842782315,
           -0.49007230708777205,
           -0.4010821775473791,
           -0.35373151863406,
           -0.35373151863406,
           -0.40108217754737907,
           -0.490072307087772,
           -0.6099683842782315,
           -0.7463091727319436
          ],
          [
           -0.7463091727319436,
           -0.6210240029573888,
           -0.5108500736698257,
           -0.4290759867353577,
           -0.3855649038952708,
           -0.3855649038952708,
           -0.4290759867353577,
           -0.5108500736698256,
           -0.6210240029573887,
           -0.7463091727319436
          ],
          [
           -0.7463091727319436,
           -0.6456562137813252,
           -0.5571434871596175,
           -0.4914469340061176,
           -0.4564905282089991,
           -0.4564905282089991,
           -0.49144693400611755,
           -0.5571434871596175,
           -0.6456562137813252,
           -0.7463091727319436
          ],
          [
           -0.7463091727319436,
           -0.6811957344991363,
           -0.6239359378892074,
           -0.5814361594379106,
           -0.5588224996564002,
           -0.5588224996564002,
           -0.5814361594379105,
           -0.6239359378892074,
           -0.6811957344991363,
           -0.7463091727319436
          ],
          [
           -0.7463091727319436,
           -0.723791306588565,
           -0.7039894274303883,
           -0.6892919341285009,
           -0.6814715612870097,
           -0.6814715612870097,
           -0.6892919341285009,
           -0.7039894274303883,
           -0.723791306588565,
           -0.7463091727319436
          ],
          [
           -0.7463091727319436,
           -0.7688270388753221,
           -0.7886289180334989,
           -0.8033264113353863,
           -0.8111467841768775,
           -0.8111467841768775,
           -0.8033264113353863,
           -0.7886289180334989,
           -0.7688270388753222,
           -0.7463091727319436
          ],
          [
           -0.7463091727319436,
           -0.8114226109647509,
           -0.8686824075746797,
           -0.9111821860259766,
           -0.9337958458074871,
           -0.9337958458074871,
           -0.9111821860259767,
           -0.8686824075746797,
           -0.811422610964751,
           -0.7463091727319436
          ],
          [
           -0.7463091727319436,
           -0.846962131682562,
           -0.9354748583042696,
           -1.0011714114577694,
           -1.036127817254888,
           -1.036127817254888,
           -1.0011714114577694,
           -0.9354748583042697,
           -0.8469621316825621,
           -0.7463091727319436
          ],
          [
           -0.7463091727319436,
           -0.8715943425064985,
           -0.9817682717940615,
           -1.0635423587285295,
           -1.1070534415686164,
           -1.1070534415686164,
           -1.0635423587285295,
           -0.9817682717940616,
           -0.8715943425064986,
           -0.7463091727319436
          ],
          [
           -0.7463091727319436,
           -0.8826499611856558,
           -1.0025460383761153,
           -1.091536167916508,
           -1.1388868268298273,
           -1.1388868268298273,
           -1.0915361679165083,
           -1.0025460383761153,
           -0.8826499611856558,
           -0.7463091727319436
          ],
          [
           -0.7463091727319436,
           -0.8789309398905482,
           -0.9955565646409987,
           -1.082119275427484,
           -1.1281783317996033,
           -1.1281783317996033,
           -1.082119275427484,
           -0.9955565646409988,
           -0.8789309398905482,
           -0.7463091727319436
          ],
          [
           -0.7463091727319436,
           -0.8608402922850618,
           -0.9615572685207712,
           -1.0363121476807848,
           -1.0760883880738894,
           -1.0760883880738894,
           -1.0363121476807848,
           -0.9615572685207713,
           -0.8608402922850619,
           -0.7463091727319436
          ],
          [
           -0.7463091727319436,
           -0.8303384207425708,
           -0.9042325013034944,
           -0.9590786977385857,
           -0.9882617493141216,
           -0.9882617493141216,
           -0.9590786977385857,
           -0.9042325013034944,
           -0.8303384207425709,
           -0.7463091727319436
          ],
          [
           -0.7463091727319436,
           -0.7907306763300055,
           -0.8297942910025703,
           -0.8587883683025753,
           -0.8742157946006321,
           -0.8742157946006321,
           -0.8587883683025753,
           -0.8297942910025704,
           -0.7907306763300055,
           -0.7463091727319436
          ],
          [
           -0.7463091727319436,
           -0.7463091727319436,
           -0.7463091727319437,
           -0.7463091727319437,
           -0.7463091727319437,
           -0.7463091727319437,
           -0.7463091727319437,
           -0.7463091727319437,
           -0.7463091727319436,
           -0.7463091727319436
          ]
         ],
         "z": [
          [
           1.5152238194309122,
           1.5152238194309122,
           1.5152238194309122,
           1.5152238194309122,
           1.5152238194309122,
           1.5152238194309122,
           1.5152238194309122,
           1.5152238194309122,
           1.5152238194309122,
           1.5152238194309122
          ],
          [
           1.4935507161111663,
           1.4935507161111663,
           1.4935507161111663,
           1.4935507161111663,
           1.4935507161111663,
           1.4935507161111663,
           1.4935507161111663,
           1.4935507161111663,
           1.4935507161111663,
           1.4935507161111663
          ],
          [
           1.4308800231894698,
           1.4308800231894698,
           1.4308800231894698,
           1.4308800231894698,
           1.4308800231894698,
           1.4308800231894698,
           1.4308800231894698,
           1.4308800231894698,
           1.4308800231894698,
           1.4308800231894698
          ],
          [
           1.334003082679883,
           1.334003082679883,
           1.334003082679883,
           1.334003082679883,
           1.334003082679883,
           1.334003082679883,
           1.334003082679883,
           1.334003082679883,
           1.334003082679883,
           1.334003082679883
          ],
          [
           1.213418014287232,
           1.213418014287232,
           1.213418014287232,
           1.213418014287232,
           1.213418014287232,
           1.213418014287232,
           1.213418014287232,
           1.213418014287232,
           1.213418014287232,
           1.213418014287232
          ],
          [
           1.0821920812419794,
           1.0821920812419794,
           1.0821920812419794,
           1.0821920812419794,
           1.0821920812419794,
           1.0821920812419794,
           1.0821920812419794,
           1.0821920812419794,
           1.0821920812419794,
           1.0821920812419794
          ],
          [
           0.9545456495697247,
           0.9545456495697247,
           0.9545456495697247,
           0.9545456495697247,
           0.9545456495697247,
           0.9545456495697247,
           0.9545456495697247,
           0.9545456495697247,
           0.9545456495697247,
           0.9545456495697247
          ],
          [
           0.844311190780616,
           0.844311190780616,
           0.844311190780616,
           0.844311190780616,
           0.844311190780616,
           0.844311190780616,
           0.844311190780616,
           0.844311190780616,
           0.844311190780616,
           0.844311190780616
          ],
          [
           0.7634343189483167,
           0.7634343189483167,
           0.7634343189483167,
           0.7634343189483167,
           0.7634343189483167,
           0.7634343189483167,
           0.7634343189483167,
           0.7634343189483167,
           0.7634343189483167,
           0.7634343189483167
          ],
          [
           0.7206792980698233,
           0.7206792980698233,
           0.7206792980698233,
           0.7206792980698233,
           0.7206792980698233,
           0.7206792980698233,
           0.7206792980698233,
           0.7206792980698233,
           0.7206792980698233,
           0.7206792980698233
          ],
          [
           0.7206792980698233,
           0.7206792980698233,
           0.7206792980698233,
           0.7206792980698233,
           0.7206792980698233,
           0.7206792980698233,
           0.7206792980698233,
           0.7206792980698233,
           0.7206792980698233,
           0.7206792980698233
          ],
          [
           0.7634343189483166,
           0.7634343189483166,
           0.7634343189483166,
           0.7634343189483166,
           0.7634343189483166,
           0.7634343189483166,
           0.7634343189483166,
           0.7634343189483166,
           0.7634343189483166,
           0.7634343189483166
          ],
          [
           0.8443111907806158,
           0.8443111907806158,
           0.8443111907806158,
           0.8443111907806158,
           0.8443111907806158,
           0.8443111907806158,
           0.8443111907806158,
           0.8443111907806158,
           0.8443111907806158,
           0.8443111907806158
          ],
          [
           0.9545456495697243,
           0.9545456495697243,
           0.9545456495697243,
           0.9545456495697243,
           0.9545456495697243,
           0.9545456495697243,
           0.9545456495697243,
           0.9545456495697243,
           0.9545456495697243,
           0.9545456495697243
          ],
          [
           1.0821920812419792,
           1.0821920812419792,
           1.0821920812419792,
           1.0821920812419792,
           1.0821920812419792,
           1.0821920812419792,
           1.0821920812419792,
           1.0821920812419792,
           1.0821920812419792,
           1.0821920812419792
          ],
          [
           1.2134180142872317,
           1.2134180142872317,
           1.2134180142872317,
           1.2134180142872317,
           1.2134180142872317,
           1.2134180142872317,
           1.2134180142872317,
           1.2134180142872317,
           1.2134180142872317,
           1.2134180142872317
          ],
          [
           1.334003082679883,
           1.334003082679883,
           1.334003082679883,
           1.334003082679883,
           1.334003082679883,
           1.334003082679883,
           1.334003082679883,
           1.334003082679883,
           1.334003082679883,
           1.334003082679883
          ],
          [
           1.4308800231894696,
           1.4308800231894696,
           1.4308800231894696,
           1.4308800231894696,
           1.4308800231894696,
           1.4308800231894696,
           1.4308800231894696,
           1.4308800231894696,
           1.4308800231894696,
           1.4308800231894696
          ],
          [
           1.4935507161111663,
           1.4935507161111663,
           1.4935507161111663,
           1.4935507161111663,
           1.4935507161111663,
           1.4935507161111663,
           1.4935507161111663,
           1.4935507161111663,
           1.4935507161111663,
           1.4935507161111663
          ],
          [
           1.5152238194309122,
           1.5152238194309122,
           1.5152238194309122,
           1.5152238194309122,
           1.5152238194309122,
           1.5152238194309122,
           1.5152238194309122,
           1.5152238194309122,
           1.5152238194309122,
           1.5152238194309122
          ]
         ]
        },
        {
         "opacity": 0.8,
         "type": "surface",
         "x": [
          [
           0.29488191724411744,
           0.29488191724411744,
           0.29488191724411744,
           0.29488191724411744,
           0.29488191724411744,
           0.29488191724411744,
           0.29488191724411744,
           0.29488191724411744,
           0.29488191724411744,
           0.29488191724411744
          ],
          [
           0.42476170492599086,
           0.4169289953180144,
           0.39437560687128925,
           0.3598218110850542,
           0.3174353056908426,
           0.27232852879739233,
           0.22994202340318076,
           0.19538822761694566,
           0.17283483917022052,
           0.16500212956224405
          ],
          [
           0.5405670023199846,
           0.5257503787270679,
           0.4830876114236988,
           0.417724459782051,
           0.33754468454748654,
           0.2522191499407484,
           0.1720393747061839,
           0.10667622306453609,
           0.06401345576116699,
           0.0491968321682503
          ],
          [
           0.6297485085491289,
           0.6095535820411673,
           0.5514046086995154,
           0.4623152128966232,
           0.3530308905857694,
           0.23673294390246546,
           0.1274486215916118,
           0.038359225788719586,
           -0.019789747552932446,
           -0.03998467406089401
          ],
          [
           0.6826420236198496,
           0.6592572278405519,
           0.5919233919964708,
           0.48876197043198355,
           0.3622157530881984,
           0.22754808140003652,
           0.10100186405625144,
           -0.002159557508235932,
           -0.06949339335231691,
           -0.09287818913161472
          ],
          [
           0.6935157144467854,
           0.6694751548713308,
           0.6002531224306389,
           0.49419881584545144,
           0.3641039496848094,
           0.2256598848034255,
           0.09556501864278355,
           -0.010489287942403891,
           -0.07971132038309592,
           -0.10375187995855051
          ],
          [
           0.6611912479061405,
           0.6391000921922458,
           0.5754911444603925,
           0.478036582575129,
           0.35849086497597077,
           0.23127296951226414,
           0.11172725191310601,
           0.014272690027842483,
           -0.049336257704010844,
           -0.0714274134179056
          ],
          [
           0.5891714815133702,
           0.5714236491622345,
           0.5203208026204837,
           0.44202669937874384,
           0.3459847637858682,
           0.24377907070236676,
           0.14773713510949116,
           0.06944303186775111,
           0.018340185326000402,
           0.0005923529748647627
          ],
          [
           0.48526087445894694,
           0.4737796184918089,
           0.44072065950532324,
           0.3900713958515322,
           0.3279408762306031,
           0.2618229582576318,
           0.19969243863670275,
           0.14904317498291167,
           0.11598421599642603,
           0.10450296002928797
          ],
          [
           0.36071975335641104,
           0.35674924600735175,
           0.34531662574491795,
           0.32780083530026427,
           0.30631453750655124,
           0.28344929698168364,
           0.26196299918797067,
           0.24444720874331693,
           0.23301458848088313,
           0.22904408113182384
          ],
          [
           0.22904408113182392,
           0.23301458848088322,
           0.24444720874331702,
           0.26196299918797067,
           0.28344929698168364,
           0.30631453750655124,
           0.32780083530026416,
           0.34531662574491784,
           0.35674924600735164,
           0.36071975335641093
          ],
          [
           0.10450296002928805,
           0.11598421599642608,
           0.14904317498291172,
           0.19969243863670272,
           0.2618229582576318,
           0.3279408762306031,
           0.3900713958515321,
           0.44072065950532313,
           0.4737796184918088,
           0.48526087445894683
          ],
          [
           0.0005923529748649292,
           0.018340185326000513,
           0.06944303186775122,
           0.14773713510949116,
           0.24377907070236673,
           0.3459847637858681,
           0.4420266993787436,
           0.5203208026204836,
           0.5714236491622343,
           0.58917148151337
          ],
          [
           -0.07142741341790548,
           -0.04933625770401079,
           0.014272690027842538,
           0.11172725191310595,
           0.23127296951226411,
           0.3584908649759707,
           0.4780365825751288,
           0.5754911444603923,
           0.6391000921922456,
           0.6611912479061404
          ],
          [
           -0.10375187995855051,
           -0.07971132038309592,
           -0.010489287942403946,
           0.09556501864278341,
           0.22565988480342547,
           0.3641039496848094,
           0.49419881584545133,
           0.6002531224306388,
           0.6694751548713308,
           0.6935157144467854
          ],
          [
           -0.09287818913161477,
           -0.06949339335231702,
           -0.002159557508236043,
           0.10100186405625128,
           0.22754808140003646,
           0.36221575308819837,
           0.48876197043198344,
           0.5919233919964708,
           0.6592572278405519,
           0.6826420236198496
          ],
          [
           -0.039984674060894065,
           -0.019789747552932502,
           0.038359225788719475,
           0.12744862159161166,
           0.23673294390246544,
           0.3530308905857694,
           0.46231521289662314,
           0.5514046086995154,
           0.6095535820411674,
           0.629748508549129
          ],
          [
           0.049196832168250215,
           0.06401345576116688,
           0.106676223064536,
           0.1720393747061838,
           0.25221914994074834,
           0.33754468454748654,
           0.41772445978205097,
           0.4830876114236988,
           0.525750378727068,
           0.5405670023199847
          ],
          [
           0.16500212956224394,
           0.17283483917022038,
           0.19538822761694558,
           0.22994202340318068,
           0.2723285287973923,
           0.3174353056908426,
           0.3598218110850542,
           0.3943756068712893,
           0.4169289953180145,
           0.42476170492599097
          ],
          [
           0.29488191724411733,
           0.29488191724411733,
           0.2948819172441174,
           0.2948819172441174,
           0.29488191724411744,
           0.29488191724411744,
           0.2948819172441175,
           0.2948819172441175,
           0.29488191724411755,
           0.29488191724411755
          ]
         ],
         "y": [
          [
           -0.4890236193205836,
           -0.4890236193205836,
           -0.4890236193205836,
           -0.4890236193205836,
           -0.4890236193205836,
           -0.4890236193205836,
           -0.4890236193205836,
           -0.4890236193205836,
           -0.4890236193205836,
           -0.4890236193205836
          ],
          [
           -0.4890236193205836,
           -0.44460211572252184,
           -0.405538501049957,
           -0.376544423749952,
           -0.3611169974518952,
           -0.3611169974518952,
           -0.376544423749952,
           -0.4055385010499569,
           -0.4446021157225218,
           -0.4890236193205836
          ],
          [
           -0.4890236193205836,
           -0.4049943713099564,
           -0.3311002907490329,
           -0.2762540943139416,
           -0.2470710427384057,
           -0.2470710427384057,
           -0.27625409431394155,
           -0.33110029074903286,
           -0.40499437130995636,
           -0.4890236193205835
          ],
          [
           -0.4890236193205836,
           -0.37449249976746546,
           -0.27377552353175605,
           -0.19902064437174244,
           -0.15924440397863787,
           -0.15924440397863787,
           -0.19902064437174244,
           -0.27377552353175594,
           -0.37449249976746535,
           -0.4890236193205835
          ],
          [
           -0.4890236193205836,
           -0.3564018521619791,
           -0.23977622741152851,
           -0.1532135166250433,
           -0.10715446025292402,
           -0.10715446025292402,
           -0.15321351662504323,
           -0.23977622741152843,
           -0.35640185216197906,
           -0.4890236193205835
          ],
          [
           -0.4890236193205836,
           -0.3526828308668715,
           -0.232786753676412,
           -0.14379662413601907,
           -0.09644596522269994,
           -0.09644596522269994,
           -0.143796624136019,
           -0.23278675367641194,
           -0.35268283086687147,
           -0.4890236193205835
          ],
          [
           -0.4890236193205836,
           -0.3637384495460287,
           -0.25356452025846565,
           -0.17179043332399763,
           -0.12827935048391076,
           -0.12827935048391076,
           -0.17179043332399763,
           -0.2535645202584656,
           -0.36373844954602863,
           -0.4890236193205835
          ],
          [
           -0.4890236193205836,
           -0.3883706603699652,
           -0.2998579337482575,
           -0.23416138059475755,
           -0.19920497479763905,
           -0.19920497479763905,
           -0.2341613805947575,
           -0.2998579337482574,
           -0.38837066036996515,
           -0.4890236193205835
          ],
          [
           -0.4890236193205836,
           -0.4239101810877762,
           -0.3666503844778474,
           -0.32415060602655055,
           -0.30153694624504007,
           -0.30153694624504007,
           -0.3241506060265505,
           -0.36665038447784737,
           -0.4239101810877762,
           -0.4890236193205836
          ],
          [
           -0.4890236193205836,
           -0.46650575317720505,
           -0.4467038740190282,
           -0.4320063807171408,
           -0.4241860078756497,
           -0.4241860078756497,
           -0.4320063807171408,
           -0.4467038740190282,
           -0.466505753177205,
           -0.4890236193205836
          ],
          [
           -0.4890236193205836,
           -0.511541485463962,
           -0.5313433646221388,
           -0.5460408579240262,
           -0.5538612307655174,
           -0.5538612307655174,
           -0.5460408579240262,
           -0.5313433646221388,
           -0.5115414854639622,
           -0.4890236193205836
          ],
          [
           -0.4890236193205836,
           -0.5541370575533908,
           -0.6113968541633197,
           -0.6538966326146165,
           -0.676510292396127,
           -0.676510292396127,
           -0.6538966326146166,
           -0.6113968541633197,
           -0.5541370575533909,
           -0.4890236193205836
          ],
          [
           -0.4890236193205836,
           -0.5896765782712019,
           -0.6781893048929095,
           -0.7438858580464095,
           -0.778842263843528,
           -0.778842263843528,
           -0.7438858580464095,
           -0.6781893048929096,
           -0.589676578271202,
           -0.48902361932058364
          ],
          [
           -0.4890236193205836,
           -0.6143087890951384,
           -0.7244827183827014,
           -0.8062568053171695,
           -0.8497678881572563,
           -0.8497678881572563,
           -0.8062568053171695,
           -0.7244827183827015,
           -0.6143087890951385,
           -0.48902361932058364
          ],
          [
           -0.4890236193205836,
           -0.6253644077742957,
           -0.7452604849647552,
           -0.834250614505148,
           -0.8816012734184673,
           -0.8816012734184673,
           -0.8342506145051481,
           -0.7452604849647553,
           -0.6253644077742957,
           -0.48902361932058364
          ],
          [
           -0.4890236193205836,
           -0.6216453864791881,
           -0.7382710112296387,
           -0.8248337220161239,
           -0.8708927783882432,
           -0.8708927783882432,
           -0.8248337220161239,
           -0.7382710112296388,
           -0.6216453864791881,
           -0.48902361932058364
          ],
          [
           -0.4890236193205836,
           -0.6035547388737017,
           -0.7042717151094111,
           -0.7790265942694248,
           -0.8188028346625293,
           -0.8188028346625293,
           -0.7790265942694248,
           -0.7042717151094112,
           -0.6035547388737018,
           -0.48902361932058364
          ],
          [
           -0.4890236193205836,
           -0.5730528673312107,
           -0.6469469478921344,
           -0.7017931443272256,
           -0.7309761959027615,
           -0.7309761959027615,
           -0.7017931443272256,
           -0.6469469478921344,
           -0.5730528673312109,
           -0.48902361932058364
          ],
          [
           -0.4890236193205836,
           -0.5334451229186454,
           -0.5725087375912102,
           -0.6015028148912153,
           -0.6169302411892721,
           -0.6169302411892721,
           -0.6015028148912153,
           -0.5725087375912103,
           -0.5334451229186454,
           -0.4890236193205836
          ],
          [
           -0.4890236193205836,
           -0.48902361932058364,
           -0.48902361932058364,
           -0.4890236193205837,
           -0.4890236193205837,
           -0.4890236193205837,
           -0.4890236193205837,
           -0.48902361932058364,
           -0.48902361932058364,
           -0.4890236193205836
          ]
         ],
         "z": [
          [
           -0.30677172832528177,
           -0.30677172832528177,
           -0.30677172832528177,
           -0.30677172832528177,
           -0.30677172832528177,
           -0.30677172832528177,
           -0.30677172832528177,
           -0.30677172832528177,
           -0.30677172832528177,
           -0.30677172832528177
          ],
          [
           -0.3284448316450279,
           -0.3284448316450279,
           -0.3284448316450279,
           -0.3284448316450279,
           -0.3284448316450279,
           -0.3284448316450279,
           -0.3284448316450279,
           -0.3284448316450279,
           -0.3284448316450279,
           -0.3284448316450279
          ],
          [
           -0.3911155245667243,
           -0.3911155245667243,
           -0.3911155245667243,
           -0.3911155245667243,
           -0.3911155245667243,
           -0.3911155245667243,
           -0.3911155245667243,
           -0.3911155245667243,
           -0.3911155245667243,
           -0.3911155245667243
          ],
          [
           -0.487992465076311,
           -0.487992465076311,
           -0.487992465076311,
           -0.487992465076311,
           -0.487992465076311,
           -0.487992465076311,
           -0.487992465076311,
           -0.487992465076311,
           -0.487992465076311,
           -0.487992465076311
          ],
          [
           -0.608577533468962,
           -0.608577533468962,
           -0.608577533468962,
           -0.608577533468962,
           -0.608577533468962,
           -0.608577533468962,
           -0.608577533468962,
           -0.608577533468962,
           -0.608577533468962,
           -0.608577533468962
          ],
          [
           -0.7398034665142147,
           -0.7398034665142147,
           -0.7398034665142147,
           -0.7398034665142147,
           -0.7398034665142147,
           -0.7398034665142147,
           -0.7398034665142147,
           -0.7398034665142147,
           -0.7398034665142147,
           -0.7398034665142147
          ],
          [
           -0.8674498981864696,
           -0.8674498981864696,
           -0.8674498981864696,
           -0.8674498981864696,
           -0.8674498981864696,
           -0.8674498981864696,
           -0.8674498981864696,
           -0.8674498981864696,
           -0.8674498981864696,
           -0.8674498981864696
          ],
          [
           -0.9776843569755782,
           -0.9776843569755782,
           -0.9776843569755782,
           -0.9776843569755782,
           -0.9776843569755782,
           -0.9776843569755782,
           -0.9776843569755782,
           -0.9776843569755782,
           -0.9776843569755782,
           -0.9776843569755782
          ],
          [
           -1.0585612288078774,
           -1.0585612288078774,
           -1.0585612288078774,
           -1.0585612288078774,
           -1.0585612288078774,
           -1.0585612288078774,
           -1.0585612288078774,
           -1.0585612288078774,
           -1.0585612288078774,
           -1.0585612288078774
          ],
          [
           -1.1013162496863709,
           -1.1013162496863709,
           -1.1013162496863709,
           -1.1013162496863709,
           -1.1013162496863709,
           -1.1013162496863709,
           -1.1013162496863709,
           -1.1013162496863709,
           -1.1013162496863709,
           -1.1013162496863709
          ],
          [
           -1.1013162496863709,
           -1.1013162496863709,
           -1.1013162496863709,
           -1.1013162496863709,
           -1.1013162496863709,
           -1.1013162496863709,
           -1.1013162496863709,
           -1.1013162496863709,
           -1.1013162496863709,
           -1.1013162496863709
          ],
          [
           -1.0585612288078774,
           -1.0585612288078774,
           -1.0585612288078774,
           -1.0585612288078774,
           -1.0585612288078774,
           -1.0585612288078774,
           -1.0585612288078774,
           -1.0585612288078774,
           -1.0585612288078774,
           -1.0585612288078774
          ],
          [
           -0.9776843569755784,
           -0.9776843569755784,
           -0.9776843569755784,
           -0.9776843569755784,
           -0.9776843569755784,
           -0.9776843569755784,
           -0.9776843569755784,
           -0.9776843569755784,
           -0.9776843569755784,
           -0.9776843569755784
          ],
          [
           -0.8674498981864698,
           -0.8674498981864698,
           -0.8674498981864698,
           -0.8674498981864698,
           -0.8674498981864698,
           -0.8674498981864698,
           -0.8674498981864698,
           -0.8674498981864698,
           -0.8674498981864698,
           -0.8674498981864698
          ],
          [
           -0.7398034665142149,
           -0.7398034665142149,
           -0.7398034665142149,
           -0.7398034665142149,
           -0.7398034665142149,
           -0.7398034665142149,
           -0.7398034665142149,
           -0.7398034665142149,
           -0.7398034665142149,
           -0.7398034665142149
          ],
          [
           -0.6085775334689623,
           -0.6085775334689623,
           -0.6085775334689623,
           -0.6085775334689623,
           -0.6085775334689623,
           -0.6085775334689623,
           -0.6085775334689623,
           -0.6085775334689623,
           -0.6085775334689623,
           -0.6085775334689623
          ],
          [
           -0.4879924650763111,
           -0.4879924650763111,
           -0.4879924650763111,
           -0.4879924650763111,
           -0.4879924650763111,
           -0.4879924650763111,
           -0.4879924650763111,
           -0.4879924650763111,
           -0.4879924650763111,
           -0.4879924650763111
          ],
          [
           -0.39111552456672444,
           -0.39111552456672444,
           -0.39111552456672444,
           -0.39111552456672444,
           -0.39111552456672444,
           -0.39111552456672444,
           -0.39111552456672444,
           -0.39111552456672444,
           -0.39111552456672444,
           -0.39111552456672444
          ],
          [
           -0.3284448316450279,
           -0.3284448316450279,
           -0.3284448316450279,
           -0.3284448316450279,
           -0.3284448316450279,
           -0.3284448316450279,
           -0.3284448316450279,
           -0.3284448316450279,
           -0.3284448316450279,
           -0.3284448316450279
          ],
          [
           -0.30677172832528177,
           -0.30677172832528177,
           -0.30677172832528177,
           -0.30677172832528177,
           -0.30677172832528177,
           -0.30677172832528177,
           -0.30677172832528177,
           -0.30677172832528177,
           -0.30677172832528177,
           -0.30677172832528177
          ]
         ]
        },
        {
         "opacity": 0.8,
         "type": "surface",
         "x": [
          [
           0.41083218704320623,
           0.41083218704320623,
           0.41083218704320623,
           0.41083218704320623,
           0.41083218704320623,
           0.41083218704320623,
           0.41083218704320623,
           0.41083218704320623,
           0.41083218704320623,
           0.41083218704320623
          ],
          [
           0.5407119747250796,
           0.5328792651171032,
           0.510325876670378,
           0.4757720808841429,
           0.4333855754899314,
           0.38827879859648107,
           0.34589229320226955,
           0.3113384974160345,
           0.2887851089693093,
           0.28095239936133287
          ],
          [
           0.6565172721190734,
           0.6417006485261567,
           0.5990378812227877,
           0.5336747295811398,
           0.45349495434657533,
           0.3681694197398372,
           0.2879896445052727,
           0.22262649286362488,
           0.17996372556025578,
           0.1651471019673391
          ],
          [
           0.7456987783482176,
           0.7255038518402561,
           0.6673548784986041,
           0.578265482695712,
           0.46898116038485826,
           0.35268321370155425,
           0.2433988913907006,
           0.15430949558780838,
           0.09616052224615634,
           0.07596559573819478
          ],
          [
           0.7985922934189384,
           0.7752074976396406,
           0.7078736617955597,
           0.6047122402310724,
           0.4781660228872872,
           0.3434983511991253,
           0.21695213385534023,
           0.11379071229085286,
           0.04645687644677188,
           0.02307208066747407
          ],
          [
           0.8094659842458742,
           0.7854254246704195,
           0.7162033922297276,
           0.6101490856445403,
           0.4800542194838982,
           0.3416101546025143,
           0.21151528844187234,
           0.1054609818566849,
           0.03623894941599287,
           0.012198389840538282
          ],
          [
           0.7771415177052292,
           0.7550503619913346,
           0.6914414142594812,
           0.5939868523742178,
           0.47444113477505956,
           0.3472232393113529,
           0.2276775217121948,
           0.13022295982693127,
           0.06661401209507795,
           0.044522856381183196
          ],
          [
           0.7051217513124589,
           0.6873739189613233,
           0.6362710724195726,
           0.5579769691778326,
           0.46193503358495697,
           0.35972934050145555,
           0.26368740490857995,
           0.1853933016668399,
           0.1342904551250892,
           0.11654262277395355
          ],
          [
           0.6012111442580357,
           0.5897298882908977,
           0.5566709293044121,
           0.506021665650621,
           0.4438911460296919,
           0.3777732280567206,
           0.31564270843579156,
           0.2649934447820005,
           0.23193448579551482,
           0.22045322982837676
          ],
          [
           0.47667002315549983,
           0.47269951580644054,
           0.46126689554400674,
           0.44375110509935306,
           0.42226480730564003,
           0.39939956678077243,
           0.37791326898705946,
           0.3603974785424057,
           0.3489648582799719,
           0.34499435093091263
          ],
          [
           0.3449943509309127,
           0.34896485827997203,
           0.3603974785424058,
           0.37791326898705946,
           0.39939956678077243,
           0.42226480730564003,
           0.443751105099353,
           0.4612668955440067,
           0.47269951580644043,
           0.4766700231554998
          ],
          [
           0.22045322982837684,
           0.23193448579551487,
           0.2649934447820005,
           0.3156427084357915,
           0.3777732280567206,
           0.4438911460296918,
           0.5060216656506209,
           0.5566709293044119,
           0.5897298882908976,
           0.6012111442580357
          ],
          [
           0.11654262277395372,
           0.1342904551250893,
           0.18539330166684,
           0.26368740490857995,
           0.35972934050145555,
           0.4619350335849569,
           0.5579769691778325,
           0.6362710724195724,
           0.687373918961323,
           0.7051217513124588
          ],
          [
           0.04452285638118331,
           0.066614012095078,
           0.13022295982693133,
           0.22767752171219474,
           0.3472232393113529,
           0.4744411347750595,
           0.5939868523742176,
           0.6914414142594811,
           0.7550503619913345,
           0.7771415177052292
          ],
          [
           0.012198389840538282,
           0.03623894941599287,
           0.10546098185668484,
           0.2115152884418722,
           0.34161015460251426,
           0.48005421948389815,
           0.6101490856445402,
           0.7162033922297275,
           0.7854254246704195,
           0.8094659842458742
          ],
          [
           0.023072080667474015,
           0.04645687644677177,
           0.11379071229085275,
           0.21695213385534007,
           0.34349835119912525,
           0.47816602288728716,
           0.6047122402310723,
           0.7078736617955597,
           0.7752074976396406,
           0.7985922934189384
          ],
          [
           0.07596559573819472,
           0.09616052224615629,
           0.15430949558780827,
           0.24339889139070045,
           0.3526832137015542,
           0.4689811603848582,
           0.5782654826957119,
           0.6673548784986041,
           0.7255038518402561,
           0.7456987783482177
          ],
          [
           0.165147101967339,
           0.17996372556025567,
           0.2226264928636248,
           0.2879896445052726,
           0.36816941973983713,
           0.45349495434657533,
           0.5336747295811398,
           0.5990378812227877,
           0.6417006485261567,
           0.6565172721190735
          ],
          [
           0.28095239936133276,
           0.2887851089693092,
           0.31133849741603437,
           0.34589229320226944,
           0.38827879859648107,
           0.4333855754899314,
           0.47577208088414297,
           0.5103258766703781,
           0.5328792651171033,
           0.5407119747250797
          ],
          [
           0.4108321870432061,
           0.4108321870432061,
           0.4108321870432062,
           0.4108321870432062,
           0.41083218704320623,
           0.41083218704320623,
           0.4108321870432063,
           0.4108321870432063,
           0.41083218704320634,
           0.41083218704320634
          ]
         ],
         "y": [
          [
           0.9462914156963462,
           0.9462914156963462,
           0.9462914156963462,
           0.9462914156963462,
           0.9462914156963462,
           0.9462914156963462,
           0.9462914156963462,
           0.9462914156963462,
           0.9462914156963462,
           0.9462914156963462
          ],
          [
           0.9462914156963462,
           0.990712919294408,
           1.0297765339669729,
           1.0587706112669777,
           1.0741980375650346,
           1.0741980375650346,
           1.058770611266978,
           1.0297765339669729,
           0.990712919294408,
           0.9462914156963462
          ],
          [
           0.9462914156963462,
           1.0303206637069735,
           1.104214744267897,
           1.1590609407029882,
           1.1882439922785242,
           1.1882439922785242,
           1.1590609407029882,
           1.104214744267897,
           1.0303206637069735,
           0.9462914156963462
          ],
          [
           0.9462914156963462,
           1.0608225352494645,
           1.1615395114851739,
           1.2362943906451873,
           1.2760706310382919,
           1.2760706310382919,
           1.2362943906451873,
           1.1615395114851739,
           1.0608225352494645,
           0.9462914156963462
          ],
          [
           0.9462914156963462,
           1.0789131828549507,
           1.1955388076054012,
           1.2821015183918865,
           1.3281605747640057,
           1.3281605747640057,
           1.2821015183918867,
           1.1955388076054014,
           1.0789131828549507,
           0.9462914156963462
          ],
          [
           0.9462914156963462,
           1.0826322041500582,
           1.2025282813405178,
           1.2915184108809108,
           1.3388690697942298,
           1.3388690697942298,
           1.2915184108809108,
           1.2025282813405178,
           1.0826322041500585,
           0.9462914156963462
          ],
          [
           0.9462914156963462,
           1.0715765854709012,
           1.1817505147584642,
           1.2635246016929322,
           1.307035684533019,
           1.307035684533019,
           1.2635246016929322,
           1.1817505147584642,
           1.0715765854709012,
           0.9462914156963462
          ],
          [
           0.9462914156963462,
           1.0469443746469647,
           1.1354571012686723,
           1.2011536544221721,
           1.2361100602192907,
           1.2361100602192907,
           1.2011536544221724,
           1.1354571012686723,
           1.0469443746469647,
           0.9462914156963462
          ],
          [
           0.9462914156963462,
           1.0114048539291536,
           1.0686646505390824,
           1.1111644289903793,
           1.1337780887718898,
           1.1337780887718898,
           1.1111644289903793,
           1.0686646505390824,
           1.0114048539291536,
           0.9462914156963462
          ],
          [
           0.9462914156963462,
           0.9688092818397248,
           0.9886111609979016,
           1.003308654299789,
           1.01112902714128,
           1.01112902714128,
           1.003308654299789,
           0.9886111609979016,
           0.9688092818397248,
           0.9462914156963462
          ],
          [
           0.9462914156963462,
           0.9237735495529678,
           0.903971670394791,
           0.8892741770929036,
           0.8814538042514124,
           0.8814538042514124,
           0.8892741770929036,
           0.903971670394791,
           0.9237735495529678,
           0.9462914156963462
          ],
          [
           0.9462914156963462,
           0.8811779774635389,
           0.8239181808536101,
           0.7814184024023132,
           0.7588047426208028,
           0.7588047426208028,
           0.7814184024023132,
           0.82391818085361,
           0.8811779774635389,
           0.9462914156963462
          ],
          [
           0.9462914156963462,
           0.8456384567457279,
           0.7571257301240202,
           0.6914291769705203,
           0.6564727711734019,
           0.6564727711734019,
           0.6914291769705203,
           0.7571257301240202,
           0.8456384567457278,
           0.9462914156963462
          ],
          [
           0.9462914156963462,
           0.8210062459217914,
           0.7108323166342284,
           0.6290582296997604,
           0.5855471468596736,
           0.5855471468596736,
           0.6290582296997603,
           0.7108323166342283,
           0.8210062459217913,
           0.9462914156963462
          ],
          [
           0.9462914156963462,
           0.8099506272426342,
           0.6900545500521746,
           0.6010644205117817,
           0.5537137615984626,
           0.5537137615984626,
           0.6010644205117817,
           0.6900545500521746,
           0.8099506272426341,
           0.9462914156963462
          ],
          [
           0.9462914156963462,
           0.8136696485377417,
           0.6970440237872911,
           0.6104813130008059,
           0.5644222566286866,
           0.5644222566286866,
           0.6104813130008058,
           0.697044023787291,
           0.8136696485377417,
           0.9462914156963462
          ],
          [
           0.9462914156963462,
           0.8317602961432281,
           0.7310433199075186,
           0.6562884407475051,
           0.6165122003544005,
           0.6165122003544005,
           0.656288440747505,
           0.7310433199075186,
           0.831760296143228,
           0.9462914156963462
          ],
          [
           0.9462914156963462,
           0.862262167685719,
           0.7883680871247956,
           0.7335218906897042,
           0.7043388391141683,
           0.7043388391141683,
           0.7335218906897041,
           0.7883680871247954,
           0.862262167685719,
           0.9462914156963462
          ],
          [
           0.9462914156963462,
           0.9018699120982845,
           0.8628062974257196,
           0.8338122201257145,
           0.8183847938276577,
           0.8183847938276577,
           0.8338122201257145,
           0.8628062974257195,
           0.9018699120982844,
           0.9462914156963462
          ],
          [
           0.9462914156963462,
           0.9462914156963462,
           0.9462914156963461,
           0.9462914156963461,
           0.9462914156963461,
           0.9462914156963461,
           0.9462914156963461,
           0.9462914156963461,
           0.9462914156963462,
           0.9462914156963462
          ]
         ],
         "z": [
          [
           0.20261829430883396,
           0.20261829430883396,
           0.20261829430883396,
           0.20261829430883396,
           0.20261829430883396,
           0.20261829430883396,
           0.20261829430883396,
           0.20261829430883396,
           0.20261829430883396,
           0.20261829430883396
          ],
          [
           0.18094519098908782,
           0.18094519098908782,
           0.18094519098908782,
           0.18094519098908782,
           0.18094519098908782,
           0.18094519098908782,
           0.18094519098908782,
           0.18094519098908782,
           0.18094519098908782,
           0.18094519098908782
          ],
          [
           0.1182744980673914,
           0.1182744980673914,
           0.1182744980673914,
           0.1182744980673914,
           0.1182744980673914,
           0.1182744980673914,
           0.1182744980673914,
           0.1182744980673914,
           0.1182744980673914,
           0.1182744980673914
          ],
          [
           0.02139755755780473,
           0.02139755755780473,
           0.02139755755780473,
           0.02139755755780473,
           0.02139755755780473,
           0.02139755755780473,
           0.02139755755780473,
           0.02139755755780473,
           0.02139755755780473,
           0.02139755755780473
          ],
          [
           -0.09918751083484637,
           -0.09918751083484637,
           -0.09918751083484637,
           -0.09918751083484637,
           -0.09918751083484637,
           -0.09918751083484637,
           -0.09918751083484637,
           -0.09918751083484637,
           -0.09918751083484637,
           -0.09918751083484637
          ],
          [
           -0.23041344388009896,
           -0.23041344388009896,
           -0.23041344388009896,
           -0.23041344388009896,
           -0.23041344388009896,
           -0.23041344388009896,
           -0.23041344388009896,
           -0.23041344388009896,
           -0.23041344388009896,
           -0.23041344388009896
          ],
          [
           -0.35805987555235375,
           -0.35805987555235375,
           -0.35805987555235375,
           -0.35805987555235375,
           -0.35805987555235375,
           -0.35805987555235375,
           -0.35805987555235375,
           -0.35805987555235375,
           -0.35805987555235375,
           -0.35805987555235375
          ],
          [
           -0.4682943343414624,
           -0.4682943343414624,
           -0.4682943343414624,
           -0.4682943343414624,
           -0.4682943343414624,
           -0.4682943343414624,
           -0.4682943343414624,
           -0.4682943343414624,
           -0.4682943343414624,
           -0.4682943343414624
          ],
          [
           -0.5491712061737617,
           -0.5491712061737617,
           -0.5491712061737617,
           -0.5491712061737617,
           -0.5491712061737617,
           -0.5491712061737617,
           -0.5491712061737617,
           -0.5491712061737617,
           -0.5491712061737617,
           -0.5491712061737617
          ],
          [
           -0.5919262270522551,
           -0.5919262270522551,
           -0.5919262270522551,
           -0.5919262270522551,
           -0.5919262270522551,
           -0.5919262270522551,
           -0.5919262270522551,
           -0.5919262270522551,
           -0.5919262270522551,
           -0.5919262270522551
          ],
          [
           -0.5919262270522551,
           -0.5919262270522551,
           -0.5919262270522551,
           -0.5919262270522551,
           -0.5919262270522551,
           -0.5919262270522551,
           -0.5919262270522551,
           -0.5919262270522551,
           -0.5919262270522551,
           -0.5919262270522551
          ],
          [
           -0.5491712061737617,
           -0.5491712061737617,
           -0.5491712061737617,
           -0.5491712061737617,
           -0.5491712061737617,
           -0.5491712061737617,
           -0.5491712061737617,
           -0.5491712061737617,
           -0.5491712061737617,
           -0.5491712061737617
          ],
          [
           -0.4682943343414626,
           -0.4682943343414626,
           -0.4682943343414626,
           -0.4682943343414626,
           -0.4682943343414626,
           -0.4682943343414626,
           -0.4682943343414626,
           -0.4682943343414626,
           -0.4682943343414626,
           -0.4682943343414626
          ],
          [
           -0.358059875552354,
           -0.358059875552354,
           -0.358059875552354,
           -0.358059875552354,
           -0.358059875552354,
           -0.358059875552354,
           -0.358059875552354,
           -0.358059875552354,
           -0.358059875552354,
           -0.358059875552354
          ],
          [
           -0.23041344388009916,
           -0.23041344388009916,
           -0.23041344388009916,
           -0.23041344388009916,
           -0.23041344388009916,
           -0.23041344388009916,
           -0.23041344388009916,
           -0.23041344388009916,
           -0.23041344388009916,
           -0.23041344388009916
          ],
          [
           -0.09918751083484653,
           -0.09918751083484653,
           -0.09918751083484653,
           -0.09918751083484653,
           -0.09918751083484653,
           -0.09918751083484653,
           -0.09918751083484653,
           -0.09918751083484653,
           -0.09918751083484653,
           -0.09918751083484653
          ],
          [
           0.021397557557804592,
           0.021397557557804592,
           0.021397557557804592,
           0.021397557557804592,
           0.021397557557804592,
           0.021397557557804592,
           0.021397557557804592,
           0.021397557557804592,
           0.021397557557804592,
           0.021397557557804592
          ],
          [
           0.11827449806739129,
           0.11827449806739129,
           0.11827449806739129,
           0.11827449806739129,
           0.11827449806739129,
           0.11827449806739129,
           0.11827449806739129,
           0.11827449806739129,
           0.11827449806739129,
           0.11827449806739129
          ],
          [
           0.18094519098908782,
           0.18094519098908782,
           0.18094519098908782,
           0.18094519098908782,
           0.18094519098908782,
           0.18094519098908782,
           0.18094519098908782,
           0.18094519098908782,
           0.18094519098908782,
           0.18094519098908782
          ],
          [
           0.20261829430883396,
           0.20261829430883396,
           0.20261829430883396,
           0.20261829430883396,
           0.20261829430883396,
           0.20261829430883396,
           0.20261829430883396,
           0.20261829430883396,
           0.20261829430883396,
           0.20261829430883396
          ]
         ]
        },
        {
         "opacity": 0.8,
         "type": "surface",
         "x": [
          [
           0.5084550380727375,
           0.5084550380727375,
           0.5084550380727375,
           0.5084550380727375,
           0.5084550380727375,
           0.5084550380727375,
           0.5084550380727375,
           0.5084550380727375,
           0.5084550380727375,
           0.5084550380727375
          ],
          [
           0.6383348257546109,
           0.6305021161466344,
           0.6079487276999093,
           0.5733949319136742,
           0.5310084265194627,
           0.48590164962601234,
           0.44351514423180083,
           0.40896134844556575,
           0.3864079599988406,
           0.37857525039086415
          ],
          [
           0.7541401231486047,
           0.739323499555688,
           0.6966607322523188,
           0.6312975806106711,
           0.5511178053761066,
           0.46579227076936847,
           0.385612495534804,
           0.3202493438931562,
           0.277586576589787,
           0.26276995299687034
          ],
          [
           0.843321629377749,
           0.8231267028697874,
           0.7649777295281355,
           0.6758883337252433,
           0.5666040114143895,
           0.45030606473108553,
           0.34102174242023187,
           0.25193234661733965,
           0.19378337327568762,
           0.17358844676772606
          ],
          [
           0.8962151444484696,
           0.872830348669172,
           0.8054965128250909,
           0.7023350912606037,
           0.5757888739168184,
           0.4411212022286566,
           0.3145749848848715,
           0.21141356332038413,
           0.14407972747630315,
           0.12069493169700535
          ],
          [
           0.9070888352754054,
           0.8830482756999509,
           0.8138262432592589,
           0.7077719366740716,
           0.5776770705134295,
           0.4392330056320456,
           0.3091381394714036,
           0.20308383288621618,
           0.13386180044552415,
           0.10982124087006956
          ],
          [
           0.8747643687347606,
           0.8526732130208658,
           0.7890642652890125,
           0.691609703403749,
           0.5720639858045908,
           0.4448460903408842,
           0.3253003727417261,
           0.22784581085646255,
           0.16423686312460922,
           0.14214570741071447
          ],
          [
           0.8027446023419902,
           0.7849967699908547,
           0.7338939234491039,
           0.6555998202073638,
           0.5595578846144882,
           0.45735219153098683,
           0.3613102559381112,
           0.28301615269637115,
           0.23191330615462047,
           0.21416547380348483
          ],
          [
           0.698833995287567,
           0.687352739320429,
           0.6542937803339433,
           0.6036445166801523,
           0.5415139970592232,
           0.47539607908625187,
           0.41326555946532284,
           0.36261629581153176,
           0.32955733682504607,
           0.31807608085790806
          ],
          [
           0.5742928741850312,
           0.5703223668359718,
           0.558889746573538,
           0.5413739561288843,
           0.5198876583351714,
           0.4970224178103037,
           0.47553612001659074,
           0.458020329571937,
           0.4465877093095032,
           0.4426172019604439
          ],
          [
           0.44261720196044396,
           0.4465877093095033,
           0.45802032957193706,
           0.47553612001659074,
           0.4970224178103037,
           0.5198876583351713,
           0.5413739561288843,
           0.558889746573538,
           0.5703223668359717,
           0.574292874185031
          ],
          [
           0.3180760808579081,
           0.3295573368250462,
           0.36261629581153176,
           0.4132655594653228,
           0.47539607908625187,
           0.5415139970592231,
           0.6036445166801522,
           0.6542937803339433,
           0.6873527393204288,
           0.6988339952875668
          ],
          [
           0.214165473803485,
           0.23191330615462058,
           0.28301615269637126,
           0.3613102559381112,
           0.45735219153098683,
           0.5595578846144882,
           0.6555998202073637,
           0.7338939234491038,
           0.7849967699908544,
           0.80274460234199
          ],
          [
           0.14214570741071458,
           0.16423686312460928,
           0.2278458108564626,
           0.325300372741726,
           0.4448460903408842,
           0.5720639858045908,
           0.6916097034037489,
           0.7890642652890124,
           0.8526732130208657,
           0.8747643687347604
          ],
          [
           0.10982124087006956,
           0.13386180044552415,
           0.20308383288621612,
           0.30913813947140345,
           0.43923300563204554,
           0.5776770705134294,
           0.7077719366740713,
           0.8138262432592589,
           0.8830482756999509,
           0.9070888352754054
          ],
          [
           0.12069493169700529,
           0.14407972747630304,
           0.21141356332038402,
           0.31457498488487134,
           0.44112120222865653,
           0.5757888739168184,
           0.7023350912606036,
           0.8054965128250909,
           0.872830348669172,
           0.8962151444484697
          ],
          [
           0.173588446767726,
           0.19378337327568756,
           0.25193234661733954,
           0.34102174242023175,
           0.4503060647310855,
           0.5666040114143895,
           0.6758883337252432,
           0.7649777295281355,
           0.8231267028697875,
           0.843321629377749
          ],
          [
           0.2627699529968703,
           0.2775865765897869,
           0.32024934389315607,
           0.38561249553480387,
           0.4657922707693684,
           0.5511178053761066,
           0.6312975806106711,
           0.696660732252319,
           0.7393234995556881,
           0.7541401231486047
          ],
          [
           0.37857525039086404,
           0.3864079599988405,
           0.40896134844556564,
           0.4435151442318007,
           0.48590164962601234,
           0.5310084265194627,
           0.5733949319136742,
           0.6079487276999094,
           0.6305021161466345,
           0.638334825754611
          ],
          [
           0.5084550380727374,
           0.5084550380727374,
           0.5084550380727374,
           0.5084550380727375,
           0.5084550380727375,
           0.5084550380727375,
           0.5084550380727375,
           0.5084550380727376,
           0.5084550380727376,
           0.5084550380727376
          ]
         ],
         "y": [
          [
           0.02905966783801836,
           0.02905966783801836,
           0.02905966783801836,
           0.02905966783801836,
           0.02905966783801836,
           0.02905966783801836,
           0.02905966783801836,
           0.02905966783801836,
           0.02905966783801836,
           0.02905966783801836
          ],
          [
           0.02905966783801836,
           0.07348117143608013,
           0.11254478610864498,
           0.1415388634086499,
           0.15696628970670676,
           0.15696628970670676,
           0.14153886340864993,
           0.112544786108645,
           0.07348117143608014,
           0.029059667838018378
          ],
          [
           0.02905966783801836,
           0.11308891584864555,
           0.18698299640956903,
           0.24182919284466034,
           0.2710122444201962,
           0.2710122444201962,
           0.24182919284466037,
           0.18698299640956909,
           0.1130889158486456,
           0.02905966783801839
          ],
          [
           0.02905966783801836,
           0.1435907873911365,
           0.24430776362684592,
           0.3190626427868595,
           0.35883888317996404,
           0.35883888317996404,
           0.3190626427868595,
           0.244307763626846,
           0.14359078739113657,
           0.029059667838018402
          ],
          [
           0.02905966783801836,
           0.16168143499662282,
           0.2783070597470734,
           0.3648697705335586,
           0.4109288269056779,
           0.4109288269056779,
           0.36486977053355873,
           0.2783070597470735,
           0.16168143499662288,
           0.02905966783801841
          ],
          [
           0.02905966783801836,
           0.16540045629173042,
           0.28529653348219,
           0.37428666302258284,
           0.421637321935902,
           0.421637321935902,
           0.37428666302258295,
           0.28529653348219,
           0.16540045629173047,
           0.02905966783801841
          ],
          [
           0.02905966783801836,
           0.15434483761257325,
           0.26451876690013626,
           0.3462928538346043,
           0.38980393667469115,
           0.38980393667469115,
           0.3462928538346043,
           0.2645187669001363,
           0.1543448376125733,
           0.029059667838018406
          ],
          [
           0.02905966783801836,
           0.12971262678863676,
           0.21822535341034446,
           0.2839219065638444,
           0.31887831236096287,
           0.31887831236096287,
           0.2839219065638444,
           0.21822535341034452,
           0.12971262678863682,
           0.029059667838018395
          ],
          [
           0.02905966783801836,
           0.09417310607082569,
           0.15143290268075454,
           0.19393268113205142,
           0.21654634091356187,
           0.21654634091356187,
           0.19393268113205145,
           0.15143290268075457,
           0.09417310607082573,
           0.029059667838018385
          ],
          [
           0.02905966783801836,
           0.05157753398139691,
           0.07137941313957369,
           0.08607690644146113,
           0.09389727928295225,
           0.09389727928295225,
           0.08607690644146114,
           0.0713794131395737,
           0.05157753398139692,
           0.029059667838018367
          ],
          [
           0.02905966783801836,
           0.0065418016946398455,
           -0.013260077463536905,
           -0.02795757076542433,
           -0.03577794360691543,
           -0.03577794360691543,
           -0.027957570765424336,
           -0.01326007746353692,
           0.006541801694639832,
           0.029059667838018353
          ],
          [
           0.02905966783801836,
           -0.036053770394788937,
           -0.09331356700471775,
           -0.13581334545601462,
           -0.15842700523752506,
           -0.15842700523752506,
           -0.13581334545601464,
           -0.0933135670047178,
           -0.03605377039478898,
           0.029059667838018336
          ],
          [
           0.02905966783801836,
           -0.07159329111259997,
           -0.16010601773430763,
           -0.22580257088780756,
           -0.260758976684926,
           -0.260758976684926,
           -0.22580257088780756,
           -0.1601060177343077,
           -0.07159329111260003,
           0.029059667838018326
          ],
          [
           0.02905966783801836,
           -0.0962255019365365,
           -0.20639943122409948,
           -0.2881735181585675,
           -0.3316846009986544,
           -0.3316846009986544,
           -0.2881735181585675,
           -0.20639943122409957,
           -0.09622550193653656,
           0.029059667838018315
          ],
          [
           0.02905966783801836,
           -0.1072811206156937,
           -0.22717719780615322,
           -0.3161673273465462,
           -0.3635179862598653,
           -0.3635179862598653,
           -0.3161673273465462,
           -0.22717719780615328,
           -0.10728112061569375,
           0.029059667838018312
          ],
          [
           0.02905966783801836,
           -0.10356209932058613,
           -0.22018772407103673,
           -0.30675043485752196,
           -0.3528094912296412,
           -0.3528094912296412,
           -0.30675043485752207,
           -0.22018772407103682,
           -0.10356209932058619,
           0.029059667838018312
          ],
          [
           0.02905966783801836,
           -0.0854714517150998,
           -0.18618842795080923,
           -0.2609433071108228,
           -0.3007195475039274,
           -0.3007195475039274,
           -0.2609433071108228,
           -0.1861884279508093,
           -0.08547145171509986,
           0.02905966783801832
          ],
          [
           0.02905966783801836,
           -0.05496958017260886,
           -0.12886366073353236,
           -0.1837098571686237,
           -0.21289290874415961,
           -0.21289290874415961,
           -0.18370985716862373,
           -0.12886366073353242,
           -0.0549695801726089,
           0.02905966783801833
          ],
          [
           0.02905966783801836,
           -0.015361835760043435,
           -0.054425450432608324,
           -0.0834195277326133,
           -0.09884695403067012,
           -0.09884695403067012,
           -0.08341952773261331,
           -0.054425450432608366,
           -0.015361835760043456,
           0.029059667838018343
          ],
          [
           0.02905966783801836,
           0.029059667838018326,
           0.029059667838018298,
           0.029059667838018277,
           0.029059667838018263,
           0.029059667838018263,
           0.029059667838018277,
           0.029059667838018298,
           0.029059667838018326,
           0.02905966783801836
          ]
         ],
         "z": [
          [
           1.026562361258009,
           1.026562361258009,
           1.026562361258009,
           1.026562361258009,
           1.026562361258009,
           1.026562361258009,
           1.026562361258009,
           1.026562361258009,
           1.026562361258009,
           1.026562361258009
          ],
          [
           1.0048892579382631,
           1.0048892579382631,
           1.0048892579382631,
           1.0048892579382631,
           1.0048892579382631,
           1.0048892579382631,
           1.0048892579382631,
           1.0048892579382631,
           1.0048892579382631,
           1.0048892579382631
          ],
          [
           0.9422185650165666,
           0.9422185650165666,
           0.9422185650165666,
           0.9422185650165666,
           0.9422185650165666,
           0.9422185650165666,
           0.9422185650165666,
           0.9422185650165666,
           0.9422185650165666,
           0.9422185650165666
          ],
          [
           0.8453416245069799,
           0.8453416245069799,
           0.8453416245069799,
           0.8453416245069799,
           0.8453416245069799,
           0.8453416245069799,
           0.8453416245069799,
           0.8453416245069799,
           0.8453416245069799,
           0.8453416245069799
          ],
          [
           0.7247565561143288,
           0.7247565561143288,
           0.7247565561143288,
           0.7247565561143288,
           0.7247565561143288,
           0.7247565561143288,
           0.7247565561143288,
           0.7247565561143288,
           0.7247565561143288,
           0.7247565561143288
          ],
          [
           0.5935306230690762,
           0.5935306230690762,
           0.5935306230690762,
           0.5935306230690762,
           0.5935306230690762,
           0.5935306230690762,
           0.5935306230690762,
           0.5935306230690762,
           0.5935306230690762,
           0.5935306230690762
          ],
          [
           0.4658841913968214,
           0.4658841913968214,
           0.4658841913968214,
           0.4658841913968214,
           0.4658841913968214,
           0.4658841913968214,
           0.4658841913968214,
           0.4658841913968214,
           0.4658841913968214,
           0.4658841913968214
          ],
          [
           0.35564973260771277,
           0.35564973260771277,
           0.35564973260771277,
           0.35564973260771277,
           0.35564973260771277,
           0.35564973260771277,
           0.35564973260771277,
           0.35564973260771277,
           0.35564973260771277,
           0.35564973260771277
          ],
          [
           0.2747728607754135,
           0.2747728607754135,
           0.2747728607754135,
           0.2747728607754135,
           0.2747728607754135,
           0.2747728607754135,
           0.2747728607754135,
           0.2747728607754135,
           0.2747728607754135,
           0.2747728607754135
          ],
          [
           0.23201783989692015,
           0.23201783989692015,
           0.23201783989692015,
           0.23201783989692015,
           0.23201783989692015,
           0.23201783989692015,
           0.23201783989692015,
           0.23201783989692015,
           0.23201783989692015,
           0.23201783989692015
          ],
          [
           0.23201783989692015,
           0.23201783989692015,
           0.23201783989692015,
           0.23201783989692015,
           0.23201783989692015,
           0.23201783989692015,
           0.23201783989692015,
           0.23201783989692015,
           0.23201783989692015,
           0.23201783989692015
          ],
          [
           0.27477286077541346,
           0.27477286077541346,
           0.27477286077541346,
           0.27477286077541346,
           0.27477286077541346,
           0.27477286077541346,
           0.27477286077541346,
           0.27477286077541346,
           0.27477286077541346,
           0.27477286077541346
          ],
          [
           0.35564973260771254,
           0.35564973260771254,
           0.35564973260771254,
           0.35564973260771254,
           0.35564973260771254,
           0.35564973260771254,
           0.35564973260771254,
           0.35564973260771254,
           0.35564973260771254,
           0.35564973260771254
          ],
          [
           0.46588419139682113,
           0.46588419139682113,
           0.46588419139682113,
           0.46588419139682113,
           0.46588419139682113,
           0.46588419139682113,
           0.46588419139682113,
           0.46588419139682113,
           0.46588419139682113,
           0.46588419139682113
          ],
          [
           0.593530623069076,
           0.593530623069076,
           0.593530623069076,
           0.593530623069076,
           0.593530623069076,
           0.593530623069076,
           0.593530623069076,
           0.593530623069076,
           0.593530623069076,
           0.593530623069076
          ],
          [
           0.7247565561143287,
           0.7247565561143287,
           0.7247565561143287,
           0.7247565561143287,
           0.7247565561143287,
           0.7247565561143287,
           0.7247565561143287,
           0.7247565561143287,
           0.7247565561143287,
           0.7247565561143287
          ],
          [
           0.8453416245069798,
           0.8453416245069798,
           0.8453416245069798,
           0.8453416245069798,
           0.8453416245069798,
           0.8453416245069798,
           0.8453416245069798,
           0.8453416245069798,
           0.8453416245069798,
           0.8453416245069798
          ],
          [
           0.9422185650165664,
           0.9422185650165664,
           0.9422185650165664,
           0.9422185650165664,
           0.9422185650165664,
           0.9422185650165664,
           0.9422185650165664,
           0.9422185650165664,
           0.9422185650165664,
           0.9422185650165664
          ],
          [
           1.0048892579382631,
           1.0048892579382631,
           1.0048892579382631,
           1.0048892579382631,
           1.0048892579382631,
           1.0048892579382631,
           1.0048892579382631,
           1.0048892579382631,
           1.0048892579382631,
           1.0048892579382631
          ],
          [
           1.026562361258009,
           1.026562361258009,
           1.026562361258009,
           1.026562361258009,
           1.026562361258009,
           1.026562361258009,
           1.026562361258009,
           1.026562361258009,
           1.026562361258009,
           1.026562361258009
          ]
         ]
        },
        {
         "opacity": 0.8,
         "type": "surface",
         "x": [
          [
           -0.5026446883678584,
           -0.5026446883678584,
           -0.5026446883678584,
           -0.5026446883678584,
           -0.5026446883678584,
           -0.5026446883678584,
           -0.5026446883678584,
           -0.5026446883678584,
           -0.5026446883678584,
           -0.5026446883678584
          ],
          [
           -0.372764900685985,
           -0.38059761029396144,
           -0.40315099874068655,
           -0.4377047945269217,
           -0.4800912999211332,
           -0.5251980768145835,
           -0.567584582208795,
           -0.6021383779950301,
           -0.6246917664417553,
           -0.6325244760497317
          ],
          [
           -0.2569596032919912,
           -0.2717762268849079,
           -0.314438994188277,
           -0.3798021458299248,
           -0.45998192106448926,
           -0.5453074556712274,
           -0.6254872309057918,
           -0.6908503825474397,
           -0.7335131498508088,
           -0.7483297734437255
          ],
          [
           -0.1677780970628469,
           -0.18797302357080847,
           -0.24612199691246045,
           -0.3352113927153526,
           -0.44449571502620633,
           -0.5607936617095103,
           -0.670077984020364,
           -0.7591673798232562,
           -0.8173163531649082,
           -0.8375112796728699
          ],
          [
           -0.1148845819921262,
           -0.13826937777142395,
           -0.20560321361550493,
           -0.3087646351799922,
           -0.4353108525237774,
           -0.5699785242119393,
           -0.6965247415557243,
           -0.7996861631202117,
           -0.8670199989642927,
           -0.8904047947435905
          ],
          [
           -0.10401089116519041,
           -0.128051450740645,
           -0.19727348318133697,
           -0.3033277897665243,
           -0.4334226559271664,
           -0.5718667208085503,
           -0.7019615869691922,
           -0.8080158935543797,
           -0.8772379259950718,
           -0.9012784855705263
          ],
          [
           -0.13633535770583532,
           -0.15842651341973002,
           -0.22203546115158335,
           -0.3194900230368468,
           -0.43903574063600503,
           -0.5662536360997117,
           -0.6857993536988698,
           -0.7832539155841334,
           -0.8468628633159867,
           -0.8689540190298815
          ],
          [
           -0.20835512409860568,
           -0.22610295644974127,
           -0.277205802991492,
           -0.355499906233232,
           -0.4515418418261076,
           -0.553747534909609,
           -0.6497894705024847,
           -0.7280835737442247,
           -0.7791864202859754,
           -0.796934252637111
          ],
          [
           -0.3122657311530289,
           -0.3237469871201669,
           -0.35680594610665256,
           -0.4074552097604436,
           -0.4695857293813727,
           -0.535703647354344,
           -0.597834166975273,
           -0.6484834306290641,
           -0.6815423896155498,
           -0.6930236455826878
          ],
          [
           -0.43680685225556476,
           -0.44077735960462405,
           -0.45220997986705785,
           -0.46972577031171153,
           -0.49121206810542456,
           -0.5140773086302921,
           -0.5355636064240051,
           -0.5530793968686588,
           -0.5645120171310927,
           -0.568482524480152
          ],
          [
           -0.5684825244801519,
           -0.5645120171310926,
           -0.5530793968686588,
           -0.5355636064240051,
           -0.5140773086302921,
           -0.49121206810542456,
           -0.4697257703117116,
           -0.4522099798670579,
           -0.44077735960462416,
           -0.4368068522555648
          ],
          [
           -0.6930236455826877,
           -0.6815423896155497,
           -0.6484834306290641,
           -0.5978341669752731,
           -0.535703647354344,
           -0.4695857293813728,
           -0.4074552097604437,
           -0.35680594610665267,
           -0.32374698712016703,
           -0.31226573115302897
          ],
          [
           -0.7969342526371108,
           -0.7791864202859753,
           -0.7280835737442246,
           -0.6497894705024847,
           -0.553747534909609,
           -0.4515418418261077,
           -0.35549990623323213,
           -0.27720580299149217,
           -0.2261029564497415,
           -0.20835512409860585
          ],
          [
           -0.8689540190298812,
           -0.8468628633159866,
           -0.7832539155841333,
           -0.6857993536988698,
           -0.5662536360997117,
           -0.4390357406360051,
           -0.319490023036847,
           -0.22203546115158346,
           -0.15842651341973013,
           -0.13633535770583544
          ],
          [
           -0.9012784855705263,
           -0.8772379259950718,
           -0.8080158935543797,
           -0.7019615869691924,
           -0.5718667208085504,
           -0.43342265592716644,
           -0.30332778976652447,
           -0.19727348318133703,
           -0.128051450740645,
           -0.10401089116519041
          ],
          [
           -0.8904047947435906,
           -0.8670199989642928,
           -0.7996861631202119,
           -0.6965247415557245,
           -0.5699785242119393,
           -0.43531085252377744,
           -0.3087646351799923,
           -0.20560321361550493,
           -0.13826937777142395,
           -0.11488458199212614
          ],
          [
           -0.8375112796728699,
           -0.8173163531649084,
           -0.7591673798232563,
           -0.6700779840203641,
           -0.5607936617095104,
           -0.4444957150262064,
           -0.3352113927153527,
           -0.24612199691246045,
           -0.18797302357080842,
           -0.16777809706284685
          ],
          [
           -0.7483297734437255,
           -0.733513149850809,
           -0.6908503825474398,
           -0.625487230905792,
           -0.5453074556712275,
           -0.45998192106448926,
           -0.3798021458299248,
           -0.3144389941882769,
           -0.2717762268849078,
           -0.25695960329199113
          ],
          [
           -0.6325244760497318,
           -0.6246917664417554,
           -0.6021383779950302,
           -0.5675845822087952,
           -0.5251980768145835,
           -0.4800912999211332,
           -0.4377047945269216,
           -0.4031509987406865,
           -0.38059761029396133,
           -0.3727649006859849
          ],
          [
           -0.5026446883678585,
           -0.5026446883678585,
           -0.5026446883678585,
           -0.5026446883678584,
           -0.5026446883678584,
           -0.5026446883678584,
           -0.5026446883678584,
           -0.5026446883678583,
           -0.5026446883678583,
           -0.5026446883678583
          ]
         ],
         "y": [
          [
           -0.5152139910879687,
           -0.5152139910879687,
           -0.5152139910879687,
           -0.5152139910879687,
           -0.5152139910879687,
           -0.5152139910879687,
           -0.5152139910879687,
           -0.5152139910879687,
           -0.5152139910879687,
           -0.5152139910879687
          ],
          [
           -0.5152139910879687,
           -0.470792487489907,
           -0.4317288728173421,
           -0.40273479551733715,
           -0.38730736921928033,
           -0.38730736921928033,
           -0.40273479551733715,
           -0.43172887281734207,
           -0.47079248748990693,
           -0.5152139910879687
          ],
          [
           -0.5152139910879687,
           -0.43118474307734156,
           -0.35729066251641806,
           -0.30244446608132675,
           -0.27326141450579083,
           -0.27326141450579083,
           -0.3024444660813267,
           -0.357290662516418,
           -0.4311847430773415,
           -0.5152139910879687
          ],
          [
           -0.5152139910879687,
           -0.4006828715348506,
           -0.2999658952991412,
           -0.22521101613912758,
           -0.18543477574602302,
           -0.18543477574602302,
           -0.22521101613912758,
           -0.2999658952991411,
           -0.4006828715348505,
           -0.5152139910879687
          ],
          [
           -0.5152139910879687,
           -0.38259222392936426,
           -0.26596659917891363,
           -0.17940388839242843,
           -0.13334483202030917,
           -0.13334483202030917,
           -0.17940388839242838,
           -0.2659665991789136,
           -0.3825922239293642,
           -0.5152139910879687
          ],
          [
           -0.5152139910879687,
           -0.37887320263425667,
           -0.25897712544379714,
           -0.16998699590340421,
           -0.12263633699008508,
           -0.12263633699008508,
           -0.16998699590340416,
           -0.2589771254437971,
           -0.3788732026342566,
           -0.5152139910879687
          ],
          [
           -0.5152139910879687,
           -0.38992882131341383,
           -0.2797548920258508,
           -0.19798080509138277,
           -0.1544697222512959,
           -0.1544697222512959,
           -0.19798080509138277,
           -0.27975489202585074,
           -0.3899288213134138,
           -0.5152139910879687
          ],
          [
           -0.5152139910879687,
           -0.41456103213735035,
           -0.3260483055156426,
           -0.2603517523621427,
           -0.2253953465650242,
           -0.2253953465650242,
           -0.26035175236214264,
           -0.32604830551564257,
           -0.4145610321373503,
           -0.5152139910879687
          ],
          [
           -0.5152139910879687,
           -0.4501005528551614,
           -0.39284075624523257,
           -0.3503409777939357,
           -0.3277273180124252,
           -0.3277273180124252,
           -0.35034097779393564,
           -0.3928407562452325,
           -0.4501005528551614,
           -0.5152139910879687
          ],
          [
           -0.5152139910879687,
           -0.4926961249445902,
           -0.47289424578641337,
           -0.45819675248452596,
           -0.45037637964303484,
           -0.45037637964303484,
           -0.45819675248452596,
           -0.47289424578641337,
           -0.49269612494459014,
           -0.5152139910879687
          ],
          [
           -0.5152139910879687,
           -0.5377318572313472,
           -0.557533736389524,
           -0.5722312296914114,
           -0.5800516025329026,
           -0.5800516025329026,
           -0.5722312296914114,
           -0.557533736389524,
           -0.5377318572313472,
           -0.5152139910879687
          ],
          [
           -0.5152139910879687,
           -0.5803274293207761,
           -0.6375872259307048,
           -0.6800870043820018,
           -0.7027006641635122,
           -0.7027006641635122,
           -0.6800870043820018,
           -0.6375872259307049,
           -0.5803274293207761,
           -0.5152139910879687
          ],
          [
           -0.5152139910879687,
           -0.615866950038587,
           -0.7043796766602948,
           -0.7700762298137946,
           -0.8050326356109131,
           -0.8050326356109131,
           -0.7700762298137946,
           -0.7043796766602948,
           -0.6158669500385872,
           -0.5152139910879687
          ],
          [
           -0.5152139910879687,
           -0.6404991608625236,
           -0.7506730901500865,
           -0.8324471770845545,
           -0.8759582599246414,
           -0.8759582599246414,
           -0.8324471770845546,
           -0.7506730901500867,
           -0.6404991608625237,
           -0.5152139910879687
          ],
          [
           -0.5152139910879687,
           -0.6515547795416807,
           -0.7714508567321403,
           -0.8604409862725333,
           -0.9077916451858523,
           -0.9077916451858523,
           -0.8604409862725333,
           -0.7714508567321403,
           -0.6515547795416808,
           -0.5152139910879687
          ],
          [
           -0.5152139910879687,
           -0.6478357582465732,
           -0.7644613829970238,
           -0.8510240937835091,
           -0.8970831501556283,
           -0.8970831501556283,
           -0.8510240937835092,
           -0.7644613829970239,
           -0.6478357582465732,
           -0.5152139910879687
          ],
          [
           -0.5152139910879687,
           -0.6297451106410868,
           -0.7304620868767964,
           -0.8052169660368098,
           -0.8449932064299145,
           -0.8449932064299145,
           -0.8052169660368099,
           -0.7304620868767964,
           -0.629745110641087,
           -0.5152139910879687
          ],
          [
           -0.5152139910879687,
           -0.599243239098596,
           -0.6731373196595194,
           -0.7279835160946108,
           -0.7571665676701467,
           -0.7571665676701467,
           -0.7279835160946109,
           -0.6731373196595195,
           -0.599243239098596,
           -0.5152139910879687
          ],
          [
           -0.5152139910879687,
           -0.5596354946860305,
           -0.5986991093585954,
           -0.6276931866586004,
           -0.6431206129566572,
           -0.6431206129566572,
           -0.6276931866586004,
           -0.5986991093585955,
           -0.5596354946860306,
           -0.5152139910879687
          ],
          [
           -0.5152139910879687,
           -0.5152139910879687,
           -0.5152139910879688,
           -0.5152139910879688,
           -0.5152139910879688,
           -0.5152139910879688,
           -0.5152139910879688,
           -0.5152139910879688,
           -0.5152139910879687,
           -0.5152139910879687
          ]
         ],
         "z": [
          [
           -0.7673098695567743,
           -0.7673098695567743,
           -0.7673098695567743,
           -0.7673098695567743,
           -0.7673098695567743,
           -0.7673098695567743,
           -0.7673098695567743,
           -0.7673098695567743,
           -0.7673098695567743,
           -0.7673098695567743
          ],
          [
           -0.7889829728765204,
           -0.7889829728765204,
           -0.7889829728765204,
           -0.7889829728765204,
           -0.7889829728765204,
           -0.7889829728765204,
           -0.7889829728765204,
           -0.7889829728765204,
           -0.7889829728765204,
           -0.7889829728765204
          ],
          [
           -0.8516536657982168,
           -0.8516536657982168,
           -0.8516536657982168,
           -0.8516536657982168,
           -0.8516536657982168,
           -0.8516536657982168,
           -0.8516536657982168,
           -0.8516536657982168,
           -0.8516536657982168,
           -0.8516536657982168
          ],
          [
           -0.9485306063078035,
           -0.9485306063078035,
           -0.9485306063078035,
           -0.9485306063078035,
           -0.9485306063078035,
           -0.9485306063078035,
           -0.9485306063078035,
           -0.9485306063078035,
           -0.9485306063078035,
           -0.9485306063078035
          ],
          [
           -1.0691156747004547,
           -1.0691156747004547,
           -1.0691156747004547,
           -1.0691156747004547,
           -1.0691156747004547,
           -1.0691156747004547,
           -1.0691156747004547,
           -1.0691156747004547,
           -1.0691156747004547,
           -1.0691156747004547
          ],
          [
           -1.2003416077457072,
           -1.2003416077457072,
           -1.2003416077457072,
           -1.2003416077457072,
           -1.2003416077457072,
           -1.2003416077457072,
           -1.2003416077457072,
           -1.2003416077457072,
           -1.2003416077457072,
           -1.2003416077457072
          ],
          [
           -1.327988039417962,
           -1.327988039417962,
           -1.327988039417962,
           -1.327988039417962,
           -1.327988039417962,
           -1.327988039417962,
           -1.327988039417962,
           -1.327988039417962,
           -1.327988039417962,
           -1.327988039417962
          ],
          [
           -1.4382224982070706,
           -1.4382224982070706,
           -1.4382224982070706,
           -1.4382224982070706,
           -1.4382224982070706,
           -1.4382224982070706,
           -1.4382224982070706,
           -1.4382224982070706,
           -1.4382224982070706,
           -1.4382224982070706
          ],
          [
           -1.51909937003937,
           -1.51909937003937,
           -1.51909937003937,
           -1.51909937003937,
           -1.51909937003937,
           -1.51909937003937,
           -1.51909937003937,
           -1.51909937003937,
           -1.51909937003937,
           -1.51909937003937
          ],
          [
           -1.5618543909178633,
           -1.5618543909178633,
           -1.5618543909178633,
           -1.5618543909178633,
           -1.5618543909178633,
           -1.5618543909178633,
           -1.5618543909178633,
           -1.5618543909178633,
           -1.5618543909178633,
           -1.5618543909178633
          ],
          [
           -1.5618543909178633,
           -1.5618543909178633,
           -1.5618543909178633,
           -1.5618543909178633,
           -1.5618543909178633,
           -1.5618543909178633,
           -1.5618543909178633,
           -1.5618543909178633,
           -1.5618543909178633,
           -1.5618543909178633
          ],
          [
           -1.51909937003937,
           -1.51909937003937,
           -1.51909937003937,
           -1.51909937003937,
           -1.51909937003937,
           -1.51909937003937,
           -1.51909937003937,
           -1.51909937003937,
           -1.51909937003937,
           -1.51909937003937
          ],
          [
           -1.4382224982070708,
           -1.4382224982070708,
           -1.4382224982070708,
           -1.4382224982070708,
           -1.4382224982070708,
           -1.4382224982070708,
           -1.4382224982070708,
           -1.4382224982070708,
           -1.4382224982070708,
           -1.4382224982070708
          ],
          [
           -1.3279880394179622,
           -1.3279880394179622,
           -1.3279880394179622,
           -1.3279880394179622,
           -1.3279880394179622,
           -1.3279880394179622,
           -1.3279880394179622,
           -1.3279880394179622,
           -1.3279880394179622,
           -1.3279880394179622
          ],
          [
           -1.2003416077457074,
           -1.2003416077457074,
           -1.2003416077457074,
           -1.2003416077457074,
           -1.2003416077457074,
           -1.2003416077457074,
           -1.2003416077457074,
           -1.2003416077457074,
           -1.2003416077457074,
           -1.2003416077457074
          ],
          [
           -1.0691156747004547,
           -1.0691156747004547,
           -1.0691156747004547,
           -1.0691156747004547,
           -1.0691156747004547,
           -1.0691156747004547,
           -1.0691156747004547,
           -1.0691156747004547,
           -1.0691156747004547,
           -1.0691156747004547
          ],
          [
           -0.9485306063078036,
           -0.9485306063078036,
           -0.9485306063078036,
           -0.9485306063078036,
           -0.9485306063078036,
           -0.9485306063078036,
           -0.9485306063078036,
           -0.9485306063078036,
           -0.9485306063078036,
           -0.9485306063078036
          ],
          [
           -0.851653665798217,
           -0.851653665798217,
           -0.851653665798217,
           -0.851653665798217,
           -0.851653665798217,
           -0.851653665798217,
           -0.851653665798217,
           -0.851653665798217,
           -0.851653665798217,
           -0.851653665798217
          ],
          [
           -0.7889829728765204,
           -0.7889829728765204,
           -0.7889829728765204,
           -0.7889829728765204,
           -0.7889829728765204,
           -0.7889829728765204,
           -0.7889829728765204,
           -0.7889829728765204,
           -0.7889829728765204,
           -0.7889829728765204
          ],
          [
           -0.7673098695567743,
           -0.7673098695567743,
           -0.7673098695567743,
           -0.7673098695567743,
           -0.7673098695567743,
           -0.7673098695567743,
           -0.7673098695567743,
           -0.7673098695567743,
           -0.7673098695567743,
           -0.7673098695567743
          ]
         ]
        },
        {
         "opacity": 0.8,
         "type": "surface",
         "x": [
          [
           0.423443078516371,
           0.423443078516371,
           0.423443078516371,
           0.423443078516371,
           0.423443078516371,
           0.423443078516371,
           0.423443078516371,
           0.423443078516371,
           0.423443078516371,
           0.423443078516371
          ],
          [
           0.5533228661982443,
           0.5454901565902679,
           0.5229367681435427,
           0.48838297235730765,
           0.44599646696309614,
           0.4008896900696458,
           0.3585031846754343,
           0.3239493888891992,
           0.30139600044247405,
           0.2935632908344976
          ],
          [
           0.6691281635922381,
           0.6543115399993215,
           0.6116487726959523,
           0.5462856210543046,
           0.46610584581974007,
           0.38078031121300193,
           0.30060053597843744,
           0.23523738433678962,
           0.19257461703342052,
           0.17775799344050383
          ],
          [
           0.7583096698213825,
           0.7381147433134209,
           0.6799657699717689,
           0.5908763741688767,
           0.481592051858023,
           0.365294105174719,
           0.25600978286386533,
           0.16692038706097312,
           0.10877141371932109,
           0.08857648721135952
          ],
          [
           0.8112031848921031,
           0.7878183891128054,
           0.7204845532687244,
           0.6173231317042371,
           0.49077691436045195,
           0.35610924267229005,
           0.22956302532850498,
           0.1264016037640176,
           0.05906776791993662,
           0.03568297214063881
          ],
          [
           0.8220768757190389,
           0.7980363161435844,
           0.7288142837028924,
           0.622759977117705,
           0.49266511095706295,
           0.35422104607567906,
           0.22412617991503708,
           0.11807187332984964,
           0.048849840889157614,
           0.024809281313703024
          ],
          [
           0.7897524091783941,
           0.7676612534644993,
           0.704052305732646,
           0.6065977438473825,
           0.4870520262482243,
           0.35983413078451765,
           0.24028841318535954,
           0.14283385130009602,
           0.07922490356824269,
           0.05713374785434794
          ],
          [
           0.7177326427856237,
           0.6999848104344881,
           0.6488819638927373,
           0.5705878606509973,
           0.4745459250581217,
           0.3723402319746203,
           0.2762982963817447,
           0.19800419314000464,
           0.14690134659825393,
           0.1291535142471183
          ],
          [
           0.6138220357312004,
           0.6023407797640624,
           0.5692818207775767,
           0.5186325571237858,
           0.4565020375028566,
           0.39038411952988533,
           0.3282535999089563,
           0.27760433625516523,
           0.24454537726867956,
           0.2330641213015415
          ],
          [
           0.4892809146286646,
           0.4853104072796053,
           0.4738777870171715,
           0.4563619965725178,
           0.4348756987788048,
           0.4120104582539372,
           0.3905241604602242,
           0.37300837001557047,
           0.36157574975313667,
           0.3576052424040774
          ],
          [
           0.35760524240407743,
           0.3615757497531368,
           0.3730083700155705,
           0.3905241604602242,
           0.4120104582539372,
           0.4348756987788048,
           0.45636199657251775,
           0.4738777870171714,
           0.48531040727960517,
           0.4892809146286645
          ],
          [
           0.23306412130154158,
           0.24454537726867961,
           0.27760433625516523,
           0.32825359990895625,
           0.39038411952988533,
           0.45650203750285656,
           0.5186325571237856,
           0.5692818207775767,
           0.6023407797640623,
           0.6138220357312003
          ],
          [
           0.12915351424711846,
           0.14690134659825405,
           0.19800419314000475,
           0.2762982963817447,
           0.3723402319746203,
           0.47454592505812165,
           0.5705878606509972,
           0.6488819638927372,
           0.6999848104344879,
           0.7177326427856234
          ],
          [
           0.05713374785434805,
           0.07922490356824274,
           0.14283385130009607,
           0.24028841318535948,
           0.35983413078451765,
           0.48705202624822425,
           0.6065977438473824,
           0.7040523057326459,
           0.7676612534644992,
           0.7897524091783938
          ],
          [
           0.024809281313703024,
           0.048849840889157614,
           0.11807187332984959,
           0.22412617991503694,
           0.354221046075679,
           0.4926651109570629,
           0.6227599771177048,
           0.7288142837028924,
           0.7980363161435844,
           0.8220768757190389
          ],
          [
           0.03568297214063876,
           0.05906776791993651,
           0.1264016037640175,
           0.2295630253285048,
           0.35610924267229,
           0.4907769143604519,
           0.617323131704237,
           0.7204845532687244,
           0.7878183891128054,
           0.8112031848921032
          ],
          [
           0.08857648721135947,
           0.10877141371932103,
           0.166920387060973,
           0.2560097828638652,
           0.36529410517471894,
           0.48159205185802295,
           0.5908763741688766,
           0.6799657699717689,
           0.738114743313421,
           0.7583096698213825
          ],
          [
           0.17775799344050375,
           0.1925746170334204,
           0.23523738433678953,
           0.30060053597843733,
           0.3807803112130019,
           0.46610584581974007,
           0.5462856210543046,
           0.6116487726959524,
           0.6543115399993216,
           0.6691281635922381
          ],
          [
           0.2935632908344975,
           0.30139600044247394,
           0.3239493888891991,
           0.3585031846754342,
           0.4008896900696458,
           0.44599646696309614,
           0.4883829723573077,
           0.5229367681435428,
           0.545490156590268,
           0.5533228661982444
          ],
          [
           0.42344307851637086,
           0.42344307851637086,
           0.4234430785163709,
           0.4234430785163709,
           0.423443078516371,
           0.423443078516371,
           0.42344307851637103,
           0.42344307851637103,
           0.4234430785163711,
           0.4234430785163711
          ]
         ],
         "y": [
          [
           -0.4410297124717413,
           -0.4410297124717413,
           -0.4410297124717413,
           -0.4410297124717413,
           -0.4410297124717413,
           -0.4410297124717413,
           -0.4410297124717413,
           -0.4410297124717413,
           -0.4410297124717413,
           -0.4410297124717413
          ],
          [
           -0.4410297124717413,
           -0.39660820887367954,
           -0.3575445942011147,
           -0.3285505169011097,
           -0.3131230906030529,
           -0.3131230906030529,
           -0.3285505169011097,
           -0.3575445942011146,
           -0.3966082088736795,
           -0.4410297124717413
          ],
          [
           -0.4410297124717413,
           -0.3570004644611141,
           -0.2831063839001906,
           -0.2282601874650993,
           -0.19907713588956338,
           -0.19907713588956338,
           -0.22826018746509927,
           -0.28310638390019055,
           -0.35700046446111405,
           -0.4410297124717412
          ],
          [
           -0.4410297124717413,
           -0.32649859291862315,
           -0.22578161668291372,
           -0.15102673752290013,
           -0.11125049712979557,
           -0.11125049712979557,
           -0.15102673752290013,
           -0.22578161668291363,
           -0.32649859291862304,
           -0.4410297124717412
          ],
          [
           -0.4410297124717413,
           -0.3084079453131368,
           -0.1917823205626862,
           -0.10521960977620098,
           -0.05916055340408172,
           -0.05916055340408172,
           -0.10521960977620093,
           -0.19178232056268613,
           -0.30840794531313676,
           -0.4410297124717412
          ],
          [
           -0.4410297124717413,
           -0.3046889240180292,
           -0.1847928468275697,
           -0.09580271728717676,
           -0.04845205837385763,
           -0.04845205837385763,
           -0.09580271728717671,
           -0.18479284682756963,
           -0.30468892401802916,
           -0.4410297124717412
          ],
          [
           -0.4410297124717413,
           -0.3157445426971864,
           -0.20557061340962338,
           -0.12379652647515532,
           -0.08028544363506845,
           -0.08028544363506845,
           -0.12379652647515532,
           -0.2055706134096233,
           -0.3157445426971863,
           -0.4410297124717412
          ],
          [
           -0.4410297124717413,
           -0.3403767535211229,
           -0.25186402689941517,
           -0.18616747374591525,
           -0.15121106794879674,
           -0.15121106794879674,
           -0.1861674737459152,
           -0.2518640268994151,
           -0.34037675352112284,
           -0.4410297124717412
          ],
          [
           -0.4410297124717413,
           -0.3759162742389339,
           -0.3186564776290051,
           -0.27615669917770824,
           -0.25354303939619777,
           -0.25354303939619777,
           -0.2761566991777082,
           -0.31865647762900506,
           -0.3759162742389339,
           -0.4410297124717413
          ],
          [
           -0.4410297124717413,
           -0.41851184632836275,
           -0.3987099671701859,
           -0.3840124738682985,
           -0.3761921010268074,
           -0.3761921010268074,
           -0.3840124738682985,
           -0.3987099671701859,
           -0.4185118463283627,
           -0.4410297124717413
          ],
          [
           -0.4410297124717413,
           -0.4635475786151198,
           -0.4833494577732965,
           -0.498046951075184,
           -0.5058673239166751,
           -0.5058673239166751,
           -0.498046951075184,
           -0.4833494577732966,
           -0.4635475786151198,
           -0.4410297124717413
          ],
          [
           -0.4410297124717413,
           -0.5061431507045486,
           -0.5634029473144774,
           -0.6059027257657743,
           -0.6285163855472847,
           -0.6285163855472847,
           -0.6059027257657743,
           -0.5634029473144775,
           -0.5061431507045486,
           -0.4410297124717413
          ],
          [
           -0.4410297124717413,
           -0.5416826714223596,
           -0.6301953980440673,
           -0.6958919511975672,
           -0.7308483569946856,
           -0.7308483569946856,
           -0.6958919511975672,
           -0.6301953980440673,
           -0.5416826714223597,
           -0.44102971247174133
          ],
          [
           -0.4410297124717413,
           -0.5663148822462961,
           -0.6764888115338591,
           -0.7582628984683271,
           -0.8017739813084139,
           -0.8017739813084139,
           -0.7582628984683272,
           -0.6764888115338592,
           -0.5663148822462962,
           -0.44102971247174133
          ],
          [
           -0.4410297124717413,
           -0.5773705009254533,
           -0.6972665781159129,
           -0.7862567076563058,
           -0.8336073665696249,
           -0.8336073665696249,
           -0.7862567076563058,
           -0.6972665781159129,
           -0.5773705009254534,
           -0.44102971247174133
          ],
          [
           -0.4410297124717413,
           -0.5736514796303458,
           -0.6902771043807964,
           -0.7768398151672816,
           -0.8228988715394009,
           -0.8228988715394009,
           -0.7768398151672817,
           -0.6902771043807965,
           -0.5736514796303458,
           -0.44102971247174133
          ],
          [
           -0.4410297124717413,
           -0.5555608320248594,
           -0.6562778082605689,
           -0.7310326874205824,
           -0.770808927813687,
           -0.770808927813687,
           -0.7310326874205825,
           -0.6562778082605689,
           -0.5555608320248595,
           -0.44102971247174133
          ],
          [
           -0.4410297124717413,
           -0.5250589604823686,
           -0.598953041043292,
           -0.6537992374783833,
           -0.6829822890539192,
           -0.6829822890539192,
           -0.6537992374783834,
           -0.5989530410432921,
           -0.5250589604823686,
           -0.44102971247174133
          ],
          [
           -0.4410297124717413,
           -0.48545121606980307,
           -0.5245148307423679,
           -0.553508908042373,
           -0.5689363343404298,
           -0.5689363343404298,
           -0.553508908042373,
           -0.524514830742368,
           -0.48545121606980307,
           -0.4410297124717413
          ],
          [
           -0.4410297124717413,
           -0.44102971247174133,
           -0.44102971247174133,
           -0.4410297124717414,
           -0.4410297124717414,
           -0.4410297124717414,
           -0.4410297124717414,
           -0.44102971247174133,
           -0.44102971247174133,
           -0.4410297124717413
          ]
         ],
         "z": [
          [
           -0.45510569053402505,
           -0.45510569053402505,
           -0.45510569053402505,
           -0.45510569053402505,
           -0.45510569053402505,
           -0.45510569053402505,
           -0.45510569053402505,
           -0.45510569053402505,
           -0.45510569053402505,
           -0.45510569053402505
          ],
          [
           -0.4767787938537712,
           -0.4767787938537712,
           -0.4767787938537712,
           -0.4767787938537712,
           -0.4767787938537712,
           -0.4767787938537712,
           -0.4767787938537712,
           -0.4767787938537712,
           -0.4767787938537712,
           -0.4767787938537712
          ],
          [
           -0.5394494867754676,
           -0.5394494867754676,
           -0.5394494867754676,
           -0.5394494867754676,
           -0.5394494867754676,
           -0.5394494867754676,
           -0.5394494867754676,
           -0.5394494867754676,
           -0.5394494867754676,
           -0.5394494867754676
          ],
          [
           -0.6363264272850543,
           -0.6363264272850543,
           -0.6363264272850543,
           -0.6363264272850543,
           -0.6363264272850543,
           -0.6363264272850543,
           -0.6363264272850543,
           -0.6363264272850543,
           -0.6363264272850543,
           -0.6363264272850543
          ],
          [
           -0.7569114956777054,
           -0.7569114956777054,
           -0.7569114956777054,
           -0.7569114956777054,
           -0.7569114956777054,
           -0.7569114956777054,
           -0.7569114956777054,
           -0.7569114956777054,
           -0.7569114956777054,
           -0.7569114956777054
          ],
          [
           -0.888137428722958,
           -0.888137428722958,
           -0.888137428722958,
           -0.888137428722958,
           -0.888137428722958,
           -0.888137428722958,
           -0.888137428722958,
           -0.888137428722958,
           -0.888137428722958,
           -0.888137428722958
          ],
          [
           -1.0157838603952127,
           -1.0157838603952127,
           -1.0157838603952127,
           -1.0157838603952127,
           -1.0157838603952127,
           -1.0157838603952127,
           -1.0157838603952127,
           -1.0157838603952127,
           -1.0157838603952127,
           -1.0157838603952127
          ],
          [
           -1.1260183191843214,
           -1.1260183191843214,
           -1.1260183191843214,
           -1.1260183191843214,
           -1.1260183191843214,
           -1.1260183191843214,
           -1.1260183191843214,
           -1.1260183191843214,
           -1.1260183191843214,
           -1.1260183191843214
          ],
          [
           -1.2068951910166206,
           -1.2068951910166206,
           -1.2068951910166206,
           -1.2068951910166206,
           -1.2068951910166206,
           -1.2068951910166206,
           -1.2068951910166206,
           -1.2068951910166206,
           -1.2068951910166206,
           -1.2068951910166206
          ],
          [
           -1.249650211895114,
           -1.249650211895114,
           -1.249650211895114,
           -1.249650211895114,
           -1.249650211895114,
           -1.249650211895114,
           -1.249650211895114,
           -1.249650211895114,
           -1.249650211895114,
           -1.249650211895114
          ],
          [
           -1.249650211895114,
           -1.249650211895114,
           -1.249650211895114,
           -1.249650211895114,
           -1.249650211895114,
           -1.249650211895114,
           -1.249650211895114,
           -1.249650211895114,
           -1.249650211895114,
           -1.249650211895114
          ],
          [
           -1.2068951910166208,
           -1.2068951910166208,
           -1.2068951910166208,
           -1.2068951910166208,
           -1.2068951910166208,
           -1.2068951910166208,
           -1.2068951910166208,
           -1.2068951910166208,
           -1.2068951910166208,
           -1.2068951910166208
          ],
          [
           -1.1260183191843216,
           -1.1260183191843216,
           -1.1260183191843216,
           -1.1260183191843216,
           -1.1260183191843216,
           -1.1260183191843216,
           -1.1260183191843216,
           -1.1260183191843216,
           -1.1260183191843216,
           -1.1260183191843216
          ],
          [
           -1.015783860395213,
           -1.015783860395213,
           -1.015783860395213,
           -1.015783860395213,
           -1.015783860395213,
           -1.015783860395213,
           -1.015783860395213,
           -1.015783860395213,
           -1.015783860395213,
           -1.015783860395213
          ],
          [
           -0.8881374287229582,
           -0.8881374287229582,
           -0.8881374287229582,
           -0.8881374287229582,
           -0.8881374287229582,
           -0.8881374287229582,
           -0.8881374287229582,
           -0.8881374287229582,
           -0.8881374287229582,
           -0.8881374287229582
          ],
          [
           -0.7569114956777055,
           -0.7569114956777055,
           -0.7569114956777055,
           -0.7569114956777055,
           -0.7569114956777055,
           -0.7569114956777055,
           -0.7569114956777055,
           -0.7569114956777055,
           -0.7569114956777055,
           -0.7569114956777055
          ],
          [
           -0.6363264272850544,
           -0.6363264272850544,
           -0.6363264272850544,
           -0.6363264272850544,
           -0.6363264272850544,
           -0.6363264272850544,
           -0.6363264272850544,
           -0.6363264272850544,
           -0.6363264272850544,
           -0.6363264272850544
          ],
          [
           -0.5394494867754678,
           -0.5394494867754678,
           -0.5394494867754678,
           -0.5394494867754678,
           -0.5394494867754678,
           -0.5394494867754678,
           -0.5394494867754678,
           -0.5394494867754678,
           -0.5394494867754678,
           -0.5394494867754678
          ],
          [
           -0.4767787938537712,
           -0.4767787938537712,
           -0.4767787938537712,
           -0.4767787938537712,
           -0.4767787938537712,
           -0.4767787938537712,
           -0.4767787938537712,
           -0.4767787938537712,
           -0.4767787938537712,
           -0.4767787938537712
          ],
          [
           -0.45510569053402505,
           -0.45510569053402505,
           -0.45510569053402505,
           -0.45510569053402505,
           -0.45510569053402505,
           -0.45510569053402505,
           -0.45510569053402505,
           -0.45510569053402505,
           -0.45510569053402505,
           -0.45510569053402505
          ]
         ]
        }
       ],
       "layout": {
        "scene": {
         "xaxis": {
          "title": {
           "text": "X"
          }
         },
         "yaxis": {
          "title": {
           "text": "Y"
          }
         },
         "zaxis": {
          "title": {
           "text": "Z"
          }
         }
        },
        "template": {
         "data": {
          "bar": [
           {
            "error_x": {
             "color": "#2a3f5f"
            },
            "error_y": {
             "color": "#2a3f5f"
            },
            "marker": {
             "line": {
              "color": "#E5ECF6",
              "width": 0.5
             },
             "pattern": {
              "fillmode": "overlay",
              "size": 10,
              "solidity": 0.2
             }
            },
            "type": "bar"
           }
          ],
          "barpolar": [
           {
            "marker": {
             "line": {
              "color": "#E5ECF6",
              "width": 0.5
             },
             "pattern": {
              "fillmode": "overlay",
              "size": 10,
              "solidity": 0.2
             }
            },
            "type": "barpolar"
           }
          ],
          "carpet": [
           {
            "aaxis": {
             "endlinecolor": "#2a3f5f",
             "gridcolor": "white",
             "linecolor": "white",
             "minorgridcolor": "white",
             "startlinecolor": "#2a3f5f"
            },
            "baxis": {
             "endlinecolor": "#2a3f5f",
             "gridcolor": "white",
             "linecolor": "white",
             "minorgridcolor": "white",
             "startlinecolor": "#2a3f5f"
            },
            "type": "carpet"
           }
          ],
          "choropleth": [
           {
            "colorbar": {
             "outlinewidth": 0,
             "ticks": ""
            },
            "type": "choropleth"
           }
          ],
          "contour": [
           {
            "colorbar": {
             "outlinewidth": 0,
             "ticks": ""
            },
            "colorscale": [
             [
              0,
              "#0d0887"
             ],
             [
              0.1111111111111111,
              "#46039f"
             ],
             [
              0.2222222222222222,
              "#7201a8"
             ],
             [
              0.3333333333333333,
              "#9c179e"
             ],
             [
              0.4444444444444444,
              "#bd3786"
             ],
             [
              0.5555555555555556,
              "#d8576b"
             ],
             [
              0.6666666666666666,
              "#ed7953"
             ],
             [
              0.7777777777777778,
              "#fb9f3a"
             ],
             [
              0.8888888888888888,
              "#fdca26"
             ],
             [
              1,
              "#f0f921"
             ]
            ],
            "type": "contour"
           }
          ],
          "contourcarpet": [
           {
            "colorbar": {
             "outlinewidth": 0,
             "ticks": ""
            },
            "type": "contourcarpet"
           }
          ],
          "heatmap": [
           {
            "colorbar": {
             "outlinewidth": 0,
             "ticks": ""
            },
            "colorscale": [
             [
              0,
              "#0d0887"
             ],
             [
              0.1111111111111111,
              "#46039f"
             ],
             [
              0.2222222222222222,
              "#7201a8"
             ],
             [
              0.3333333333333333,
              "#9c179e"
             ],
             [
              0.4444444444444444,
              "#bd3786"
             ],
             [
              0.5555555555555556,
              "#d8576b"
             ],
             [
              0.6666666666666666,
              "#ed7953"
             ],
             [
              0.7777777777777778,
              "#fb9f3a"
             ],
             [
              0.8888888888888888,
              "#fdca26"
             ],
             [
              1,
              "#f0f921"
             ]
            ],
            "type": "heatmap"
           }
          ],
          "heatmapgl": [
           {
            "colorbar": {
             "outlinewidth": 0,
             "ticks": ""
            },
            "colorscale": [
             [
              0,
              "#0d0887"
             ],
             [
              0.1111111111111111,
              "#46039f"
             ],
             [
              0.2222222222222222,
              "#7201a8"
             ],
             [
              0.3333333333333333,
              "#9c179e"
             ],
             [
              0.4444444444444444,
              "#bd3786"
             ],
             [
              0.5555555555555556,
              "#d8576b"
             ],
             [
              0.6666666666666666,
              "#ed7953"
             ],
             [
              0.7777777777777778,
              "#fb9f3a"
             ],
             [
              0.8888888888888888,
              "#fdca26"
             ],
             [
              1,
              "#f0f921"
             ]
            ],
            "type": "heatmapgl"
           }
          ],
          "histogram": [
           {
            "marker": {
             "pattern": {
              "fillmode": "overlay",
              "size": 10,
              "solidity": 0.2
             }
            },
            "type": "histogram"
           }
          ],
          "histogram2d": [
           {
            "colorbar": {
             "outlinewidth": 0,
             "ticks": ""
            },
            "colorscale": [
             [
              0,
              "#0d0887"
             ],
             [
              0.1111111111111111,
              "#46039f"
             ],
             [
              0.2222222222222222,
              "#7201a8"
             ],
             [
              0.3333333333333333,
              "#9c179e"
             ],
             [
              0.4444444444444444,
              "#bd3786"
             ],
             [
              0.5555555555555556,
              "#d8576b"
             ],
             [
              0.6666666666666666,
              "#ed7953"
             ],
             [
              0.7777777777777778,
              "#fb9f3a"
             ],
             [
              0.8888888888888888,
              "#fdca26"
             ],
             [
              1,
              "#f0f921"
             ]
            ],
            "type": "histogram2d"
           }
          ],
          "histogram2dcontour": [
           {
            "colorbar": {
             "outlinewidth": 0,
             "ticks": ""
            },
            "colorscale": [
             [
              0,
              "#0d0887"
             ],
             [
              0.1111111111111111,
              "#46039f"
             ],
             [
              0.2222222222222222,
              "#7201a8"
             ],
             [
              0.3333333333333333,
              "#9c179e"
             ],
             [
              0.4444444444444444,
              "#bd3786"
             ],
             [
              0.5555555555555556,
              "#d8576b"
             ],
             [
              0.6666666666666666,
              "#ed7953"
             ],
             [
              0.7777777777777778,
              "#fb9f3a"
             ],
             [
              0.8888888888888888,
              "#fdca26"
             ],
             [
              1,
              "#f0f921"
             ]
            ],
            "type": "histogram2dcontour"
           }
          ],
          "mesh3d": [
           {
            "colorbar": {
             "outlinewidth": 0,
             "ticks": ""
            },
            "type": "mesh3d"
           }
          ],
          "parcoords": [
           {
            "line": {
             "colorbar": {
              "outlinewidth": 0,
              "ticks": ""
             }
            },
            "type": "parcoords"
           }
          ],
          "pie": [
           {
            "automargin": true,
            "type": "pie"
           }
          ],
          "scatter": [
           {
            "fillpattern": {
             "fillmode": "overlay",
             "size": 10,
             "solidity": 0.2
            },
            "type": "scatter"
           }
          ],
          "scatter3d": [
           {
            "line": {
             "colorbar": {
              "outlinewidth": 0,
              "ticks": ""
             }
            },
            "marker": {
             "colorbar": {
              "outlinewidth": 0,
              "ticks": ""
             }
            },
            "type": "scatter3d"
           }
          ],
          "scattercarpet": [
           {
            "marker": {
             "colorbar": {
              "outlinewidth": 0,
              "ticks": ""
             }
            },
            "type": "scattercarpet"
           }
          ],
          "scattergeo": [
           {
            "marker": {
             "colorbar": {
              "outlinewidth": 0,
              "ticks": ""
             }
            },
            "type": "scattergeo"
           }
          ],
          "scattergl": [
           {
            "marker": {
             "colorbar": {
              "outlinewidth": 0,
              "ticks": ""
             }
            },
            "type": "scattergl"
           }
          ],
          "scattermapbox": [
           {
            "marker": {
             "colorbar": {
              "outlinewidth": 0,
              "ticks": ""
             }
            },
            "type": "scattermapbox"
           }
          ],
          "scatterpolar": [
           {
            "marker": {
             "colorbar": {
              "outlinewidth": 0,
              "ticks": ""
             }
            },
            "type": "scatterpolar"
           }
          ],
          "scatterpolargl": [
           {
            "marker": {
             "colorbar": {
              "outlinewidth": 0,
              "ticks": ""
             }
            },
            "type": "scatterpolargl"
           }
          ],
          "scatterternary": [
           {
            "marker": {
             "colorbar": {
              "outlinewidth": 0,
              "ticks": ""
             }
            },
            "type": "scatterternary"
           }
          ],
          "surface": [
           {
            "colorbar": {
             "outlinewidth": 0,
             "ticks": ""
            },
            "colorscale": [
             [
              0,
              "#0d0887"
             ],
             [
              0.1111111111111111,
              "#46039f"
             ],
             [
              0.2222222222222222,
              "#7201a8"
             ],
             [
              0.3333333333333333,
              "#9c179e"
             ],
             [
              0.4444444444444444,
              "#bd3786"
             ],
             [
              0.5555555555555556,
              "#d8576b"
             ],
             [
              0.6666666666666666,
              "#ed7953"
             ],
             [
              0.7777777777777778,
              "#fb9f3a"
             ],
             [
              0.8888888888888888,
              "#fdca26"
             ],
             [
              1,
              "#f0f921"
             ]
            ],
            "type": "surface"
           }
          ],
          "table": [
           {
            "cells": {
             "fill": {
              "color": "#EBF0F8"
             },
             "line": {
              "color": "white"
             }
            },
            "header": {
             "fill": {
              "color": "#C8D4E3"
             },
             "line": {
              "color": "white"
             }
            },
            "type": "table"
           }
          ]
         },
         "layout": {
          "annotationdefaults": {
           "arrowcolor": "#2a3f5f",
           "arrowhead": 0,
           "arrowwidth": 1
          },
          "autotypenumbers": "strict",
          "coloraxis": {
           "colorbar": {
            "outlinewidth": 0,
            "ticks": ""
           }
          },
          "colorscale": {
           "diverging": [
            [
             0,
             "#8e0152"
            ],
            [
             0.1,
             "#c51b7d"
            ],
            [
             0.2,
             "#de77ae"
            ],
            [
             0.3,
             "#f1b6da"
            ],
            [
             0.4,
             "#fde0ef"
            ],
            [
             0.5,
             "#f7f7f7"
            ],
            [
             0.6,
             "#e6f5d0"
            ],
            [
             0.7,
             "#b8e186"
            ],
            [
             0.8,
             "#7fbc41"
            ],
            [
             0.9,
             "#4d9221"
            ],
            [
             1,
             "#276419"
            ]
           ],
           "sequential": [
            [
             0,
             "#0d0887"
            ],
            [
             0.1111111111111111,
             "#46039f"
            ],
            [
             0.2222222222222222,
             "#7201a8"
            ],
            [
             0.3333333333333333,
             "#9c179e"
            ],
            [
             0.4444444444444444,
             "#bd3786"
            ],
            [
             0.5555555555555556,
             "#d8576b"
            ],
            [
             0.6666666666666666,
             "#ed7953"
            ],
            [
             0.7777777777777778,
             "#fb9f3a"
            ],
            [
             0.8888888888888888,
             "#fdca26"
            ],
            [
             1,
             "#f0f921"
            ]
           ],
           "sequentialminus": [
            [
             0,
             "#0d0887"
            ],
            [
             0.1111111111111111,
             "#46039f"
            ],
            [
             0.2222222222222222,
             "#7201a8"
            ],
            [
             0.3333333333333333,
             "#9c179e"
            ],
            [
             0.4444444444444444,
             "#bd3786"
            ],
            [
             0.5555555555555556,
             "#d8576b"
            ],
            [
             0.6666666666666666,
             "#ed7953"
            ],
            [
             0.7777777777777778,
             "#fb9f3a"
            ],
            [
             0.8888888888888888,
             "#fdca26"
            ],
            [
             1,
             "#f0f921"
            ]
           ]
          },
          "colorway": [
           "#636efa",
           "#EF553B",
           "#00cc96",
           "#ab63fa",
           "#FFA15A",
           "#19d3f3",
           "#FF6692",
           "#B6E880",
           "#FF97FF",
           "#FECB52"
          ],
          "font": {
           "color": "#2a3f5f"
          },
          "geo": {
           "bgcolor": "white",
           "lakecolor": "white",
           "landcolor": "#E5ECF6",
           "showlakes": true,
           "showland": true,
           "subunitcolor": "white"
          },
          "hoverlabel": {
           "align": "left"
          },
          "hovermode": "closest",
          "mapbox": {
           "style": "light"
          },
          "paper_bgcolor": "white",
          "plot_bgcolor": "#E5ECF6",
          "polar": {
           "angularaxis": {
            "gridcolor": "white",
            "linecolor": "white",
            "ticks": ""
           },
           "bgcolor": "#E5ECF6",
           "radialaxis": {
            "gridcolor": "white",
            "linecolor": "white",
            "ticks": ""
           }
          },
          "scene": {
           "xaxis": {
            "backgroundcolor": "#E5ECF6",
            "gridcolor": "white",
            "gridwidth": 2,
            "linecolor": "white",
            "showbackground": true,
            "ticks": "",
            "zerolinecolor": "white"
           },
           "yaxis": {
            "backgroundcolor": "#E5ECF6",
            "gridcolor": "white",
            "gridwidth": 2,
            "linecolor": "white",
            "showbackground": true,
            "ticks": "",
            "zerolinecolor": "white"
           },
           "zaxis": {
            "backgroundcolor": "#E5ECF6",
            "gridcolor": "white",
            "gridwidth": 2,
            "linecolor": "white",
            "showbackground": true,
            "ticks": "",
            "zerolinecolor": "white"
           }
          },
          "shapedefaults": {
           "line": {
            "color": "#2a3f5f"
           }
          },
          "ternary": {
           "aaxis": {
            "gridcolor": "white",
            "linecolor": "white",
            "ticks": ""
           },
           "baxis": {
            "gridcolor": "white",
            "linecolor": "white",
            "ticks": ""
           },
           "bgcolor": "#E5ECF6",
           "caxis": {
            "gridcolor": "white",
            "linecolor": "white",
            "ticks": ""
           }
          },
          "title": {
           "x": 0.05
          },
          "xaxis": {
           "automargin": true,
           "gridcolor": "white",
           "linecolor": "white",
           "ticks": "",
           "title": {
            "standoff": 15
           },
           "zerolinecolor": "white",
           "zerolinewidth": 2
          },
          "yaxis": {
           "automargin": true,
           "gridcolor": "white",
           "linecolor": "white",
           "ticks": "",
           "title": {
            "standoff": 15
           },
           "zerolinecolor": "white",
           "zerolinewidth": 2
          }
         }
        }
       }
      }
     },
     "metadata": {},
     "output_type": "display_data"
    },
    {
     "name": "stdout",
     "output_type": "stream",
     "text": [
      "\n",
      " Nervio Asociado a cubierta de Cêch:\n"
     ]
    },
    {
     "data": {
      "text/plain": [
       "[{'0'},\n",
       " {'1'},\n",
       " {'2'},\n",
       " {'3'},\n",
       " {'4'},\n",
       " {'5'},\n",
       " {'6'},\n",
       " {'7'},\n",
       " {'8'},\n",
       " {'9'},\n",
       " {'1', '8'},\n",
       " {'2', '4'},\n",
       " {'3', '6'},\n",
       " {'5', '9'}]"
      ]
     },
     "execution_count": 5,
     "metadata": {},
     "output_type": "execute_result"
    }
   ],
   "source": [
    "def nervio_Cech_R3(nube, radio):\n",
    "  #Demostración gráfica de los radios\n",
    "  centers = [(x,y,z) for x,y,z in nube]\n",
    "  labels = [str(i) for i in range(len(nube))]\n",
    "  nervio = []\n",
    "\n",
    "  #ingresar todos los puntos dim 0 \n",
    "  for l in labels:\n",
    "    nervio.append(set([l]))\n",
    "\n",
    "  #lista de comprensión para dim 1\n",
    "  dim1 = [set([labels[i],labels[j]]) #par de puntos intersectados\n",
    "  for i in range(len(centers)) for j in range(i+1,len(centers))\n",
    "      #distancia entre los puntos es menor que su circunferencia\n",
    "  if (math.sqrt((centers[j][0] - centers[i][0])**2 + (centers[j][1] - centers[i][1])**2 + (centers[j][2] - centers[i][2])**2) < 2*radio)] \n",
    "\n",
    "  for par in dim1: #Agregar al nervio la lista\n",
    "    nervio.append(par)\n",
    "\n",
    "  #lista de comprensión para dim 2\n",
    "  dim2 = [dim1[i].union(dim1[j], dim1[k]) \n",
    "  for i in range(len(dim1)) for j in range(i+1, len(dim1)) for k in range(j+1, len(dim1))\n",
    "  if len(dim1[i].union(dim1[j], dim1[k])) == 3] #la union de conjuntos de dim1 debe ser 3 elementos\n",
    "\n",
    "  for par in dim2: #agregar al nervio la lista \n",
    "    nervio.append(par)\n",
    "\n",
    "\n",
    "  #=========================Gráficar bolas===================================\n",
    "  sphere_traces = []\n",
    "  u, v = np.mgrid[0:2*np.pi:20j, 0:np.pi:10j]\n",
    "  for i in range(len(centers)):\n",
    "      x, y, z = centers[i]\n",
    "      sphere_trace = go.Surface(\n",
    "          x=x+radio*np.sin(u)*np.cos(v),\n",
    "          y=y+radio*np.sin(u)*np.sin(v),\n",
    "          z=z+radio*np.cos(u),\n",
    "          opacity=0.8\n",
    "      )\n",
    "      sphere_traces.append(sphere_trace)\n",
    "\n",
    "  fig = go.Figure(data=sphere_traces)\n",
    "  fig.update_layout(scene=dict(\n",
    "                      xaxis=dict(title='X'),\n",
    "                      yaxis=dict(title='Y'),\n",
    "                      zaxis=dict(title='Z')))\n",
    "  fig.show()\n",
    "\n",
    "\n",
    "  print('\\n Nervio Asociado a cubierta de Cêch:')\n",
    "  return nervio\n",
    "nervio_Cech_R3(t, 0.4)"
   ]
  },
  {
   "cell_type": "markdown",
   "metadata": {
    "id": "Sw5shbJOm4_V"
   },
   "source": [
    "##### Generar una función cuyo input es la nube de puntos y un radio R, y el output es el nervio de Rips asociado al radio R."
   ]
  },
  {
   "cell_type": "code",
   "execution_count": 6,
   "metadata": {
    "colab": {
     "base_uri": "https://localhost:8080/",
     "height": 0
    },
    "id": "B4Fixbe9uHqo",
    "outputId": "776e783a-4cbe-46db-a6f7-d4ae09c0508f"
   },
   "outputs": [
    {
     "data": {
      "application/vnd.plotly.v1+json": {
       "config": {
        "plotlyServerURL": "https://plot.ly"
       },
       "data": [
        {
         "opacity": 0.8,
         "type": "surface",
         "x": [
          [
           0.18940390741065738,
           0.18940390741065738,
           0.18940390741065738,
           0.18940390741065738,
           0.18940390741065738,
           0.18940390741065738,
           0.18940390741065738,
           0.18940390741065738,
           0.18940390741065738,
           0.18940390741065738
          ],
          [
           0.31928369509253074,
           0.3114509854845543,
           0.2888975970378292,
           0.25434380125159406,
           0.21195729585738254,
           0.16685051896393224,
           0.12446401356972071,
           0.0899102177834856,
           0.06735682933676045,
           0.05952411972878399
          ],
          [
           0.43508899248652455,
           0.42027236889360786,
           0.37760960159023876,
           0.31224644994859097,
           0.23206667471402648,
           0.1467411401072883,
           0.06656136487272386,
           0.001198213231076023,
           -0.041464554072293075,
           -0.056281177665209764
          ],
          [
           0.5242704987156688,
           0.5040755722077073,
           0.4459265988660553,
           0.35683720306316313,
           0.24755288075230938,
           0.1312549340690054,
           0.021970611758151737,
           -0.06711878404474048,
           -0.1252677573863925,
           -0.14546268389435407
          ],
          [
           0.5771640137863896,
           0.5537792180070917,
           0.4864453821630108,
           0.38328396059852354,
           0.25673774325473836,
           0.12207007156657644,
           -0.004476145777208618,
           -0.107637567341696,
           -0.17497140318577697,
           -0.19835619896507478
          ],
          [
           0.5880377046133254,
           0.5639971450378707,
           0.49477511259717877,
           0.38872080601199144,
           0.25862593985134935,
           0.12018187496996544,
           -0.009912991190676512,
           -0.11596729777586395,
           -0.18518933021655598,
           -0.20922988979201057
          ],
          [
           0.5557132380726804,
           0.5336220823587857,
           0.4700131346269324,
           0.3725585727416689,
           0.2530128551425107,
           0.12579495967880408,
           0.006249242079645945,
           -0.09120531980561758,
           -0.1548142675374709,
           -0.17690542325136566
          ],
          [
           0.48369347167991006,
           0.4659456393287745,
           0.41484279278702374,
           0.3365486895452837,
           0.24050675395240811,
           0.1383010608689067,
           0.042259125276031095,
           -0.03603497796570895,
           -0.08713782450745966,
           -0.1048856568585953
          ],
          [
           0.3797828646254868,
           0.3683016086583488,
           0.3352426496718632,
           0.28459338601807216,
           0.22246286639714302,
           0.15634494842417174,
           0.09421442880324268,
           0.04356516514945161,
           0.010506206162965964,
           -0.0009750498041720956
          ],
          [
           0.255241743522951,
           0.2512712361738917,
           0.2398386159114579,
           0.2223228254668042,
           0.20083652767309118,
           0.17797128714822358,
           0.15648498935451058,
           0.13896919890985687,
           0.12753657864742307,
           0.12356607129836376
          ],
          [
           0.12356607129836386,
           0.12753657864742315,
           0.13896919890985696,
           0.1564849893545106,
           0.17797128714822358,
           0.20083652767309115,
           0.22232282546680412,
           0.2398386159114578,
           0.2512712361738916,
           0.2552417435229509
          ],
          [
           -0.0009750498041720124,
           0.01050620616296602,
           0.04356516514945166,
           0.09421442880324266,
           0.15634494842417174,
           0.222462866397143,
           0.28459338601807205,
           0.33524264967186307,
           0.3683016086583487,
           0.37978286462548677
          ],
          [
           -0.10488565685859513,
           -0.08713782450745955,
           -0.03603497796570884,
           0.042259125276031095,
           0.13830106086890667,
           0.24050675395240806,
           0.3365486895452836,
           0.4148427927870236,
           0.46594563932877425,
           0.4836934716799099
          ],
          [
           -0.17690542325136555,
           -0.15481426753747085,
           -0.09120531980561752,
           0.006249242079645889,
           0.12579495967880405,
           0.25301285514251065,
           0.37255857274166876,
           0.4700131346269323,
           0.5336220823587856,
           0.5557132380726804
          ],
          [
           -0.20922988979201057,
           -0.18518933021655598,
           -0.11596729777586401,
           -0.009912991190676651,
           0.1201818749699654,
           0.2586259398513493,
           0.38872080601199127,
           0.4947751125971787,
           0.5639971450378707,
           0.5880377046133254
          ],
          [
           -0.19835619896507484,
           -0.17497140318577709,
           -0.1076375673416961,
           -0.004476145777208784,
           0.1220700715665764,
           0.2567377432547383,
           0.38328396059852343,
           0.4864453821630108,
           0.5537792180070917,
           0.5771640137863896
          ],
          [
           -0.14546268389435413,
           -0.12526775738639256,
           -0.06711878404474059,
           0.021970611758151598,
           0.13125493406900537,
           0.24755288075230936,
           0.356837203063163,
           0.4459265988660553,
           0.5040755722077073,
           0.5242704987156689
          ],
          [
           -0.05628117766520985,
           -0.041464554072293186,
           0.0011982132310759397,
           0.06656136487272374,
           0.14674114010728828,
           0.23206667471402645,
           0.31224644994859097,
           0.3776096015902388,
           0.4202723688936079,
           0.4350889924865246
          ],
          [
           0.05952411972878388,
           0.06735682933676032,
           0.0899102177834855,
           0.12446401356972062,
           0.16685051896393222,
           0.21195729585738254,
           0.2543438012515941,
           0.28889759703782925,
           0.3114509854845544,
           0.31928369509253085
          ],
          [
           0.18940390741065727,
           0.1894039074106573,
           0.1894039074106573,
           0.18940390741065732,
           0.18940390741065735,
           0.1894039074106574,
           0.18940390741065743,
           0.18940390741065746,
           0.18940390741065746,
           0.1894039074106575
          ]
         ],
         "y": [
          [
           -0.711676121670624,
           -0.711676121670624,
           -0.711676121670624,
           -0.711676121670624,
           -0.711676121670624,
           -0.711676121670624,
           -0.711676121670624,
           -0.711676121670624,
           -0.711676121670624,
           -0.711676121670624
          ],
          [
           -0.711676121670624,
           -0.6672546180725623,
           -0.6281910033999973,
           -0.5991969260999924,
           -0.5837694998019356,
           -0.5837694998019356,
           -0.5991969260999924,
           -0.6281910033999973,
           -0.6672546180725623,
           -0.711676121670624
          ],
          [
           -0.711676121670624,
           -0.6276468736599968,
           -0.5537527930990733,
           -0.498906596663982,
           -0.4697235450884461,
           -0.4697235450884461,
           -0.49890659666398196,
           -0.5537527930990733,
           -0.6276468736599967,
           -0.711676121670624
          ],
          [
           -0.711676121670624,
           -0.5971450021175059,
           -0.49642802588179646,
           -0.42167314672178285,
           -0.3818969063286783,
           -0.3818969063286783,
           -0.42167314672178285,
           -0.49642802588179635,
           -0.5971450021175058,
           -0.711676121670624
          ],
          [
           -0.711676121670624,
           -0.5790543545120195,
           -0.4624287297615689,
           -0.3758660189750837,
           -0.32980696260296444,
           -0.32980696260296444,
           -0.37586601897508365,
           -0.46242872976156885,
           -0.5790543545120195,
           -0.711676121670624
          ],
          [
           -0.711676121670624,
           -0.575335333216912,
           -0.4554392560264524,
           -0.3664491264860595,
           -0.31909846757274035,
           -0.31909846757274035,
           -0.36644912648605943,
           -0.45543925602645235,
           -0.5753353332169119,
           -0.711676121670624
          ],
          [
           -0.711676121670624,
           -0.586390951896069,
           -0.47621702260850607,
           -0.39444293567403804,
           -0.3509318528339512,
           -0.3509318528339512,
           -0.39444293567403804,
           -0.476217022608506,
           -0.586390951896069,
           -0.711676121670624
          ],
          [
           -0.711676121670624,
           -0.6110231627200056,
           -0.522510436098298,
           -0.45681388294479797,
           -0.42185747714767946,
           -0.42185747714767946,
           -0.4568138829447979,
           -0.5225104360982978,
           -0.6110231627200056,
           -0.711676121670624
          ],
          [
           -0.711676121670624,
           -0.6465626834378166,
           -0.5893028868278878,
           -0.546803108376591,
           -0.5241894485950804,
           -0.5241894485950804,
           -0.546803108376591,
           -0.5893028868278878,
           -0.6465626834378166,
           -0.711676121670624
          ],
          [
           -0.711676121670624,
           -0.6891582555272454,
           -0.6693563763690686,
           -0.6546588830671812,
           -0.6468385102256902,
           -0.6468385102256902,
           -0.6546588830671812,
           -0.6693563763690686,
           -0.6891582555272454,
           -0.711676121670624
          ],
          [
           -0.711676121670624,
           -0.7341939878140025,
           -0.7539958669721792,
           -0.7686933602740667,
           -0.7765137331155578,
           -0.7765137331155578,
           -0.7686933602740667,
           -0.7539958669721792,
           -0.7341939878140025,
           -0.711676121670624
          ],
          [
           -0.711676121670624,
           -0.7767895599034313,
           -0.8340493565133601,
           -0.876549134964657,
           -0.8991627947461674,
           -0.8991627947461674,
           -0.876549134964657,
           -0.8340493565133602,
           -0.7767895599034313,
           -0.711676121670624
          ],
          [
           -0.711676121670624,
           -0.8123290806212423,
           -0.90084180724295,
           -0.9665383603964499,
           -1.0014947661935683,
           -1.0014947661935683,
           -0.9665383603964499,
           -0.90084180724295,
           -0.8123290806212424,
           -0.711676121670624
          ],
          [
           -0.711676121670624,
           -0.8369612914451788,
           -0.9471352207327418,
           -1.0289093076672098,
           -1.0724203905072967,
           -1.0724203905072967,
           -1.02890930766721,
           -0.9471352207327419,
           -0.836961291445179,
           -0.711676121670624
          ],
          [
           -0.711676121670624,
           -0.848016910124336,
           -0.9679129873147956,
           -1.0569031168551886,
           -1.1042537757685076,
           -1.1042537757685076,
           -1.0569031168551886,
           -0.9679129873147956,
           -0.8480169101243361,
           -0.711676121670624
          ],
          [
           -0.711676121670624,
           -0.8442978888292285,
           -0.9609235135796791,
           -1.0474862243661645,
           -1.0935452807382835,
           -1.0935452807382835,
           -1.0474862243661645,
           -0.9609235135796792,
           -0.8442978888292285,
           -0.711676121670624
          ],
          [
           -0.711676121670624,
           -0.8262072412237421,
           -0.9269242174594516,
           -1.001679096619465,
           -1.0414553370125699,
           -1.0414553370125699,
           -1.001679096619465,
           -0.9269242174594516,
           -0.8262072412237422,
           -0.711676121670624
          ],
          [
           -0.711676121670624,
           -0.7957053696812513,
           -0.8695994502421747,
           -0.924445646677266,
           -0.9536286982528019,
           -0.9536286982528019,
           -0.9244456466772661,
           -0.8695994502421748,
           -0.7957053696812513,
           -0.711676121670624
          ],
          [
           -0.711676121670624,
           -0.7560976252686857,
           -0.7951612399412507,
           -0.8241553172412557,
           -0.8395827435393125,
           -0.8395827435393125,
           -0.8241553172412557,
           -0.7951612399412508,
           -0.7560976252686858,
           -0.711676121670624
          ],
          [
           -0.711676121670624,
           -0.711676121670624,
           -0.7116761216706241,
           -0.7116761216706241,
           -0.7116761216706241,
           -0.7116761216706241,
           -0.7116761216706241,
           -0.7116761216706241,
           -0.711676121670624,
           -0.711676121670624
          ]
         ],
         "z": [
          [
           0.6976802341801249,
           0.6976802341801249,
           0.6976802341801249,
           0.6976802341801249,
           0.6976802341801249,
           0.6976802341801249,
           0.6976802341801249,
           0.6976802341801249,
           0.6976802341801249,
           0.6976802341801249
          ],
          [
           0.6760071308603788,
           0.6760071308603788,
           0.6760071308603788,
           0.6760071308603788,
           0.6760071308603788,
           0.6760071308603788,
           0.6760071308603788,
           0.6760071308603788,
           0.6760071308603788,
           0.6760071308603788
          ],
          [
           0.6133364379386823,
           0.6133364379386823,
           0.6133364379386823,
           0.6133364379386823,
           0.6133364379386823,
           0.6133364379386823,
           0.6133364379386823,
           0.6133364379386823,
           0.6133364379386823,
           0.6133364379386823
          ],
          [
           0.5164594974290957,
           0.5164594974290957,
           0.5164594974290957,
           0.5164594974290957,
           0.5164594974290957,
           0.5164594974290957,
           0.5164594974290957,
           0.5164594974290957,
           0.5164594974290957,
           0.5164594974290957
          ],
          [
           0.39587442903644454,
           0.39587442903644454,
           0.39587442903644454,
           0.39587442903644454,
           0.39587442903644454,
           0.39587442903644454,
           0.39587442903644454,
           0.39587442903644454,
           0.39587442903644454,
           0.39587442903644454
          ],
          [
           0.26464849599119195,
           0.26464849599119195,
           0.26464849599119195,
           0.26464849599119195,
           0.26464849599119195,
           0.26464849599119195,
           0.26464849599119195,
           0.26464849599119195,
           0.26464849599119195,
           0.26464849599119195
          ],
          [
           0.13700206431893713,
           0.13700206431893713,
           0.13700206431893713,
           0.13700206431893713,
           0.13700206431893713,
           0.13700206431893713,
           0.13700206431893713,
           0.13700206431893713,
           0.13700206431893713,
           0.13700206431893713
          ],
          [
           0.026767605529828487,
           0.026767605529828487,
           0.026767605529828487,
           0.026767605529828487,
           0.026767605529828487,
           0.026767605529828487,
           0.026767605529828487,
           0.026767605529828487,
           0.026767605529828487,
           0.026767605529828487
          ],
          [
           -0.05410926630247076,
           -0.05410926630247076,
           -0.05410926630247076,
           -0.05410926630247076,
           -0.05410926630247076,
           -0.05410926630247076,
           -0.05410926630247076,
           -0.05410926630247076,
           -0.05410926630247076,
           -0.05410926630247076
          ],
          [
           -0.09686428718096413,
           -0.09686428718096413,
           -0.09686428718096413,
           -0.09686428718096413,
           -0.09686428718096413,
           -0.09686428718096413,
           -0.09686428718096413,
           -0.09686428718096413,
           -0.09686428718096413,
           -0.09686428718096413
          ],
          [
           -0.09686428718096413,
           -0.09686428718096413,
           -0.09686428718096413,
           -0.09686428718096413,
           -0.09686428718096413,
           -0.09686428718096413,
           -0.09686428718096413,
           -0.09686428718096413,
           -0.09686428718096413,
           -0.09686428718096413
          ],
          [
           -0.054109266302470815,
           -0.054109266302470815,
           -0.054109266302470815,
           -0.054109266302470815,
           -0.054109266302470815,
           -0.054109266302470815,
           -0.054109266302470815,
           -0.054109266302470815,
           -0.054109266302470815,
           -0.054109266302470815
          ],
          [
           0.026767605529828264,
           0.026767605529828264,
           0.026767605529828264,
           0.026767605529828264,
           0.026767605529828264,
           0.026767605529828264,
           0.026767605529828264,
           0.026767605529828264,
           0.026767605529828264,
           0.026767605529828264
          ],
          [
           0.13700206431893688,
           0.13700206431893688,
           0.13700206431893688,
           0.13700206431893688,
           0.13700206431893688,
           0.13700206431893688,
           0.13700206431893688,
           0.13700206431893688,
           0.13700206431893688,
           0.13700206431893688
          ],
          [
           0.2646484959911918,
           0.2646484959911918,
           0.2646484959911918,
           0.2646484959911918,
           0.2646484959911918,
           0.2646484959911918,
           0.2646484959911918,
           0.2646484959911918,
           0.2646484959911918,
           0.2646484959911918
          ],
          [
           0.3958744290364444,
           0.3958744290364444,
           0.3958744290364444,
           0.3958744290364444,
           0.3958744290364444,
           0.3958744290364444,
           0.3958744290364444,
           0.3958744290364444,
           0.3958744290364444,
           0.3958744290364444
          ],
          [
           0.5164594974290955,
           0.5164594974290955,
           0.5164594974290955,
           0.5164594974290955,
           0.5164594974290955,
           0.5164594974290955,
           0.5164594974290955,
           0.5164594974290955,
           0.5164594974290955,
           0.5164594974290955
          ],
          [
           0.6133364379386822,
           0.6133364379386822,
           0.6133364379386822,
           0.6133364379386822,
           0.6133364379386822,
           0.6133364379386822,
           0.6133364379386822,
           0.6133364379386822,
           0.6133364379386822,
           0.6133364379386822
          ],
          [
           0.6760071308603788,
           0.6760071308603788,
           0.6760071308603788,
           0.6760071308603788,
           0.6760071308603788,
           0.6760071308603788,
           0.6760071308603788,
           0.6760071308603788,
           0.6760071308603788,
           0.6760071308603788
          ],
          [
           0.6976802341801249,
           0.6976802341801249,
           0.6976802341801249,
           0.6976802341801249,
           0.6976802341801249,
           0.6976802341801249,
           0.6976802341801249,
           0.6976802341801249,
           0.6976802341801249,
           0.6976802341801249
          ]
         ]
        },
        {
         "opacity": 0.8,
         "type": "surface",
         "x": [
          [
           -0.544433611483319,
           -0.544433611483319,
           -0.544433611483319,
           -0.544433611483319,
           -0.544433611483319,
           -0.544433611483319,
           -0.544433611483319,
           -0.544433611483319,
           -0.544433611483319,
           -0.544433611483319
          ],
          [
           -0.4145538238014457,
           -0.4223865334094221,
           -0.4449399218561472,
           -0.47949371764238236,
           -0.5218802230365939,
           -0.5669869999300442,
           -0.6093735053242557,
           -0.6439273011104908,
           -0.666480689557216,
           -0.6743133991651924
          ],
          [
           -0.29874852640745186,
           -0.31356515000036855,
           -0.35622791730373765,
           -0.42159106894538545,
           -0.50177084417995,
           -0.5870963787866881,
           -0.6672761540212525,
           -0.7326393056629004,
           -0.7753020729662695,
           -0.7901186965591862
          ],
          [
           -0.20956702017830758,
           -0.22976194668626915,
           -0.2879109200279211,
           -0.3770003158308133,
           -0.486284638141667,
           -0.602582584824971,
           -0.7118669071358247,
           -0.8009563029387169,
           -0.8591052762803689,
           -0.8793002027883305
          ],
          [
           -0.15667350510758687,
           -0.18005830088688463,
           -0.2473921367309656,
           -0.35055355829545287,
           -0.47709977563923806,
           -0.6117674473274,
           -0.738313664671185,
           -0.8414750862356724,
           -0.9088089220797534,
           -0.9321937178590511
          ],
          [
           -0.14579981428065109,
           -0.16984037385610568,
           -0.23906240629679765,
           -0.345116712881985,
           -0.47521157904262706,
           -0.613655643924011,
           -0.7437505100846529,
           -0.8498048166698404,
           -0.9190268491105325,
           -0.9430674086859869
          ],
          [
           -0.178124280821296,
           -0.2002154365351907,
           -0.263824384267044,
           -0.3612789461523075,
           -0.4808246637514657,
           -0.6080425592151724,
           -0.7275882768143305,
           -0.825042838699594,
           -0.8886517864314474,
           -0.9107429421453421
          ],
          [
           -0.25014404721406636,
           -0.26789187956520194,
           -0.3189947261069527,
           -0.3972888293486927,
           -0.4933307649415683,
           -0.5955364580250697,
           -0.6915783936179454,
           -0.7698724968596854,
           -0.8209753434014361,
           -0.8387231757525717
          ],
          [
           -0.3540546542684896,
           -0.3655359102356276,
           -0.39859486922211324,
           -0.44924413287590426,
           -0.5113746524968333,
           -0.5774925704698046,
           -0.6396230900907337,
           -0.6902723537445248,
           -0.7233313127310105,
           -0.7348125686981485
          ],
          [
           -0.47859577537102543,
           -0.4825662827200847,
           -0.49399890298251853,
           -0.5115146934271723,
           -0.5330009912208852,
           -0.5558662317457528,
           -0.5773525295394658,
           -0.5948683199841195,
           -0.6063009402465533,
           -0.6102714475956127
          ],
          [
           -0.6102714475956126,
           -0.6063009402465532,
           -0.5948683199841195,
           -0.5773525295394658,
           -0.5558662317457528,
           -0.5330009912208853,
           -0.5115146934271723,
           -0.4939989029825186,
           -0.48256628272008484,
           -0.4785957753710255
          ],
          [
           -0.7348125686981484,
           -0.7233313127310104,
           -0.6902723537445248,
           -0.6396230900907338,
           -0.5774925704698046,
           -0.5113746524968334,
           -0.44924413287590437,
           -0.39859486922211335,
           -0.3655359102356277,
           -0.35405465426848964
          ],
          [
           -0.8387231757525715,
           -0.820975343401436,
           -0.7698724968596853,
           -0.6915783936179454,
           -0.5955364580250697,
           -0.49333076494156836,
           -0.3972888293486928,
           -0.31899472610695284,
           -0.26789187956520216,
           -0.2501440472140665
          ],
          [
           -0.9107429421453419,
           -0.8886517864314473,
           -0.8250428386995939,
           -0.7275882768143305,
           -0.6080425592151724,
           -0.48082466375146576,
           -0.36127894615230766,
           -0.26382438426704413,
           -0.2002154365351908,
           -0.1781242808212961
          ],
          [
           -0.9430674086859869,
           -0.9190268491105325,
           -0.8498048166698404,
           -0.7437505100846531,
           -0.6136556439240111,
           -0.4752115790426271,
           -0.34511671288198514,
           -0.2390624062967977,
           -0.16984037385610568,
           -0.14579981428065109
          ],
          [
           -0.9321937178590513,
           -0.9088089220797535,
           -0.8414750862356726,
           -0.7383136646711852,
           -0.6117674473274,
           -0.4770997756392381,
           -0.350553558295453,
           -0.2473921367309656,
           -0.18005830088688463,
           -0.15667350510758682
          ],
          [
           -0.8793002027883305,
           -0.859105276280369,
           -0.800956302938717,
           -0.7118669071358248,
           -0.6025825848249711,
           -0.48628463814166706,
           -0.3770003158308134,
           -0.2879109200279211,
           -0.2297619466862691,
           -0.20956702017830753
          ],
          [
           -0.7901186965591862,
           -0.7753020729662696,
           -0.7326393056629005,
           -0.6672761540212526,
           -0.5870963787866882,
           -0.50177084417995,
           -0.42159106894538545,
           -0.3562279173037376,
           -0.3135651500003685,
           -0.2987485264074518
          ],
          [
           -0.6743133991651925,
           -0.6664806895572161,
           -0.6439273011104909,
           -0.6093735053242558,
           -0.5669869999300442,
           -0.5218802230365939,
           -0.4794937176423823,
           -0.44493992185614717,
           -0.422386533409422,
           -0.41455382380144556
          ],
          [
           -0.5444336114833191,
           -0.5444336114833191,
           -0.5444336114833191,
           -0.544433611483319,
           -0.544433611483319,
           -0.544433611483319,
           -0.544433611483319,
           -0.5444336114833189,
           -0.5444336114833189,
           -0.5444336114833189
          ]
         ],
         "y": [
          [
           -0.07106260403025363,
           -0.07106260403025363,
           -0.07106260403025363,
           -0.07106260403025363,
           -0.07106260403025363,
           -0.07106260403025363,
           -0.07106260403025363,
           -0.07106260403025363,
           -0.07106260403025363,
           -0.07106260403025363
          ],
          [
           -0.07106260403025363,
           -0.026641100432191873,
           0.012422514240372981,
           0.041416591540377926,
           0.05684401783843476,
           0.05684401783843476,
           0.04141659154037794,
           0.012422514240373009,
           -0.026641100432191853,
           -0.07106260403025362
          ],
          [
           -0.07106260403025363,
           0.01296664398037356,
           0.08686072454129704,
           0.14170692097638835,
           0.17088997255192426,
           0.17088997255192426,
           0.14170692097638837,
           0.08686072454129709,
           0.012966643980373602,
           -0.0710626040302536
          ],
          [
           -0.07106260403025363,
           0.043468515522864515,
           0.14418549175857392,
           0.2189403709185875,
           0.2587166113116921,
           0.2587166113116921,
           0.2189403709185875,
           0.144185491758574,
           0.04346851552286457,
           -0.07106260403025359
          ],
          [
           -0.07106260403025363,
           0.06155916312835083,
           0.17818478787880143,
           0.2647474986652867,
           0.31080655503740595,
           0.31080655503740595,
           0.2647474986652867,
           0.17818478787880151,
           0.061559163128350886,
           -0.07106260403025359
          ],
          [
           -0.07106260403025363,
           0.06527818442345842,
           0.18517426161391795,
           0.2741643911543109,
           0.32151505006763004,
           0.32151505006763004,
           0.2741643911543109,
           0.185174261613918,
           0.06527818442345848,
           -0.07106260403025358
          ],
          [
           -0.07106260403025363,
           0.05422256574430126,
           0.16439649503186426,
           0.24617058196633232,
           0.2896816648064192,
           0.2896816648064192,
           0.24617058196633232,
           0.16439649503186435,
           0.054222565744301315,
           -0.07106260403025359
          ],
          [
           -0.07106260403025363,
           0.029590354920364756,
           0.11810308154207247,
           0.1837996346955724,
           0.2187560404926909,
           0.2187560404926909,
           0.18379963469557245,
           0.11810308154207252,
           0.02959035492036481,
           -0.07106260403025359
          ],
          [
           -0.07106260403025363,
           -0.00594916579744631,
           0.051310630812482536,
           0.09381040926377943,
           0.11642406904528987,
           0.11642406904528987,
           0.09381040926377945,
           0.05131063081248258,
           -0.005949165797446268,
           -0.0710626040302536
          ],
          [
           -0.07106260403025363,
           -0.048544737886875085,
           -0.028742858728698306,
           -0.014045365426810862,
           -0.00622499258531975,
           -0.00622499258531975,
           -0.014045365426810855,
           -0.028742858728698292,
           -0.04854473788687508,
           -0.07106260403025362
          ],
          [
           -0.07106260403025363,
           -0.09358047017363215,
           -0.11338234933180891,
           -0.12807984263369632,
           -0.13590021547518744,
           -0.13590021547518744,
           -0.12807984263369632,
           -0.11338234933180891,
           -0.09358047017363216,
           -0.07106260403025365
          ],
          [
           -0.07106260403025363,
           -0.13617604226306093,
           -0.19343583887298976,
           -0.2359356173242866,
           -0.25854927710579706,
           -0.25854927710579706,
           -0.23593561732428664,
           -0.1934358388729898,
           -0.13617604226306096,
           -0.07106260403025366
          ],
          [
           -0.07106260403025363,
           -0.17171556298087198,
           -0.2602282896025796,
           -0.3259248427560796,
           -0.36088124855319803,
           -0.36088124855319803,
           -0.3259248427560796,
           -0.2602282896025797,
           -0.17171556298087204,
           -0.07106260403025368
          ],
          [
           -0.07106260403025363,
           -0.1963477738048085,
           -0.3065217030923715,
           -0.38829579002683945,
           -0.4318068728669263,
           -0.4318068728669263,
           -0.38829579002683956,
           -0.3065217030923716,
           -0.19634777380480856,
           -0.07106260403025368
          ],
          [
           -0.07106260403025363,
           -0.2074033924839657,
           -0.32729946967442525,
           -0.4162895992148181,
           -0.46364025812813725,
           -0.46364025812813725,
           -0.41628959921481823,
           -0.32729946967442525,
           -0.20740339248396575,
           -0.07106260403025369
          ],
          [
           -0.07106260403025363,
           -0.20368437118885813,
           -0.32030999593930876,
           -0.406872706725794,
           -0.4529317630979133,
           -0.4529317630979133,
           -0.406872706725794,
           -0.3203099959393088,
           -0.20368437118885818,
           -0.07106260403025368
          ],
          [
           -0.07106260403025363,
           -0.18559372358337178,
           -0.2863106998190812,
           -0.36106557897909475,
           -0.4008418193721994,
           -0.4008418193721994,
           -0.36106557897909486,
           -0.2863106998190813,
           -0.18559372358337184,
           -0.07106260403025368
          ],
          [
           -0.07106260403025363,
           -0.15509185204088086,
           -0.22898593260180436,
           -0.2838321290368957,
           -0.3130151806124316,
           -0.3130151806124316,
           -0.2838321290368957,
           -0.22898593260180441,
           -0.15509185204088088,
           -0.07106260403025366
          ],
          [
           -0.07106260403025363,
           -0.11548410762831543,
           -0.15454772230088032,
           -0.1835417996008853,
           -0.19896922589894211,
           -0.19896922589894211,
           -0.1835417996008853,
           -0.15454772230088037,
           -0.11548410762831546,
           -0.07106260403025365
          ],
          [
           -0.07106260403025363,
           -0.07106260403025366,
           -0.0710626040302537,
           -0.07106260403025372,
           -0.07106260403025373,
           -0.07106260403025373,
           -0.07106260403025372,
           -0.0710626040302537,
           -0.07106260403025366,
           -0.07106260403025363
          ]
         ],
         "z": [
          [
           -0.29461749361353573,
           -0.29461749361353573,
           -0.29461749361353573,
           -0.29461749361353573,
           -0.29461749361353573,
           -0.29461749361353573,
           -0.29461749361353573,
           -0.29461749361353573,
           -0.29461749361353573,
           -0.29461749361353573
          ],
          [
           -0.3162905969332819,
           -0.3162905969332819,
           -0.3162905969332819,
           -0.3162905969332819,
           -0.3162905969332819,
           -0.3162905969332819,
           -0.3162905969332819,
           -0.3162905969332819,
           -0.3162905969332819,
           -0.3162905969332819
          ],
          [
           -0.3789612898549783,
           -0.3789612898549783,
           -0.3789612898549783,
           -0.3789612898549783,
           -0.3789612898549783,
           -0.3789612898549783,
           -0.3789612898549783,
           -0.3789612898549783,
           -0.3789612898549783,
           -0.3789612898549783
          ],
          [
           -0.47583823036456496,
           -0.47583823036456496,
           -0.47583823036456496,
           -0.47583823036456496,
           -0.47583823036456496,
           -0.47583823036456496,
           -0.47583823036456496,
           -0.47583823036456496,
           -0.47583823036456496,
           -0.47583823036456496
          ],
          [
           -0.596423298757216,
           -0.596423298757216,
           -0.596423298757216,
           -0.596423298757216,
           -0.596423298757216,
           -0.596423298757216,
           -0.596423298757216,
           -0.596423298757216,
           -0.596423298757216,
           -0.596423298757216
          ],
          [
           -0.7276492318024687,
           -0.7276492318024687,
           -0.7276492318024687,
           -0.7276492318024687,
           -0.7276492318024687,
           -0.7276492318024687,
           -0.7276492318024687,
           -0.7276492318024687,
           -0.7276492318024687,
           -0.7276492318024687
          ],
          [
           -0.8552956634747235,
           -0.8552956634747235,
           -0.8552956634747235,
           -0.8552956634747235,
           -0.8552956634747235,
           -0.8552956634747235,
           -0.8552956634747235,
           -0.8552956634747235,
           -0.8552956634747235,
           -0.8552956634747235
          ],
          [
           -0.9655301222638322,
           -0.9655301222638322,
           -0.9655301222638322,
           -0.9655301222638322,
           -0.9655301222638322,
           -0.9655301222638322,
           -0.9655301222638322,
           -0.9655301222638322,
           -0.9655301222638322,
           -0.9655301222638322
          ],
          [
           -1.0464069940961314,
           -1.0464069940961314,
           -1.0464069940961314,
           -1.0464069940961314,
           -1.0464069940961314,
           -1.0464069940961314,
           -1.0464069940961314,
           -1.0464069940961314,
           -1.0464069940961314,
           -1.0464069940961314
          ],
          [
           -1.0891620149746246,
           -1.0891620149746246,
           -1.0891620149746246,
           -1.0891620149746246,
           -1.0891620149746246,
           -1.0891620149746246,
           -1.0891620149746246,
           -1.0891620149746246,
           -1.0891620149746246,
           -1.0891620149746246
          ],
          [
           -1.0891620149746246,
           -1.0891620149746246,
           -1.0891620149746246,
           -1.0891620149746246,
           -1.0891620149746246,
           -1.0891620149746246,
           -1.0891620149746246,
           -1.0891620149746246,
           -1.0891620149746246,
           -1.0891620149746246
          ],
          [
           -1.0464069940961314,
           -1.0464069940961314,
           -1.0464069940961314,
           -1.0464069940961314,
           -1.0464069940961314,
           -1.0464069940961314,
           -1.0464069940961314,
           -1.0464069940961314,
           -1.0464069940961314,
           -1.0464069940961314
          ],
          [
           -0.9655301222638324,
           -0.9655301222638324,
           -0.9655301222638324,
           -0.9655301222638324,
           -0.9655301222638324,
           -0.9655301222638324,
           -0.9655301222638324,
           -0.9655301222638324,
           -0.9655301222638324,
           -0.9655301222638324
          ],
          [
           -0.8552956634747237,
           -0.8552956634747237,
           -0.8552956634747237,
           -0.8552956634747237,
           -0.8552956634747237,
           -0.8552956634747237,
           -0.8552956634747237,
           -0.8552956634747237,
           -0.8552956634747237,
           -0.8552956634747237
          ],
          [
           -0.7276492318024689,
           -0.7276492318024689,
           -0.7276492318024689,
           -0.7276492318024689,
           -0.7276492318024689,
           -0.7276492318024689,
           -0.7276492318024689,
           -0.7276492318024689,
           -0.7276492318024689,
           -0.7276492318024689
          ],
          [
           -0.5964232987572162,
           -0.5964232987572162,
           -0.5964232987572162,
           -0.5964232987572162,
           -0.5964232987572162,
           -0.5964232987572162,
           -0.5964232987572162,
           -0.5964232987572162,
           -0.5964232987572162,
           -0.5964232987572162
          ],
          [
           -0.4758382303645651,
           -0.4758382303645651,
           -0.4758382303645651,
           -0.4758382303645651,
           -0.4758382303645651,
           -0.4758382303645651,
           -0.4758382303645651,
           -0.4758382303645651,
           -0.4758382303645651,
           -0.4758382303645651
          ],
          [
           -0.3789612898549784,
           -0.3789612898549784,
           -0.3789612898549784,
           -0.3789612898549784,
           -0.3789612898549784,
           -0.3789612898549784,
           -0.3789612898549784,
           -0.3789612898549784,
           -0.3789612898549784,
           -0.3789612898549784
          ],
          [
           -0.3162905969332819,
           -0.3162905969332819,
           -0.3162905969332819,
           -0.3162905969332819,
           -0.3162905969332819,
           -0.3162905969332819,
           -0.3162905969332819,
           -0.3162905969332819,
           -0.3162905969332819,
           -0.3162905969332819
          ],
          [
           -0.29461749361353573,
           -0.29461749361353573,
           -0.29461749361353573,
           -0.29461749361353573,
           -0.29461749361353573,
           -0.29461749361353573,
           -0.29461749361353573,
           -0.29461749361353573,
           -0.29461749361353573,
           -0.29461749361353573
          ]
         ]
        },
        {
         "opacity": 0.8,
         "type": "surface",
         "x": [
          [
           -0.5831536454155357,
           -0.5831536454155357,
           -0.5831536454155357,
           -0.5831536454155357,
           -0.5831536454155357,
           -0.5831536454155357,
           -0.5831536454155357,
           -0.5831536454155357,
           -0.5831536454155357,
           -0.5831536454155357
          ],
          [
           -0.45327385773366236,
           -0.4611065673416388,
           -0.4836599557883639,
           -0.518213751574599,
           -0.5606002569688106,
           -0.6057070338622609,
           -0.6480935392564724,
           -0.6826473350427075,
           -0.7052007234894326,
           -0.7130334330974091
          ],
          [
           -0.33746856033966854,
           -0.35228518393258523,
           -0.39494795123595433,
           -0.46031110287760213,
           -0.5404908781121667,
           -0.6258164127189048,
           -0.7059961879534692,
           -0.771359339595117,
           -0.8140221068984862,
           -0.8288387304914029
          ],
          [
           -0.24828705411052426,
           -0.2684819806184858,
           -0.3266309539601378,
           -0.41572034976302996,
           -0.5250046720738837,
           -0.6413026187571876,
           -0.7505869410680414,
           -0.8396763368709336,
           -0.8978253102125856,
           -0.9180202367205472
          ],
          [
           -0.19539353903980355,
           -0.2187783348191013,
           -0.2861121706631823,
           -0.38927359222766955,
           -0.5158198095714548,
           -0.6504874812596166,
           -0.7770336986034017,
           -0.880195120167889,
           -0.9475289560119701,
           -0.9709137517912678
          ],
          [
           -0.18451984821286777,
           -0.20856040778832236,
           -0.2777824402290143,
           -0.38383674681420166,
           -0.5139316129748437,
           -0.6523756778562276,
           -0.7824705440168696,
           -0.8885248506020571,
           -0.9577468830427491,
           -0.9817874426182036
          ],
          [
           -0.21684431475351268,
           -0.23893547046740737,
           -0.3025444181992607,
           -0.39999898008452417,
           -0.5195446976836824,
           -0.646762593147389,
           -0.7663083107465471,
           -0.8637628726318107,
           -0.9273718203636641,
           -0.9494629760775588
          ],
          [
           -0.28886408114628304,
           -0.3066119134974186,
           -0.35771476003916935,
           -0.4360088632809094,
           -0.532050798873785,
           -0.6342564919572864,
           -0.730298427550162,
           -0.8085925307919021,
           -0.8596953773336528,
           -0.8774432096847884
          ],
          [
           -0.39277468820070627,
           -0.40425594416784427,
           -0.4373149031543299,
           -0.48796416680812094,
           -0.55009468642905,
           -0.6162126044020213,
           -0.6783431240229504,
           -0.7289923876767415,
           -0.7620513466632272,
           -0.7735326026303652
          ],
          [
           -0.5173158093032421,
           -0.5212863166523014,
           -0.5327189369147353,
           -0.5502347273593889,
           -0.5717210251531019,
           -0.5945862656779695,
           -0.6160725634716825,
           -0.6335883539163362,
           -0.64502097417877,
           -0.6489914815278294
          ],
          [
           -0.6489914815278293,
           -0.6450209741787699,
           -0.6335883539163362,
           -0.6160725634716825,
           -0.5945862656779695,
           -0.571721025153102,
           -0.5502347273593889,
           -0.5327189369147353,
           -0.5212863166523015,
           -0.5173158093032422
          ],
          [
           -0.773532602630365,
           -0.762051346663227,
           -0.7289923876767415,
           -0.6783431240229505,
           -0.6162126044020213,
           -0.5500946864290501,
           -0.48796416680812105,
           -0.43731490315433,
           -0.4042559441678444,
           -0.3927746882007063
          ],
          [
           -0.8774432096847882,
           -0.8596953773336526,
           -0.808592530791902,
           -0.730298427550162,
           -0.6342564919572864,
           -0.532050798873785,
           -0.4360088632809095,
           -0.3577147600391695,
           -0.30661191349741884,
           -0.2888640811462832
          ],
          [
           -0.9494629760775586,
           -0.927371820363664,
           -0.8637628726318106,
           -0.7663083107465471,
           -0.646762593147389,
           -0.5195446976836824,
           -0.39999898008452434,
           -0.3025444181992608,
           -0.23893547046740748,
           -0.2168443147535128
          ],
          [
           -0.9817874426182036,
           -0.9577468830427491,
           -0.8885248506020571,
           -0.7824705440168698,
           -0.6523756778562277,
           -0.5139316129748438,
           -0.3838367468142018,
           -0.2777824402290144,
           -0.20856040778832236,
           -0.18451984821286777
          ],
          [
           -0.9709137517912679,
           -0.9475289560119702,
           -0.8801951201678893,
           -0.7770336986034019,
           -0.6504874812596166,
           -0.5158198095714548,
           -0.38927359222766966,
           -0.2861121706631823,
           -0.2187783348191013,
           -0.1953935390398035
          ],
          [
           -0.9180202367205472,
           -0.8978253102125857,
           -0.8396763368709337,
           -0.7505869410680415,
           -0.6413026187571877,
           -0.5250046720738837,
           -0.4157203497630301,
           -0.3266309539601378,
           -0.26848198061848577,
           -0.2482870541105242
          ],
          [
           -0.8288387304914029,
           -0.8140221068984863,
           -0.7713593395951172,
           -0.7059961879534693,
           -0.6258164127189049,
           -0.5404908781121667,
           -0.46031110287760213,
           -0.3949479512359543,
           -0.3522851839325852,
           -0.3374685603396685
          ],
          [
           -0.7130334330974092,
           -0.7052007234894327,
           -0.6826473350427076,
           -0.6480935392564725,
           -0.6057070338622609,
           -0.5606002569688106,
           -0.518213751574599,
           -0.48365995578836385,
           -0.4611065673416387,
           -0.45327385773366224
          ],
          [
           -0.5831536454155358,
           -0.5831536454155358,
           -0.5831536454155358,
           -0.5831536454155357,
           -0.5831536454155357,
           -0.5831536454155357,
           -0.5831536454155357,
           -0.5831536454155356,
           -0.5831536454155356,
           -0.5831536454155356
          ]
         ],
         "y": [
          [
           -0.41887734416284456,
           -0.41887734416284456,
           -0.41887734416284456,
           -0.41887734416284456,
           -0.41887734416284456,
           -0.41887734416284456,
           -0.41887734416284456,
           -0.41887734416284456,
           -0.41887734416284456,
           -0.41887734416284456
          ],
          [
           -0.41887734416284456,
           -0.3744558405647828,
           -0.33539222589221795,
           -0.306398148592213,
           -0.29097072229415616,
           -0.29097072229415616,
           -0.306398148592213,
           -0.3353922258922179,
           -0.37445584056478276,
           -0.41887734416284456
          ],
          [
           -0.41887734416284456,
           -0.33484809615221733,
           -0.2609540155912939,
           -0.20610781915620258,
           -0.17692476758066666,
           -0.17692476758066666,
           -0.20610781915620255,
           -0.26095401559129383,
           -0.33484809615221733,
           -0.4188773441628445
          ],
          [
           -0.41887734416284456,
           -0.3043462246097264,
           -0.203629248374017,
           -0.12887436921400341,
           -0.08909812882089885,
           -0.08909812882089885,
           -0.12887436921400341,
           -0.2036292483740169,
           -0.3043462246097264,
           -0.4188773441628445
          ],
          [
           -0.41887734416284456,
           -0.2862555770042401,
           -0.1696299522537895,
           -0.08306724146730426,
           -0.037008185095185,
           -0.037008185095185,
           -0.08306724146730421,
           -0.1696299522537894,
           -0.28625557700424004,
           -0.4188773441628445
          ],
          [
           -0.41887734416284456,
           -0.2825365557091325,
           -0.16264047851867297,
           -0.07365034897828004,
           -0.026299690064960912,
           -0.026299690064960912,
           -0.07365034897827999,
           -0.16264047851867292,
           -0.28253655570913244,
           -0.4188773441628445
          ],
          [
           -0.41887734416284456,
           -0.29359217438828966,
           -0.18341824510072666,
           -0.1016441581662586,
           -0.058133075326171735,
           -0.058133075326171735,
           -0.1016441581662586,
           -0.18341824510072657,
           -0.2935921743882896,
           -0.4188773441628445
          ],
          [
           -0.41887734416284456,
           -0.3182243852122262,
           -0.22971165859051845,
           -0.16401510543701853,
           -0.12905869963990002,
           -0.12905869963990002,
           -0.16401510543701847,
           -0.2297116585905184,
           -0.3182243852122261,
           -0.4188773441628445
          ],
          [
           -0.41887734416284456,
           -0.35376390593003726,
           -0.2965041093201084,
           -0.25400433086881147,
           -0.23139067108730105,
           -0.23139067108730105,
           -0.25400433086881147,
           -0.29650410932010834,
           -0.3537639059300372,
           -0.41887734416284456
          ],
          [
           -0.41887734416284456,
           -0.396359478019466,
           -0.37655759886128926,
           -0.3618601055594018,
           -0.35403973271791067,
           -0.35403973271791067,
           -0.3618601055594018,
           -0.3765575988612892,
           -0.39635947801946597,
           -0.41887734416284456
          ],
          [
           -0.41887734416284456,
           -0.4413952103062231,
           -0.4611970894643998,
           -0.47589458276628727,
           -0.48371495560777833,
           -0.48371495560777833,
           -0.47589458276628727,
           -0.46119708946439986,
           -0.4413952103062231,
           -0.41887734416284456
          ],
          [
           -0.41887734416284456,
           -0.48399078239565185,
           -0.5412505790055807,
           -0.5837503574568775,
           -0.606364017238388,
           -0.606364017238388,
           -0.5837503574568775,
           -0.5412505790055807,
           -0.4839907823956519,
           -0.41887734416284456
          ],
          [
           -0.41887734416284456,
           -0.5195303031134629,
           -0.6080430297351705,
           -0.6737395828886705,
           -0.7086959886857889,
           -0.7086959886857889,
           -0.6737395828886705,
           -0.6080430297351707,
           -0.5195303031134629,
           -0.4188773441628446
          ],
          [
           -0.41887734416284456,
           -0.5441625139373995,
           -0.6543364432249624,
           -0.7361105301594304,
           -0.7796216129995173,
           -0.7796216129995173,
           -0.7361105301594304,
           -0.6543364432249625,
           -0.5441625139373995,
           -0.4188773441628446
          ],
          [
           -0.41887734416284456,
           -0.5552181326165566,
           -0.6751142098070162,
           -0.7641043393474091,
           -0.8114549982607282,
           -0.8114549982607282,
           -0.7641043393474092,
           -0.6751142098070162,
           -0.5552181326165566,
           -0.4188773441628446
          ],
          [
           -0.41887734416284456,
           -0.551499111321449,
           -0.6681247360718996,
           -0.7546874468583848,
           -0.8007465032305041,
           -0.8007465032305041,
           -0.754687446858385,
           -0.6681247360718997,
           -0.5514991113214491,
           -0.4188773441628446
          ],
          [
           -0.41887734416284456,
           -0.5334084637159627,
           -0.6341254399516721,
           -0.7088803191116857,
           -0.7486565595047903,
           -0.7486565595047903,
           -0.7088803191116857,
           -0.6341254399516723,
           -0.5334084637159627,
           -0.4188773441628446
          ],
          [
           -0.41887734416284456,
           -0.5029065921734718,
           -0.5768006727343953,
           -0.6316468691694866,
           -0.6608299207450226,
           -0.6608299207450226,
           -0.6316468691694866,
           -0.5768006727343953,
           -0.5029065921734718,
           -0.4188773441628446
          ],
          [
           -0.41887734416284456,
           -0.46329884776090635,
           -0.5023624624334713,
           -0.5313565397334762,
           -0.546783966031533,
           -0.546783966031533,
           -0.5313565397334762,
           -0.5023624624334713,
           -0.46329884776090635,
           -0.41887734416284456
          ],
          [
           -0.41887734416284456,
           -0.4188773441628446,
           -0.4188773441628446,
           -0.41887734416284467,
           -0.41887734416284467,
           -0.41887734416284467,
           -0.41887734416284467,
           -0.4188773441628446,
           -0.4188773441628446,
           -0.41887734416284456
          ]
         ],
         "z": [
          [
           0.8653385971135855,
           0.8653385971135855,
           0.8653385971135855,
           0.8653385971135855,
           0.8653385971135855,
           0.8653385971135855,
           0.8653385971135855,
           0.8653385971135855,
           0.8653385971135855,
           0.8653385971135855
          ],
          [
           0.8436654937938394,
           0.8436654937938394,
           0.8436654937938394,
           0.8436654937938394,
           0.8436654937938394,
           0.8436654937938394,
           0.8436654937938394,
           0.8436654937938394,
           0.8436654937938394,
           0.8436654937938394
          ],
          [
           0.780994800872143,
           0.780994800872143,
           0.780994800872143,
           0.780994800872143,
           0.780994800872143,
           0.780994800872143,
           0.780994800872143,
           0.780994800872143,
           0.780994800872143,
           0.780994800872143
          ],
          [
           0.6841178603625563,
           0.6841178603625563,
           0.6841178603625563,
           0.6841178603625563,
           0.6841178603625563,
           0.6841178603625563,
           0.6841178603625563,
           0.6841178603625563,
           0.6841178603625563,
           0.6841178603625563
          ],
          [
           0.5635327919699051,
           0.5635327919699051,
           0.5635327919699051,
           0.5635327919699051,
           0.5635327919699051,
           0.5635327919699051,
           0.5635327919699051,
           0.5635327919699051,
           0.5635327919699051,
           0.5635327919699051
          ],
          [
           0.4323068589246526,
           0.4323068589246526,
           0.4323068589246526,
           0.4323068589246526,
           0.4323068589246526,
           0.4323068589246526,
           0.4323068589246526,
           0.4323068589246526,
           0.4323068589246526,
           0.4323068589246526
          ],
          [
           0.3046604272523978,
           0.3046604272523978,
           0.3046604272523978,
           0.3046604272523978,
           0.3046604272523978,
           0.3046604272523978,
           0.3046604272523978,
           0.3046604272523978,
           0.3046604272523978,
           0.3046604272523978
          ],
          [
           0.19442596846328913,
           0.19442596846328913,
           0.19442596846328913,
           0.19442596846328913,
           0.19442596846328913,
           0.19442596846328913,
           0.19442596846328913,
           0.19442596846328913,
           0.19442596846328913,
           0.19442596846328913
          ],
          [
           0.11354909663098989,
           0.11354909663098989,
           0.11354909663098989,
           0.11354909663098989,
           0.11354909663098989,
           0.11354909663098989,
           0.11354909663098989,
           0.11354909663098989,
           0.11354909663098989,
           0.11354909663098989
          ],
          [
           0.07079407575249652,
           0.07079407575249652,
           0.07079407575249652,
           0.07079407575249652,
           0.07079407575249652,
           0.07079407575249652,
           0.07079407575249652,
           0.07079407575249652,
           0.07079407575249652,
           0.07079407575249652
          ],
          [
           0.07079407575249652,
           0.07079407575249652,
           0.07079407575249652,
           0.07079407575249652,
           0.07079407575249652,
           0.07079407575249652,
           0.07079407575249652,
           0.07079407575249652,
           0.07079407575249652,
           0.07079407575249652
          ],
          [
           0.11354909663098983,
           0.11354909663098983,
           0.11354909663098983,
           0.11354909663098983,
           0.11354909663098983,
           0.11354909663098983,
           0.11354909663098983,
           0.11354909663098983,
           0.11354909663098983,
           0.11354909663098983
          ],
          [
           0.1944259684632889,
           0.1944259684632889,
           0.1944259684632889,
           0.1944259684632889,
           0.1944259684632889,
           0.1944259684632889,
           0.1944259684632889,
           0.1944259684632889,
           0.1944259684632889,
           0.1944259684632889
          ],
          [
           0.3046604272523975,
           0.3046604272523975,
           0.3046604272523975,
           0.3046604272523975,
           0.3046604272523975,
           0.3046604272523975,
           0.3046604272523975,
           0.3046604272523975,
           0.3046604272523975,
           0.3046604272523975
          ],
          [
           0.43230685892465237,
           0.43230685892465237,
           0.43230685892465237,
           0.43230685892465237,
           0.43230685892465237,
           0.43230685892465237,
           0.43230685892465237,
           0.43230685892465237,
           0.43230685892465237,
           0.43230685892465237
          ],
          [
           0.563532791969905,
           0.563532791969905,
           0.563532791969905,
           0.563532791969905,
           0.563532791969905,
           0.563532791969905,
           0.563532791969905,
           0.563532791969905,
           0.563532791969905,
           0.563532791969905
          ],
          [
           0.6841178603625562,
           0.6841178603625562,
           0.6841178603625562,
           0.6841178603625562,
           0.6841178603625562,
           0.6841178603625562,
           0.6841178603625562,
           0.6841178603625562,
           0.6841178603625562,
           0.6841178603625562
          ],
          [
           0.7809948008721428,
           0.7809948008721428,
           0.7809948008721428,
           0.7809948008721428,
           0.7809948008721428,
           0.7809948008721428,
           0.7809948008721428,
           0.7809948008721428,
           0.7809948008721428,
           0.7809948008721428
          ],
          [
           0.8436654937938394,
           0.8436654937938394,
           0.8436654937938394,
           0.8436654937938394,
           0.8436654937938394,
           0.8436654937938394,
           0.8436654937938394,
           0.8436654937938394,
           0.8436654937938394,
           0.8436654937938394
          ],
          [
           0.8653385971135855,
           0.8653385971135855,
           0.8653385971135855,
           0.8653385971135855,
           0.8653385971135855,
           0.8653385971135855,
           0.8653385971135855,
           0.8653385971135855,
           0.8653385971135855,
           0.8653385971135855
          ]
         ]
        },
        {
         "opacity": 0.8,
         "type": "surface",
         "x": [
          [
           0.492518338103323,
           0.492518338103323,
           0.492518338103323,
           0.492518338103323,
           0.492518338103323,
           0.492518338103323,
           0.492518338103323,
           0.492518338103323,
           0.492518338103323,
           0.492518338103323
          ],
          [
           0.6223981257851964,
           0.6145654161772199,
           0.5920120277304948,
           0.5574582319442597,
           0.5150717265500482,
           0.46996494965659785,
           0.42757844426238634,
           0.39302464847615126,
           0.3704712600294261,
           0.36263855042144966
          ],
          [
           0.7382034231791902,
           0.7233867995862735,
           0.6807240322829045,
           0.6153608806412566,
           0.5351811054066921,
           0.449855570799954,
           0.3696757955653895,
           0.3043126439237417,
           0.26164987662037253,
           0.24683325302745587
          ],
          [
           0.8273849294083344,
           0.8071900029003729,
           0.7490410295587209,
           0.6599516337558288,
           0.550667311444975,
           0.43436936476167104,
           0.3250850424508174,
           0.23599564664792516,
           0.17784667330627313,
           0.15765174679831157
          ],
          [
           0.8802784444790552,
           0.8568936486997574,
           0.7895598128556764,
           0.6863983912911892,
           0.559852173947404,
           0.4251845022592421,
           0.298638284915457,
           0.19547686335096964,
           0.12814302750688866,
           0.10475823172759086
          ],
          [
           0.891152135305991,
           0.8671115757305363,
           0.7978895432898444,
           0.6918352367046571,
           0.561740370544015,
           0.4232963056626311,
           0.2932014395019891,
           0.18714713291680168,
           0.11792510047610966,
           0.09388454090065507
          ],
          [
           0.858827668765346,
           0.8367365130514514,
           0.773127565319598,
           0.6756730034343346,
           0.5561272858351763,
           0.4289093903714697,
           0.3093636727723116,
           0.21190911088704806,
           0.14830016315519473,
           0.12620900744129998
          ],
          [
           0.7868079023725757,
           0.7690600700214401,
           0.7179572234796894,
           0.6396631202379494,
           0.5436211846450737,
           0.44141549156157234,
           0.34537355596869673,
           0.26707945272695666,
           0.21597660618520598,
           0.19822877383407034
          ],
          [
           0.6828972953181525,
           0.6714160393510145,
           0.6383570803645289,
           0.5877078167107378,
           0.5255772970898087,
           0.4594593791168374,
           0.39732885949590835,
           0.34667959584211727,
           0.3136206368556316,
           0.30213938088849357
          ],
          [
           0.5583561742156167,
           0.5543856668665573,
           0.5429530466041235,
           0.5254372561594698,
           0.5039509583657569,
           0.4810857178408892,
           0.45959942004717624,
           0.4420836296025225,
           0.4306510093400887,
           0.4266805019910294
          ],
          [
           0.42668050199102947,
           0.4306510093400888,
           0.44208362960252257,
           0.45959942004717624,
           0.4810857178408892,
           0.5039509583657568,
           0.5254372561594698,
           0.5429530466041235,
           0.5543856668665572,
           0.5583561742156166
          ],
          [
           0.3021393808884936,
           0.3136206368556317,
           0.34667959584211727,
           0.3973288594959083,
           0.4594593791168374,
           0.5255772970898086,
           0.5877078167107377,
           0.6383570803645287,
           0.6714160393510143,
           0.6828972953181525
          ],
          [
           0.1982287738340705,
           0.2159766061852061,
           0.26707945272695677,
           0.34537355596869673,
           0.44141549156157234,
           0.5436211846450737,
           0.6396631202379492,
           0.7179572234796892,
           0.7690600700214398,
           0.7868079023725756
          ],
          [
           0.1262090074413001,
           0.1483001631551948,
           0.2119091108870481,
           0.3093636727723115,
           0.4289093903714697,
           0.5561272858351762,
           0.6756730034343343,
           0.7731275653195979,
           0.8367365130514512,
           0.858827668765346
          ],
          [
           0.09388454090065507,
           0.11792510047610966,
           0.18714713291680163,
           0.29320143950198896,
           0.42329630566263104,
           0.5617403705440149,
           0.691835236704657,
           0.7978895432898443,
           0.8671115757305363,
           0.891152135305991
          ],
          [
           0.1047582317275908,
           0.12814302750688855,
           0.19547686335096953,
           0.29863828491545685,
           0.42518450225924204,
           0.5598521739474039,
           0.6863983912911891,
           0.7895598128556764,
           0.8568936486997574,
           0.8802784444790552
          ],
          [
           0.1576517467983115,
           0.17784667330627307,
           0.23599564664792505,
           0.32508504245081726,
           0.434369364761671,
           0.5506673114449749,
           0.6599516337558287,
           0.7490410295587209,
           0.8071900029003729,
           0.8273849294083345
          ],
          [
           0.2468332530274558,
           0.2616498766203724,
           0.3043126439237416,
           0.3696757955653894,
           0.4498555707999539,
           0.5351811054066921,
           0.6153608806412566,
           0.6807240322829045,
           0.7233867995862735,
           0.7382034231791903
          ],
          [
           0.36263855042144955,
           0.370471260029426,
           0.39302464847615115,
           0.4275784442623862,
           0.46996494965659785,
           0.5150717265500482,
           0.5574582319442597,
           0.5920120277304949,
           0.61456541617722,
           0.6223981257851965
          ],
          [
           0.4925183381033229,
           0.4925183381033229,
           0.49251833810332296,
           0.49251833810332296,
           0.492518338103323,
           0.492518338103323,
           0.4925183381033231,
           0.4925183381033231,
           0.49251833810332313,
           0.49251833810332313
          ]
         ],
         "y": [
          [
           1.2253293069663356,
           1.2253293069663356,
           1.2253293069663356,
           1.2253293069663356,
           1.2253293069663356,
           1.2253293069663356,
           1.2253293069663356,
           1.2253293069663356,
           1.2253293069663356,
           1.2253293069663356
          ],
          [
           1.2253293069663356,
           1.2697508105643973,
           1.3088144252369622,
           1.337808502536967,
           1.353235928835024,
           1.353235928835024,
           1.337808502536967,
           1.3088144252369622,
           1.2697508105643973,
           1.2253293069663356
          ],
          [
           1.2253293069663356,
           1.3093585549769629,
           1.3832526355378862,
           1.4380988319729775,
           1.4672818835485135,
           1.4672818835485135,
           1.4380988319729775,
           1.3832526355378862,
           1.3093585549769629,
           1.2253293069663356
          ],
          [
           1.2253293069663356,
           1.3398604265194538,
           1.4405774027551632,
           1.5153322819151767,
           1.5551085223082812,
           1.5551085223082812,
           1.5153322819151767,
           1.4405774027551632,
           1.3398604265194538,
           1.2253293069663356
          ],
          [
           1.2253293069663356,
           1.35795107412494,
           1.4745766988753906,
           1.5611394096618758,
           1.607198466033995,
           1.607198466033995,
           1.5611394096618758,
           1.4745766988753908,
           1.35795107412494,
           1.2253293069663356
          ],
          [
           1.2253293069663356,
           1.3616700954200476,
           1.4815661726105072,
           1.5705563021509001,
           1.6179069610642192,
           1.6179069610642192,
           1.5705563021509001,
           1.4815661726105072,
           1.3616700954200476,
           1.2253293069663356
          ],
          [
           1.2253293069663356,
           1.3506144767408905,
           1.4607884060284535,
           1.5425624929629216,
           1.5860735758030085,
           1.5860735758030085,
           1.5425624929629216,
           1.4607884060284535,
           1.3506144767408905,
           1.2253293069663356
          ],
          [
           1.2253293069663356,
           1.325982265916954,
           1.4144949925386616,
           1.4801915456921617,
           1.51514795148928,
           1.51514795148928,
           1.4801915456921617,
           1.4144949925386618,
           1.325982265916954,
           1.2253293069663356
          ],
          [
           1.2253293069663356,
           1.290442745199143,
           1.3477025418090718,
           1.3902023202603686,
           1.4128159800418791,
           1.4128159800418791,
           1.3902023202603686,
           1.3477025418090718,
           1.290442745199143,
           1.2253293069663356
          ],
          [
           1.2253293069663356,
           1.247847173109714,
           1.267649052267891,
           1.2823465455697785,
           1.2901669184112694,
           1.2901669184112694,
           1.2823465455697785,
           1.267649052267891,
           1.247847173109714,
           1.2253293069663356
          ],
          [
           1.2253293069663356,
           1.202811440822957,
           1.1830095616647802,
           1.168312068362893,
           1.1604916955214017,
           1.1604916955214017,
           1.168312068362893,
           1.1830095616647802,
           1.202811440822957,
           1.2253293069663356
          ],
          [
           1.2253293069663356,
           1.1602158687335282,
           1.1029560721235994,
           1.0604562936723025,
           1.0378426338907922,
           1.0378426338907922,
           1.0604562936723025,
           1.1029560721235994,
           1.1602158687335282,
           1.2253293069663356
          ],
          [
           1.2253293069663356,
           1.1246763480157171,
           1.0361636213940095,
           0.9704670682405097,
           0.9355106624433912,
           0.9355106624433912,
           0.9704670682405097,
           1.0361636213940095,
           1.1246763480157171,
           1.2253293069663356
          ],
          [
           1.2253293069663356,
           1.1000441371917806,
           0.9898702079042178,
           0.9080961209697498,
           0.8645850381296629,
           0.8645850381296629,
           0.9080961209697497,
           0.9898702079042176,
           1.1000441371917806,
           1.2253293069663356
          ],
          [
           1.2253293069663356,
           1.0889885185126236,
           0.969092441322164,
           0.880102311781771,
           0.832751652868452,
           0.832751652868452,
           0.880102311781771,
           0.969092441322164,
           1.0889885185126236,
           1.2253293069663356
          ],
          [
           1.2253293069663356,
           1.092707539807731,
           0.9760819150572805,
           0.8895192042707952,
           0.843460147898676,
           0.843460147898676,
           0.8895192042707951,
           0.9760819150572804,
           1.092707539807731,
           1.2253293069663356
          ],
          [
           1.2253293069663356,
           1.1107981874132173,
           1.010081211177508,
           0.9353263320174945,
           0.8955500916243898,
           0.8955500916243898,
           0.9353263320174944,
           1.010081211177508,
           1.1107981874132173,
           1.2253293069663356
          ],
          [
           1.2253293069663356,
           1.1413000589557083,
           1.067405978394785,
           1.0125597819596934,
           0.9833767303841576,
           0.9833767303841576,
           1.0125597819596934,
           1.0674059783947847,
           1.1413000589557083,
           1.2253293069663356
          ],
          [
           1.2253293069663356,
           1.1809078033682738,
           1.141844188695709,
           1.112850111395704,
           1.0974226850976472,
           1.0974226850976472,
           1.112850111395704,
           1.141844188695709,
           1.1809078033682738,
           1.2253293069663356
          ],
          [
           1.2253293069663356,
           1.2253293069663356,
           1.2253293069663356,
           1.2253293069663356,
           1.2253293069663356,
           1.2253293069663356,
           1.2253293069663356,
           1.2253293069663356,
           1.2253293069663356,
           1.2253293069663356
          ]
         ],
         "z": [
          [
           0.9353695973704753,
           0.9353695973704753,
           0.9353695973704753,
           0.9353695973704753,
           0.9353695973704753,
           0.9353695973704753,
           0.9353695973704753,
           0.9353695973704753,
           0.9353695973704753,
           0.9353695973704753
          ],
          [
           0.9136964940507292,
           0.9136964940507292,
           0.9136964940507292,
           0.9136964940507292,
           0.9136964940507292,
           0.9136964940507292,
           0.9136964940507292,
           0.9136964940507292,
           0.9136964940507292,
           0.9136964940507292
          ],
          [
           0.8510258011290328,
           0.8510258011290328,
           0.8510258011290328,
           0.8510258011290328,
           0.8510258011290328,
           0.8510258011290328,
           0.8510258011290328,
           0.8510258011290328,
           0.8510258011290328,
           0.8510258011290328
          ],
          [
           0.7541488606194461,
           0.7541488606194461,
           0.7541488606194461,
           0.7541488606194461,
           0.7541488606194461,
           0.7541488606194461,
           0.7541488606194461,
           0.7541488606194461,
           0.7541488606194461,
           0.7541488606194461
          ],
          [
           0.6335637922267949,
           0.6335637922267949,
           0.6335637922267949,
           0.6335637922267949,
           0.6335637922267949,
           0.6335637922267949,
           0.6335637922267949,
           0.6335637922267949,
           0.6335637922267949,
           0.6335637922267949
          ],
          [
           0.5023378591815424,
           0.5023378591815424,
           0.5023378591815424,
           0.5023378591815424,
           0.5023378591815424,
           0.5023378591815424,
           0.5023378591815424,
           0.5023378591815424,
           0.5023378591815424,
           0.5023378591815424
          ],
          [
           0.3746914275092876,
           0.3746914275092876,
           0.3746914275092876,
           0.3746914275092876,
           0.3746914275092876,
           0.3746914275092876,
           0.3746914275092876,
           0.3746914275092876,
           0.3746914275092876,
           0.3746914275092876
          ],
          [
           0.26445696872017893,
           0.26445696872017893,
           0.26445696872017893,
           0.26445696872017893,
           0.26445696872017893,
           0.26445696872017893,
           0.26445696872017893,
           0.26445696872017893,
           0.26445696872017893,
           0.26445696872017893
          ],
          [
           0.18358009688787968,
           0.18358009688787968,
           0.18358009688787968,
           0.18358009688787968,
           0.18358009688787968,
           0.18358009688787968,
           0.18358009688787968,
           0.18358009688787968,
           0.18358009688787968,
           0.18358009688787968
          ],
          [
           0.14082507600938632,
           0.14082507600938632,
           0.14082507600938632,
           0.14082507600938632,
           0.14082507600938632,
           0.14082507600938632,
           0.14082507600938632,
           0.14082507600938632,
           0.14082507600938632,
           0.14082507600938632
          ],
          [
           0.14082507600938632,
           0.14082507600938632,
           0.14082507600938632,
           0.14082507600938632,
           0.14082507600938632,
           0.14082507600938632,
           0.14082507600938632,
           0.14082507600938632,
           0.14082507600938632,
           0.14082507600938632
          ],
          [
           0.18358009688787963,
           0.18358009688787963,
           0.18358009688787963,
           0.18358009688787963,
           0.18358009688787963,
           0.18358009688787963,
           0.18358009688787963,
           0.18358009688787963,
           0.18358009688787963,
           0.18358009688787963
          ],
          [
           0.2644569687201787,
           0.2644569687201787,
           0.2644569687201787,
           0.2644569687201787,
           0.2644569687201787,
           0.2644569687201787,
           0.2644569687201787,
           0.2644569687201787,
           0.2644569687201787,
           0.2644569687201787
          ],
          [
           0.3746914275092873,
           0.3746914275092873,
           0.3746914275092873,
           0.3746914275092873,
           0.3746914275092873,
           0.3746914275092873,
           0.3746914275092873,
           0.3746914275092873,
           0.3746914275092873,
           0.3746914275092873
          ],
          [
           0.5023378591815422,
           0.5023378591815422,
           0.5023378591815422,
           0.5023378591815422,
           0.5023378591815422,
           0.5023378591815422,
           0.5023378591815422,
           0.5023378591815422,
           0.5023378591815422,
           0.5023378591815422
          ],
          [
           0.6335637922267948,
           0.6335637922267948,
           0.6335637922267948,
           0.6335637922267948,
           0.6335637922267948,
           0.6335637922267948,
           0.6335637922267948,
           0.6335637922267948,
           0.6335637922267948,
           0.6335637922267948
          ],
          [
           0.754148860619446,
           0.754148860619446,
           0.754148860619446,
           0.754148860619446,
           0.754148860619446,
           0.754148860619446,
           0.754148860619446,
           0.754148860619446,
           0.754148860619446,
           0.754148860619446
          ],
          [
           0.8510258011290326,
           0.8510258011290326,
           0.8510258011290326,
           0.8510258011290326,
           0.8510258011290326,
           0.8510258011290326,
           0.8510258011290326,
           0.8510258011290326,
           0.8510258011290326,
           0.8510258011290326
          ],
          [
           0.9136964940507292,
           0.9136964940507292,
           0.9136964940507292,
           0.9136964940507292,
           0.9136964940507292,
           0.9136964940507292,
           0.9136964940507292,
           0.9136964940507292,
           0.9136964940507292,
           0.9136964940507292
          ],
          [
           0.9353695973704753,
           0.9353695973704753,
           0.9353695973704753,
           0.9353695973704753,
           0.9353695973704753,
           0.9353695973704753,
           0.9353695973704753,
           0.9353695973704753,
           0.9353695973704753,
           0.9353695973704753
          ]
         ]
        },
        {
         "opacity": 0.8,
         "type": "surface",
         "x": [
          [
           -0.2603766528244657,
           -0.2603766528244657,
           -0.2603766528244657,
           -0.2603766528244657,
           -0.2603766528244657,
           -0.2603766528244657,
           -0.2603766528244657,
           -0.2603766528244657,
           -0.2603766528244657,
           -0.2603766528244657
          ],
          [
           -0.13049686514259232,
           -0.13832957475056876,
           -0.1608829631972939,
           -0.195436758983529,
           -0.23782326437774054,
           -0.2829300412711908,
           -0.3253165466654024,
           -0.3598703424516375,
           -0.3824237308983626,
           -0.3902564405063391
          ],
          [
           -0.01469156774859856,
           -0.029508191341515222,
           -0.07217095864488432,
           -0.13753411028653212,
           -0.2177138855210966,
           -0.30303942012783475,
           -0.38321919536239923,
           -0.4485823470040471,
           -0.49124511430741613,
           -0.5060617379003328
          ],
          [
           0.07448993848054575,
           0.054295011972584184,
           -0.003853961369067793,
           -0.09294335717195995,
           -0.2022276794828137,
           -0.3185256261661177,
           -0.42780994847697135,
           -0.5168993442798635,
           -0.5750483176215155,
           -0.5952432441294772
          ],
          [
           0.12738345355126646,
           0.1039986577719687,
           0.036664821927887725,
           -0.06649659963659957,
           -0.19304281698038472,
           -0.32771048866854663,
           -0.4542567060123317,
           -0.5574181275768191,
           -0.6247519634209,
           -0.6481367592001979
          ],
          [
           0.13825714437820225,
           0.11421658480274766,
           0.044994552362055684,
           -0.061059754223131674,
           -0.19115462038377373,
           -0.3295986852651577,
           -0.4596935514257996,
           -0.565747858010987,
           -0.6349698904516791,
           -0.6590104500271337
          ],
          [
           0.10593267783755733,
           0.08384152212366264,
           0.02023257439180931,
           -0.07722198749345416,
           -0.19676770509261238,
           -0.323985600556319,
           -0.44353131815547714,
           -0.5409858800407407,
           -0.604594827772594,
           -0.6266859834864887
          ],
          [
           0.033912911444786975,
           0.01616507909365139,
           -0.034937767448099344,
           -0.11323187068983934,
           -0.20927380628271497,
           -0.3114794993662164,
           -0.407521434959092,
           -0.485815538200832,
           -0.5369183847425827,
           -0.5546662170937184
          ],
          [
           -0.06999769560963623,
           -0.08147895157677426,
           -0.1145379105632599,
           -0.16518717421705092,
           -0.22731769383798006,
           -0.29343561181095135,
           -0.35556613143188043,
           -0.4062153950856715,
           -0.4392743540721571,
           -0.4507556100392952
          ],
          [
           -0.1945388167121721,
           -0.1985093240612314,
           -0.2099419443236652,
           -0.22745773476831888,
           -0.2489440325620319,
           -0.2718092730868995,
           -0.2932955708806125,
           -0.3108113613252662,
           -0.3222439815877,
           -0.3262144889367593
          ],
          [
           -0.3262144889367592,
           -0.3222439815876999,
           -0.31081136132526616,
           -0.2932955708806125,
           -0.2718092730868995,
           -0.24894403256203193,
           -0.22745773476831896,
           -0.20994194432366528,
           -0.1985093240612315,
           -0.19453881671217219
          ],
          [
           -0.4507556100392951,
           -0.4392743540721571,
           -0.4062153950856714,
           -0.35556613143188043,
           -0.29343561181095135,
           -0.2273176938379801,
           -0.16518717421705104,
           -0.11453791056326001,
           -0.08147895157677437,
           -0.06999769560963631
          ],
          [
           -0.5546662170937182,
           -0.5369183847425827,
           -0.4858155382008319,
           -0.407521434959092,
           -0.3114794993662164,
           -0.20927380628271502,
           -0.1132318706898395,
           -0.03493776744809951,
           0.01616507909365117,
           0.03391291144478681
          ],
          [
           -0.6266859834864886,
           -0.6045948277725939,
           -0.5409858800407406,
           -0.4435313181554772,
           -0.32398560055631903,
           -0.19676770509261243,
           -0.07722198749345432,
           0.0202325743918092,
           0.08384152212366253,
           0.10593267783755722
          ],
          [
           -0.6590104500271337,
           -0.6349698904516791,
           -0.5657478580109871,
           -0.4596935514257997,
           -0.3295986852651577,
           -0.19115462038377376,
           -0.06105975422313181,
           0.04499455236205563,
           0.11421658480274766,
           0.13825714437820225
          ],
          [
           -0.6481367592001979,
           -0.6247519634209002,
           -0.5574181275768192,
           -0.45425670601233187,
           -0.3277104886685467,
           -0.19304281698038478,
           -0.06649659963659968,
           0.036664821927887725,
           0.1039986577719687,
           0.1273834535512665
          ],
          [
           -0.5952432441294773,
           -0.5750483176215156,
           -0.5168993442798637,
           -0.4278099484769715,
           -0.31852562616611774,
           -0.20222767948281373,
           -0.09294335717196003,
           -0.003853961369067793,
           0.05429501197258424,
           0.0744899384805458
          ],
          [
           -0.5060617379003329,
           -0.49124511430741624,
           -0.44858234700404714,
           -0.38321919536239935,
           -0.3030394201278348,
           -0.21771388552109663,
           -0.13753411028653215,
           -0.07217095864488429,
           -0.029508191341515166,
           -0.014691567748598477
          ],
          [
           -0.39025644050633923,
           -0.3824237308983628,
           -0.35987034245163757,
           -0.32531654666540244,
           -0.28293004127119087,
           -0.23782326437774054,
           -0.19543675898352897,
           -0.16088296319729384,
           -0.13832957475056867,
           -0.1304968651425922
          ],
          [
           -0.2603766528244658,
           -0.2603766528244658,
           -0.26037665282446576,
           -0.26037665282446576,
           -0.2603766528244657,
           -0.2603766528244657,
           -0.26037665282446565,
           -0.26037665282446565,
           -0.2603766528244656,
           -0.2603766528244656
          ]
         ],
         "y": [
          [
           -0.7463091727319436,
           -0.7463091727319436,
           -0.7463091727319436,
           -0.7463091727319436,
           -0.7463091727319436,
           -0.7463091727319436,
           -0.7463091727319436,
           -0.7463091727319436,
           -0.7463091727319436,
           -0.7463091727319436
          ],
          [
           -0.7463091727319436,
           -0.7018876691338819,
           -0.662824054461317,
           -0.6338299771613121,
           -0.6184025508632552,
           -0.6184025508632552,
           -0.6338299771613121,
           -0.662824054461317,
           -0.7018876691338819,
           -0.7463091727319436
          ],
          [
           -0.7463091727319436,
           -0.6622799247213165,
           -0.588385844160393,
           -0.5335396477253016,
           -0.5043565961497658,
           -0.5043565961497658,
           -0.5335396477253016,
           -0.5883858441603929,
           -0.6622799247213164,
           -0.7463091727319436
          ],
          [
           -0.7463091727319436,
           -0.6317780531788255,
           -0.5310610769431161,
           -0.4563061977831025,
           -0.41652995738999793,
           -0.41652995738999793,
           -0.4563061977831025,
           -0.531061076943116,
           -0.6317780531788254,
           -0.7463091727319436
          ],
          [
           -0.7463091727319436,
           -0.6136874055733392,
           -0.49706178082288854,
           -0.41049907003640335,
           -0.3644400136642841,
           -0.3644400136642841,
           -0.4104990700364033,
           -0.4970617808228885,
           -0.6136874055733391,
           -0.7463091727319436
          ],
          [
           -0.7463091727319436,
           -0.6099683842782315,
           -0.49007230708777205,
           -0.4010821775473791,
           -0.35373151863406,
           -0.35373151863406,
           -0.40108217754737907,
           -0.490072307087772,
           -0.6099683842782315,
           -0.7463091727319436
          ],
          [
           -0.7463091727319436,
           -0.6210240029573888,
           -0.5108500736698257,
           -0.4290759867353577,
           -0.3855649038952708,
           -0.3855649038952708,
           -0.4290759867353577,
           -0.5108500736698256,
           -0.6210240029573887,
           -0.7463091727319436
          ],
          [
           -0.7463091727319436,
           -0.6456562137813252,
           -0.5571434871596175,
           -0.4914469340061176,
           -0.4564905282089991,
           -0.4564905282089991,
           -0.49144693400611755,
           -0.5571434871596175,
           -0.6456562137813252,
           -0.7463091727319436
          ],
          [
           -0.7463091727319436,
           -0.6811957344991363,
           -0.6239359378892074,
           -0.5814361594379106,
           -0.5588224996564002,
           -0.5588224996564002,
           -0.5814361594379105,
           -0.6239359378892074,
           -0.6811957344991363,
           -0.7463091727319436
          ],
          [
           -0.7463091727319436,
           -0.723791306588565,
           -0.7039894274303883,
           -0.6892919341285009,
           -0.6814715612870097,
           -0.6814715612870097,
           -0.6892919341285009,
           -0.7039894274303883,
           -0.723791306588565,
           -0.7463091727319436
          ],
          [
           -0.7463091727319436,
           -0.7688270388753221,
           -0.7886289180334989,
           -0.8033264113353863,
           -0.8111467841768775,
           -0.8111467841768775,
           -0.8033264113353863,
           -0.7886289180334989,
           -0.7688270388753222,
           -0.7463091727319436
          ],
          [
           -0.7463091727319436,
           -0.8114226109647509,
           -0.8686824075746797,
           -0.9111821860259766,
           -0.9337958458074871,
           -0.9337958458074871,
           -0.9111821860259767,
           -0.8686824075746797,
           -0.811422610964751,
           -0.7463091727319436
          ],
          [
           -0.7463091727319436,
           -0.846962131682562,
           -0.9354748583042696,
           -1.0011714114577694,
           -1.036127817254888,
           -1.036127817254888,
           -1.0011714114577694,
           -0.9354748583042697,
           -0.8469621316825621,
           -0.7463091727319436
          ],
          [
           -0.7463091727319436,
           -0.8715943425064985,
           -0.9817682717940615,
           -1.0635423587285295,
           -1.1070534415686164,
           -1.1070534415686164,
           -1.0635423587285295,
           -0.9817682717940616,
           -0.8715943425064986,
           -0.7463091727319436
          ],
          [
           -0.7463091727319436,
           -0.8826499611856558,
           -1.0025460383761153,
           -1.091536167916508,
           -1.1388868268298273,
           -1.1388868268298273,
           -1.0915361679165083,
           -1.0025460383761153,
           -0.8826499611856558,
           -0.7463091727319436
          ],
          [
           -0.7463091727319436,
           -0.8789309398905482,
           -0.9955565646409987,
           -1.082119275427484,
           -1.1281783317996033,
           -1.1281783317996033,
           -1.082119275427484,
           -0.9955565646409988,
           -0.8789309398905482,
           -0.7463091727319436
          ],
          [
           -0.7463091727319436,
           -0.8608402922850618,
           -0.9615572685207712,
           -1.0363121476807848,
           -1.0760883880738894,
           -1.0760883880738894,
           -1.0363121476807848,
           -0.9615572685207713,
           -0.8608402922850619,
           -0.7463091727319436
          ],
          [
           -0.7463091727319436,
           -0.8303384207425708,
           -0.9042325013034944,
           -0.9590786977385857,
           -0.9882617493141216,
           -0.9882617493141216,
           -0.9590786977385857,
           -0.9042325013034944,
           -0.8303384207425709,
           -0.7463091727319436
          ],
          [
           -0.7463091727319436,
           -0.7907306763300055,
           -0.8297942910025703,
           -0.8587883683025753,
           -0.8742157946006321,
           -0.8742157946006321,
           -0.8587883683025753,
           -0.8297942910025704,
           -0.7907306763300055,
           -0.7463091727319436
          ],
          [
           -0.7463091727319436,
           -0.7463091727319436,
           -0.7463091727319437,
           -0.7463091727319437,
           -0.7463091727319437,
           -0.7463091727319437,
           -0.7463091727319437,
           -0.7463091727319437,
           -0.7463091727319436,
           -0.7463091727319436
          ]
         ],
         "z": [
          [
           1.5152238194309122,
           1.5152238194309122,
           1.5152238194309122,
           1.5152238194309122,
           1.5152238194309122,
           1.5152238194309122,
           1.5152238194309122,
           1.5152238194309122,
           1.5152238194309122,
           1.5152238194309122
          ],
          [
           1.4935507161111663,
           1.4935507161111663,
           1.4935507161111663,
           1.4935507161111663,
           1.4935507161111663,
           1.4935507161111663,
           1.4935507161111663,
           1.4935507161111663,
           1.4935507161111663,
           1.4935507161111663
          ],
          [
           1.4308800231894698,
           1.4308800231894698,
           1.4308800231894698,
           1.4308800231894698,
           1.4308800231894698,
           1.4308800231894698,
           1.4308800231894698,
           1.4308800231894698,
           1.4308800231894698,
           1.4308800231894698
          ],
          [
           1.334003082679883,
           1.334003082679883,
           1.334003082679883,
           1.334003082679883,
           1.334003082679883,
           1.334003082679883,
           1.334003082679883,
           1.334003082679883,
           1.334003082679883,
           1.334003082679883
          ],
          [
           1.213418014287232,
           1.213418014287232,
           1.213418014287232,
           1.213418014287232,
           1.213418014287232,
           1.213418014287232,
           1.213418014287232,
           1.213418014287232,
           1.213418014287232,
           1.213418014287232
          ],
          [
           1.0821920812419794,
           1.0821920812419794,
           1.0821920812419794,
           1.0821920812419794,
           1.0821920812419794,
           1.0821920812419794,
           1.0821920812419794,
           1.0821920812419794,
           1.0821920812419794,
           1.0821920812419794
          ],
          [
           0.9545456495697247,
           0.9545456495697247,
           0.9545456495697247,
           0.9545456495697247,
           0.9545456495697247,
           0.9545456495697247,
           0.9545456495697247,
           0.9545456495697247,
           0.9545456495697247,
           0.9545456495697247
          ],
          [
           0.844311190780616,
           0.844311190780616,
           0.844311190780616,
           0.844311190780616,
           0.844311190780616,
           0.844311190780616,
           0.844311190780616,
           0.844311190780616,
           0.844311190780616,
           0.844311190780616
          ],
          [
           0.7634343189483167,
           0.7634343189483167,
           0.7634343189483167,
           0.7634343189483167,
           0.7634343189483167,
           0.7634343189483167,
           0.7634343189483167,
           0.7634343189483167,
           0.7634343189483167,
           0.7634343189483167
          ],
          [
           0.7206792980698233,
           0.7206792980698233,
           0.7206792980698233,
           0.7206792980698233,
           0.7206792980698233,
           0.7206792980698233,
           0.7206792980698233,
           0.7206792980698233,
           0.7206792980698233,
           0.7206792980698233
          ],
          [
           0.7206792980698233,
           0.7206792980698233,
           0.7206792980698233,
           0.7206792980698233,
           0.7206792980698233,
           0.7206792980698233,
           0.7206792980698233,
           0.7206792980698233,
           0.7206792980698233,
           0.7206792980698233
          ],
          [
           0.7634343189483166,
           0.7634343189483166,
           0.7634343189483166,
           0.7634343189483166,
           0.7634343189483166,
           0.7634343189483166,
           0.7634343189483166,
           0.7634343189483166,
           0.7634343189483166,
           0.7634343189483166
          ],
          [
           0.8443111907806158,
           0.8443111907806158,
           0.8443111907806158,
           0.8443111907806158,
           0.8443111907806158,
           0.8443111907806158,
           0.8443111907806158,
           0.8443111907806158,
           0.8443111907806158,
           0.8443111907806158
          ],
          [
           0.9545456495697243,
           0.9545456495697243,
           0.9545456495697243,
           0.9545456495697243,
           0.9545456495697243,
           0.9545456495697243,
           0.9545456495697243,
           0.9545456495697243,
           0.9545456495697243,
           0.9545456495697243
          ],
          [
           1.0821920812419792,
           1.0821920812419792,
           1.0821920812419792,
           1.0821920812419792,
           1.0821920812419792,
           1.0821920812419792,
           1.0821920812419792,
           1.0821920812419792,
           1.0821920812419792,
           1.0821920812419792
          ],
          [
           1.2134180142872317,
           1.2134180142872317,
           1.2134180142872317,
           1.2134180142872317,
           1.2134180142872317,
           1.2134180142872317,
           1.2134180142872317,
           1.2134180142872317,
           1.2134180142872317,
           1.2134180142872317
          ],
          [
           1.334003082679883,
           1.334003082679883,
           1.334003082679883,
           1.334003082679883,
           1.334003082679883,
           1.334003082679883,
           1.334003082679883,
           1.334003082679883,
           1.334003082679883,
           1.334003082679883
          ],
          [
           1.4308800231894696,
           1.4308800231894696,
           1.4308800231894696,
           1.4308800231894696,
           1.4308800231894696,
           1.4308800231894696,
           1.4308800231894696,
           1.4308800231894696,
           1.4308800231894696,
           1.4308800231894696
          ],
          [
           1.4935507161111663,
           1.4935507161111663,
           1.4935507161111663,
           1.4935507161111663,
           1.4935507161111663,
           1.4935507161111663,
           1.4935507161111663,
           1.4935507161111663,
           1.4935507161111663,
           1.4935507161111663
          ],
          [
           1.5152238194309122,
           1.5152238194309122,
           1.5152238194309122,
           1.5152238194309122,
           1.5152238194309122,
           1.5152238194309122,
           1.5152238194309122,
           1.5152238194309122,
           1.5152238194309122,
           1.5152238194309122
          ]
         ]
        },
        {
         "opacity": 0.8,
         "type": "surface",
         "x": [
          [
           0.29488191724411744,
           0.29488191724411744,
           0.29488191724411744,
           0.29488191724411744,
           0.29488191724411744,
           0.29488191724411744,
           0.29488191724411744,
           0.29488191724411744,
           0.29488191724411744,
           0.29488191724411744
          ],
          [
           0.42476170492599086,
           0.4169289953180144,
           0.39437560687128925,
           0.3598218110850542,
           0.3174353056908426,
           0.27232852879739233,
           0.22994202340318076,
           0.19538822761694566,
           0.17283483917022052,
           0.16500212956224405
          ],
          [
           0.5405670023199846,
           0.5257503787270679,
           0.4830876114236988,
           0.417724459782051,
           0.33754468454748654,
           0.2522191499407484,
           0.1720393747061839,
           0.10667622306453609,
           0.06401345576116699,
           0.0491968321682503
          ],
          [
           0.6297485085491289,
           0.6095535820411673,
           0.5514046086995154,
           0.4623152128966232,
           0.3530308905857694,
           0.23673294390246546,
           0.1274486215916118,
           0.038359225788719586,
           -0.019789747552932446,
           -0.03998467406089401
          ],
          [
           0.6826420236198496,
           0.6592572278405519,
           0.5919233919964708,
           0.48876197043198355,
           0.3622157530881984,
           0.22754808140003652,
           0.10100186405625144,
           -0.002159557508235932,
           -0.06949339335231691,
           -0.09287818913161472
          ],
          [
           0.6935157144467854,
           0.6694751548713308,
           0.6002531224306389,
           0.49419881584545144,
           0.3641039496848094,
           0.2256598848034255,
           0.09556501864278355,
           -0.010489287942403891,
           -0.07971132038309592,
           -0.10375187995855051
          ],
          [
           0.6611912479061405,
           0.6391000921922458,
           0.5754911444603925,
           0.478036582575129,
           0.35849086497597077,
           0.23127296951226414,
           0.11172725191310601,
           0.014272690027842483,
           -0.049336257704010844,
           -0.0714274134179056
          ],
          [
           0.5891714815133702,
           0.5714236491622345,
           0.5203208026204837,
           0.44202669937874384,
           0.3459847637858682,
           0.24377907070236676,
           0.14773713510949116,
           0.06944303186775111,
           0.018340185326000402,
           0.0005923529748647627
          ],
          [
           0.48526087445894694,
           0.4737796184918089,
           0.44072065950532324,
           0.3900713958515322,
           0.3279408762306031,
           0.2618229582576318,
           0.19969243863670275,
           0.14904317498291167,
           0.11598421599642603,
           0.10450296002928797
          ],
          [
           0.36071975335641104,
           0.35674924600735175,
           0.34531662574491795,
           0.32780083530026427,
           0.30631453750655124,
           0.28344929698168364,
           0.26196299918797067,
           0.24444720874331693,
           0.23301458848088313,
           0.22904408113182384
          ],
          [
           0.22904408113182392,
           0.23301458848088322,
           0.24444720874331702,
           0.26196299918797067,
           0.28344929698168364,
           0.30631453750655124,
           0.32780083530026416,
           0.34531662574491784,
           0.35674924600735164,
           0.36071975335641093
          ],
          [
           0.10450296002928805,
           0.11598421599642608,
           0.14904317498291172,
           0.19969243863670272,
           0.2618229582576318,
           0.3279408762306031,
           0.3900713958515321,
           0.44072065950532313,
           0.4737796184918088,
           0.48526087445894683
          ],
          [
           0.0005923529748649292,
           0.018340185326000513,
           0.06944303186775122,
           0.14773713510949116,
           0.24377907070236673,
           0.3459847637858681,
           0.4420266993787436,
           0.5203208026204836,
           0.5714236491622343,
           0.58917148151337
          ],
          [
           -0.07142741341790548,
           -0.04933625770401079,
           0.014272690027842538,
           0.11172725191310595,
           0.23127296951226411,
           0.3584908649759707,
           0.4780365825751288,
           0.5754911444603923,
           0.6391000921922456,
           0.6611912479061404
          ],
          [
           -0.10375187995855051,
           -0.07971132038309592,
           -0.010489287942403946,
           0.09556501864278341,
           0.22565988480342547,
           0.3641039496848094,
           0.49419881584545133,
           0.6002531224306388,
           0.6694751548713308,
           0.6935157144467854
          ],
          [
           -0.09287818913161477,
           -0.06949339335231702,
           -0.002159557508236043,
           0.10100186405625128,
           0.22754808140003646,
           0.36221575308819837,
           0.48876197043198344,
           0.5919233919964708,
           0.6592572278405519,
           0.6826420236198496
          ],
          [
           -0.039984674060894065,
           -0.019789747552932502,
           0.038359225788719475,
           0.12744862159161166,
           0.23673294390246544,
           0.3530308905857694,
           0.46231521289662314,
           0.5514046086995154,
           0.6095535820411674,
           0.629748508549129
          ],
          [
           0.049196832168250215,
           0.06401345576116688,
           0.106676223064536,
           0.1720393747061838,
           0.25221914994074834,
           0.33754468454748654,
           0.41772445978205097,
           0.4830876114236988,
           0.525750378727068,
           0.5405670023199847
          ],
          [
           0.16500212956224394,
           0.17283483917022038,
           0.19538822761694558,
           0.22994202340318068,
           0.2723285287973923,
           0.3174353056908426,
           0.3598218110850542,
           0.3943756068712893,
           0.4169289953180145,
           0.42476170492599097
          ],
          [
           0.29488191724411733,
           0.29488191724411733,
           0.2948819172441174,
           0.2948819172441174,
           0.29488191724411744,
           0.29488191724411744,
           0.2948819172441175,
           0.2948819172441175,
           0.29488191724411755,
           0.29488191724411755
          ]
         ],
         "y": [
          [
           -0.4890236193205836,
           -0.4890236193205836,
           -0.4890236193205836,
           -0.4890236193205836,
           -0.4890236193205836,
           -0.4890236193205836,
           -0.4890236193205836,
           -0.4890236193205836,
           -0.4890236193205836,
           -0.4890236193205836
          ],
          [
           -0.4890236193205836,
           -0.44460211572252184,
           -0.405538501049957,
           -0.376544423749952,
           -0.3611169974518952,
           -0.3611169974518952,
           -0.376544423749952,
           -0.4055385010499569,
           -0.4446021157225218,
           -0.4890236193205836
          ],
          [
           -0.4890236193205836,
           -0.4049943713099564,
           -0.3311002907490329,
           -0.2762540943139416,
           -0.2470710427384057,
           -0.2470710427384057,
           -0.27625409431394155,
           -0.33110029074903286,
           -0.40499437130995636,
           -0.4890236193205835
          ],
          [
           -0.4890236193205836,
           -0.37449249976746546,
           -0.27377552353175605,
           -0.19902064437174244,
           -0.15924440397863787,
           -0.15924440397863787,
           -0.19902064437174244,
           -0.27377552353175594,
           -0.37449249976746535,
           -0.4890236193205835
          ],
          [
           -0.4890236193205836,
           -0.3564018521619791,
           -0.23977622741152851,
           -0.1532135166250433,
           -0.10715446025292402,
           -0.10715446025292402,
           -0.15321351662504323,
           -0.23977622741152843,
           -0.35640185216197906,
           -0.4890236193205835
          ],
          [
           -0.4890236193205836,
           -0.3526828308668715,
           -0.232786753676412,
           -0.14379662413601907,
           -0.09644596522269994,
           -0.09644596522269994,
           -0.143796624136019,
           -0.23278675367641194,
           -0.35268283086687147,
           -0.4890236193205835
          ],
          [
           -0.4890236193205836,
           -0.3637384495460287,
           -0.25356452025846565,
           -0.17179043332399763,
           -0.12827935048391076,
           -0.12827935048391076,
           -0.17179043332399763,
           -0.2535645202584656,
           -0.36373844954602863,
           -0.4890236193205835
          ],
          [
           -0.4890236193205836,
           -0.3883706603699652,
           -0.2998579337482575,
           -0.23416138059475755,
           -0.19920497479763905,
           -0.19920497479763905,
           -0.2341613805947575,
           -0.2998579337482574,
           -0.38837066036996515,
           -0.4890236193205835
          ],
          [
           -0.4890236193205836,
           -0.4239101810877762,
           -0.3666503844778474,
           -0.32415060602655055,
           -0.30153694624504007,
           -0.30153694624504007,
           -0.3241506060265505,
           -0.36665038447784737,
           -0.4239101810877762,
           -0.4890236193205836
          ],
          [
           -0.4890236193205836,
           -0.46650575317720505,
           -0.4467038740190282,
           -0.4320063807171408,
           -0.4241860078756497,
           -0.4241860078756497,
           -0.4320063807171408,
           -0.4467038740190282,
           -0.466505753177205,
           -0.4890236193205836
          ],
          [
           -0.4890236193205836,
           -0.511541485463962,
           -0.5313433646221388,
           -0.5460408579240262,
           -0.5538612307655174,
           -0.5538612307655174,
           -0.5460408579240262,
           -0.5313433646221388,
           -0.5115414854639622,
           -0.4890236193205836
          ],
          [
           -0.4890236193205836,
           -0.5541370575533908,
           -0.6113968541633197,
           -0.6538966326146165,
           -0.676510292396127,
           -0.676510292396127,
           -0.6538966326146166,
           -0.6113968541633197,
           -0.5541370575533909,
           -0.4890236193205836
          ],
          [
           -0.4890236193205836,
           -0.5896765782712019,
           -0.6781893048929095,
           -0.7438858580464095,
           -0.778842263843528,
           -0.778842263843528,
           -0.7438858580464095,
           -0.6781893048929096,
           -0.589676578271202,
           -0.48902361932058364
          ],
          [
           -0.4890236193205836,
           -0.6143087890951384,
           -0.7244827183827014,
           -0.8062568053171695,
           -0.8497678881572563,
           -0.8497678881572563,
           -0.8062568053171695,
           -0.7244827183827015,
           -0.6143087890951385,
           -0.48902361932058364
          ],
          [
           -0.4890236193205836,
           -0.6253644077742957,
           -0.7452604849647552,
           -0.834250614505148,
           -0.8816012734184673,
           -0.8816012734184673,
           -0.8342506145051481,
           -0.7452604849647553,
           -0.6253644077742957,
           -0.48902361932058364
          ],
          [
           -0.4890236193205836,
           -0.6216453864791881,
           -0.7382710112296387,
           -0.8248337220161239,
           -0.8708927783882432,
           -0.8708927783882432,
           -0.8248337220161239,
           -0.7382710112296388,
           -0.6216453864791881,
           -0.48902361932058364
          ],
          [
           -0.4890236193205836,
           -0.6035547388737017,
           -0.7042717151094111,
           -0.7790265942694248,
           -0.8188028346625293,
           -0.8188028346625293,
           -0.7790265942694248,
           -0.7042717151094112,
           -0.6035547388737018,
           -0.48902361932058364
          ],
          [
           -0.4890236193205836,
           -0.5730528673312107,
           -0.6469469478921344,
           -0.7017931443272256,
           -0.7309761959027615,
           -0.7309761959027615,
           -0.7017931443272256,
           -0.6469469478921344,
           -0.5730528673312109,
           -0.48902361932058364
          ],
          [
           -0.4890236193205836,
           -0.5334451229186454,
           -0.5725087375912102,
           -0.6015028148912153,
           -0.6169302411892721,
           -0.6169302411892721,
           -0.6015028148912153,
           -0.5725087375912103,
           -0.5334451229186454,
           -0.4890236193205836
          ],
          [
           -0.4890236193205836,
           -0.48902361932058364,
           -0.48902361932058364,
           -0.4890236193205837,
           -0.4890236193205837,
           -0.4890236193205837,
           -0.4890236193205837,
           -0.48902361932058364,
           -0.48902361932058364,
           -0.4890236193205836
          ]
         ],
         "z": [
          [
           -0.30677172832528177,
           -0.30677172832528177,
           -0.30677172832528177,
           -0.30677172832528177,
           -0.30677172832528177,
           -0.30677172832528177,
           -0.30677172832528177,
           -0.30677172832528177,
           -0.30677172832528177,
           -0.30677172832528177
          ],
          [
           -0.3284448316450279,
           -0.3284448316450279,
           -0.3284448316450279,
           -0.3284448316450279,
           -0.3284448316450279,
           -0.3284448316450279,
           -0.3284448316450279,
           -0.3284448316450279,
           -0.3284448316450279,
           -0.3284448316450279
          ],
          [
           -0.3911155245667243,
           -0.3911155245667243,
           -0.3911155245667243,
           -0.3911155245667243,
           -0.3911155245667243,
           -0.3911155245667243,
           -0.3911155245667243,
           -0.3911155245667243,
           -0.3911155245667243,
           -0.3911155245667243
          ],
          [
           -0.487992465076311,
           -0.487992465076311,
           -0.487992465076311,
           -0.487992465076311,
           -0.487992465076311,
           -0.487992465076311,
           -0.487992465076311,
           -0.487992465076311,
           -0.487992465076311,
           -0.487992465076311
          ],
          [
           -0.608577533468962,
           -0.608577533468962,
           -0.608577533468962,
           -0.608577533468962,
           -0.608577533468962,
           -0.608577533468962,
           -0.608577533468962,
           -0.608577533468962,
           -0.608577533468962,
           -0.608577533468962
          ],
          [
           -0.7398034665142147,
           -0.7398034665142147,
           -0.7398034665142147,
           -0.7398034665142147,
           -0.7398034665142147,
           -0.7398034665142147,
           -0.7398034665142147,
           -0.7398034665142147,
           -0.7398034665142147,
           -0.7398034665142147
          ],
          [
           -0.8674498981864696,
           -0.8674498981864696,
           -0.8674498981864696,
           -0.8674498981864696,
           -0.8674498981864696,
           -0.8674498981864696,
           -0.8674498981864696,
           -0.8674498981864696,
           -0.8674498981864696,
           -0.8674498981864696
          ],
          [
           -0.9776843569755782,
           -0.9776843569755782,
           -0.9776843569755782,
           -0.9776843569755782,
           -0.9776843569755782,
           -0.9776843569755782,
           -0.9776843569755782,
           -0.9776843569755782,
           -0.9776843569755782,
           -0.9776843569755782
          ],
          [
           -1.0585612288078774,
           -1.0585612288078774,
           -1.0585612288078774,
           -1.0585612288078774,
           -1.0585612288078774,
           -1.0585612288078774,
           -1.0585612288078774,
           -1.0585612288078774,
           -1.0585612288078774,
           -1.0585612288078774
          ],
          [
           -1.1013162496863709,
           -1.1013162496863709,
           -1.1013162496863709,
           -1.1013162496863709,
           -1.1013162496863709,
           -1.1013162496863709,
           -1.1013162496863709,
           -1.1013162496863709,
           -1.1013162496863709,
           -1.1013162496863709
          ],
          [
           -1.1013162496863709,
           -1.1013162496863709,
           -1.1013162496863709,
           -1.1013162496863709,
           -1.1013162496863709,
           -1.1013162496863709,
           -1.1013162496863709,
           -1.1013162496863709,
           -1.1013162496863709,
           -1.1013162496863709
          ],
          [
           -1.0585612288078774,
           -1.0585612288078774,
           -1.0585612288078774,
           -1.0585612288078774,
           -1.0585612288078774,
           -1.0585612288078774,
           -1.0585612288078774,
           -1.0585612288078774,
           -1.0585612288078774,
           -1.0585612288078774
          ],
          [
           -0.9776843569755784,
           -0.9776843569755784,
           -0.9776843569755784,
           -0.9776843569755784,
           -0.9776843569755784,
           -0.9776843569755784,
           -0.9776843569755784,
           -0.9776843569755784,
           -0.9776843569755784,
           -0.9776843569755784
          ],
          [
           -0.8674498981864698,
           -0.8674498981864698,
           -0.8674498981864698,
           -0.8674498981864698,
           -0.8674498981864698,
           -0.8674498981864698,
           -0.8674498981864698,
           -0.8674498981864698,
           -0.8674498981864698,
           -0.8674498981864698
          ],
          [
           -0.7398034665142149,
           -0.7398034665142149,
           -0.7398034665142149,
           -0.7398034665142149,
           -0.7398034665142149,
           -0.7398034665142149,
           -0.7398034665142149,
           -0.7398034665142149,
           -0.7398034665142149,
           -0.7398034665142149
          ],
          [
           -0.6085775334689623,
           -0.6085775334689623,
           -0.6085775334689623,
           -0.6085775334689623,
           -0.6085775334689623,
           -0.6085775334689623,
           -0.6085775334689623,
           -0.6085775334689623,
           -0.6085775334689623,
           -0.6085775334689623
          ],
          [
           -0.4879924650763111,
           -0.4879924650763111,
           -0.4879924650763111,
           -0.4879924650763111,
           -0.4879924650763111,
           -0.4879924650763111,
           -0.4879924650763111,
           -0.4879924650763111,
           -0.4879924650763111,
           -0.4879924650763111
          ],
          [
           -0.39111552456672444,
           -0.39111552456672444,
           -0.39111552456672444,
           -0.39111552456672444,
           -0.39111552456672444,
           -0.39111552456672444,
           -0.39111552456672444,
           -0.39111552456672444,
           -0.39111552456672444,
           -0.39111552456672444
          ],
          [
           -0.3284448316450279,
           -0.3284448316450279,
           -0.3284448316450279,
           -0.3284448316450279,
           -0.3284448316450279,
           -0.3284448316450279,
           -0.3284448316450279,
           -0.3284448316450279,
           -0.3284448316450279,
           -0.3284448316450279
          ],
          [
           -0.30677172832528177,
           -0.30677172832528177,
           -0.30677172832528177,
           -0.30677172832528177,
           -0.30677172832528177,
           -0.30677172832528177,
           -0.30677172832528177,
           -0.30677172832528177,
           -0.30677172832528177,
           -0.30677172832528177
          ]
         ]
        },
        {
         "opacity": 0.8,
         "type": "surface",
         "x": [
          [
           0.41083218704320623,
           0.41083218704320623,
           0.41083218704320623,
           0.41083218704320623,
           0.41083218704320623,
           0.41083218704320623,
           0.41083218704320623,
           0.41083218704320623,
           0.41083218704320623,
           0.41083218704320623
          ],
          [
           0.5407119747250796,
           0.5328792651171032,
           0.510325876670378,
           0.4757720808841429,
           0.4333855754899314,
           0.38827879859648107,
           0.34589229320226955,
           0.3113384974160345,
           0.2887851089693093,
           0.28095239936133287
          ],
          [
           0.6565172721190734,
           0.6417006485261567,
           0.5990378812227877,
           0.5336747295811398,
           0.45349495434657533,
           0.3681694197398372,
           0.2879896445052727,
           0.22262649286362488,
           0.17996372556025578,
           0.1651471019673391
          ],
          [
           0.7456987783482176,
           0.7255038518402561,
           0.6673548784986041,
           0.578265482695712,
           0.46898116038485826,
           0.35268321370155425,
           0.2433988913907006,
           0.15430949558780838,
           0.09616052224615634,
           0.07596559573819478
          ],
          [
           0.7985922934189384,
           0.7752074976396406,
           0.7078736617955597,
           0.6047122402310724,
           0.4781660228872872,
           0.3434983511991253,
           0.21695213385534023,
           0.11379071229085286,
           0.04645687644677188,
           0.02307208066747407
          ],
          [
           0.8094659842458742,
           0.7854254246704195,
           0.7162033922297276,
           0.6101490856445403,
           0.4800542194838982,
           0.3416101546025143,
           0.21151528844187234,
           0.1054609818566849,
           0.03623894941599287,
           0.012198389840538282
          ],
          [
           0.7771415177052292,
           0.7550503619913346,
           0.6914414142594812,
           0.5939868523742178,
           0.47444113477505956,
           0.3472232393113529,
           0.2276775217121948,
           0.13022295982693127,
           0.06661401209507795,
           0.044522856381183196
          ],
          [
           0.7051217513124589,
           0.6873739189613233,
           0.6362710724195726,
           0.5579769691778326,
           0.46193503358495697,
           0.35972934050145555,
           0.26368740490857995,
           0.1853933016668399,
           0.1342904551250892,
           0.11654262277395355
          ],
          [
           0.6012111442580357,
           0.5897298882908977,
           0.5566709293044121,
           0.506021665650621,
           0.4438911460296919,
           0.3777732280567206,
           0.31564270843579156,
           0.2649934447820005,
           0.23193448579551482,
           0.22045322982837676
          ],
          [
           0.47667002315549983,
           0.47269951580644054,
           0.46126689554400674,
           0.44375110509935306,
           0.42226480730564003,
           0.39939956678077243,
           0.37791326898705946,
           0.3603974785424057,
           0.3489648582799719,
           0.34499435093091263
          ],
          [
           0.3449943509309127,
           0.34896485827997203,
           0.3603974785424058,
           0.37791326898705946,
           0.39939956678077243,
           0.42226480730564003,
           0.443751105099353,
           0.4612668955440067,
           0.47269951580644043,
           0.4766700231554998
          ],
          [
           0.22045322982837684,
           0.23193448579551487,
           0.2649934447820005,
           0.3156427084357915,
           0.3777732280567206,
           0.4438911460296918,
           0.5060216656506209,
           0.5566709293044119,
           0.5897298882908976,
           0.6012111442580357
          ],
          [
           0.11654262277395372,
           0.1342904551250893,
           0.18539330166684,
           0.26368740490857995,
           0.35972934050145555,
           0.4619350335849569,
           0.5579769691778325,
           0.6362710724195724,
           0.687373918961323,
           0.7051217513124588
          ],
          [
           0.04452285638118331,
           0.066614012095078,
           0.13022295982693133,
           0.22767752171219474,
           0.3472232393113529,
           0.4744411347750595,
           0.5939868523742176,
           0.6914414142594811,
           0.7550503619913345,
           0.7771415177052292
          ],
          [
           0.012198389840538282,
           0.03623894941599287,
           0.10546098185668484,
           0.2115152884418722,
           0.34161015460251426,
           0.48005421948389815,
           0.6101490856445402,
           0.7162033922297275,
           0.7854254246704195,
           0.8094659842458742
          ],
          [
           0.023072080667474015,
           0.04645687644677177,
           0.11379071229085275,
           0.21695213385534007,
           0.34349835119912525,
           0.47816602288728716,
           0.6047122402310723,
           0.7078736617955597,
           0.7752074976396406,
           0.7985922934189384
          ],
          [
           0.07596559573819472,
           0.09616052224615629,
           0.15430949558780827,
           0.24339889139070045,
           0.3526832137015542,
           0.4689811603848582,
           0.5782654826957119,
           0.6673548784986041,
           0.7255038518402561,
           0.7456987783482177
          ],
          [
           0.165147101967339,
           0.17996372556025567,
           0.2226264928636248,
           0.2879896445052726,
           0.36816941973983713,
           0.45349495434657533,
           0.5336747295811398,
           0.5990378812227877,
           0.6417006485261567,
           0.6565172721190735
          ],
          [
           0.28095239936133276,
           0.2887851089693092,
           0.31133849741603437,
           0.34589229320226944,
           0.38827879859648107,
           0.4333855754899314,
           0.47577208088414297,
           0.5103258766703781,
           0.5328792651171033,
           0.5407119747250797
          ],
          [
           0.4108321870432061,
           0.4108321870432061,
           0.4108321870432062,
           0.4108321870432062,
           0.41083218704320623,
           0.41083218704320623,
           0.4108321870432063,
           0.4108321870432063,
           0.41083218704320634,
           0.41083218704320634
          ]
         ],
         "y": [
          [
           0.9462914156963462,
           0.9462914156963462,
           0.9462914156963462,
           0.9462914156963462,
           0.9462914156963462,
           0.9462914156963462,
           0.9462914156963462,
           0.9462914156963462,
           0.9462914156963462,
           0.9462914156963462
          ],
          [
           0.9462914156963462,
           0.990712919294408,
           1.0297765339669729,
           1.0587706112669777,
           1.0741980375650346,
           1.0741980375650346,
           1.058770611266978,
           1.0297765339669729,
           0.990712919294408,
           0.9462914156963462
          ],
          [
           0.9462914156963462,
           1.0303206637069735,
           1.104214744267897,
           1.1590609407029882,
           1.1882439922785242,
           1.1882439922785242,
           1.1590609407029882,
           1.104214744267897,
           1.0303206637069735,
           0.9462914156963462
          ],
          [
           0.9462914156963462,
           1.0608225352494645,
           1.1615395114851739,
           1.2362943906451873,
           1.2760706310382919,
           1.2760706310382919,
           1.2362943906451873,
           1.1615395114851739,
           1.0608225352494645,
           0.9462914156963462
          ],
          [
           0.9462914156963462,
           1.0789131828549507,
           1.1955388076054012,
           1.2821015183918865,
           1.3281605747640057,
           1.3281605747640057,
           1.2821015183918867,
           1.1955388076054014,
           1.0789131828549507,
           0.9462914156963462
          ],
          [
           0.9462914156963462,
           1.0826322041500582,
           1.2025282813405178,
           1.2915184108809108,
           1.3388690697942298,
           1.3388690697942298,
           1.2915184108809108,
           1.2025282813405178,
           1.0826322041500585,
           0.9462914156963462
          ],
          [
           0.9462914156963462,
           1.0715765854709012,
           1.1817505147584642,
           1.2635246016929322,
           1.307035684533019,
           1.307035684533019,
           1.2635246016929322,
           1.1817505147584642,
           1.0715765854709012,
           0.9462914156963462
          ],
          [
           0.9462914156963462,
           1.0469443746469647,
           1.1354571012686723,
           1.2011536544221721,
           1.2361100602192907,
           1.2361100602192907,
           1.2011536544221724,
           1.1354571012686723,
           1.0469443746469647,
           0.9462914156963462
          ],
          [
           0.9462914156963462,
           1.0114048539291536,
           1.0686646505390824,
           1.1111644289903793,
           1.1337780887718898,
           1.1337780887718898,
           1.1111644289903793,
           1.0686646505390824,
           1.0114048539291536,
           0.9462914156963462
          ],
          [
           0.9462914156963462,
           0.9688092818397248,
           0.9886111609979016,
           1.003308654299789,
           1.01112902714128,
           1.01112902714128,
           1.003308654299789,
           0.9886111609979016,
           0.9688092818397248,
           0.9462914156963462
          ],
          [
           0.9462914156963462,
           0.9237735495529678,
           0.903971670394791,
           0.8892741770929036,
           0.8814538042514124,
           0.8814538042514124,
           0.8892741770929036,
           0.903971670394791,
           0.9237735495529678,
           0.9462914156963462
          ],
          [
           0.9462914156963462,
           0.8811779774635389,
           0.8239181808536101,
           0.7814184024023132,
           0.7588047426208028,
           0.7588047426208028,
           0.7814184024023132,
           0.82391818085361,
           0.8811779774635389,
           0.9462914156963462
          ],
          [
           0.9462914156963462,
           0.8456384567457279,
           0.7571257301240202,
           0.6914291769705203,
           0.6564727711734019,
           0.6564727711734019,
           0.6914291769705203,
           0.7571257301240202,
           0.8456384567457278,
           0.9462914156963462
          ],
          [
           0.9462914156963462,
           0.8210062459217914,
           0.7108323166342284,
           0.6290582296997604,
           0.5855471468596736,
           0.5855471468596736,
           0.6290582296997603,
           0.7108323166342283,
           0.8210062459217913,
           0.9462914156963462
          ],
          [
           0.9462914156963462,
           0.8099506272426342,
           0.6900545500521746,
           0.6010644205117817,
           0.5537137615984626,
           0.5537137615984626,
           0.6010644205117817,
           0.6900545500521746,
           0.8099506272426341,
           0.9462914156963462
          ],
          [
           0.9462914156963462,
           0.8136696485377417,
           0.6970440237872911,
           0.6104813130008059,
           0.5644222566286866,
           0.5644222566286866,
           0.6104813130008058,
           0.697044023787291,
           0.8136696485377417,
           0.9462914156963462
          ],
          [
           0.9462914156963462,
           0.8317602961432281,
           0.7310433199075186,
           0.6562884407475051,
           0.6165122003544005,
           0.6165122003544005,
           0.656288440747505,
           0.7310433199075186,
           0.831760296143228,
           0.9462914156963462
          ],
          [
           0.9462914156963462,
           0.862262167685719,
           0.7883680871247956,
           0.7335218906897042,
           0.7043388391141683,
           0.7043388391141683,
           0.7335218906897041,
           0.7883680871247954,
           0.862262167685719,
           0.9462914156963462
          ],
          [
           0.9462914156963462,
           0.9018699120982845,
           0.8628062974257196,
           0.8338122201257145,
           0.8183847938276577,
           0.8183847938276577,
           0.8338122201257145,
           0.8628062974257195,
           0.9018699120982844,
           0.9462914156963462
          ],
          [
           0.9462914156963462,
           0.9462914156963462,
           0.9462914156963461,
           0.9462914156963461,
           0.9462914156963461,
           0.9462914156963461,
           0.9462914156963461,
           0.9462914156963461,
           0.9462914156963462,
           0.9462914156963462
          ]
         ],
         "z": [
          [
           0.20261829430883396,
           0.20261829430883396,
           0.20261829430883396,
           0.20261829430883396,
           0.20261829430883396,
           0.20261829430883396,
           0.20261829430883396,
           0.20261829430883396,
           0.20261829430883396,
           0.20261829430883396
          ],
          [
           0.18094519098908782,
           0.18094519098908782,
           0.18094519098908782,
           0.18094519098908782,
           0.18094519098908782,
           0.18094519098908782,
           0.18094519098908782,
           0.18094519098908782,
           0.18094519098908782,
           0.18094519098908782
          ],
          [
           0.1182744980673914,
           0.1182744980673914,
           0.1182744980673914,
           0.1182744980673914,
           0.1182744980673914,
           0.1182744980673914,
           0.1182744980673914,
           0.1182744980673914,
           0.1182744980673914,
           0.1182744980673914
          ],
          [
           0.02139755755780473,
           0.02139755755780473,
           0.02139755755780473,
           0.02139755755780473,
           0.02139755755780473,
           0.02139755755780473,
           0.02139755755780473,
           0.02139755755780473,
           0.02139755755780473,
           0.02139755755780473
          ],
          [
           -0.09918751083484637,
           -0.09918751083484637,
           -0.09918751083484637,
           -0.09918751083484637,
           -0.09918751083484637,
           -0.09918751083484637,
           -0.09918751083484637,
           -0.09918751083484637,
           -0.09918751083484637,
           -0.09918751083484637
          ],
          [
           -0.23041344388009896,
           -0.23041344388009896,
           -0.23041344388009896,
           -0.23041344388009896,
           -0.23041344388009896,
           -0.23041344388009896,
           -0.23041344388009896,
           -0.23041344388009896,
           -0.23041344388009896,
           -0.23041344388009896
          ],
          [
           -0.35805987555235375,
           -0.35805987555235375,
           -0.35805987555235375,
           -0.35805987555235375,
           -0.35805987555235375,
           -0.35805987555235375,
           -0.35805987555235375,
           -0.35805987555235375,
           -0.35805987555235375,
           -0.35805987555235375
          ],
          [
           -0.4682943343414624,
           -0.4682943343414624,
           -0.4682943343414624,
           -0.4682943343414624,
           -0.4682943343414624,
           -0.4682943343414624,
           -0.4682943343414624,
           -0.4682943343414624,
           -0.4682943343414624,
           -0.4682943343414624
          ],
          [
           -0.5491712061737617,
           -0.5491712061737617,
           -0.5491712061737617,
           -0.5491712061737617,
           -0.5491712061737617,
           -0.5491712061737617,
           -0.5491712061737617,
           -0.5491712061737617,
           -0.5491712061737617,
           -0.5491712061737617
          ],
          [
           -0.5919262270522551,
           -0.5919262270522551,
           -0.5919262270522551,
           -0.5919262270522551,
           -0.5919262270522551,
           -0.5919262270522551,
           -0.5919262270522551,
           -0.5919262270522551,
           -0.5919262270522551,
           -0.5919262270522551
          ],
          [
           -0.5919262270522551,
           -0.5919262270522551,
           -0.5919262270522551,
           -0.5919262270522551,
           -0.5919262270522551,
           -0.5919262270522551,
           -0.5919262270522551,
           -0.5919262270522551,
           -0.5919262270522551,
           -0.5919262270522551
          ],
          [
           -0.5491712061737617,
           -0.5491712061737617,
           -0.5491712061737617,
           -0.5491712061737617,
           -0.5491712061737617,
           -0.5491712061737617,
           -0.5491712061737617,
           -0.5491712061737617,
           -0.5491712061737617,
           -0.5491712061737617
          ],
          [
           -0.4682943343414626,
           -0.4682943343414626,
           -0.4682943343414626,
           -0.4682943343414626,
           -0.4682943343414626,
           -0.4682943343414626,
           -0.4682943343414626,
           -0.4682943343414626,
           -0.4682943343414626,
           -0.4682943343414626
          ],
          [
           -0.358059875552354,
           -0.358059875552354,
           -0.358059875552354,
           -0.358059875552354,
           -0.358059875552354,
           -0.358059875552354,
           -0.358059875552354,
           -0.358059875552354,
           -0.358059875552354,
           -0.358059875552354
          ],
          [
           -0.23041344388009916,
           -0.23041344388009916,
           -0.23041344388009916,
           -0.23041344388009916,
           -0.23041344388009916,
           -0.23041344388009916,
           -0.23041344388009916,
           -0.23041344388009916,
           -0.23041344388009916,
           -0.23041344388009916
          ],
          [
           -0.09918751083484653,
           -0.09918751083484653,
           -0.09918751083484653,
           -0.09918751083484653,
           -0.09918751083484653,
           -0.09918751083484653,
           -0.09918751083484653,
           -0.09918751083484653,
           -0.09918751083484653,
           -0.09918751083484653
          ],
          [
           0.021397557557804592,
           0.021397557557804592,
           0.021397557557804592,
           0.021397557557804592,
           0.021397557557804592,
           0.021397557557804592,
           0.021397557557804592,
           0.021397557557804592,
           0.021397557557804592,
           0.021397557557804592
          ],
          [
           0.11827449806739129,
           0.11827449806739129,
           0.11827449806739129,
           0.11827449806739129,
           0.11827449806739129,
           0.11827449806739129,
           0.11827449806739129,
           0.11827449806739129,
           0.11827449806739129,
           0.11827449806739129
          ],
          [
           0.18094519098908782,
           0.18094519098908782,
           0.18094519098908782,
           0.18094519098908782,
           0.18094519098908782,
           0.18094519098908782,
           0.18094519098908782,
           0.18094519098908782,
           0.18094519098908782,
           0.18094519098908782
          ],
          [
           0.20261829430883396,
           0.20261829430883396,
           0.20261829430883396,
           0.20261829430883396,
           0.20261829430883396,
           0.20261829430883396,
           0.20261829430883396,
           0.20261829430883396,
           0.20261829430883396,
           0.20261829430883396
          ]
         ]
        },
        {
         "opacity": 0.8,
         "type": "surface",
         "x": [
          [
           0.5084550380727375,
           0.5084550380727375,
           0.5084550380727375,
           0.5084550380727375,
           0.5084550380727375,
           0.5084550380727375,
           0.5084550380727375,
           0.5084550380727375,
           0.5084550380727375,
           0.5084550380727375
          ],
          [
           0.6383348257546109,
           0.6305021161466344,
           0.6079487276999093,
           0.5733949319136742,
           0.5310084265194627,
           0.48590164962601234,
           0.44351514423180083,
           0.40896134844556575,
           0.3864079599988406,
           0.37857525039086415
          ],
          [
           0.7541401231486047,
           0.739323499555688,
           0.6966607322523188,
           0.6312975806106711,
           0.5511178053761066,
           0.46579227076936847,
           0.385612495534804,
           0.3202493438931562,
           0.277586576589787,
           0.26276995299687034
          ],
          [
           0.843321629377749,
           0.8231267028697874,
           0.7649777295281355,
           0.6758883337252433,
           0.5666040114143895,
           0.45030606473108553,
           0.34102174242023187,
           0.25193234661733965,
           0.19378337327568762,
           0.17358844676772606
          ],
          [
           0.8962151444484696,
           0.872830348669172,
           0.8054965128250909,
           0.7023350912606037,
           0.5757888739168184,
           0.4411212022286566,
           0.3145749848848715,
           0.21141356332038413,
           0.14407972747630315,
           0.12069493169700535
          ],
          [
           0.9070888352754054,
           0.8830482756999509,
           0.8138262432592589,
           0.7077719366740716,
           0.5776770705134295,
           0.4392330056320456,
           0.3091381394714036,
           0.20308383288621618,
           0.13386180044552415,
           0.10982124087006956
          ],
          [
           0.8747643687347606,
           0.8526732130208658,
           0.7890642652890125,
           0.691609703403749,
           0.5720639858045908,
           0.4448460903408842,
           0.3253003727417261,
           0.22784581085646255,
           0.16423686312460922,
           0.14214570741071447
          ],
          [
           0.8027446023419902,
           0.7849967699908547,
           0.7338939234491039,
           0.6555998202073638,
           0.5595578846144882,
           0.45735219153098683,
           0.3613102559381112,
           0.28301615269637115,
           0.23191330615462047,
           0.21416547380348483
          ],
          [
           0.698833995287567,
           0.687352739320429,
           0.6542937803339433,
           0.6036445166801523,
           0.5415139970592232,
           0.47539607908625187,
           0.41326555946532284,
           0.36261629581153176,
           0.32955733682504607,
           0.31807608085790806
          ],
          [
           0.5742928741850312,
           0.5703223668359718,
           0.558889746573538,
           0.5413739561288843,
           0.5198876583351714,
           0.4970224178103037,
           0.47553612001659074,
           0.458020329571937,
           0.4465877093095032,
           0.4426172019604439
          ],
          [
           0.44261720196044396,
           0.4465877093095033,
           0.45802032957193706,
           0.47553612001659074,
           0.4970224178103037,
           0.5198876583351713,
           0.5413739561288843,
           0.558889746573538,
           0.5703223668359717,
           0.574292874185031
          ],
          [
           0.3180760808579081,
           0.3295573368250462,
           0.36261629581153176,
           0.4132655594653228,
           0.47539607908625187,
           0.5415139970592231,
           0.6036445166801522,
           0.6542937803339433,
           0.6873527393204288,
           0.6988339952875668
          ],
          [
           0.214165473803485,
           0.23191330615462058,
           0.28301615269637126,
           0.3613102559381112,
           0.45735219153098683,
           0.5595578846144882,
           0.6555998202073637,
           0.7338939234491038,
           0.7849967699908544,
           0.80274460234199
          ],
          [
           0.14214570741071458,
           0.16423686312460928,
           0.2278458108564626,
           0.325300372741726,
           0.4448460903408842,
           0.5720639858045908,
           0.6916097034037489,
           0.7890642652890124,
           0.8526732130208657,
           0.8747643687347604
          ],
          [
           0.10982124087006956,
           0.13386180044552415,
           0.20308383288621612,
           0.30913813947140345,
           0.43923300563204554,
           0.5776770705134294,
           0.7077719366740713,
           0.8138262432592589,
           0.8830482756999509,
           0.9070888352754054
          ],
          [
           0.12069493169700529,
           0.14407972747630304,
           0.21141356332038402,
           0.31457498488487134,
           0.44112120222865653,
           0.5757888739168184,
           0.7023350912606036,
           0.8054965128250909,
           0.872830348669172,
           0.8962151444484697
          ],
          [
           0.173588446767726,
           0.19378337327568756,
           0.25193234661733954,
           0.34102174242023175,
           0.4503060647310855,
           0.5666040114143895,
           0.6758883337252432,
           0.7649777295281355,
           0.8231267028697875,
           0.843321629377749
          ],
          [
           0.2627699529968703,
           0.2775865765897869,
           0.32024934389315607,
           0.38561249553480387,
           0.4657922707693684,
           0.5511178053761066,
           0.6312975806106711,
           0.696660732252319,
           0.7393234995556881,
           0.7541401231486047
          ],
          [
           0.37857525039086404,
           0.3864079599988405,
           0.40896134844556564,
           0.4435151442318007,
           0.48590164962601234,
           0.5310084265194627,
           0.5733949319136742,
           0.6079487276999094,
           0.6305021161466345,
           0.638334825754611
          ],
          [
           0.5084550380727374,
           0.5084550380727374,
           0.5084550380727374,
           0.5084550380727375,
           0.5084550380727375,
           0.5084550380727375,
           0.5084550380727375,
           0.5084550380727376,
           0.5084550380727376,
           0.5084550380727376
          ]
         ],
         "y": [
          [
           0.02905966783801836,
           0.02905966783801836,
           0.02905966783801836,
           0.02905966783801836,
           0.02905966783801836,
           0.02905966783801836,
           0.02905966783801836,
           0.02905966783801836,
           0.02905966783801836,
           0.02905966783801836
          ],
          [
           0.02905966783801836,
           0.07348117143608013,
           0.11254478610864498,
           0.1415388634086499,
           0.15696628970670676,
           0.15696628970670676,
           0.14153886340864993,
           0.112544786108645,
           0.07348117143608014,
           0.029059667838018378
          ],
          [
           0.02905966783801836,
           0.11308891584864555,
           0.18698299640956903,
           0.24182919284466034,
           0.2710122444201962,
           0.2710122444201962,
           0.24182919284466037,
           0.18698299640956909,
           0.1130889158486456,
           0.02905966783801839
          ],
          [
           0.02905966783801836,
           0.1435907873911365,
           0.24430776362684592,
           0.3190626427868595,
           0.35883888317996404,
           0.35883888317996404,
           0.3190626427868595,
           0.244307763626846,
           0.14359078739113657,
           0.029059667838018402
          ],
          [
           0.02905966783801836,
           0.16168143499662282,
           0.2783070597470734,
           0.3648697705335586,
           0.4109288269056779,
           0.4109288269056779,
           0.36486977053355873,
           0.2783070597470735,
           0.16168143499662288,
           0.02905966783801841
          ],
          [
           0.02905966783801836,
           0.16540045629173042,
           0.28529653348219,
           0.37428666302258284,
           0.421637321935902,
           0.421637321935902,
           0.37428666302258295,
           0.28529653348219,
           0.16540045629173047,
           0.02905966783801841
          ],
          [
           0.02905966783801836,
           0.15434483761257325,
           0.26451876690013626,
           0.3462928538346043,
           0.38980393667469115,
           0.38980393667469115,
           0.3462928538346043,
           0.2645187669001363,
           0.1543448376125733,
           0.029059667838018406
          ],
          [
           0.02905966783801836,
           0.12971262678863676,
           0.21822535341034446,
           0.2839219065638444,
           0.31887831236096287,
           0.31887831236096287,
           0.2839219065638444,
           0.21822535341034452,
           0.12971262678863682,
           0.029059667838018395
          ],
          [
           0.02905966783801836,
           0.09417310607082569,
           0.15143290268075454,
           0.19393268113205142,
           0.21654634091356187,
           0.21654634091356187,
           0.19393268113205145,
           0.15143290268075457,
           0.09417310607082573,
           0.029059667838018385
          ],
          [
           0.02905966783801836,
           0.05157753398139691,
           0.07137941313957369,
           0.08607690644146113,
           0.09389727928295225,
           0.09389727928295225,
           0.08607690644146114,
           0.0713794131395737,
           0.05157753398139692,
           0.029059667838018367
          ],
          [
           0.02905966783801836,
           0.0065418016946398455,
           -0.013260077463536905,
           -0.02795757076542433,
           -0.03577794360691543,
           -0.03577794360691543,
           -0.027957570765424336,
           -0.01326007746353692,
           0.006541801694639832,
           0.029059667838018353
          ],
          [
           0.02905966783801836,
           -0.036053770394788937,
           -0.09331356700471775,
           -0.13581334545601462,
           -0.15842700523752506,
           -0.15842700523752506,
           -0.13581334545601464,
           -0.0933135670047178,
           -0.03605377039478898,
           0.029059667838018336
          ],
          [
           0.02905966783801836,
           -0.07159329111259997,
           -0.16010601773430763,
           -0.22580257088780756,
           -0.260758976684926,
           -0.260758976684926,
           -0.22580257088780756,
           -0.1601060177343077,
           -0.07159329111260003,
           0.029059667838018326
          ],
          [
           0.02905966783801836,
           -0.0962255019365365,
           -0.20639943122409948,
           -0.2881735181585675,
           -0.3316846009986544,
           -0.3316846009986544,
           -0.2881735181585675,
           -0.20639943122409957,
           -0.09622550193653656,
           0.029059667838018315
          ],
          [
           0.02905966783801836,
           -0.1072811206156937,
           -0.22717719780615322,
           -0.3161673273465462,
           -0.3635179862598653,
           -0.3635179862598653,
           -0.3161673273465462,
           -0.22717719780615328,
           -0.10728112061569375,
           0.029059667838018312
          ],
          [
           0.02905966783801836,
           -0.10356209932058613,
           -0.22018772407103673,
           -0.30675043485752196,
           -0.3528094912296412,
           -0.3528094912296412,
           -0.30675043485752207,
           -0.22018772407103682,
           -0.10356209932058619,
           0.029059667838018312
          ],
          [
           0.02905966783801836,
           -0.0854714517150998,
           -0.18618842795080923,
           -0.2609433071108228,
           -0.3007195475039274,
           -0.3007195475039274,
           -0.2609433071108228,
           -0.1861884279508093,
           -0.08547145171509986,
           0.02905966783801832
          ],
          [
           0.02905966783801836,
           -0.05496958017260886,
           -0.12886366073353236,
           -0.1837098571686237,
           -0.21289290874415961,
           -0.21289290874415961,
           -0.18370985716862373,
           -0.12886366073353242,
           -0.0549695801726089,
           0.02905966783801833
          ],
          [
           0.02905966783801836,
           -0.015361835760043435,
           -0.054425450432608324,
           -0.0834195277326133,
           -0.09884695403067012,
           -0.09884695403067012,
           -0.08341952773261331,
           -0.054425450432608366,
           -0.015361835760043456,
           0.029059667838018343
          ],
          [
           0.02905966783801836,
           0.029059667838018326,
           0.029059667838018298,
           0.029059667838018277,
           0.029059667838018263,
           0.029059667838018263,
           0.029059667838018277,
           0.029059667838018298,
           0.029059667838018326,
           0.02905966783801836
          ]
         ],
         "z": [
          [
           1.026562361258009,
           1.026562361258009,
           1.026562361258009,
           1.026562361258009,
           1.026562361258009,
           1.026562361258009,
           1.026562361258009,
           1.026562361258009,
           1.026562361258009,
           1.026562361258009
          ],
          [
           1.0048892579382631,
           1.0048892579382631,
           1.0048892579382631,
           1.0048892579382631,
           1.0048892579382631,
           1.0048892579382631,
           1.0048892579382631,
           1.0048892579382631,
           1.0048892579382631,
           1.0048892579382631
          ],
          [
           0.9422185650165666,
           0.9422185650165666,
           0.9422185650165666,
           0.9422185650165666,
           0.9422185650165666,
           0.9422185650165666,
           0.9422185650165666,
           0.9422185650165666,
           0.9422185650165666,
           0.9422185650165666
          ],
          [
           0.8453416245069799,
           0.8453416245069799,
           0.8453416245069799,
           0.8453416245069799,
           0.8453416245069799,
           0.8453416245069799,
           0.8453416245069799,
           0.8453416245069799,
           0.8453416245069799,
           0.8453416245069799
          ],
          [
           0.7247565561143288,
           0.7247565561143288,
           0.7247565561143288,
           0.7247565561143288,
           0.7247565561143288,
           0.7247565561143288,
           0.7247565561143288,
           0.7247565561143288,
           0.7247565561143288,
           0.7247565561143288
          ],
          [
           0.5935306230690762,
           0.5935306230690762,
           0.5935306230690762,
           0.5935306230690762,
           0.5935306230690762,
           0.5935306230690762,
           0.5935306230690762,
           0.5935306230690762,
           0.5935306230690762,
           0.5935306230690762
          ],
          [
           0.4658841913968214,
           0.4658841913968214,
           0.4658841913968214,
           0.4658841913968214,
           0.4658841913968214,
           0.4658841913968214,
           0.4658841913968214,
           0.4658841913968214,
           0.4658841913968214,
           0.4658841913968214
          ],
          [
           0.35564973260771277,
           0.35564973260771277,
           0.35564973260771277,
           0.35564973260771277,
           0.35564973260771277,
           0.35564973260771277,
           0.35564973260771277,
           0.35564973260771277,
           0.35564973260771277,
           0.35564973260771277
          ],
          [
           0.2747728607754135,
           0.2747728607754135,
           0.2747728607754135,
           0.2747728607754135,
           0.2747728607754135,
           0.2747728607754135,
           0.2747728607754135,
           0.2747728607754135,
           0.2747728607754135,
           0.2747728607754135
          ],
          [
           0.23201783989692015,
           0.23201783989692015,
           0.23201783989692015,
           0.23201783989692015,
           0.23201783989692015,
           0.23201783989692015,
           0.23201783989692015,
           0.23201783989692015,
           0.23201783989692015,
           0.23201783989692015
          ],
          [
           0.23201783989692015,
           0.23201783989692015,
           0.23201783989692015,
           0.23201783989692015,
           0.23201783989692015,
           0.23201783989692015,
           0.23201783989692015,
           0.23201783989692015,
           0.23201783989692015,
           0.23201783989692015
          ],
          [
           0.27477286077541346,
           0.27477286077541346,
           0.27477286077541346,
           0.27477286077541346,
           0.27477286077541346,
           0.27477286077541346,
           0.27477286077541346,
           0.27477286077541346,
           0.27477286077541346,
           0.27477286077541346
          ],
          [
           0.35564973260771254,
           0.35564973260771254,
           0.35564973260771254,
           0.35564973260771254,
           0.35564973260771254,
           0.35564973260771254,
           0.35564973260771254,
           0.35564973260771254,
           0.35564973260771254,
           0.35564973260771254
          ],
          [
           0.46588419139682113,
           0.46588419139682113,
           0.46588419139682113,
           0.46588419139682113,
           0.46588419139682113,
           0.46588419139682113,
           0.46588419139682113,
           0.46588419139682113,
           0.46588419139682113,
           0.46588419139682113
          ],
          [
           0.593530623069076,
           0.593530623069076,
           0.593530623069076,
           0.593530623069076,
           0.593530623069076,
           0.593530623069076,
           0.593530623069076,
           0.593530623069076,
           0.593530623069076,
           0.593530623069076
          ],
          [
           0.7247565561143287,
           0.7247565561143287,
           0.7247565561143287,
           0.7247565561143287,
           0.7247565561143287,
           0.7247565561143287,
           0.7247565561143287,
           0.7247565561143287,
           0.7247565561143287,
           0.7247565561143287
          ],
          [
           0.8453416245069798,
           0.8453416245069798,
           0.8453416245069798,
           0.8453416245069798,
           0.8453416245069798,
           0.8453416245069798,
           0.8453416245069798,
           0.8453416245069798,
           0.8453416245069798,
           0.8453416245069798
          ],
          [
           0.9422185650165664,
           0.9422185650165664,
           0.9422185650165664,
           0.9422185650165664,
           0.9422185650165664,
           0.9422185650165664,
           0.9422185650165664,
           0.9422185650165664,
           0.9422185650165664,
           0.9422185650165664
          ],
          [
           1.0048892579382631,
           1.0048892579382631,
           1.0048892579382631,
           1.0048892579382631,
           1.0048892579382631,
           1.0048892579382631,
           1.0048892579382631,
           1.0048892579382631,
           1.0048892579382631,
           1.0048892579382631
          ],
          [
           1.026562361258009,
           1.026562361258009,
           1.026562361258009,
           1.026562361258009,
           1.026562361258009,
           1.026562361258009,
           1.026562361258009,
           1.026562361258009,
           1.026562361258009,
           1.026562361258009
          ]
         ]
        },
        {
         "opacity": 0.8,
         "type": "surface",
         "x": [
          [
           -0.5026446883678584,
           -0.5026446883678584,
           -0.5026446883678584,
           -0.5026446883678584,
           -0.5026446883678584,
           -0.5026446883678584,
           -0.5026446883678584,
           -0.5026446883678584,
           -0.5026446883678584,
           -0.5026446883678584
          ],
          [
           -0.372764900685985,
           -0.38059761029396144,
           -0.40315099874068655,
           -0.4377047945269217,
           -0.4800912999211332,
           -0.5251980768145835,
           -0.567584582208795,
           -0.6021383779950301,
           -0.6246917664417553,
           -0.6325244760497317
          ],
          [
           -0.2569596032919912,
           -0.2717762268849079,
           -0.314438994188277,
           -0.3798021458299248,
           -0.45998192106448926,
           -0.5453074556712274,
           -0.6254872309057918,
           -0.6908503825474397,
           -0.7335131498508088,
           -0.7483297734437255
          ],
          [
           -0.1677780970628469,
           -0.18797302357080847,
           -0.24612199691246045,
           -0.3352113927153526,
           -0.44449571502620633,
           -0.5607936617095103,
           -0.670077984020364,
           -0.7591673798232562,
           -0.8173163531649082,
           -0.8375112796728699
          ],
          [
           -0.1148845819921262,
           -0.13826937777142395,
           -0.20560321361550493,
           -0.3087646351799922,
           -0.4353108525237774,
           -0.5699785242119393,
           -0.6965247415557243,
           -0.7996861631202117,
           -0.8670199989642927,
           -0.8904047947435905
          ],
          [
           -0.10401089116519041,
           -0.128051450740645,
           -0.19727348318133697,
           -0.3033277897665243,
           -0.4334226559271664,
           -0.5718667208085503,
           -0.7019615869691922,
           -0.8080158935543797,
           -0.8772379259950718,
           -0.9012784855705263
          ],
          [
           -0.13633535770583532,
           -0.15842651341973002,
           -0.22203546115158335,
           -0.3194900230368468,
           -0.43903574063600503,
           -0.5662536360997117,
           -0.6857993536988698,
           -0.7832539155841334,
           -0.8468628633159867,
           -0.8689540190298815
          ],
          [
           -0.20835512409860568,
           -0.22610295644974127,
           -0.277205802991492,
           -0.355499906233232,
           -0.4515418418261076,
           -0.553747534909609,
           -0.6497894705024847,
           -0.7280835737442247,
           -0.7791864202859754,
           -0.796934252637111
          ],
          [
           -0.3122657311530289,
           -0.3237469871201669,
           -0.35680594610665256,
           -0.4074552097604436,
           -0.4695857293813727,
           -0.535703647354344,
           -0.597834166975273,
           -0.6484834306290641,
           -0.6815423896155498,
           -0.6930236455826878
          ],
          [
           -0.43680685225556476,
           -0.44077735960462405,
           -0.45220997986705785,
           -0.46972577031171153,
           -0.49121206810542456,
           -0.5140773086302921,
           -0.5355636064240051,
           -0.5530793968686588,
           -0.5645120171310927,
           -0.568482524480152
          ],
          [
           -0.5684825244801519,
           -0.5645120171310926,
           -0.5530793968686588,
           -0.5355636064240051,
           -0.5140773086302921,
           -0.49121206810542456,
           -0.4697257703117116,
           -0.4522099798670579,
           -0.44077735960462416,
           -0.4368068522555648
          ],
          [
           -0.6930236455826877,
           -0.6815423896155497,
           -0.6484834306290641,
           -0.5978341669752731,
           -0.535703647354344,
           -0.4695857293813728,
           -0.4074552097604437,
           -0.35680594610665267,
           -0.32374698712016703,
           -0.31226573115302897
          ],
          [
           -0.7969342526371108,
           -0.7791864202859753,
           -0.7280835737442246,
           -0.6497894705024847,
           -0.553747534909609,
           -0.4515418418261077,
           -0.35549990623323213,
           -0.27720580299149217,
           -0.2261029564497415,
           -0.20835512409860585
          ],
          [
           -0.8689540190298812,
           -0.8468628633159866,
           -0.7832539155841333,
           -0.6857993536988698,
           -0.5662536360997117,
           -0.4390357406360051,
           -0.319490023036847,
           -0.22203546115158346,
           -0.15842651341973013,
           -0.13633535770583544
          ],
          [
           -0.9012784855705263,
           -0.8772379259950718,
           -0.8080158935543797,
           -0.7019615869691924,
           -0.5718667208085504,
           -0.43342265592716644,
           -0.30332778976652447,
           -0.19727348318133703,
           -0.128051450740645,
           -0.10401089116519041
          ],
          [
           -0.8904047947435906,
           -0.8670199989642928,
           -0.7996861631202119,
           -0.6965247415557245,
           -0.5699785242119393,
           -0.43531085252377744,
           -0.3087646351799923,
           -0.20560321361550493,
           -0.13826937777142395,
           -0.11488458199212614
          ],
          [
           -0.8375112796728699,
           -0.8173163531649084,
           -0.7591673798232563,
           -0.6700779840203641,
           -0.5607936617095104,
           -0.4444957150262064,
           -0.3352113927153527,
           -0.24612199691246045,
           -0.18797302357080842,
           -0.16777809706284685
          ],
          [
           -0.7483297734437255,
           -0.733513149850809,
           -0.6908503825474398,
           -0.625487230905792,
           -0.5453074556712275,
           -0.45998192106448926,
           -0.3798021458299248,
           -0.3144389941882769,
           -0.2717762268849078,
           -0.25695960329199113
          ],
          [
           -0.6325244760497318,
           -0.6246917664417554,
           -0.6021383779950302,
           -0.5675845822087952,
           -0.5251980768145835,
           -0.4800912999211332,
           -0.4377047945269216,
           -0.4031509987406865,
           -0.38059761029396133,
           -0.3727649006859849
          ],
          [
           -0.5026446883678585,
           -0.5026446883678585,
           -0.5026446883678585,
           -0.5026446883678584,
           -0.5026446883678584,
           -0.5026446883678584,
           -0.5026446883678584,
           -0.5026446883678583,
           -0.5026446883678583,
           -0.5026446883678583
          ]
         ],
         "y": [
          [
           -0.5152139910879687,
           -0.5152139910879687,
           -0.5152139910879687,
           -0.5152139910879687,
           -0.5152139910879687,
           -0.5152139910879687,
           -0.5152139910879687,
           -0.5152139910879687,
           -0.5152139910879687,
           -0.5152139910879687
          ],
          [
           -0.5152139910879687,
           -0.470792487489907,
           -0.4317288728173421,
           -0.40273479551733715,
           -0.38730736921928033,
           -0.38730736921928033,
           -0.40273479551733715,
           -0.43172887281734207,
           -0.47079248748990693,
           -0.5152139910879687
          ],
          [
           -0.5152139910879687,
           -0.43118474307734156,
           -0.35729066251641806,
           -0.30244446608132675,
           -0.27326141450579083,
           -0.27326141450579083,
           -0.3024444660813267,
           -0.357290662516418,
           -0.4311847430773415,
           -0.5152139910879687
          ],
          [
           -0.5152139910879687,
           -0.4006828715348506,
           -0.2999658952991412,
           -0.22521101613912758,
           -0.18543477574602302,
           -0.18543477574602302,
           -0.22521101613912758,
           -0.2999658952991411,
           -0.4006828715348505,
           -0.5152139910879687
          ],
          [
           -0.5152139910879687,
           -0.38259222392936426,
           -0.26596659917891363,
           -0.17940388839242843,
           -0.13334483202030917,
           -0.13334483202030917,
           -0.17940388839242838,
           -0.2659665991789136,
           -0.3825922239293642,
           -0.5152139910879687
          ],
          [
           -0.5152139910879687,
           -0.37887320263425667,
           -0.25897712544379714,
           -0.16998699590340421,
           -0.12263633699008508,
           -0.12263633699008508,
           -0.16998699590340416,
           -0.2589771254437971,
           -0.3788732026342566,
           -0.5152139910879687
          ],
          [
           -0.5152139910879687,
           -0.38992882131341383,
           -0.2797548920258508,
           -0.19798080509138277,
           -0.1544697222512959,
           -0.1544697222512959,
           -0.19798080509138277,
           -0.27975489202585074,
           -0.3899288213134138,
           -0.5152139910879687
          ],
          [
           -0.5152139910879687,
           -0.41456103213735035,
           -0.3260483055156426,
           -0.2603517523621427,
           -0.2253953465650242,
           -0.2253953465650242,
           -0.26035175236214264,
           -0.32604830551564257,
           -0.4145610321373503,
           -0.5152139910879687
          ],
          [
           -0.5152139910879687,
           -0.4501005528551614,
           -0.39284075624523257,
           -0.3503409777939357,
           -0.3277273180124252,
           -0.3277273180124252,
           -0.35034097779393564,
           -0.3928407562452325,
           -0.4501005528551614,
           -0.5152139910879687
          ],
          [
           -0.5152139910879687,
           -0.4926961249445902,
           -0.47289424578641337,
           -0.45819675248452596,
           -0.45037637964303484,
           -0.45037637964303484,
           -0.45819675248452596,
           -0.47289424578641337,
           -0.49269612494459014,
           -0.5152139910879687
          ],
          [
           -0.5152139910879687,
           -0.5377318572313472,
           -0.557533736389524,
           -0.5722312296914114,
           -0.5800516025329026,
           -0.5800516025329026,
           -0.5722312296914114,
           -0.557533736389524,
           -0.5377318572313472,
           -0.5152139910879687
          ],
          [
           -0.5152139910879687,
           -0.5803274293207761,
           -0.6375872259307048,
           -0.6800870043820018,
           -0.7027006641635122,
           -0.7027006641635122,
           -0.6800870043820018,
           -0.6375872259307049,
           -0.5803274293207761,
           -0.5152139910879687
          ],
          [
           -0.5152139910879687,
           -0.615866950038587,
           -0.7043796766602948,
           -0.7700762298137946,
           -0.8050326356109131,
           -0.8050326356109131,
           -0.7700762298137946,
           -0.7043796766602948,
           -0.6158669500385872,
           -0.5152139910879687
          ],
          [
           -0.5152139910879687,
           -0.6404991608625236,
           -0.7506730901500865,
           -0.8324471770845545,
           -0.8759582599246414,
           -0.8759582599246414,
           -0.8324471770845546,
           -0.7506730901500867,
           -0.6404991608625237,
           -0.5152139910879687
          ],
          [
           -0.5152139910879687,
           -0.6515547795416807,
           -0.7714508567321403,
           -0.8604409862725333,
           -0.9077916451858523,
           -0.9077916451858523,
           -0.8604409862725333,
           -0.7714508567321403,
           -0.6515547795416808,
           -0.5152139910879687
          ],
          [
           -0.5152139910879687,
           -0.6478357582465732,
           -0.7644613829970238,
           -0.8510240937835091,
           -0.8970831501556283,
           -0.8970831501556283,
           -0.8510240937835092,
           -0.7644613829970239,
           -0.6478357582465732,
           -0.5152139910879687
          ],
          [
           -0.5152139910879687,
           -0.6297451106410868,
           -0.7304620868767964,
           -0.8052169660368098,
           -0.8449932064299145,
           -0.8449932064299145,
           -0.8052169660368099,
           -0.7304620868767964,
           -0.629745110641087,
           -0.5152139910879687
          ],
          [
           -0.5152139910879687,
           -0.599243239098596,
           -0.6731373196595194,
           -0.7279835160946108,
           -0.7571665676701467,
           -0.7571665676701467,
           -0.7279835160946109,
           -0.6731373196595195,
           -0.599243239098596,
           -0.5152139910879687
          ],
          [
           -0.5152139910879687,
           -0.5596354946860305,
           -0.5986991093585954,
           -0.6276931866586004,
           -0.6431206129566572,
           -0.6431206129566572,
           -0.6276931866586004,
           -0.5986991093585955,
           -0.5596354946860306,
           -0.5152139910879687
          ],
          [
           -0.5152139910879687,
           -0.5152139910879687,
           -0.5152139910879688,
           -0.5152139910879688,
           -0.5152139910879688,
           -0.5152139910879688,
           -0.5152139910879688,
           -0.5152139910879688,
           -0.5152139910879687,
           -0.5152139910879687
          ]
         ],
         "z": [
          [
           -0.7673098695567743,
           -0.7673098695567743,
           -0.7673098695567743,
           -0.7673098695567743,
           -0.7673098695567743,
           -0.7673098695567743,
           -0.7673098695567743,
           -0.7673098695567743,
           -0.7673098695567743,
           -0.7673098695567743
          ],
          [
           -0.7889829728765204,
           -0.7889829728765204,
           -0.7889829728765204,
           -0.7889829728765204,
           -0.7889829728765204,
           -0.7889829728765204,
           -0.7889829728765204,
           -0.7889829728765204,
           -0.7889829728765204,
           -0.7889829728765204
          ],
          [
           -0.8516536657982168,
           -0.8516536657982168,
           -0.8516536657982168,
           -0.8516536657982168,
           -0.8516536657982168,
           -0.8516536657982168,
           -0.8516536657982168,
           -0.8516536657982168,
           -0.8516536657982168,
           -0.8516536657982168
          ],
          [
           -0.9485306063078035,
           -0.9485306063078035,
           -0.9485306063078035,
           -0.9485306063078035,
           -0.9485306063078035,
           -0.9485306063078035,
           -0.9485306063078035,
           -0.9485306063078035,
           -0.9485306063078035,
           -0.9485306063078035
          ],
          [
           -1.0691156747004547,
           -1.0691156747004547,
           -1.0691156747004547,
           -1.0691156747004547,
           -1.0691156747004547,
           -1.0691156747004547,
           -1.0691156747004547,
           -1.0691156747004547,
           -1.0691156747004547,
           -1.0691156747004547
          ],
          [
           -1.2003416077457072,
           -1.2003416077457072,
           -1.2003416077457072,
           -1.2003416077457072,
           -1.2003416077457072,
           -1.2003416077457072,
           -1.2003416077457072,
           -1.2003416077457072,
           -1.2003416077457072,
           -1.2003416077457072
          ],
          [
           -1.327988039417962,
           -1.327988039417962,
           -1.327988039417962,
           -1.327988039417962,
           -1.327988039417962,
           -1.327988039417962,
           -1.327988039417962,
           -1.327988039417962,
           -1.327988039417962,
           -1.327988039417962
          ],
          [
           -1.4382224982070706,
           -1.4382224982070706,
           -1.4382224982070706,
           -1.4382224982070706,
           -1.4382224982070706,
           -1.4382224982070706,
           -1.4382224982070706,
           -1.4382224982070706,
           -1.4382224982070706,
           -1.4382224982070706
          ],
          [
           -1.51909937003937,
           -1.51909937003937,
           -1.51909937003937,
           -1.51909937003937,
           -1.51909937003937,
           -1.51909937003937,
           -1.51909937003937,
           -1.51909937003937,
           -1.51909937003937,
           -1.51909937003937
          ],
          [
           -1.5618543909178633,
           -1.5618543909178633,
           -1.5618543909178633,
           -1.5618543909178633,
           -1.5618543909178633,
           -1.5618543909178633,
           -1.5618543909178633,
           -1.5618543909178633,
           -1.5618543909178633,
           -1.5618543909178633
          ],
          [
           -1.5618543909178633,
           -1.5618543909178633,
           -1.5618543909178633,
           -1.5618543909178633,
           -1.5618543909178633,
           -1.5618543909178633,
           -1.5618543909178633,
           -1.5618543909178633,
           -1.5618543909178633,
           -1.5618543909178633
          ],
          [
           -1.51909937003937,
           -1.51909937003937,
           -1.51909937003937,
           -1.51909937003937,
           -1.51909937003937,
           -1.51909937003937,
           -1.51909937003937,
           -1.51909937003937,
           -1.51909937003937,
           -1.51909937003937
          ],
          [
           -1.4382224982070708,
           -1.4382224982070708,
           -1.4382224982070708,
           -1.4382224982070708,
           -1.4382224982070708,
           -1.4382224982070708,
           -1.4382224982070708,
           -1.4382224982070708,
           -1.4382224982070708,
           -1.4382224982070708
          ],
          [
           -1.3279880394179622,
           -1.3279880394179622,
           -1.3279880394179622,
           -1.3279880394179622,
           -1.3279880394179622,
           -1.3279880394179622,
           -1.3279880394179622,
           -1.3279880394179622,
           -1.3279880394179622,
           -1.3279880394179622
          ],
          [
           -1.2003416077457074,
           -1.2003416077457074,
           -1.2003416077457074,
           -1.2003416077457074,
           -1.2003416077457074,
           -1.2003416077457074,
           -1.2003416077457074,
           -1.2003416077457074,
           -1.2003416077457074,
           -1.2003416077457074
          ],
          [
           -1.0691156747004547,
           -1.0691156747004547,
           -1.0691156747004547,
           -1.0691156747004547,
           -1.0691156747004547,
           -1.0691156747004547,
           -1.0691156747004547,
           -1.0691156747004547,
           -1.0691156747004547,
           -1.0691156747004547
          ],
          [
           -0.9485306063078036,
           -0.9485306063078036,
           -0.9485306063078036,
           -0.9485306063078036,
           -0.9485306063078036,
           -0.9485306063078036,
           -0.9485306063078036,
           -0.9485306063078036,
           -0.9485306063078036,
           -0.9485306063078036
          ],
          [
           -0.851653665798217,
           -0.851653665798217,
           -0.851653665798217,
           -0.851653665798217,
           -0.851653665798217,
           -0.851653665798217,
           -0.851653665798217,
           -0.851653665798217,
           -0.851653665798217,
           -0.851653665798217
          ],
          [
           -0.7889829728765204,
           -0.7889829728765204,
           -0.7889829728765204,
           -0.7889829728765204,
           -0.7889829728765204,
           -0.7889829728765204,
           -0.7889829728765204,
           -0.7889829728765204,
           -0.7889829728765204,
           -0.7889829728765204
          ],
          [
           -0.7673098695567743,
           -0.7673098695567743,
           -0.7673098695567743,
           -0.7673098695567743,
           -0.7673098695567743,
           -0.7673098695567743,
           -0.7673098695567743,
           -0.7673098695567743,
           -0.7673098695567743,
           -0.7673098695567743
          ]
         ]
        },
        {
         "opacity": 0.8,
         "type": "surface",
         "x": [
          [
           0.423443078516371,
           0.423443078516371,
           0.423443078516371,
           0.423443078516371,
           0.423443078516371,
           0.423443078516371,
           0.423443078516371,
           0.423443078516371,
           0.423443078516371,
           0.423443078516371
          ],
          [
           0.5533228661982443,
           0.5454901565902679,
           0.5229367681435427,
           0.48838297235730765,
           0.44599646696309614,
           0.4008896900696458,
           0.3585031846754343,
           0.3239493888891992,
           0.30139600044247405,
           0.2935632908344976
          ],
          [
           0.6691281635922381,
           0.6543115399993215,
           0.6116487726959523,
           0.5462856210543046,
           0.46610584581974007,
           0.38078031121300193,
           0.30060053597843744,
           0.23523738433678962,
           0.19257461703342052,
           0.17775799344050383
          ],
          [
           0.7583096698213825,
           0.7381147433134209,
           0.6799657699717689,
           0.5908763741688767,
           0.481592051858023,
           0.365294105174719,
           0.25600978286386533,
           0.16692038706097312,
           0.10877141371932109,
           0.08857648721135952
          ],
          [
           0.8112031848921031,
           0.7878183891128054,
           0.7204845532687244,
           0.6173231317042371,
           0.49077691436045195,
           0.35610924267229005,
           0.22956302532850498,
           0.1264016037640176,
           0.05906776791993662,
           0.03568297214063881
          ],
          [
           0.8220768757190389,
           0.7980363161435844,
           0.7288142837028924,
           0.622759977117705,
           0.49266511095706295,
           0.35422104607567906,
           0.22412617991503708,
           0.11807187332984964,
           0.048849840889157614,
           0.024809281313703024
          ],
          [
           0.7897524091783941,
           0.7676612534644993,
           0.704052305732646,
           0.6065977438473825,
           0.4870520262482243,
           0.35983413078451765,
           0.24028841318535954,
           0.14283385130009602,
           0.07922490356824269,
           0.05713374785434794
          ],
          [
           0.7177326427856237,
           0.6999848104344881,
           0.6488819638927373,
           0.5705878606509973,
           0.4745459250581217,
           0.3723402319746203,
           0.2762982963817447,
           0.19800419314000464,
           0.14690134659825393,
           0.1291535142471183
          ],
          [
           0.6138220357312004,
           0.6023407797640624,
           0.5692818207775767,
           0.5186325571237858,
           0.4565020375028566,
           0.39038411952988533,
           0.3282535999089563,
           0.27760433625516523,
           0.24454537726867956,
           0.2330641213015415
          ],
          [
           0.4892809146286646,
           0.4853104072796053,
           0.4738777870171715,
           0.4563619965725178,
           0.4348756987788048,
           0.4120104582539372,
           0.3905241604602242,
           0.37300837001557047,
           0.36157574975313667,
           0.3576052424040774
          ],
          [
           0.35760524240407743,
           0.3615757497531368,
           0.3730083700155705,
           0.3905241604602242,
           0.4120104582539372,
           0.4348756987788048,
           0.45636199657251775,
           0.4738777870171714,
           0.48531040727960517,
           0.4892809146286645
          ],
          [
           0.23306412130154158,
           0.24454537726867961,
           0.27760433625516523,
           0.32825359990895625,
           0.39038411952988533,
           0.45650203750285656,
           0.5186325571237856,
           0.5692818207775767,
           0.6023407797640623,
           0.6138220357312003
          ],
          [
           0.12915351424711846,
           0.14690134659825405,
           0.19800419314000475,
           0.2762982963817447,
           0.3723402319746203,
           0.47454592505812165,
           0.5705878606509972,
           0.6488819638927372,
           0.6999848104344879,
           0.7177326427856234
          ],
          [
           0.05713374785434805,
           0.07922490356824274,
           0.14283385130009607,
           0.24028841318535948,
           0.35983413078451765,
           0.48705202624822425,
           0.6065977438473824,
           0.7040523057326459,
           0.7676612534644992,
           0.7897524091783938
          ],
          [
           0.024809281313703024,
           0.048849840889157614,
           0.11807187332984959,
           0.22412617991503694,
           0.354221046075679,
           0.4926651109570629,
           0.6227599771177048,
           0.7288142837028924,
           0.7980363161435844,
           0.8220768757190389
          ],
          [
           0.03568297214063876,
           0.05906776791993651,
           0.1264016037640175,
           0.2295630253285048,
           0.35610924267229,
           0.4907769143604519,
           0.617323131704237,
           0.7204845532687244,
           0.7878183891128054,
           0.8112031848921032
          ],
          [
           0.08857648721135947,
           0.10877141371932103,
           0.166920387060973,
           0.2560097828638652,
           0.36529410517471894,
           0.48159205185802295,
           0.5908763741688766,
           0.6799657699717689,
           0.738114743313421,
           0.7583096698213825
          ],
          [
           0.17775799344050375,
           0.1925746170334204,
           0.23523738433678953,
           0.30060053597843733,
           0.3807803112130019,
           0.46610584581974007,
           0.5462856210543046,
           0.6116487726959524,
           0.6543115399993216,
           0.6691281635922381
          ],
          [
           0.2935632908344975,
           0.30139600044247394,
           0.3239493888891991,
           0.3585031846754342,
           0.4008896900696458,
           0.44599646696309614,
           0.4883829723573077,
           0.5229367681435428,
           0.545490156590268,
           0.5533228661982444
          ],
          [
           0.42344307851637086,
           0.42344307851637086,
           0.4234430785163709,
           0.4234430785163709,
           0.423443078516371,
           0.423443078516371,
           0.42344307851637103,
           0.42344307851637103,
           0.4234430785163711,
           0.4234430785163711
          ]
         ],
         "y": [
          [
           -0.4410297124717413,
           -0.4410297124717413,
           -0.4410297124717413,
           -0.4410297124717413,
           -0.4410297124717413,
           -0.4410297124717413,
           -0.4410297124717413,
           -0.4410297124717413,
           -0.4410297124717413,
           -0.4410297124717413
          ],
          [
           -0.4410297124717413,
           -0.39660820887367954,
           -0.3575445942011147,
           -0.3285505169011097,
           -0.3131230906030529,
           -0.3131230906030529,
           -0.3285505169011097,
           -0.3575445942011146,
           -0.3966082088736795,
           -0.4410297124717413
          ],
          [
           -0.4410297124717413,
           -0.3570004644611141,
           -0.2831063839001906,
           -0.2282601874650993,
           -0.19907713588956338,
           -0.19907713588956338,
           -0.22826018746509927,
           -0.28310638390019055,
           -0.35700046446111405,
           -0.4410297124717412
          ],
          [
           -0.4410297124717413,
           -0.32649859291862315,
           -0.22578161668291372,
           -0.15102673752290013,
           -0.11125049712979557,
           -0.11125049712979557,
           -0.15102673752290013,
           -0.22578161668291363,
           -0.32649859291862304,
           -0.4410297124717412
          ],
          [
           -0.4410297124717413,
           -0.3084079453131368,
           -0.1917823205626862,
           -0.10521960977620098,
           -0.05916055340408172,
           -0.05916055340408172,
           -0.10521960977620093,
           -0.19178232056268613,
           -0.30840794531313676,
           -0.4410297124717412
          ],
          [
           -0.4410297124717413,
           -0.3046889240180292,
           -0.1847928468275697,
           -0.09580271728717676,
           -0.04845205837385763,
           -0.04845205837385763,
           -0.09580271728717671,
           -0.18479284682756963,
           -0.30468892401802916,
           -0.4410297124717412
          ],
          [
           -0.4410297124717413,
           -0.3157445426971864,
           -0.20557061340962338,
           -0.12379652647515532,
           -0.08028544363506845,
           -0.08028544363506845,
           -0.12379652647515532,
           -0.2055706134096233,
           -0.3157445426971863,
           -0.4410297124717412
          ],
          [
           -0.4410297124717413,
           -0.3403767535211229,
           -0.25186402689941517,
           -0.18616747374591525,
           -0.15121106794879674,
           -0.15121106794879674,
           -0.1861674737459152,
           -0.2518640268994151,
           -0.34037675352112284,
           -0.4410297124717412
          ],
          [
           -0.4410297124717413,
           -0.3759162742389339,
           -0.3186564776290051,
           -0.27615669917770824,
           -0.25354303939619777,
           -0.25354303939619777,
           -0.2761566991777082,
           -0.31865647762900506,
           -0.3759162742389339,
           -0.4410297124717413
          ],
          [
           -0.4410297124717413,
           -0.41851184632836275,
           -0.3987099671701859,
           -0.3840124738682985,
           -0.3761921010268074,
           -0.3761921010268074,
           -0.3840124738682985,
           -0.3987099671701859,
           -0.4185118463283627,
           -0.4410297124717413
          ],
          [
           -0.4410297124717413,
           -0.4635475786151198,
           -0.4833494577732965,
           -0.498046951075184,
           -0.5058673239166751,
           -0.5058673239166751,
           -0.498046951075184,
           -0.4833494577732966,
           -0.4635475786151198,
           -0.4410297124717413
          ],
          [
           -0.4410297124717413,
           -0.5061431507045486,
           -0.5634029473144774,
           -0.6059027257657743,
           -0.6285163855472847,
           -0.6285163855472847,
           -0.6059027257657743,
           -0.5634029473144775,
           -0.5061431507045486,
           -0.4410297124717413
          ],
          [
           -0.4410297124717413,
           -0.5416826714223596,
           -0.6301953980440673,
           -0.6958919511975672,
           -0.7308483569946856,
           -0.7308483569946856,
           -0.6958919511975672,
           -0.6301953980440673,
           -0.5416826714223597,
           -0.44102971247174133
          ],
          [
           -0.4410297124717413,
           -0.5663148822462961,
           -0.6764888115338591,
           -0.7582628984683271,
           -0.8017739813084139,
           -0.8017739813084139,
           -0.7582628984683272,
           -0.6764888115338592,
           -0.5663148822462962,
           -0.44102971247174133
          ],
          [
           -0.4410297124717413,
           -0.5773705009254533,
           -0.6972665781159129,
           -0.7862567076563058,
           -0.8336073665696249,
           -0.8336073665696249,
           -0.7862567076563058,
           -0.6972665781159129,
           -0.5773705009254534,
           -0.44102971247174133
          ],
          [
           -0.4410297124717413,
           -0.5736514796303458,
           -0.6902771043807964,
           -0.7768398151672816,
           -0.8228988715394009,
           -0.8228988715394009,
           -0.7768398151672817,
           -0.6902771043807965,
           -0.5736514796303458,
           -0.44102971247174133
          ],
          [
           -0.4410297124717413,
           -0.5555608320248594,
           -0.6562778082605689,
           -0.7310326874205824,
           -0.770808927813687,
           -0.770808927813687,
           -0.7310326874205825,
           -0.6562778082605689,
           -0.5555608320248595,
           -0.44102971247174133
          ],
          [
           -0.4410297124717413,
           -0.5250589604823686,
           -0.598953041043292,
           -0.6537992374783833,
           -0.6829822890539192,
           -0.6829822890539192,
           -0.6537992374783834,
           -0.5989530410432921,
           -0.5250589604823686,
           -0.44102971247174133
          ],
          [
           -0.4410297124717413,
           -0.48545121606980307,
           -0.5245148307423679,
           -0.553508908042373,
           -0.5689363343404298,
           -0.5689363343404298,
           -0.553508908042373,
           -0.524514830742368,
           -0.48545121606980307,
           -0.4410297124717413
          ],
          [
           -0.4410297124717413,
           -0.44102971247174133,
           -0.44102971247174133,
           -0.4410297124717414,
           -0.4410297124717414,
           -0.4410297124717414,
           -0.4410297124717414,
           -0.44102971247174133,
           -0.44102971247174133,
           -0.4410297124717413
          ]
         ],
         "z": [
          [
           -0.45510569053402505,
           -0.45510569053402505,
           -0.45510569053402505,
           -0.45510569053402505,
           -0.45510569053402505,
           -0.45510569053402505,
           -0.45510569053402505,
           -0.45510569053402505,
           -0.45510569053402505,
           -0.45510569053402505
          ],
          [
           -0.4767787938537712,
           -0.4767787938537712,
           -0.4767787938537712,
           -0.4767787938537712,
           -0.4767787938537712,
           -0.4767787938537712,
           -0.4767787938537712,
           -0.4767787938537712,
           -0.4767787938537712,
           -0.4767787938537712
          ],
          [
           -0.5394494867754676,
           -0.5394494867754676,
           -0.5394494867754676,
           -0.5394494867754676,
           -0.5394494867754676,
           -0.5394494867754676,
           -0.5394494867754676,
           -0.5394494867754676,
           -0.5394494867754676,
           -0.5394494867754676
          ],
          [
           -0.6363264272850543,
           -0.6363264272850543,
           -0.6363264272850543,
           -0.6363264272850543,
           -0.6363264272850543,
           -0.6363264272850543,
           -0.6363264272850543,
           -0.6363264272850543,
           -0.6363264272850543,
           -0.6363264272850543
          ],
          [
           -0.7569114956777054,
           -0.7569114956777054,
           -0.7569114956777054,
           -0.7569114956777054,
           -0.7569114956777054,
           -0.7569114956777054,
           -0.7569114956777054,
           -0.7569114956777054,
           -0.7569114956777054,
           -0.7569114956777054
          ],
          [
           -0.888137428722958,
           -0.888137428722958,
           -0.888137428722958,
           -0.888137428722958,
           -0.888137428722958,
           -0.888137428722958,
           -0.888137428722958,
           -0.888137428722958,
           -0.888137428722958,
           -0.888137428722958
          ],
          [
           -1.0157838603952127,
           -1.0157838603952127,
           -1.0157838603952127,
           -1.0157838603952127,
           -1.0157838603952127,
           -1.0157838603952127,
           -1.0157838603952127,
           -1.0157838603952127,
           -1.0157838603952127,
           -1.0157838603952127
          ],
          [
           -1.1260183191843214,
           -1.1260183191843214,
           -1.1260183191843214,
           -1.1260183191843214,
           -1.1260183191843214,
           -1.1260183191843214,
           -1.1260183191843214,
           -1.1260183191843214,
           -1.1260183191843214,
           -1.1260183191843214
          ],
          [
           -1.2068951910166206,
           -1.2068951910166206,
           -1.2068951910166206,
           -1.2068951910166206,
           -1.2068951910166206,
           -1.2068951910166206,
           -1.2068951910166206,
           -1.2068951910166206,
           -1.2068951910166206,
           -1.2068951910166206
          ],
          [
           -1.249650211895114,
           -1.249650211895114,
           -1.249650211895114,
           -1.249650211895114,
           -1.249650211895114,
           -1.249650211895114,
           -1.249650211895114,
           -1.249650211895114,
           -1.249650211895114,
           -1.249650211895114
          ],
          [
           -1.249650211895114,
           -1.249650211895114,
           -1.249650211895114,
           -1.249650211895114,
           -1.249650211895114,
           -1.249650211895114,
           -1.249650211895114,
           -1.249650211895114,
           -1.249650211895114,
           -1.249650211895114
          ],
          [
           -1.2068951910166208,
           -1.2068951910166208,
           -1.2068951910166208,
           -1.2068951910166208,
           -1.2068951910166208,
           -1.2068951910166208,
           -1.2068951910166208,
           -1.2068951910166208,
           -1.2068951910166208,
           -1.2068951910166208
          ],
          [
           -1.1260183191843216,
           -1.1260183191843216,
           -1.1260183191843216,
           -1.1260183191843216,
           -1.1260183191843216,
           -1.1260183191843216,
           -1.1260183191843216,
           -1.1260183191843216,
           -1.1260183191843216,
           -1.1260183191843216
          ],
          [
           -1.015783860395213,
           -1.015783860395213,
           -1.015783860395213,
           -1.015783860395213,
           -1.015783860395213,
           -1.015783860395213,
           -1.015783860395213,
           -1.015783860395213,
           -1.015783860395213,
           -1.015783860395213
          ],
          [
           -0.8881374287229582,
           -0.8881374287229582,
           -0.8881374287229582,
           -0.8881374287229582,
           -0.8881374287229582,
           -0.8881374287229582,
           -0.8881374287229582,
           -0.8881374287229582,
           -0.8881374287229582,
           -0.8881374287229582
          ],
          [
           -0.7569114956777055,
           -0.7569114956777055,
           -0.7569114956777055,
           -0.7569114956777055,
           -0.7569114956777055,
           -0.7569114956777055,
           -0.7569114956777055,
           -0.7569114956777055,
           -0.7569114956777055,
           -0.7569114956777055
          ],
          [
           -0.6363264272850544,
           -0.6363264272850544,
           -0.6363264272850544,
           -0.6363264272850544,
           -0.6363264272850544,
           -0.6363264272850544,
           -0.6363264272850544,
           -0.6363264272850544,
           -0.6363264272850544,
           -0.6363264272850544
          ],
          [
           -0.5394494867754678,
           -0.5394494867754678,
           -0.5394494867754678,
           -0.5394494867754678,
           -0.5394494867754678,
           -0.5394494867754678,
           -0.5394494867754678,
           -0.5394494867754678,
           -0.5394494867754678,
           -0.5394494867754678
          ],
          [
           -0.4767787938537712,
           -0.4767787938537712,
           -0.4767787938537712,
           -0.4767787938537712,
           -0.4767787938537712,
           -0.4767787938537712,
           -0.4767787938537712,
           -0.4767787938537712,
           -0.4767787938537712,
           -0.4767787938537712
          ],
          [
           -0.45510569053402505,
           -0.45510569053402505,
           -0.45510569053402505,
           -0.45510569053402505,
           -0.45510569053402505,
           -0.45510569053402505,
           -0.45510569053402505,
           -0.45510569053402505,
           -0.45510569053402505,
           -0.45510569053402505
          ]
         ]
        }
       ],
       "layout": {
        "scene": {
         "xaxis": {
          "title": {
           "text": "X"
          }
         },
         "yaxis": {
          "title": {
           "text": "Y"
          }
         },
         "zaxis": {
          "title": {
           "text": "Z"
          }
         }
        },
        "template": {
         "data": {
          "bar": [
           {
            "error_x": {
             "color": "#2a3f5f"
            },
            "error_y": {
             "color": "#2a3f5f"
            },
            "marker": {
             "line": {
              "color": "#E5ECF6",
              "width": 0.5
             },
             "pattern": {
              "fillmode": "overlay",
              "size": 10,
              "solidity": 0.2
             }
            },
            "type": "bar"
           }
          ],
          "barpolar": [
           {
            "marker": {
             "line": {
              "color": "#E5ECF6",
              "width": 0.5
             },
             "pattern": {
              "fillmode": "overlay",
              "size": 10,
              "solidity": 0.2
             }
            },
            "type": "barpolar"
           }
          ],
          "carpet": [
           {
            "aaxis": {
             "endlinecolor": "#2a3f5f",
             "gridcolor": "white",
             "linecolor": "white",
             "minorgridcolor": "white",
             "startlinecolor": "#2a3f5f"
            },
            "baxis": {
             "endlinecolor": "#2a3f5f",
             "gridcolor": "white",
             "linecolor": "white",
             "minorgridcolor": "white",
             "startlinecolor": "#2a3f5f"
            },
            "type": "carpet"
           }
          ],
          "choropleth": [
           {
            "colorbar": {
             "outlinewidth": 0,
             "ticks": ""
            },
            "type": "choropleth"
           }
          ],
          "contour": [
           {
            "colorbar": {
             "outlinewidth": 0,
             "ticks": ""
            },
            "colorscale": [
             [
              0,
              "#0d0887"
             ],
             [
              0.1111111111111111,
              "#46039f"
             ],
             [
              0.2222222222222222,
              "#7201a8"
             ],
             [
              0.3333333333333333,
              "#9c179e"
             ],
             [
              0.4444444444444444,
              "#bd3786"
             ],
             [
              0.5555555555555556,
              "#d8576b"
             ],
             [
              0.6666666666666666,
              "#ed7953"
             ],
             [
              0.7777777777777778,
              "#fb9f3a"
             ],
             [
              0.8888888888888888,
              "#fdca26"
             ],
             [
              1,
              "#f0f921"
             ]
            ],
            "type": "contour"
           }
          ],
          "contourcarpet": [
           {
            "colorbar": {
             "outlinewidth": 0,
             "ticks": ""
            },
            "type": "contourcarpet"
           }
          ],
          "heatmap": [
           {
            "colorbar": {
             "outlinewidth": 0,
             "ticks": ""
            },
            "colorscale": [
             [
              0,
              "#0d0887"
             ],
             [
              0.1111111111111111,
              "#46039f"
             ],
             [
              0.2222222222222222,
              "#7201a8"
             ],
             [
              0.3333333333333333,
              "#9c179e"
             ],
             [
              0.4444444444444444,
              "#bd3786"
             ],
             [
              0.5555555555555556,
              "#d8576b"
             ],
             [
              0.6666666666666666,
              "#ed7953"
             ],
             [
              0.7777777777777778,
              "#fb9f3a"
             ],
             [
              0.8888888888888888,
              "#fdca26"
             ],
             [
              1,
              "#f0f921"
             ]
            ],
            "type": "heatmap"
           }
          ],
          "heatmapgl": [
           {
            "colorbar": {
             "outlinewidth": 0,
             "ticks": ""
            },
            "colorscale": [
             [
              0,
              "#0d0887"
             ],
             [
              0.1111111111111111,
              "#46039f"
             ],
             [
              0.2222222222222222,
              "#7201a8"
             ],
             [
              0.3333333333333333,
              "#9c179e"
             ],
             [
              0.4444444444444444,
              "#bd3786"
             ],
             [
              0.5555555555555556,
              "#d8576b"
             ],
             [
              0.6666666666666666,
              "#ed7953"
             ],
             [
              0.7777777777777778,
              "#fb9f3a"
             ],
             [
              0.8888888888888888,
              "#fdca26"
             ],
             [
              1,
              "#f0f921"
             ]
            ],
            "type": "heatmapgl"
           }
          ],
          "histogram": [
           {
            "marker": {
             "pattern": {
              "fillmode": "overlay",
              "size": 10,
              "solidity": 0.2
             }
            },
            "type": "histogram"
           }
          ],
          "histogram2d": [
           {
            "colorbar": {
             "outlinewidth": 0,
             "ticks": ""
            },
            "colorscale": [
             [
              0,
              "#0d0887"
             ],
             [
              0.1111111111111111,
              "#46039f"
             ],
             [
              0.2222222222222222,
              "#7201a8"
             ],
             [
              0.3333333333333333,
              "#9c179e"
             ],
             [
              0.4444444444444444,
              "#bd3786"
             ],
             [
              0.5555555555555556,
              "#d8576b"
             ],
             [
              0.6666666666666666,
              "#ed7953"
             ],
             [
              0.7777777777777778,
              "#fb9f3a"
             ],
             [
              0.8888888888888888,
              "#fdca26"
             ],
             [
              1,
              "#f0f921"
             ]
            ],
            "type": "histogram2d"
           }
          ],
          "histogram2dcontour": [
           {
            "colorbar": {
             "outlinewidth": 0,
             "ticks": ""
            },
            "colorscale": [
             [
              0,
              "#0d0887"
             ],
             [
              0.1111111111111111,
              "#46039f"
             ],
             [
              0.2222222222222222,
              "#7201a8"
             ],
             [
              0.3333333333333333,
              "#9c179e"
             ],
             [
              0.4444444444444444,
              "#bd3786"
             ],
             [
              0.5555555555555556,
              "#d8576b"
             ],
             [
              0.6666666666666666,
              "#ed7953"
             ],
             [
              0.7777777777777778,
              "#fb9f3a"
             ],
             [
              0.8888888888888888,
              "#fdca26"
             ],
             [
              1,
              "#f0f921"
             ]
            ],
            "type": "histogram2dcontour"
           }
          ],
          "mesh3d": [
           {
            "colorbar": {
             "outlinewidth": 0,
             "ticks": ""
            },
            "type": "mesh3d"
           }
          ],
          "parcoords": [
           {
            "line": {
             "colorbar": {
              "outlinewidth": 0,
              "ticks": ""
             }
            },
            "type": "parcoords"
           }
          ],
          "pie": [
           {
            "automargin": true,
            "type": "pie"
           }
          ],
          "scatter": [
           {
            "fillpattern": {
             "fillmode": "overlay",
             "size": 10,
             "solidity": 0.2
            },
            "type": "scatter"
           }
          ],
          "scatter3d": [
           {
            "line": {
             "colorbar": {
              "outlinewidth": 0,
              "ticks": ""
             }
            },
            "marker": {
             "colorbar": {
              "outlinewidth": 0,
              "ticks": ""
             }
            },
            "type": "scatter3d"
           }
          ],
          "scattercarpet": [
           {
            "marker": {
             "colorbar": {
              "outlinewidth": 0,
              "ticks": ""
             }
            },
            "type": "scattercarpet"
           }
          ],
          "scattergeo": [
           {
            "marker": {
             "colorbar": {
              "outlinewidth": 0,
              "ticks": ""
             }
            },
            "type": "scattergeo"
           }
          ],
          "scattergl": [
           {
            "marker": {
             "colorbar": {
              "outlinewidth": 0,
              "ticks": ""
             }
            },
            "type": "scattergl"
           }
          ],
          "scattermapbox": [
           {
            "marker": {
             "colorbar": {
              "outlinewidth": 0,
              "ticks": ""
             }
            },
            "type": "scattermapbox"
           }
          ],
          "scatterpolar": [
           {
            "marker": {
             "colorbar": {
              "outlinewidth": 0,
              "ticks": ""
             }
            },
            "type": "scatterpolar"
           }
          ],
          "scatterpolargl": [
           {
            "marker": {
             "colorbar": {
              "outlinewidth": 0,
              "ticks": ""
             }
            },
            "type": "scatterpolargl"
           }
          ],
          "scatterternary": [
           {
            "marker": {
             "colorbar": {
              "outlinewidth": 0,
              "ticks": ""
             }
            },
            "type": "scatterternary"
           }
          ],
          "surface": [
           {
            "colorbar": {
             "outlinewidth": 0,
             "ticks": ""
            },
            "colorscale": [
             [
              0,
              "#0d0887"
             ],
             [
              0.1111111111111111,
              "#46039f"
             ],
             [
              0.2222222222222222,
              "#7201a8"
             ],
             [
              0.3333333333333333,
              "#9c179e"
             ],
             [
              0.4444444444444444,
              "#bd3786"
             ],
             [
              0.5555555555555556,
              "#d8576b"
             ],
             [
              0.6666666666666666,
              "#ed7953"
             ],
             [
              0.7777777777777778,
              "#fb9f3a"
             ],
             [
              0.8888888888888888,
              "#fdca26"
             ],
             [
              1,
              "#f0f921"
             ]
            ],
            "type": "surface"
           }
          ],
          "table": [
           {
            "cells": {
             "fill": {
              "color": "#EBF0F8"
             },
             "line": {
              "color": "white"
             }
            },
            "header": {
             "fill": {
              "color": "#C8D4E3"
             },
             "line": {
              "color": "white"
             }
            },
            "type": "table"
           }
          ]
         },
         "layout": {
          "annotationdefaults": {
           "arrowcolor": "#2a3f5f",
           "arrowhead": 0,
           "arrowwidth": 1
          },
          "autotypenumbers": "strict",
          "coloraxis": {
           "colorbar": {
            "outlinewidth": 0,
            "ticks": ""
           }
          },
          "colorscale": {
           "diverging": [
            [
             0,
             "#8e0152"
            ],
            [
             0.1,
             "#c51b7d"
            ],
            [
             0.2,
             "#de77ae"
            ],
            [
             0.3,
             "#f1b6da"
            ],
            [
             0.4,
             "#fde0ef"
            ],
            [
             0.5,
             "#f7f7f7"
            ],
            [
             0.6,
             "#e6f5d0"
            ],
            [
             0.7,
             "#b8e186"
            ],
            [
             0.8,
             "#7fbc41"
            ],
            [
             0.9,
             "#4d9221"
            ],
            [
             1,
             "#276419"
            ]
           ],
           "sequential": [
            [
             0,
             "#0d0887"
            ],
            [
             0.1111111111111111,
             "#46039f"
            ],
            [
             0.2222222222222222,
             "#7201a8"
            ],
            [
             0.3333333333333333,
             "#9c179e"
            ],
            [
             0.4444444444444444,
             "#bd3786"
            ],
            [
             0.5555555555555556,
             "#d8576b"
            ],
            [
             0.6666666666666666,
             "#ed7953"
            ],
            [
             0.7777777777777778,
             "#fb9f3a"
            ],
            [
             0.8888888888888888,
             "#fdca26"
            ],
            [
             1,
             "#f0f921"
            ]
           ],
           "sequentialminus": [
            [
             0,
             "#0d0887"
            ],
            [
             0.1111111111111111,
             "#46039f"
            ],
            [
             0.2222222222222222,
             "#7201a8"
            ],
            [
             0.3333333333333333,
             "#9c179e"
            ],
            [
             0.4444444444444444,
             "#bd3786"
            ],
            [
             0.5555555555555556,
             "#d8576b"
            ],
            [
             0.6666666666666666,
             "#ed7953"
            ],
            [
             0.7777777777777778,
             "#fb9f3a"
            ],
            [
             0.8888888888888888,
             "#fdca26"
            ],
            [
             1,
             "#f0f921"
            ]
           ]
          },
          "colorway": [
           "#636efa",
           "#EF553B",
           "#00cc96",
           "#ab63fa",
           "#FFA15A",
           "#19d3f3",
           "#FF6692",
           "#B6E880",
           "#FF97FF",
           "#FECB52"
          ],
          "font": {
           "color": "#2a3f5f"
          },
          "geo": {
           "bgcolor": "white",
           "lakecolor": "white",
           "landcolor": "#E5ECF6",
           "showlakes": true,
           "showland": true,
           "subunitcolor": "white"
          },
          "hoverlabel": {
           "align": "left"
          },
          "hovermode": "closest",
          "mapbox": {
           "style": "light"
          },
          "paper_bgcolor": "white",
          "plot_bgcolor": "#E5ECF6",
          "polar": {
           "angularaxis": {
            "gridcolor": "white",
            "linecolor": "white",
            "ticks": ""
           },
           "bgcolor": "#E5ECF6",
           "radialaxis": {
            "gridcolor": "white",
            "linecolor": "white",
            "ticks": ""
           }
          },
          "scene": {
           "xaxis": {
            "backgroundcolor": "#E5ECF6",
            "gridcolor": "white",
            "gridwidth": 2,
            "linecolor": "white",
            "showbackground": true,
            "ticks": "",
            "zerolinecolor": "white"
           },
           "yaxis": {
            "backgroundcolor": "#E5ECF6",
            "gridcolor": "white",
            "gridwidth": 2,
            "linecolor": "white",
            "showbackground": true,
            "ticks": "",
            "zerolinecolor": "white"
           },
           "zaxis": {
            "backgroundcolor": "#E5ECF6",
            "gridcolor": "white",
            "gridwidth": 2,
            "linecolor": "white",
            "showbackground": true,
            "ticks": "",
            "zerolinecolor": "white"
           }
          },
          "shapedefaults": {
           "line": {
            "color": "#2a3f5f"
           }
          },
          "ternary": {
           "aaxis": {
            "gridcolor": "white",
            "linecolor": "white",
            "ticks": ""
           },
           "baxis": {
            "gridcolor": "white",
            "linecolor": "white",
            "ticks": ""
           },
           "bgcolor": "#E5ECF6",
           "caxis": {
            "gridcolor": "white",
            "linecolor": "white",
            "ticks": ""
           }
          },
          "title": {
           "x": 0.05
          },
          "xaxis": {
           "automargin": true,
           "gridcolor": "white",
           "linecolor": "white",
           "ticks": "",
           "title": {
            "standoff": 15
           },
           "zerolinecolor": "white",
           "zerolinewidth": 2
          },
          "yaxis": {
           "automargin": true,
           "gridcolor": "white",
           "linecolor": "white",
           "ticks": "",
           "title": {
            "standoff": 15
           },
           "zerolinecolor": "white",
           "zerolinewidth": 2
          }
         }
        }
       }
      }
     },
     "metadata": {},
     "output_type": "display_data"
    },
    {
     "name": "stdout",
     "output_type": "stream",
     "text": [
      "\n",
      " Nervio Asociado a cubierta de Ribs:\n"
     ]
    },
    {
     "data": {
      "text/plain": [
       "[{'0'},\n",
       " {'1'},\n",
       " {'2'},\n",
       " {'3'},\n",
       " {'4'},\n",
       " {'5'},\n",
       " {'6'},\n",
       " {'7'},\n",
       " {'8'},\n",
       " {'9'},\n",
       " {'1', '8'},\n",
       " {'2', '4'},\n",
       " {'3', '6'},\n",
       " {'5', '9'}]"
      ]
     },
     "execution_count": 6,
     "metadata": {},
     "output_type": "execute_result"
    }
   ],
   "source": [
    "# lo mismo que con Cêch pero en este caso distancia menor o igual a dos veces el radio\n",
    "\n",
    "def nervio_Ribs_R3(nube, radio):\n",
    "  #Demostración gráfica de los radios\n",
    "  centers = [(x,y,z) for x,y,z in nube]\n",
    "  labels = [str(i) for i in range(len(nube))]\n",
    "  nervio = []\n",
    "\n",
    "  #ingresar todos los puntos dim 0 \n",
    "  for l in labels:\n",
    "    nervio.append(set([l]))\n",
    "\n",
    "  #lista de comprensión para dim 1\n",
    "  dim1 = [set([labels[i],labels[j]]) #par de puntos intersectados\n",
    "  for i in range(len(centers)) for j in range(i+1,len(centers))\n",
    "      #distancia entre los puntos es menor o igual que su circunferencia\n",
    "  if (math.sqrt((centers[j][0] - centers[i][0])**2 + (centers[j][1] - centers[i][1])**2 + (centers[j][2] - centers[i][2])**2) <= 2*radio)] \n",
    "\n",
    "  for par in dim1: #Agregar al nervio la lista\n",
    "    nervio.append(par)\n",
    "\n",
    "  #lista de comprensión para dim 2\n",
    "  dim2 = [dim1[i].union(dim1[j], dim1[k]) \n",
    "  for i in range(len(dim1)) for j in range(i+1, len(dim1)) for k in range(j+1, len(dim1))\n",
    "  if len(dim1[i].union(dim1[j], dim1[k])) == 3] #la union de conjuntos de dim1 debe ser 3 elementos\n",
    "\n",
    "  for par in dim2: #agregar al nervio la lista \n",
    "    nervio.append(par)\n",
    "\n",
    "\n",
    "  #=========================Gráficar bolas===================================\n",
    "  sphere_traces = []\n",
    "  u, v = np.mgrid[0:2*np.pi:20j, 0:np.pi:10j]\n",
    "  for i in range(len(centers)):\n",
    "      x, y, z = centers[i]\n",
    "      sphere_trace = go.Surface(\n",
    "          x=x+radio*np.sin(u)*np.cos(v),\n",
    "          y=y+radio*np.sin(u)*np.sin(v),\n",
    "          z=z+radio*np.cos(u),\n",
    "          opacity=0.8\n",
    "      )\n",
    "      sphere_traces.append(sphere_trace)\n",
    "\n",
    "  fig = go.Figure(data=sphere_traces)\n",
    "  fig.update_layout(scene=dict(\n",
    "                      xaxis=dict(title='X'),\n",
    "                      yaxis=dict(title='Y'),\n",
    "                      zaxis=dict(title='Z')))\n",
    "  fig.show()\n",
    "\n",
    "  print('\\n Nervio Asociado a cubierta de Ribs:')\n",
    "  return nervio\n",
    "nervio_Ribs_R3(t, 0.4)"
   ]
  },
  {
   "cell_type": "markdown",
   "metadata": {
    "id": "4IKZ9wvUgHJO"
   },
   "source": [
    "##### Hacer lo mismo para una nube de puntos de la circunferencia en el plano con centro (0,0) y radio 1, con ruido."
   ]
  },
  {
   "cell_type": "code",
   "execution_count": 7,
   "metadata": {
    "colab": {
     "base_uri": "https://localhost:8080/",
     "height": 0
    },
    "id": "LRnEC4JOMeGd",
    "outputId": "42335ce4-7729-453a-8fbb-844a7f7dd84b"
   },
   "outputs": [
    {
     "data": {
      "image/png": "[encoded data removed]",
      "text/plain": [
       "<Figure size 432x288 with 1 Axes>"
      ]
     },
     "metadata": {
      "needs_background": "light"
     },
     "output_type": "display_data"
    }
   ],
   "source": [
    "import matplotlib.pyplot as plt\n",
    "\n",
    "# Define the data points and their corresponding labels\n",
    "t_circulo = t[:,:2]\n",
    "x = t_circulo[:,0]\n",
    "y = t_circulo[:,1]\n",
    "labels = [str(i+1) for i in range(len(t))]\n",
    "\n",
    "# Create the scatter plot\n",
    "fig, ax = plt.subplots()\n",
    "ax.scatter(x, y)\n",
    "\n",
    "# Add the labels for each data point\n",
    "for i, label in enumerate(labels):\n",
    "    ax.annotate(label, (x[i], y[i]))\n",
    "\n",
    "# Display the plot\n",
    "plt.show()"
   ]
  },
  {
   "cell_type": "code",
   "execution_count": 8,
   "metadata": {
    "colab": {
     "base_uri": "https://localhost:8080/",
     "height": 0
    },
    "id": "59QqIWttGHv8",
    "outputId": "aa1214e7-6530-4066-8d37-3baaabd352ad"
   },
   "outputs": [
    {
     "data": {
      "image/png": "[encoded data removed]",
      "text/plain": [
       "<Figure size 288x288 with 1 Axes>"
      ]
     },
     "metadata": {
      "needs_background": "light"
     },
     "output_type": "display_data"
    },
    {
     "name": "stdout",
     "output_type": "stream",
     "text": [
      "\n",
      " Nervio Asociado a cubierta de Cêch:\n"
     ]
    },
    {
     "data": {
      "text/plain": [
       "[{'1'},\n",
       " {'2'},\n",
       " {'3'},\n",
       " {'4'},\n",
       " {'5'},\n",
       " {'6'},\n",
       " {'7'},\n",
       " {'8'},\n",
       " {'9'},\n",
       " {'10'},\n",
       " {'1', '6'},\n",
       " {'3', '9'},\n",
       " {'4', '7'},\n",
       " {'10', '6'}]"
      ]
     },
     "execution_count": 8,
     "metadata": {},
     "output_type": "execute_result"
    }
   ],
   "source": [
    "def nervio_Cech_R2(nube, radio):\n",
    "  #Demostración gráfica de los radios\n",
    "  centers = [(x,y) for x,y in nube[:,:2]]\n",
    "  labels = [str(i+1) for i in range(len(nube))]\n",
    "  nervio = []\n",
    "\n",
    "  #ingresar todos los puntos dim 0 \n",
    "  for l in labels:\n",
    "    nervio.append(set([l]))\n",
    "\n",
    "  #lista de comprensión para dim 1\n",
    "  dim1 = [set([labels[i],labels[j]]) #par de puntos intersectados\n",
    "  for i in range(len(centers)) for j in range(i+1,len(centers))\n",
    "      #distancia entre los puntos es menor que su circunferencia\n",
    "  if (math.sqrt((centers[j][0] - centers[i][0])**2 + (centers[j][1] - centers[i][1])**2) < 2*radio)] \n",
    "\n",
    "  for par in dim1: #Agregar al nervio la lista\n",
    "    nervio.append(par)\n",
    "\n",
    "  #lista de comprensión para dim 2\n",
    "  dim2 = [dim1[i].union(dim1[j], dim1[k]) \n",
    "  for i in range(len(dim1)) for j in range(i+1, len(dim1)) for k in range(j+1, len(dim1))\n",
    "  if len(dim1[i].union(dim1[j], dim1[k])) == 3] #la union de conjuntos de dim1 debe ser 3 elementos\n",
    "\n",
    "  for par in dim2: #agregar al nervio la lista \n",
    "    nervio.append(par)\n",
    "\n",
    "   #=========================Gráficar bolas===================================\n",
    "  theta = np.linspace(0, 2*np.pi, 100)\n",
    "  circ_x = [c[0] + radio*np.cos(theta) for c in centers]\n",
    "  circ_y = [c[1] + radio*np.sin(theta) for c in centers]\n",
    "\n",
    "  fig, ax = plt.subplots()\n",
    "  for x, y in zip(circ_x, circ_y):\n",
    "      ax.plot(x, y)\n",
    "  ax.set_aspect('equal')\n",
    "  fig.set_size_inches(4, 4)\n",
    "  # Add the labels for each data point\n",
    "  x = nube[:,0]\n",
    "  y = nube[:,1]\n",
    "  for i, label in enumerate(labels):\n",
    "      ax.annotate(label, (x[i], y[i]))\n",
    "\n",
    "  plt.show()\n",
    "\n",
    "\n",
    "  print('\\n Nervio Asociado a cubierta de Cêch:')\n",
    "  return nervio\n",
    "nervio_Cech_R2(t_circulo, 0.15)"
   ]
  },
  {
   "cell_type": "code",
   "execution_count": 9,
   "metadata": {
    "colab": {
     "base_uri": "https://localhost:8080/",
     "height": 0
    },
    "id": "srreBaXawKo1",
    "outputId": "bdc7e7b9-a39a-47eb-cd07-c22cf5989085"
   },
   "outputs": [
    {
     "data": {
      "image/png": "[encoded data removed]",
      "text/plain": [
       "<Figure size 288x288 with 1 Axes>"
      ]
     },
     "metadata": {
      "needs_background": "light"
     },
     "output_type": "display_data"
    },
    {
     "name": "stdout",
     "output_type": "stream",
     "text": [
      "\n",
      " Nervio Asociado a cubierta de Ribs:\n"
     ]
    },
    {
     "data": {
      "text/plain": [
       "[{'1'},\n",
       " {'2'},\n",
       " {'3'},\n",
       " {'4'},\n",
       " {'5'},\n",
       " {'6'},\n",
       " {'7'},\n",
       " {'8'},\n",
       " {'9'},\n",
       " {'10'},\n",
       " {'1', '6'},\n",
       " {'3', '9'},\n",
       " {'4', '7'},\n",
       " {'10', '6'}]"
      ]
     },
     "execution_count": 9,
     "metadata": {},
     "output_type": "execute_result"
    }
   ],
   "source": [
    "def nervio_Ribs_R2(nube, radio):\n",
    "  #Demostración gráfica de los radios\n",
    "  centers = [(x,y) for x,y in nube[:,:2]]\n",
    "  labels = [str(i+1) for i in range(len(nube))]\n",
    "  nervio = []\n",
    "\n",
    "  #ingresar todos los puntos dim 0 \n",
    "  for l in labels:\n",
    "    nervio.append(set([l]))\n",
    "\n",
    "  #lista de comprensión para dim 1\n",
    "  dim1 = [set([labels[i],labels[j]]) #par de puntos intersectados\n",
    "  for i in range(len(centers)) for j in range(i+1,len(centers))\n",
    "      #distancia entre los puntos es menor o igual que su circunferencia\n",
    "  if (math.sqrt((centers[j][0] - centers[i][0])**2 + (centers[j][1] - centers[i][1])**2) <= 2*radio)] \n",
    "\n",
    "  for par in dim1: #Agregar al nervio la lista\n",
    "    nervio.append(par)\n",
    "\n",
    "  #lista de comprensión para dim 2\n",
    "  dim2 = [dim1[i].union(dim1[j], dim1[k]) \n",
    "  for i in range(len(dim1)) for j in range(i+1, len(dim1)) for k in range(j+1, len(dim1))\n",
    "  if len(dim1[i].union(dim1[j], dim1[k])) == 3] #la union de conjuntos de dim1 debe ser 3 elementos\n",
    "\n",
    "  for par in dim2: #agregar al nervio la lista \n",
    "    nervio.append(par)\n",
    "\n",
    "   #=========================Gráficar bolas===================================\n",
    "  theta = np.linspace(0, 2*np.pi, 100)\n",
    "  circ_x = [c[0] + radio*np.cos(theta) for c in centers]\n",
    "  circ_y = [c[1] + radio*np.sin(theta) for c in centers]\n",
    "\n",
    "  fig, ax = plt.subplots()\n",
    "  for x, y in zip(circ_x, circ_y):\n",
    "      ax.plot(x, y)\n",
    "  ax.set_aspect('equal')\n",
    "  fig.set_size_inches(4, 4)\n",
    "  # Add the labels for each data point\n",
    "  x = nube[:,0]\n",
    "  y = nube[:,1]\n",
    "  for i, label in enumerate(labels):\n",
    "      ax.annotate(label, (x[i], y[i]))\n",
    "\n",
    "  plt.show()\n",
    "\n",
    "  print('\\n Nervio Asociado a cubierta de Ribs:')\n",
    "  return nervio\n",
    "nervio_Ribs_R2(t_circulo, 0.15)"
   ]
  },
  {
   "cell_type": "markdown",
   "metadata": {
    "id": "xrFQl16OxY3_"
   },
   "source": [
    "#Parte 2"
   ]
  },
  {
   "cell_type": "markdown",
   "metadata": {
    "id": "_BKIVvNaxqjn"
   },
   "source": [
    "Explorar e instalar la librería gudhi: En particular las funciones Rips Complex  para generar el nervio de Rips y CoverComplex para el nervio de Cech"
   ]
  },
  {
   "cell_type": "code",
   "execution_count": 10,
   "metadata": {
    "id": "K3zSiyPVxaq5"
   },
   "outputs": [],
   "source": [
    "import gudhi"
   ]
  },
  {
   "cell_type": "code",
   "execution_count": 11,
   "metadata": {
    "colab": {
     "base_uri": "https://localhost:8080/"
    },
    "id": "Ik3aOvgBaS0f",
    "outputId": "3e0354ad-39f7-4cce-ed72-0bd19c1b1800"
   },
   "outputs": [
    {
     "name": "stdout",
     "output_type": "stream",
     "text": [
      "[0] -> 0.00\n",
      "[1] -> 0.00\n",
      "[2] -> 0.00\n",
      "[3] -> 0.00\n",
      "[4] -> 0.00\n",
      "[5] -> 0.00\n",
      "[6] -> 0.00\n",
      "[7] -> 0.00\n",
      "[8] -> 0.00\n",
      "[9] -> 0.00\n",
      "[5, 9] -> 0.20\n",
      "[1, 8] -> 0.65\n",
      "[3, 6] -> 0.79\n",
      "[2, 4] -> 0.80\n",
      "[0, 2] -> 0.84\n",
      "[0, 7] -> 0.87\n",
      "[5, 8] -> 0.92\n",
      "[0, 4] -> 0.93\n",
      "[0, 2, 4] -> 0.93\n",
      "[1, 5] -> 0.94\n",
      "[1, 5, 8] -> 0.94\n",
      "[8, 9] -> 0.98\n",
      "[5, 8, 9] -> 0.98\n",
      "[0, 5] -> 1.03\n",
      "[1, 9] -> 1.05\n",
      "[1, 5, 9] -> 1.05\n",
      "[1, 8, 9] -> 1.05\n",
      "[2, 7] -> 1.19\n",
      "[0, 2, 7] -> 1.19\n",
      "[4, 7] -> 1.20\n",
      "[0, 4, 7] -> 1.20\n",
      "[2, 4, 7] -> 1.20\n",
      "[3, 7] -> 1.20\n",
      "[0, 9] -> 1.21\n",
      "[0, 5, 9] -> 1.21\n",
      "[1, 2] -> 1.21\n",
      "[6, 7] -> 1.24\n",
      "[3, 6, 7] -> 1.24\n",
      "[0, 1] -> 1.39\n",
      "[0, 1, 2] -> 1.39\n",
      "[0, 1, 5] -> 1.39\n",
      "[0, 1, 9] -> 1.39\n",
      "[5, 7] -> 1.45\n",
      "[0, 5, 7] -> 1.45\n",
      "[2, 5] -> 1.47\n",
      "[0, 2, 5] -> 1.47\n",
      "[1, 2, 5] -> 1.47\n",
      "[2, 5, 7] -> 1.47\n",
      "[1, 6] -> 1.48\n",
      "[5, 6] -> 1.53\n",
      "[1, 5, 6] -> 1.53\n",
      "[5, 6, 7] -> 1.53\n",
      "[6, 9] -> 1.54\n",
      "[1, 6, 9] -> 1.54\n",
      "[5, 6, 9] -> 1.54\n",
      "[7, 9] -> 1.56\n",
      "[0, 7, 9] -> 1.56\n",
      "[5, 7, 9] -> 1.56\n",
      "[6, 7, 9] -> 1.56\n",
      "[0, 8] -> 1.63\n",
      "[0, 1, 8] -> 1.63\n",
      "[0, 5, 8] -> 1.63\n",
      "[0, 8, 9] -> 1.63\n",
      "[2, 8] -> 1.64\n",
      "[0, 2, 8] -> 1.64\n",
      "[1, 2, 8] -> 1.64\n",
      "[2, 5, 8] -> 1.64\n",
      "[2, 9] -> 1.66\n",
      "[0, 2, 9] -> 1.66\n",
      "[1, 2, 9] -> 1.66\n",
      "[2, 5, 9] -> 1.66\n",
      "[2, 7, 9] -> 1.66\n",
      "[2, 8, 9] -> 1.66\n",
      "[1, 7] -> 1.69\n",
      "[0, 1, 7] -> 1.69\n",
      "[1, 2, 7] -> 1.69\n",
      "[1, 5, 7] -> 1.69\n",
      "[1, 6, 7] -> 1.69\n",
      "[1, 7, 9] -> 1.69\n",
      "[0, 6] -> 1.74\n",
      "[0, 1, 6] -> 1.74\n",
      "[0, 5, 6] -> 1.74\n",
      "[0, 6, 7] -> 1.74\n",
      "[0, 6, 9] -> 1.74\n",
      "[2, 6] -> 1.81\n",
      "[0, 2, 6] -> 1.81\n",
      "[1, 2, 6] -> 1.81\n",
      "[2, 5, 6] -> 1.81\n",
      "[2, 6, 7] -> 1.81\n",
      "[2, 6, 9] -> 1.81\n",
      "[4, 5] -> 1.92\n",
      "[0, 4, 5] -> 1.92\n",
      "[2, 4, 5] -> 1.92\n",
      "[4, 5, 7] -> 1.92\n",
      "[1, 4] -> 1.95\n",
      "[0, 1, 4] -> 1.95\n",
      "[1, 2, 4] -> 1.95\n",
      "[1, 4, 5] -> 1.95\n",
      "[1, 4, 7] -> 1.95\n",
      "[2, 3] -> 1.97\n",
      "[2, 3, 6] -> 1.97\n",
      "[2, 3, 7] -> 1.97\n",
      "[0, 3] -> 1.97\n",
      "[0, 2, 3] -> 1.97\n",
      "[0, 3, 6] -> 1.97\n",
      "[0, 3, 7] -> 1.97\n",
      "[6, 8] -> 1.98\n",
      "[0, 6, 8] -> 1.98\n",
      "[1, 6, 8] -> 1.98\n",
      "[2, 6, 8] -> 1.98\n",
      "[5, 6, 8] -> 1.98\n",
      "[6, 8, 9] -> 1.98\n"
     ]
    }
   ],
   "source": [
    "#Complejo de rips, se toman los datos generados en la esfera previamente y se crea el nervio de Rips\n",
    "centers = [(x,y,z) for x,y,z in t]\n",
    "rips_complex = gudhi.RipsComplex(points = centers,max_edge_length=2)\n",
    "simplex_tree = rips_complex.create_simplex_tree(max_dimension=2)\n",
    "\n",
    "fmt = '%s -> %.2f'\n",
    "for ft_val in simplex_tree.get_filtration():\n",
    "    print(fmt % tuple(ft_val))"
   ]
  },
  {
   "cell_type": "code",
   "execution_count": 12,
   "metadata": {
    "colab": {
     "base_uri": "https://localhost:8080/",
     "height": 269
    },
    "id": "vUXs-t_sxACH",
    "outputId": "f4257ebe-213e-40a2-e9cd-9cf5c63704db"
   },
   "outputs": [
    {
     "name": "stdout",
     "output_type": "stream",
     "text": [
      "[0] -> 0.00\n",
      "[1] -> 0.00\n",
      "[2] -> 0.00\n",
      "[3] -> 0.00\n",
      "[4] -> 0.00\n",
      "[5] -> 0.00\n",
      "[6] -> 0.00\n",
      "[7] -> 0.00\n",
      "[8] -> 0.00\n",
      "[9] -> 0.00\n",
      "[5, 9] -> 0.20\n",
      "[1, 8] -> 0.65\n",
      "[3, 6] -> 0.79\n",
      "[2, 4] -> 0.80\n",
      "[0, 2] -> 0.84\n",
      "[0, 7] -> 0.87\n",
      "[5, 8] -> 0.92\n",
      "[0, 4] -> 0.93\n",
      "[0, 2, 4] -> 0.93\n",
      "[1, 5] -> 0.94\n",
      "[1, 5, 8] -> 0.94\n",
      "[8, 9] -> 0.98\n",
      "[5, 8, 9] -> 0.98\n",
      "[0, 5] -> 1.03\n",
      "[1, 9] -> 1.05\n",
      "[1, 5, 9] -> 1.05\n",
      "[1, 8, 9] -> 1.05\n",
      "[2, 7] -> 1.19\n",
      "[0, 2, 7] -> 1.19\n",
      "[4, 7] -> 1.20\n",
      "[0, 4, 7] -> 1.20\n",
      "[2, 4, 7] -> 1.20\n",
      "[3, 7] -> 1.20\n",
      "[0, 9] -> 1.21\n",
      "[0, 5, 9] -> 1.21\n",
      "[1, 2] -> 1.21\n",
      "[6, 7] -> 1.24\n",
      "[3, 6, 7] -> 1.24\n",
      "[0, 1] -> 1.39\n",
      "[0, 1, 2] -> 1.39\n",
      "[0, 1, 5] -> 1.39\n",
      "[0, 1, 9] -> 1.39\n",
      "[5, 7] -> 1.45\n",
      "[0, 5, 7] -> 1.45\n",
      "[2, 5] -> 1.47\n",
      "[0, 2, 5] -> 1.47\n",
      "[1, 2, 5] -> 1.47\n",
      "[2, 5, 7] -> 1.47\n",
      "[1, 6] -> 1.48\n",
      "[5, 6] -> 1.53\n",
      "[1, 5, 6] -> 1.53\n",
      "[5, 6, 7] -> 1.53\n",
      "[6, 9] -> 1.54\n",
      "[1, 6, 9] -> 1.54\n",
      "[5, 6, 9] -> 1.54\n",
      "[7, 9] -> 1.56\n",
      "[0, 7, 9] -> 1.56\n",
      "[5, 7, 9] -> 1.56\n",
      "[6, 7, 9] -> 1.56\n",
      "[0, 8] -> 1.63\n",
      "[0, 1, 8] -> 1.63\n",
      "[0, 5, 8] -> 1.63\n",
      "[0, 8, 9] -> 1.63\n",
      "[2, 8] -> 1.64\n",
      "[0, 2, 8] -> 1.64\n",
      "[1, 2, 8] -> 1.64\n",
      "[2, 5, 8] -> 1.64\n",
      "[2, 9] -> 1.66\n",
      "[0, 2, 9] -> 1.66\n",
      "[1, 2, 9] -> 1.66\n",
      "[2, 5, 9] -> 1.66\n",
      "[2, 7, 9] -> 1.66\n",
      "[2, 8, 9] -> 1.66\n",
      "[1, 7] -> 1.69\n",
      "[0, 1, 7] -> 1.69\n",
      "[1, 2, 7] -> 1.69\n",
      "[1, 5, 7] -> 1.69\n",
      "[1, 6, 7] -> 1.69\n",
      "[1, 7, 9] -> 1.69\n",
      "[0, 6] -> 1.74\n",
      "[0, 1, 6] -> 1.74\n",
      "[0, 5, 6] -> 1.74\n",
      "[0, 6, 7] -> 1.74\n",
      "[0, 6, 9] -> 1.74\n",
      "[2, 6] -> 1.81\n",
      "[0, 2, 6] -> 1.81\n",
      "[1, 2, 6] -> 1.81\n",
      "[2, 5, 6] -> 1.81\n",
      "[2, 6, 7] -> 1.81\n",
      "[2, 6, 9] -> 1.81\n",
      "[4, 5] -> 1.92\n",
      "[0, 4, 5] -> 1.92\n",
      "[2, 4, 5] -> 1.92\n",
      "[4, 5, 7] -> 1.92\n",
      "[1, 4] -> 1.95\n",
      "[0, 1, 4] -> 1.95\n",
      "[1, 2, 4] -> 1.95\n",
      "[1, 4, 5] -> 1.95\n",
      "[1, 4, 7] -> 1.95\n",
      "[2, 3] -> 1.97\n",
      "[2, 3, 6] -> 1.97\n",
      "[2, 3, 7] -> 1.97\n",
      "[0, 3] -> 1.97\n",
      "[0, 2, 3] -> 1.97\n",
      "[0, 3, 6] -> 1.97\n",
      "[0, 3, 7] -> 1.97\n",
      "[6, 8] -> 1.98\n",
      "[0, 6, 8] -> 1.98\n",
      "[1, 6, 8] -> 1.98\n",
      "[2, 6, 8] -> 1.98\n",
      "[5, 6, 8] -> 1.98\n",
      "[6, 8, 9] -> 1.98\n"
     ]
    }
   ],
   "source": [
    "#Para usar cover complex los puntos no pueden ser ingresados como el ejemplo anterior, se tiene que crear un archivo \n",
    "#.off que contenga los puntos y se grafican de la misma forma para crear el nervio de Cech \n",
    "#Los puntos fueron elegidos de forma arbitraria a manera de ejemplo\n",
    "nerve_complex = gudhi.CoverComplex()\n",
    "nerve_complex.set_verbose(True)\n",
    "nerve_complex.read_point_cloud(\"cloud.off.txt\")\n",
    "nerve_complex.set_type('Nerve')\n",
    "nerve_complex.set_color_from_coordinate(2)\n",
    "nerve_complex.set_function_from_coordinate(2)\n",
    "nerve_complex.set_graph_from_OFF()\n",
    "nerve_complex.set_resolution_with_interval_number(10)\n",
    "nerve_complex.set_gain(0.3)\n",
    "nerve_complex.set_cover_from_function()\n",
    "nerve_complex.find_simplices()\n",
    "nerve_complex.write_info()\n",
    "nerve_complex.create_simplex_tree()\n",
    "nerve_complex.compute_PD()\n",
    "fmt = '%s -> %.2f'\n",
    "for ft_val in simplex_tree.get_filtration():\n",
    "    print(fmt % ft_val)\n",
    "\n",
    "\n",
    "    \n"
   ]
  },
  {
   "cell_type": "markdown",
   "metadata": {
    "id": "Jj3oKhnCxszI"
   },
   "source": [
    "# Parte 3"
   ]
  },
  {
   "cell_type": "markdown",
   "metadata": {
    "id": "FHyZx_0lxvW7"
   },
   "source": [
    "Descargar los datos del reto y revisarlos: https://github.com/ClimateAI/TDA_ClimateAI"
   ]
  },
  {
   "cell_type": "code",
   "execution_count": 13,
   "metadata": {
    "id": "au_ajgmkxu02"
   },
   "outputs": [],
   "source": [
    "import pandas as pd\n",
    "import numpy as np\n",
    "from matplotlib import pyplot as plt\n",
    "import sklearn\n",
    "import sklearn.ensemble\n",
    "import scipy.stats\n",
    "from sklearn.model_selection import train_test_split"
   ]
  },
  {
   "cell_type": "markdown",
   "metadata": {
    "id": "k6Idq5_FugTA"
   },
   "source": [
    "## Importación de datos"
   ]
  },
  {
   "cell_type": "code",
   "execution_count": 14,
   "metadata": {
    "colab": {
     "base_uri": "https://localhost:8080/"
    },
    "id": "ftlMnLF1v2p8",
    "outputId": "bb1da85a-feaf-4a92-cead-d73922856db5"
   },
   "outputs": [],
   "source": [
    "#from google.colab import drive\n",
    "#drive.mount('/content/drive')"
   ]
  },
  {
   "cell_type": "code",
   "execution_count": 15,
   "metadata": {
    "id": "t2p7gfv0Vk9y"
   },
   "outputs": [],
   "source": [
    "datos=pd.read_pickle('datos_reto.pkl')\n",
    "df=pd.DataFrame.from_dict(datos,orient='index')\n",
    "df=df.transpose()\n",
    "df=df.reindex(columns=['flow_dates','flow','obs_tas','obs_dates','obs_lon_lat','obs_pr'])"
   ]
  },
  {
   "cell_type": "code",
   "execution_count": 32,
   "metadata": {},
   "outputs": [],
   "source": [
    "datos=pd.read_pickle('datos_reto.pkl')\n",
    "df=pd.DataFrame.from_dict(datos,orient='index')\n",
    "df=df.transpose()"
   ]
  },
  {
   "cell_type": "code",
   "execution_count": 16,
   "metadata": {
    "colab": {
     "base_uri": "https://localhost:8080/",
     "height": 206
    },
    "id": "xCUNDRdJot-I",
    "outputId": "c8347b18-0d99-4210-99d5-a138d9dae4e9"
   },
   "outputs": [
    {
     "data": {
      "text/html": [
       "<div>\n",
       "<style scoped>\n",
       "    .dataframe tbody tr th:only-of-type {\n",
       "        vertical-align: middle;\n",
       "    }\n",
       "\n",
       "    .dataframe tbody tr th {\n",
       "        vertical-align: top;\n",
       "    }\n",
       "\n",
       "    .dataframe thead th {\n",
       "        text-align: right;\n",
       "    }\n",
       "</style>\n",
       "<table border=\"1\" class=\"dataframe\">\n",
       "  <thead>\n",
       "    <tr style=\"text-align: right;\">\n",
       "      <th></th>\n",
       "      <th>flow_dates</th>\n",
       "      <th>flow</th>\n",
       "      <th>obs_tas</th>\n",
       "      <th>obs_dates</th>\n",
       "      <th>obs_lon_lat</th>\n",
       "      <th>obs_pr</th>\n",
       "    </tr>\n",
       "  </thead>\n",
       "  <tbody>\n",
       "    <tr>\n",
       "      <th>0</th>\n",
       "      <td>1958-01-04</td>\n",
       "      <td>1.723781</td>\n",
       "      <td>[-10.600000381469727, -9.699999809265137, -6.6...</td>\n",
       "      <td>1957-01-01</td>\n",
       "      <td>9.37</td>\n",
       "      <td>[0.0, 0.0, 0.0, 0.0, 0.0, 0.0, 0.0, 0.10000000...</td>\n",
       "    </tr>\n",
       "    <tr>\n",
       "      <th>1</th>\n",
       "      <td>1958-01-05</td>\n",
       "      <td>0.960882</td>\n",
       "      <td>[-20.5, -19.100000381469727, -12.0, -17.700000...</td>\n",
       "      <td>1957-01-02</td>\n",
       "      <td>60.23</td>\n",
       "      <td>[0.0, 0.0, 0.0, 0.0, 0.0, 0.0, 0.0, 0.20000000...</td>\n",
       "    </tr>\n",
       "    <tr>\n",
       "      <th>2</th>\n",
       "      <td>1958-01-06</td>\n",
       "      <td>0.001</td>\n",
       "      <td>[-23.600000381469727, -22.5, -15.1000003814697...</td>\n",
       "      <td>1957-01-03</td>\n",
       "      <td>None</td>\n",
       "      <td>[0.10000000149011612, 0.0, 0.30000001192092896...</td>\n",
       "    </tr>\n",
       "    <tr>\n",
       "      <th>3</th>\n",
       "      <td>1958-01-07</td>\n",
       "      <td>0.001</td>\n",
       "      <td>[-16.200000762939453, -16.0, -14.1000003814697...</td>\n",
       "      <td>1957-01-04</td>\n",
       "      <td>None</td>\n",
       "      <td>[1.0, 0.0, 1.0, 1.100000023841858, 0.899999976...</td>\n",
       "    </tr>\n",
       "    <tr>\n",
       "      <th>4</th>\n",
       "      <td>1958-01-08</td>\n",
       "      <td>0.316796</td>\n",
       "      <td>[-7.900000095367432, -7.800000190734863, -9.5,...</td>\n",
       "      <td>1957-01-05</td>\n",
       "      <td>None</td>\n",
       "      <td>[9.300000190734863, 8.600000381469727, 8.0, 8....</td>\n",
       "    </tr>\n",
       "  </tbody>\n",
       "</table>\n",
       "</div>"
      ],
      "text/plain": [
       "  flow_dates      flow                                            obs_tas  \\\n",
       "0 1958-01-04  1.723781  [-10.600000381469727, -9.699999809265137, -6.6...   \n",
       "1 1958-01-05  0.960882  [-20.5, -19.100000381469727, -12.0, -17.700000...   \n",
       "2 1958-01-06     0.001  [-23.600000381469727, -22.5, -15.1000003814697...   \n",
       "3 1958-01-07     0.001  [-16.200000762939453, -16.0, -14.1000003814697...   \n",
       "4 1958-01-08  0.316796  [-7.900000095367432, -7.800000190734863, -9.5,...   \n",
       "\n",
       "   obs_dates obs_lon_lat                                             obs_pr  \n",
       "0 1957-01-01        9.37  [0.0, 0.0, 0.0, 0.0, 0.0, 0.0, 0.0, 0.10000000...  \n",
       "1 1957-01-02       60.23  [0.0, 0.0, 0.0, 0.0, 0.0, 0.0, 0.0, 0.20000000...  \n",
       "2 1957-01-03        None  [0.10000000149011612, 0.0, 0.30000001192092896...  \n",
       "3 1957-01-04        None  [1.0, 0.0, 1.0, 1.100000023841858, 0.899999976...  \n",
       "4 1957-01-05        None  [9.300000190734863, 8.600000381469727, 8.0, 8....  "
      ]
     },
     "execution_count": 16,
     "metadata": {},
     "output_type": "execute_result"
    }
   ],
   "source": [
    "df.head()"
   ]
  },
  {
   "cell_type": "code",
   "execution_count": 17,
   "metadata": {
    "colab": {
     "base_uri": "https://localhost:8080/"
    },
    "id": "Z8SA61Dcs3sV",
    "outputId": "c1b3b8be-33dc-42ef-e1f5-57d1dfc7564e"
   },
   "outputs": [
    {
     "name": "stdout",
     "output_type": "stream",
     "text": [
      "<class 'pandas.core.frame.DataFrame'>\n",
      "RangeIndex: 21546 entries, 0 to 21545\n",
      "Data columns (total 6 columns):\n",
      " #   Column       Non-Null Count  Dtype         \n",
      "---  ------       --------------  -----         \n",
      " 0   flow_dates   21542 non-null  datetime64[ns]\n",
      " 1   flow         21542 non-null  object        \n",
      " 2   obs_tas      21546 non-null  object        \n",
      " 3   obs_dates    21546 non-null  datetime64[ns]\n",
      " 4   obs_lon_lat  2 non-null      object        \n",
      " 5   obs_pr       21546 non-null  object        \n",
      "dtypes: datetime64[ns](2), object(4)\n",
      "memory usage: 1010.1+ KB\n"
     ]
    }
   ],
   "source": [
    "df.info()"
   ]
  },
  {
   "cell_type": "code",
   "execution_count": 18,
   "metadata": {
    "id": "a8iqczEpdf4C"
   },
   "outputs": [],
   "source": [
    "df1=df[['flow_dates','flow','obs_tas']]"
   ]
  },
  {
   "cell_type": "code",
   "execution_count": 19,
   "metadata": {
    "colab": {
     "base_uri": "https://localhost:8080/",
     "height": 423
    },
    "id": "qwcIEpSgpaOw",
    "outputId": "8eb60fe4-2115-4d60-d7ce-47c66a7e04ce"
   },
   "outputs": [
    {
     "data": {
      "text/html": [
       "<div>\n",
       "<style scoped>\n",
       "    .dataframe tbody tr th:only-of-type {\n",
       "        vertical-align: middle;\n",
       "    }\n",
       "\n",
       "    .dataframe tbody tr th {\n",
       "        vertical-align: top;\n",
       "    }\n",
       "\n",
       "    .dataframe thead th {\n",
       "        text-align: right;\n",
       "    }\n",
       "</style>\n",
       "<table border=\"1\" class=\"dataframe\">\n",
       "  <thead>\n",
       "    <tr style=\"text-align: right;\">\n",
       "      <th></th>\n",
       "      <th>flow_dates</th>\n",
       "      <th>flow</th>\n",
       "      <th>obs_tas</th>\n",
       "    </tr>\n",
       "  </thead>\n",
       "  <tbody>\n",
       "    <tr>\n",
       "      <th>0</th>\n",
       "      <td>1958-01-04</td>\n",
       "      <td>1.723781</td>\n",
       "      <td>[-10.600000381469727, -9.699999809265137, -6.6...</td>\n",
       "    </tr>\n",
       "    <tr>\n",
       "      <th>1</th>\n",
       "      <td>1958-01-05</td>\n",
       "      <td>0.960882</td>\n",
       "      <td>[-20.5, -19.100000381469727, -12.0, -17.700000...</td>\n",
       "    </tr>\n",
       "    <tr>\n",
       "      <th>2</th>\n",
       "      <td>1958-01-06</td>\n",
       "      <td>0.001</td>\n",
       "      <td>[-23.600000381469727, -22.5, -15.1000003814697...</td>\n",
       "    </tr>\n",
       "    <tr>\n",
       "      <th>3</th>\n",
       "      <td>1958-01-07</td>\n",
       "      <td>0.001</td>\n",
       "      <td>[-16.200000762939453, -16.0, -14.1000003814697...</td>\n",
       "    </tr>\n",
       "    <tr>\n",
       "      <th>4</th>\n",
       "      <td>1958-01-08</td>\n",
       "      <td>0.316796</td>\n",
       "      <td>[-7.900000095367432, -7.800000190734863, -9.5,...</td>\n",
       "    </tr>\n",
       "    <tr>\n",
       "      <th>...</th>\n",
       "      <td>...</td>\n",
       "      <td>...</td>\n",
       "      <td>...</td>\n",
       "    </tr>\n",
       "    <tr>\n",
       "      <th>21541</th>\n",
       "      <td>2016-12-26</td>\n",
       "      <td>1.812796</td>\n",
       "      <td>[-12.5, -11.699999809265137, -8.60000038146972...</td>\n",
       "    </tr>\n",
       "    <tr>\n",
       "      <th>21542</th>\n",
       "      <td>NaT</td>\n",
       "      <td>None</td>\n",
       "      <td>[-12.5, -11.899999618530273, -9.10000038146972...</td>\n",
       "    </tr>\n",
       "    <tr>\n",
       "      <th>21543</th>\n",
       "      <td>NaT</td>\n",
       "      <td>None</td>\n",
       "      <td>[-11.899999618530273, -11.399999618530273, -8....</td>\n",
       "    </tr>\n",
       "    <tr>\n",
       "      <th>21544</th>\n",
       "      <td>NaT</td>\n",
       "      <td>None</td>\n",
       "      <td>[-7.0, -6.5, -3.4000000953674316, -5.900000095...</td>\n",
       "    </tr>\n",
       "    <tr>\n",
       "      <th>21545</th>\n",
       "      <td>NaT</td>\n",
       "      <td>None</td>\n",
       "      <td>[-2.4000000953674316, -2.0999999046325684, 1.2...</td>\n",
       "    </tr>\n",
       "  </tbody>\n",
       "</table>\n",
       "<p>21546 rows × 3 columns</p>\n",
       "</div>"
      ],
      "text/plain": [
       "      flow_dates      flow                                            obs_tas\n",
       "0     1958-01-04  1.723781  [-10.600000381469727, -9.699999809265137, -6.6...\n",
       "1     1958-01-05  0.960882  [-20.5, -19.100000381469727, -12.0, -17.700000...\n",
       "2     1958-01-06     0.001  [-23.600000381469727, -22.5, -15.1000003814697...\n",
       "3     1958-01-07     0.001  [-16.200000762939453, -16.0, -14.1000003814697...\n",
       "4     1958-01-08  0.316796  [-7.900000095367432, -7.800000190734863, -9.5,...\n",
       "...          ...       ...                                                ...\n",
       "21541 2016-12-26  1.812796  [-12.5, -11.699999809265137, -8.60000038146972...\n",
       "21542        NaT      None  [-12.5, -11.899999618530273, -9.10000038146972...\n",
       "21543        NaT      None  [-11.899999618530273, -11.399999618530273, -8....\n",
       "21544        NaT      None  [-7.0, -6.5, -3.4000000953674316, -5.900000095...\n",
       "21545        NaT      None  [-2.4000000953674316, -2.0999999046325684, 1.2...\n",
       "\n",
       "[21546 rows x 3 columns]"
      ]
     },
     "execution_count": 19,
     "metadata": {},
     "output_type": "execute_result"
    }
   ],
   "source": [
    "df1"
   ]
  },
  {
   "cell_type": "code",
   "execution_count": 20,
   "metadata": {
    "colab": {
     "base_uri": "https://localhost:8080/",
     "height": 423
    },
    "id": "SvyjJnXjpa3J",
    "outputId": "b6d49b36-7abc-4129-82b7-6a6800b59bea"
   },
   "outputs": [
    {
     "data": {
      "text/html": [
       "<div>\n",
       "<style scoped>\n",
       "    .dataframe tbody tr th:only-of-type {\n",
       "        vertical-align: middle;\n",
       "    }\n",
       "\n",
       "    .dataframe tbody tr th {\n",
       "        vertical-align: top;\n",
       "    }\n",
       "\n",
       "    .dataframe thead th {\n",
       "        text-align: right;\n",
       "    }\n",
       "</style>\n",
       "<table border=\"1\" class=\"dataframe\">\n",
       "  <thead>\n",
       "    <tr style=\"text-align: right;\">\n",
       "      <th></th>\n",
       "      <th>obs_dates</th>\n",
       "      <th>obs_pr</th>\n",
       "    </tr>\n",
       "  </thead>\n",
       "  <tbody>\n",
       "    <tr>\n",
       "      <th>0</th>\n",
       "      <td>1957-01-01</td>\n",
       "      <td>[0.0, 0.0, 0.0, 0.0, 0.0, 0.0, 0.0, 0.10000000...</td>\n",
       "    </tr>\n",
       "    <tr>\n",
       "      <th>1</th>\n",
       "      <td>1957-01-02</td>\n",
       "      <td>[0.0, 0.0, 0.0, 0.0, 0.0, 0.0, 0.0, 0.20000000...</td>\n",
       "    </tr>\n",
       "    <tr>\n",
       "      <th>2</th>\n",
       "      <td>1957-01-03</td>\n",
       "      <td>[0.10000000149011612, 0.0, 0.30000001192092896...</td>\n",
       "    </tr>\n",
       "    <tr>\n",
       "      <th>3</th>\n",
       "      <td>1957-01-04</td>\n",
       "      <td>[1.0, 0.0, 1.0, 1.100000023841858, 0.899999976...</td>\n",
       "    </tr>\n",
       "    <tr>\n",
       "      <th>4</th>\n",
       "      <td>1957-01-05</td>\n",
       "      <td>[9.300000190734863, 8.600000381469727, 8.0, 8....</td>\n",
       "    </tr>\n",
       "    <tr>\n",
       "      <th>...</th>\n",
       "      <td>...</td>\n",
       "      <td>...</td>\n",
       "    </tr>\n",
       "    <tr>\n",
       "      <th>21541</th>\n",
       "      <td>2015-12-27</td>\n",
       "      <td>[2.200000047683716, 0.10000000149011612, 1.100...</td>\n",
       "    </tr>\n",
       "    <tr>\n",
       "      <th>21542</th>\n",
       "      <td>2015-12-28</td>\n",
       "      <td>[5.5, 4.900000095367432, 8.300000190734863, 6....</td>\n",
       "    </tr>\n",
       "    <tr>\n",
       "      <th>21543</th>\n",
       "      <td>2015-12-29</td>\n",
       "      <td>[1.7999999523162842, 1.7000000476837158, 2.099...</td>\n",
       "    </tr>\n",
       "    <tr>\n",
       "      <th>21544</th>\n",
       "      <td>2015-12-30</td>\n",
       "      <td>[4.099999904632568, 3.5, 4.599999904632568, 5....</td>\n",
       "    </tr>\n",
       "    <tr>\n",
       "      <th>21545</th>\n",
       "      <td>2015-12-31</td>\n",
       "      <td>[6.400000095367432, 7.400000095367432, 8.5, 8....</td>\n",
       "    </tr>\n",
       "  </tbody>\n",
       "</table>\n",
       "<p>21546 rows × 2 columns</p>\n",
       "</div>"
      ],
      "text/plain": [
       "       obs_dates                                             obs_pr\n",
       "0     1957-01-01  [0.0, 0.0, 0.0, 0.0, 0.0, 0.0, 0.0, 0.10000000...\n",
       "1     1957-01-02  [0.0, 0.0, 0.0, 0.0, 0.0, 0.0, 0.0, 0.20000000...\n",
       "2     1957-01-03  [0.10000000149011612, 0.0, 0.30000001192092896...\n",
       "3     1957-01-04  [1.0, 0.0, 1.0, 1.100000023841858, 0.899999976...\n",
       "4     1957-01-05  [9.300000190734863, 8.600000381469727, 8.0, 8....\n",
       "...          ...                                                ...\n",
       "21541 2015-12-27  [2.200000047683716, 0.10000000149011612, 1.100...\n",
       "21542 2015-12-28  [5.5, 4.900000095367432, 8.300000190734863, 6....\n",
       "21543 2015-12-29  [1.7999999523162842, 1.7000000476837158, 2.099...\n",
       "21544 2015-12-30  [4.099999904632568, 3.5, 4.599999904632568, 5....\n",
       "21545 2015-12-31  [6.400000095367432, 7.400000095367432, 8.5, 8....\n",
       "\n",
       "[21546 rows x 2 columns]"
      ]
     },
     "execution_count": 20,
     "metadata": {},
     "output_type": "execute_result"
    }
   ],
   "source": [
    "df2=df[['obs_dates','obs_pr']]\n",
    "df2"
   ]
  },
  {
   "cell_type": "code",
   "execution_count": 37,
   "metadata": {},
   "outputs": [
    {
     "data": {
      "text/html": [
       "<div>\n",
       "<style scoped>\n",
       "    .dataframe tbody tr th:only-of-type {\n",
       "        vertical-align: middle;\n",
       "    }\n",
       "\n",
       "    .dataframe tbody tr th {\n",
       "        vertical-align: top;\n",
       "    }\n",
       "\n",
       "    .dataframe thead th {\n",
       "        text-align: right;\n",
       "    }\n",
       "</style>\n",
       "<table border=\"1\" class=\"dataframe\">\n",
       "  <thead>\n",
       "    <tr style=\"text-align: right;\">\n",
       "      <th></th>\n",
       "      <th>obs_tas</th>\n",
       "      <th>flow_dates</th>\n",
       "      <th>obs_lon_lat</th>\n",
       "      <th>obs_pr</th>\n",
       "      <th>obs_dates</th>\n",
       "    </tr>\n",
       "  </thead>\n",
       "  <tbody>\n",
       "    <tr>\n",
       "      <th>0</th>\n",
       "      <td>[-10.600000381469727, -9.699999809265137, -6.6...</td>\n",
       "      <td>1958-01-04</td>\n",
       "      <td>9.37</td>\n",
       "      <td>[0.0, 0.0, 0.0, 0.0, 0.0, 0.0, 0.0, 0.10000000...</td>\n",
       "      <td>1957-01-01</td>\n",
       "    </tr>\n",
       "    <tr>\n",
       "      <th>1</th>\n",
       "      <td>[-20.5, -19.100000381469727, -12.0, -17.700000...</td>\n",
       "      <td>1958-01-05</td>\n",
       "      <td>60.23</td>\n",
       "      <td>[0.0, 0.0, 0.0, 0.0, 0.0, 0.0, 0.0, 0.20000000...</td>\n",
       "      <td>1957-01-02</td>\n",
       "    </tr>\n",
       "    <tr>\n",
       "      <th>2</th>\n",
       "      <td>[-23.600000381469727, -22.5, -15.1000003814697...</td>\n",
       "      <td>1958-01-06</td>\n",
       "      <td>None</td>\n",
       "      <td>[0.10000000149011612, 0.0, 0.30000001192092896...</td>\n",
       "      <td>1957-01-03</td>\n",
       "    </tr>\n",
       "    <tr>\n",
       "      <th>3</th>\n",
       "      <td>[-16.200000762939453, -16.0, -14.1000003814697...</td>\n",
       "      <td>1958-01-07</td>\n",
       "      <td>None</td>\n",
       "      <td>[1.0, 0.0, 1.0, 1.100000023841858, 0.899999976...</td>\n",
       "      <td>1957-01-04</td>\n",
       "    </tr>\n",
       "    <tr>\n",
       "      <th>4</th>\n",
       "      <td>[-7.900000095367432, -7.800000190734863, -9.5,...</td>\n",
       "      <td>1958-01-08</td>\n",
       "      <td>None</td>\n",
       "      <td>[9.300000190734863, 8.600000381469727, 8.0, 8....</td>\n",
       "      <td>1957-01-05</td>\n",
       "    </tr>\n",
       "  </tbody>\n",
       "</table>\n",
       "</div>"
      ],
      "text/plain": [
       "                                             obs_tas flow_dates obs_lon_lat  \\\n",
       "0  [-10.600000381469727, -9.699999809265137, -6.6... 1958-01-04        9.37   \n",
       "1  [-20.5, -19.100000381469727, -12.0, -17.700000... 1958-01-05       60.23   \n",
       "2  [-23.600000381469727, -22.5, -15.1000003814697... 1958-01-06        None   \n",
       "3  [-16.200000762939453, -16.0, -14.1000003814697... 1958-01-07        None   \n",
       "4  [-7.900000095367432, -7.800000190734863, -9.5,... 1958-01-08        None   \n",
       "\n",
       "                                              obs_pr  obs_dates  \n",
       "0  [0.0, 0.0, 0.0, 0.0, 0.0, 0.0, 0.0, 0.10000000... 1957-01-01  \n",
       "1  [0.0, 0.0, 0.0, 0.0, 0.0, 0.0, 0.0, 0.20000000... 1957-01-02  \n",
       "2  [0.10000000149011612, 0.0, 0.30000001192092896... 1957-01-03  \n",
       "3  [1.0, 0.0, 1.0, 1.100000023841858, 0.899999976... 1957-01-04  \n",
       "4  [9.300000190734863, 8.600000381469727, 8.0, 8.... 1957-01-05  "
      ]
     },
     "execution_count": 37,
     "metadata": {},
     "output_type": "execute_result"
    }
   ],
   "source": []
  },
  {
   "cell_type": "code",
   "execution_count": 45,
   "metadata": {},
   "outputs": [
    {
     "data": {
      "text/plain": [
       "<AxesSubplot:>"
      ]
     },
     "execution_count": 45,
     "metadata": {},
     "output_type": "execute_result"
    },
    {
     "data": {
      "image/png": "[encoded data removed]",
      "text/plain": [
       "<Figure size 432x288 with 1 Axes>"
      ]
     },
     "metadata": {
      "needs_background": "light"
     },
     "output_type": "display_data"
    }
   ],
   "source": [
    "df['flow'].hist()"
   ]
  },
  {
   "cell_type": "code",
   "execution_count": 48,
   "metadata": {},
   "outputs": [
    {
     "data": {
      "text/plain": [
       "<AxesSubplot:>"
      ]
     },
     "execution_count": 48,
     "metadata": {},
     "output_type": "execute_result"
    },
    {
     "data": {
      "image/png": "[encoded data removed]",
      "text/plain": [
       "<Figure size 432x288 with 1 Axes>"
      ]
     },
     "metadata": {
      "needs_background": "light"
     },
     "output_type": "display_data"
    }
   ],
   "source": [
    "df['obs_lon_lat'].hist()\t"
   ]
  }
 ],
 "metadata": {
  "colab": {
   "collapsed_sections": [
    "65rm9Oc83Hgt",
    "7Acn6Icb3aRd",
    "Sw5shbJOm4_V",
    "4IKZ9wvUgHJO"
   ],
   "provenance": []
  },
  "gpuClass": "standard",
  "kernelspec": {
   "display_name": "Python 3 (ipykernel)",
   "language": "python",
   "name": "python3"
  },
  "language_info": {
   "codemirror_mode": {
    "name": "ipython",
    "version": 3
   },
   "file_extension": ".py",
   "mimetype": "text/x-python",
   "name": "python",
   "nbconvert_exporter": "python",
   "pygments_lexer": "ipython3",
   "version": "3.10.5"
  }
 },
 "nbformat": 4,
 "nbformat_minor": 1
}
